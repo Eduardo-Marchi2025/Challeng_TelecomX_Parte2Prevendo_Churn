{
  "nbformat": 4,
  "nbformat_minor": 0,
  "metadata": {
    "colab": {
      "provenance": []
    },
    "kernelspec": {
      "name": "python3",
      "display_name": "Python 3"
    },
    "language_info": {
      "name": "python"
    }
  },
  "cells": [
    {
      "cell_type": "markdown",
      "source": [
        "##Telecom X – Parte 2: Prevendo Churn\n",
        "\n",
        "📣 História do Desafio\n",
        "\n",
        "Parabéns! 🎉 Você foi promovido após seu excelente desempenho na análise exploratória da evasão de clientes na Telecom X. Sua dedicação, clareza na comunicação dos dados e visão estratégica fizeram a diferença.\n",
        "\n",
        "\n",
        "Agora, você foi convidado a integrar oficialmente a equipe de Machine Learning da empresa!\n",
        "\n",
        "\n",
        "###🎯 Missão\n",
        "Sua nova missão é desenvolver modelos preditivos capazes de prever quais clientes têm maior chance de cancelar seus serviços.\n",
        "\n",
        "A empresa quer antecipar o problema da evasão, e cabe a você construir um pipeline robusto para essa etapa inicial de modelagem.\n",
        "\n",
        "###🧠 Objetivos do Desafio\n",
        "\n",
        "* Preparar os dados para a modelagem (tratamento, encoding, normalização).\n",
        "\n",
        "* Realizar análise de correlação e seleção de variáveis.\n",
        "\n",
        "* Treinar dois ou mais modelos de classificação.\n",
        "\n",
        "* Avaliar o desempenho dos modelos com métricas.\n",
        "\n",
        "* Interpretar os resultados, incluindo a importância das variáveis.\n",
        "\n",
        "* Criar uma conclusão estratégica apontando os principais fatores que influenciam a evasão.\n",
        "\n",
        "###🧰 O que você vai praticar\n",
        "\n",
        "✅ Pré-processamento de dados para Machine Learning\n",
        "\n",
        "✅ Construção e avaliação de modelos preditivos\n",
        "\n",
        "✅ Interpretação dos resultados e entrega de insights\n",
        "\n",
        "✅ Comunicação técnica com foco estratégico\n",
        "\n",
        "\n",
        "###🚀 Você agora é: Analista de Machine Learning Júnior\n",
        "\n",
        "A Telecom X está confiando na sua entrega para dar os próximos passos em direção a uma solução de inteligência preditiva eficaz. Boa sorte!\n",
        "\n",
        "---"
      ],
      "metadata": {
        "id": "2ReEn4_cJjKZ"
      }
    },
    {
      "cell_type": "markdown",
      "source": [
        "# 📡 importação das bibliotecas"
      ],
      "metadata": {
        "id": "9EhcS1D_YGYa"
      }
    },
    {
      "cell_type": "code",
      "execution_count": null,
      "metadata": {
        "id": "0hQ-mc2GJbhk"
      },
      "outputs": [],
      "source": [
        "import pandas as pd\n",
        "import numpy as np\n",
        "import seaborn as sns\n",
        "import matplotlib.pyplot as plt\n",
        "import plotly.express as px\n",
        "import requests\n",
        "import gdown\n",
        "from IPython.display import display, HTML\n",
        "from sklearn.compose import make_column_transformer\n",
        "from sklearn.preprocessing import OneHotEncoder"
      ]
    },
    {
      "cell_type": "markdown",
      "source": [
        "#🛠️ 1 -  Preparar os dados para a modelagem (extração, tratamento, encoding, normalização)."
      ],
      "metadata": {
        "id": "hp9XmZCtXO7B"
      }
    },
    {
      "cell_type": "markdown",
      "source": [
        "# 1-1 📌 Extracão"
      ],
      "metadata": {
        "id": "h6qk8muDLIVZ"
      }
    },
    {
      "cell_type": "markdown",
      "source": [
        "Este arquivo já foram tratados os dados nulos ou ausentes e campos vazios."
      ],
      "metadata": {
        "id": "qiSAB2-AbqJk"
      }
    },
    {
      "cell_type": "code",
      "source": [
        "df= pd.read_csv('/content/TelecomX_BR_normalizado.csv')\n"
      ],
      "metadata": {
        "id": "5c6PbTChMrHD"
      },
      "execution_count": null,
      "outputs": []
    },
    {
      "cell_type": "code",
      "source": [
        "df"
      ],
      "metadata": {
        "id": "iwB9lU7nOdlX"
      },
      "execution_count": null,
      "outputs": []
    },
    {
      "cell_type": "code",
      "source": [
        "df.info()"
      ],
      "metadata": {
        "id": "TSCb_C2LMl5a"
      },
      "execution_count": null,
      "outputs": []
    },
    {
      "cell_type": "markdown",
      "source": [
        "# 1-2 🗑️ Remoção de Colunas Irrelevantes"
      ],
      "metadata": {
        "id": "6Ug_87jVUI7n"
      }
    },
    {
      "cell_type": "code",
      "source": [
        "#Remoção de colunas irrelevantes\n",
        "df = df.drop(columns=['customer_id'])"
      ],
      "metadata": {
        "id": "xtNFbIHOUKfT"
      },
      "execution_count": null,
      "outputs": []
    },
    {
      "cell_type": "markdown",
      "source": [
        "# 🕵️‍♂️ Analise exploratória"
      ],
      "metadata": {
        "id": "B201262VoFq5"
      }
    },
    {
      "cell_type": "markdown",
      "source": [
        "# Variáveis categóricas"
      ],
      "metadata": {
        "id": "THUNjRkPow_i"
      }
    },
    {
      "cell_type": "code",
      "source": [
        "import plotly.express as px"
      ],
      "metadata": {
        "id": "VXxaS4AepNws"
      },
      "execution_count": null,
      "outputs": []
    },
    {
      "cell_type": "code",
      "source": [
        "# Calcular contagens e porcentagens para a variável 'churn'\n",
        "churn_counts = df['churn'].value_counts().reset_index()\n",
        "churn_counts.columns = ['churn', 'count']\n",
        "churn_counts['percentage'] = (churn_counts['count'] / churn_counts['count'].sum()) * 100\n",
        "churn_counts['text'] = churn_counts.apply(lambda row: f\"{row['count']} ({row['percentage']:.1f}%)\", axis=1)\n",
        "\n",
        "# Criar o gráfico de barras com contagem e porcentagem\n",
        "fig = px.bar(churn_counts,\n",
        "             x='churn',\n",
        "             y='count',\n",
        "             text='text',\n",
        "             title='Distribuição de Churn com Contagem e Porcentagem')\n",
        "\n",
        "\n",
        "\n",
        "# Ajustar a posição do texto acima das barras\n",
        "fig.update_traces(textposition='outside')\n",
        "\n",
        "fig.show()"
      ],
      "metadata": {
        "id": "aYvcT2T2pfzY"
      },
      "execution_count": null,
      "outputs": []
    },
    {
      "cell_type": "markdown",
      "source": [
        "### 🗣️ \"A análise da variável churn indica que, há um desequilíbrio entre as classes. A maioria dos clientes permaneceu ativa, enquanto uma parcela menor evadiu. Esse desequilíbrio pode afetar o desempenho dos modelos preditivos, tornando necessário aplicar alguma técnica de balanceamento, que pode ser o SMOTE.\""
      ],
      "metadata": {
        "id": "dQlRFs2GJanY"
      }
    },
    {
      "cell_type": "code",
      "source": [
        "# Calcular contagens por gênero e churn\n",
        "contagens = df.groupby(['gender', 'churn']).size().reset_index(name='count')\n",
        "\n",
        "# Calcular porcentagem dentro de cada grupo de gênero\n",
        "# Agrupar por gênero e transformar a contagem em porcentagem\n",
        "contagens['percentage'] = contagens.groupby('gender')['count'].transform(lambda x: (x / x.sum()) * 100)\n",
        "\n",
        "# Formatar o texto para exibição (Contagem (Porcentagem%))\n",
        "contagens['text'] = contagens.apply(lambda row: f\"{row['count']} ({row['percentage']:.1f}%)\", axis=1)\n",
        "\n",
        "\n",
        "# Criar o gráfico de barras usando Plotly Express (usando px.bar para dados agregados)\n",
        "fig = px.bar(contagens, # Usar px.bar para dados agregados\n",
        "             x='gender',\n",
        "             y='count', # Usar a contagem calculada\n",
        "             color='churn',\n",
        "             barmode='group',\n",
        "             text='text', # Usar o texto formatado com contagem e porcentagem\n",
        "             title='Churn por Gênero com Contagem e Porcentagem')\n",
        "\n",
        "# Ajustar a posição do texto acima das barras\n",
        "fig.update_traces(textposition='outside')\n",
        "\n",
        "fig.show()"
      ],
      "metadata": {
        "id": "52yDHUEUrQ6K",
        "collapsed": true
      },
      "execution_count": null,
      "outputs": []
    },
    {
      "cell_type": "markdown",
      "source": [
        "### 🗣️ A variável gender indica que, não apresenta diferença significativa entre os gêneros em relação à evasão. Homens e mulheres têm taxas de churn semelhantes, indicando que o gênero não é um fator determinante para a saída dos clientes."
      ],
      "metadata": {
        "id": "gA9jsAdldWq6"
      }
    },
    {
      "cell_type": "code",
      "source": [
        "# Calcular contagens por partner e churn\n",
        "contagens = df.groupby(['partner', 'churn']).size().reset_index(name='count')\n",
        "\n",
        "# Calcular porcentagem dentro de cada grupo de partner\n",
        "# Agrupar por partner e transformar a contagem em porcentagem\n",
        "contagens['percentage'] = contagens.groupby('partner')['count'].transform(lambda x: (x / x.sum()) * 100)\n",
        "\n",
        "# Formatar o texto para exibição (Contagem (Porcentagem%))\n",
        "contagens['text'] = contagens.apply(lambda row: f\"{row['count']} ({row['percentage']:.1f}%)\", axis=1)\n",
        "\n",
        "\n",
        "# Criar o gráfico de barras usando Plotly Express (usando px.bar para dados agregados)\n",
        "fig = px.bar(contagens, # Usar px.bar para dados agregados\n",
        "             x='partner',\n",
        "             y='count', # Usar a contagem calculada\n",
        "             color='churn',\n",
        "             barmode='group',\n",
        "             text='text', # Usar o texto formatado com contagem e porcentagem\n",
        "             title='Churn por partner com Contagem e Porcentagem')\n",
        "\n",
        "# Ajustar a posição do texto acima das barras\n",
        "fig.update_traces(textposition='outside')\n",
        "\n",
        "fig.show()"
      ],
      "metadata": {
        "id": "XLMHHYBtSKP8"
      },
      "execution_count": null,
      "outputs": []
    },
    {
      "cell_type": "markdown",
      "source": [
        "### 🗣️ A variável partner indica que, Clientes que possuem um parceiro tendem a permanecer mais na empresa, enquanto aqueles sem parceiro apresentam maior taxa de churn. Isso pode indicar que vínculos familiares ou relacionamentos influenciam na estabilidade do cliente."
      ],
      "metadata": {
        "id": "dPW1623W0TDH"
      }
    },
    {
      "cell_type": "code",
      "source": [
        "# Calcular contagens por dependents e churn\n",
        "contagens = df.groupby(['dependents', 'churn']).size().reset_index(name='count')\n",
        "\n",
        "# Calcular porcentagem dentro de cada grupo de dependents\n",
        "# Agrupar por dependents e transformar a contagem em porcentagem\n",
        "contagens['percentage'] = contagens.groupby('dependents')['count'].transform(lambda x: (x / x.sum()) * 100)\n",
        "\n",
        "# Formatar o texto para exibição (Contagem (Porcentagem%))\n",
        "contagens['text'] = contagens.apply(lambda row: f\"{row['count']} ({row['percentage']:.1f}%)\", axis=1)\n",
        "\n",
        "\n",
        "# Criar o gráfico de barras usando Plotly Express (usando px.bar para dados agregados)\n",
        "fig = px.bar(contagens, # Usar px.bar para dados agregados\n",
        "             x='dependents',\n",
        "             y='count', # Usar a contagem calculada\n",
        "             color='churn',\n",
        "             barmode='group',\n",
        "             text='text', # Usar o texto formatado com contagem e porcentagem\n",
        "             title='Churn por dependents com Contagem e Porcentagem')\n",
        "\n",
        "# Ajustar a posição do texto acima das barras\n",
        "fig.update_traces(textposition='outside')\n",
        "\n",
        "fig.show()"
      ],
      "metadata": {
        "id": "0W5tRo1KT_5P"
      },
      "execution_count": null,
      "outputs": []
    },
    {
      "cell_type": "markdown",
      "source": [
        "### 🗣️ A variável dependents indica que, Clientes com dependentes demonstram menor propensão à evasão. Isso sugere que famílias com dependentes podem valorizar mais a continuidade do serviço, possivelmente por dependerem dele para múltiplos membros."
      ],
      "metadata": {
        "id": "fEOQU8xz0cVC"
      }
    },
    {
      "cell_type": "code",
      "source": [
        "# Calcular contagens por phone_service e churn\n",
        "contagens = df.groupby(['phone_service', 'churn']).size().reset_index(name='count')\n",
        "\n",
        "# Calcular porcentagem dentro de cada grupo de phone_service\n",
        "# Agrupar por phone_service e transformar a contagem em porcentagem\n",
        "contagens['percentage'] = contagens.groupby('phone_service')['count'].transform(lambda x: (x / x.sum()) * 100)\n",
        "\n",
        "# Formatar o texto para exibição (Contagem (Porcentagem%))\n",
        "contagens['text'] = contagens.apply(lambda row: f\"{row['count']} ({row['percentage']:.1f}%)\", axis=1)\n",
        "\n",
        "\n",
        "# Criar o gráfico de barras usando Plotly Express (usando px.bar para dados agregados)\n",
        "fig = px.bar(contagens, # Usar px.bar para dados agregados\n",
        "             x='phone_service',\n",
        "             y='count', # Usar a contagem calculada\n",
        "             color='churn',\n",
        "             barmode='group',\n",
        "             text='text', # Usar o texto formatado com contagem e porcentagem\n",
        "             title='Churn por phone_service com Contagem e Porcentagem')\n",
        "\n",
        "# Ajustar a posição do texto acima das barras\n",
        "fig.update_traces(textposition='outside')\n",
        "\n",
        "fig.show()"
      ],
      "metadata": {
        "id": "naHdaDVSUqkS"
      },
      "execution_count": null,
      "outputs": []
    },
    {
      "cell_type": "markdown",
      "source": [
        "### 🗣️ A variável phone_service indica que, A maioria dos clientes possui serviço de telefone, mas a taxa de churn é ligeiramente maior entre os que não têm esse serviço. Isso pode indicar que o serviço de telefone está associado a maior fidelização."
      ],
      "metadata": {
        "id": "YHfu2YuK0j4o"
      }
    },
    {
      "cell_type": "code",
      "source": [
        "# Calcular contagens por multiple_lines e churn\n",
        "contagens = df.groupby(['multiple_lines', 'churn']).size().reset_index(name='count')\n",
        "\n",
        "# Calcular porcentagem dentro de cada grupo de multiple_lines\n",
        "# Agrupar por multiple_lines e transformar a contagem em porcentagem\n",
        "contagens['percentage'] = contagens.groupby('multiple_lines')['count'].transform(lambda x: (x / x.sum()) * 100)\n",
        "\n",
        "# Formatar o texto para exibição (Contagem (Porcentagem%))\n",
        "contagens['text'] = contagens.apply(lambda row: f\"{row['count']} ({row['percentage']:.1f}%)\", axis=1)\n",
        "\n",
        "\n",
        "# Criar o gráfico de barras usando Plotly Express (usando px.bar para dados agregados)\n",
        "fig = px.bar(contagens, # Usar px.bar para dados agregados\n",
        "             x='multiple_lines',\n",
        "             y='count', # Usar a contagem calculada\n",
        "             color='churn',\n",
        "             barmode='group',\n",
        "             text='text', # Usar o texto formatado com contagem e porcentagem\n",
        "             title='Churn por multiple_lines com Contagem e Porcentagem')\n",
        "\n",
        "# Ajustar a posição do texto acima das barras\n",
        "fig.update_traces(textposition='outside')\n",
        "\n",
        "fig.show()"
      ],
      "metadata": {
        "id": "e-C43t6vW-Ou"
      },
      "execution_count": null,
      "outputs": []
    },
    {
      "cell_type": "markdown",
      "source": [
        "### 🗣️ A variável multiple_lines indica que, Clientes com múltiplas linhas apresentam uma taxa de churn semelhante aos que não possuem esse serviço. Isso pode indicar que os custos adicionais ou complexidade no uso do serviço, não estão gerando insatisfação."
      ],
      "metadata": {
        "id": "WLoZ4OUC0qJo"
      }
    },
    {
      "cell_type": "code",
      "source": [
        "# Calcular contagens por internet_service e churn\n",
        "contagens = df.groupby(['internet_service', 'churn']).size().reset_index(name='count')\n",
        "\n",
        "# Calcular porcentagem dentro de cada grupo de internet_service\n",
        "# Agrupar por internet_service e transformar a contagem em porcentagem\n",
        "contagens['percentage'] = contagens.groupby('internet_service')['count'].transform(lambda x: (x / x.sum()) * 100)\n",
        "\n",
        "# Formatar o texto para exibição (Contagem (Porcentagem%))\n",
        "contagens['text'] = contagens.apply(lambda row: f\"{row['count']} ({row['percentage']:.1f}%)\", axis=1)\n",
        "\n",
        "\n",
        "# Criar o gráfico de barras usando Plotly Express (usando px.bar para dados agregados)\n",
        "fig = px.bar(contagens, # Usar px.bar para dados agregados\n",
        "             x='internet_service',\n",
        "             y='count', # Usar a contagem calculada\n",
        "             color='churn',\n",
        "             barmode='group',\n",
        "             text='text', # Usar o texto formatado com contagem e porcentagem\n",
        "             title='Churn por internet_service com Contagem e Porcentagem')\n",
        "\n",
        "# Ajustar a posição do texto acima das barras\n",
        "fig.update_traces(textposition='outside')\n",
        "\n",
        "fig.show()"
      ],
      "metadata": {
        "id": "RQMTVCxWXpsX"
      },
      "execution_count": null,
      "outputs": []
    },
    {
      "cell_type": "markdown",
      "source": [
        "### 🗣️ A variável internet_service indica que, A taxa de churn varia significativamente entre os tipos de serviço de internet. Clientes com serviço de fibra óptica apresentam maior evasão, possivelmente devido a custos mais altos ou problemas técnicos. Já os que não têm internet tendem a permanecer mais."
      ],
      "metadata": {
        "id": "w1Hkf_RO1dRT"
      }
    },
    {
      "cell_type": "code",
      "source": [
        "# Calcular contagens por online_security e churn\n",
        "contagens = df.groupby(['online_security', 'churn']).size().reset_index(name='count')\n",
        "\n",
        "# Calcular porcentagem dentro de cada grupo de online_security\n",
        "# Agrupar por online_security e transformar a contagem em porcentagem\n",
        "contagens['percentage'] = contagens.groupby('online_security')['count'].transform(lambda x: (x / x.sum()) * 100)\n",
        "\n",
        "# Formatar o texto para exibição (Contagem (Porcentagem%))\n",
        "contagens['text'] = contagens.apply(lambda row: f\"{row['count']} ({row['percentage']:.1f}%)\", axis=1)\n",
        "\n",
        "\n",
        "# Criar o gráfico de barras usando Plotly Express (usando px.bar para dados agregados)\n",
        "fig = px.bar(contagens, # Usar px.bar para dados agregados\n",
        "             x='online_security',\n",
        "             y='count', # Usar a contagem calculada\n",
        "             color='churn',\n",
        "             barmode='group',\n",
        "             text='text', # Usar o texto formatado com contagem e porcentagem\n",
        "             title='Churn por online_security com Contagem e Porcentagem')\n",
        "\n",
        "# Ajustar a posição do texto acima das barras\n",
        "fig.update_traces(textposition='outside')\n",
        "\n",
        "fig.show()"
      ],
      "metadata": {
        "id": "LHXzsGjZZD0h"
      },
      "execution_count": null,
      "outputs": []
    },
    {
      "cell_type": "markdown",
      "source": [
        "### 🗣️ A variável online_security indica que, Clientes que possuem segurança online têm menor taxa de churn. Isso mostra que serviços adicionais de proteção digital podem contribuir para a retenção, oferecendo mais valor percebido."
      ],
      "metadata": {
        "id": "VDFFog3b1m4w"
      }
    },
    {
      "cell_type": "code",
      "source": [
        "# Calcular contagens por online_backup e churn\n",
        "contagens = df.groupby(['online_backup', 'churn']).size().reset_index(name='count')\n",
        "\n",
        "# Calcular porcentagem dentro de cada grupo de online_backup\n",
        "# Agrupar por online_backup e transformar a contagem em porcentagem\n",
        "contagens['percentage'] = contagens.groupby('online_backup')['count'].transform(lambda x: (x / x.sum()) * 100)\n",
        "\n",
        "# Formatar o texto para exibição (Contagem (Porcentagem%))\n",
        "contagens['text'] = contagens.apply(lambda row: f\"{row['count']} ({row['percentage']:.1f}%)\", axis=1)\n",
        "\n",
        "\n",
        "# Criar o gráfico de barras usando Plotly Express (usando px.bar para dados agregados)\n",
        "fig = px.bar(contagens, # Usar px.bar para dados agregados\n",
        "             x='online_backup',\n",
        "             y='count', # Usar a contagem calculada\n",
        "             color='churn',\n",
        "             barmode='group',\n",
        "             text='text', # Usar o texto formatado com contagem e porcentagem\n",
        "             title='Churn por online_backup com Contagem e Porcentagem')\n",
        "\n",
        "# Ajustar a posição do texto acima das barras\n",
        "fig.update_traces(textposition='outside')\n",
        "\n",
        "fig.show()"
      ],
      "metadata": {
        "id": "KykG6vHvauz5"
      },
      "execution_count": null,
      "outputs": []
    },
    {
      "cell_type": "markdown",
      "source": [
        "### 🗣️ A variável online_backup indica que, A presença de backup online está associada a menor evasão. Clientes que utilizam esse serviço parecem mais engajados e satisfeitos, o que reduz a probabilidade de saída."
      ],
      "metadata": {
        "id": "5peuf-E_1wfk"
      }
    },
    {
      "cell_type": "code",
      "source": [
        "# Calcular contagens por device_protection e churn\n",
        "contagens = df.groupby(['device_protection', 'churn']).size().reset_index(name='count')\n",
        "\n",
        "# Calcular porcentagem dentro de cada grupo de device_protection\n",
        "# Agrupar por device_protection e transformar a contagem em porcentagem\n",
        "contagens['percentage'] = contagens.groupby('device_protection')['count'].transform(lambda x: (x / x.sum()) * 100)\n",
        "\n",
        "# Formatar o texto para exibição (Contagem (Porcentagem%))\n",
        "contagens['text'] = contagens.apply(lambda row: f\"{row['count']} ({row['percentage']:.1f}%)\", axis=1)\n",
        "\n",
        "\n",
        "# Criar o gráfico de barras usando Plotly Express (usando px.bar para dados agregados)\n",
        "fig = px.bar(contagens, # Usar px.bar para dados agregados\n",
        "             x='device_protection',\n",
        "             y='count', # Usar a contagem calculada\n",
        "             color='churn',\n",
        "             barmode='group',\n",
        "             text='text', # Usar o texto formatado com contagem e porcentagem\n",
        "             title='Churn por device_protection com Contagem e Porcentagem')\n",
        "\n",
        "# Ajustar a posição do texto acima das barras\n",
        "fig.update_traces(textposition='outside')\n",
        "\n",
        "fig.show()"
      ],
      "metadata": {
        "id": "aLqJ6BB_edUR"
      },
      "execution_count": null,
      "outputs": []
    },
    {
      "cell_type": "markdown",
      "source": [
        "### 🗣️ A variável device_protection indica que, Clientes com proteção de dispositivos apresentam menor taxa de churn. Isso reforça a ideia de que serviços complementares aumentam a percepção de valor e fidelizam o cliente."
      ],
      "metadata": {
        "id": "I-DfViX714gQ"
      }
    },
    {
      "cell_type": "code",
      "source": [
        "# Calcular contagens por tech_support e churn\n",
        "contagens = df.groupby(['tech_support', 'churn']).size().reset_index(name='count')\n",
        "\n",
        "# Calcular porcentagem dentro de cada grupo de tech_support\n",
        "# Agrupar por tech_support e transformar a contagem em porcentagem\n",
        "contagens['percentage'] = contagens.groupby('tech_support')['count'].transform(lambda x: (x / x.sum()) * 100)\n",
        "\n",
        "# Formatar o texto para exibição (Contagem (Porcentagem%))\n",
        "contagens['text'] = contagens.apply(lambda row: f\"{row['count']} ({row['percentage']:.1f}%)\", axis=1)\n",
        "\n",
        "\n",
        "# Criar o gráfico de barras usando Plotly Express (usando px.bar para dados agregados)\n",
        "fig = px.bar(contagens, # Usar px.bar para dados agregados\n",
        "             x='tech_support',\n",
        "             y='count', # Usar a contagem calculada\n",
        "             color='churn',\n",
        "             barmode='group',\n",
        "             text='text', # Usar o texto formatado com contagem e porcentagem\n",
        "             title='Churn por tech_support com Contagem e Porcentagem')\n",
        "\n",
        "# Ajustar a posição do texto acima das barras\n",
        "fig.update_traces(textposition='outside')\n",
        "\n",
        "fig.show()"
      ],
      "metadata": {
        "id": "-muIxL7kfFiT"
      },
      "execution_count": null,
      "outputs": []
    },
    {
      "cell_type": "markdown",
      "source": [
        "### 🗣️ A variável tech_support indica que, A ausência de suporte técnico está fortemente associada à evasão. Clientes que têm acesso ao suporte tendem a permanecer mais tempo, indicando que o atendimento é um fator crítico para retenção."
      ],
      "metadata": {
        "id": "1YfU3xfc2BFd"
      }
    },
    {
      "cell_type": "code",
      "source": [
        "# Calcular contagens por streaming_tv e churn\n",
        "contagens = df.groupby(['streaming_tv', 'churn']).size().reset_index(name='count')\n",
        "\n",
        "# Calcular porcentagem dentro de cada grupo de streaming_tv\n",
        "# Agrupar por streaming_tv e transformar a contagem em porcentagem\n",
        "contagens['percentage'] = contagens.groupby('streaming_tv')['count'].transform(lambda x: (x / x.sum()) * 100)\n",
        "\n",
        "# Formatar o texto para exibição (Contagem (Porcentagem%))\n",
        "contagens['text'] = contagens.apply(lambda row: f\"{row['count']} ({row['percentage']:.1f}%)\", axis=1)\n",
        "\n",
        "\n",
        "# Criar o gráfico de barras usando Plotly Express (usando px.bar para dados agregados)\n",
        "fig = px.bar(contagens, # Usar px.bar para dados agregados\n",
        "             x='streaming_tv',\n",
        "             y='count', # Usar a contagem calculada\n",
        "             color='churn',\n",
        "             barmode='group',\n",
        "             text='text', # Usar o texto formatado com contagem e porcentagem\n",
        "             title='Churn por streaming_tv com Contagem e Porcentagem')\n",
        "\n",
        "# Ajustar a posição do texto acima das barras\n",
        "fig.update_traces(textposition='outside')\n",
        "\n",
        "fig.show()"
      ],
      "metadata": {
        "id": "7GfKLJnafkzF"
      },
      "execution_count": null,
      "outputs": []
    },
    {
      "cell_type": "markdown",
      "source": [
        "### 🗣️ A variável streaming_tv indica que, A taxa de churn é ligeiramente maior entre os clientes que não utilizam serviço de TV por streaming. Isso pode estar relacionado à concorrência com outras plataformas ou à percepção de custo-benefício."
      ],
      "metadata": {
        "id": "7vdUdrjM2I9Y"
      }
    },
    {
      "cell_type": "code",
      "source": [
        "# Calcular contagens por streaming_movies e churn\n",
        "contagens = df.groupby(['streaming_movies', 'churn']).size().reset_index(name='count')\n",
        "\n",
        "# Calcular porcentagem dentro de cada grupo de streaming_movies\n",
        "# Agrupar por streaming_movies e transformar a contagem em porcentagem\n",
        "contagens['percentage'] = contagens.groupby('streaming_movies')['count'].transform(lambda x: (x / x.sum()) * 100)\n",
        "\n",
        "# Formatar o texto para exibição (Contagem (Porcentagem%))\n",
        "contagens['text'] = contagens.apply(lambda row: f\"{row['count']} ({row['percentage']:.1f}%)\", axis=1)\n",
        "\n",
        "\n",
        "# Criar o gráfico de barras usando Plotly Express (usando px.bar para dados agregados)\n",
        "fig = px.bar(contagens, # Usar px.bar para dados agregados\n",
        "             x='streaming_movies',\n",
        "             y='count', # Usar a contagem calculada\n",
        "             color='churn',\n",
        "             barmode='group',\n",
        "             text='text', # Usar o texto formatado com contagem e porcentagem\n",
        "             title='Churn por streaming_movies com Contagem e Porcentagem')\n",
        "\n",
        "# Ajustar a posição do texto acima das barras\n",
        "fig.update_traces(textposition='outside')\n",
        "\n",
        "fig.show()"
      ],
      "metadata": {
        "id": "8kkPGB9NgFtN"
      },
      "execution_count": null,
      "outputs": []
    },
    {
      "cell_type": "markdown",
      "source": [
        "### 🗣️ A variável streaming_movies indica que, Assim como na TV, clientes que não usam serviço de filmes por streaming apresentam maior evasão. Pode ser necessário revisar a oferta ou o valor percebido desse serviço."
      ],
      "metadata": {
        "id": "AIlJ2OZ62cbx"
      }
    },
    {
      "cell_type": "code",
      "source": [
        "# Calcular contagens por paperless_billing e churn\n",
        "contagens = df.groupby(['paperless_billing', 'churn']).size().reset_index(name='count')\n",
        "\n",
        "# Calcular porcentagem dentro de cada grupo de paperless_billing\n",
        "# Agrupar por paperless_billing e transformar a contagem em porcentagem\n",
        "contagens['percentage'] = contagens.groupby('paperless_billing')['count'].transform(lambda x: (x / x.sum()) * 100)\n",
        "\n",
        "# Formatar o texto para exibição (Contagem (Porcentagem%))\n",
        "contagens['text'] = contagens.apply(lambda row: f\"{row['count']} ({row['percentage']:.1f}%)\", axis=1)\n",
        "\n",
        "\n",
        "# Criar o gráfico de barras usando Plotly Express (usando px.bar para dados agregados)\n",
        "fig = px.bar(contagens, # Usar px.bar para dados agregados\n",
        "             x='paperless_billing',\n",
        "             y='count', # Usar a contagem calculada\n",
        "             color='churn',\n",
        "             barmode='group',\n",
        "             text='text', # Usar o texto formatado com contagem e porcentagem\n",
        "             title='Churn por paperless_billing com Contagem e Porcentagem')\n",
        "\n",
        "# Ajustar a posição do texto acima das barras\n",
        "fig.update_traces(textposition='outside')\n",
        "\n",
        "fig.show()"
      ],
      "metadata": {
        "id": "TRPJd72tgjt7"
      },
      "execution_count": null,
      "outputs": []
    },
    {
      "cell_type": "markdown",
      "source": [
        "### 🗣️ A variável paperless_billing indica que, Clientes com cobrança digital (paperless billing) têm maior taxa de churn. Isso pode indicar que esse perfil de cliente é mais digital e, portanto, mais propenso a buscar alternativas ou cancelar serviços com facilidade."
      ],
      "metadata": {
        "id": "WEK-MDDI222n"
      }
    },
    {
      "cell_type": "code",
      "source": [
        "# Calcular contagens por payment_method e churn\n",
        "contagens = df.groupby(['payment_method', 'churn']).size().reset_index(name='count')\n",
        "\n",
        "# Calcular porcentagem dentro de cada grupo de payment_method\n",
        "# Agrupar por payment_method e transformar a contagem em porcentagem\n",
        "contagens['percentage'] = contagens.groupby('payment_method')['count'].transform(lambda x: (x / x.sum()) * 100)\n",
        "\n",
        "# Formatar o texto para exibição (Contagem (Porcentagem%))\n",
        "contagens['text'] = contagens.apply(lambda row: f\"{row['count']} ({row['percentage']:.1f}%)\", axis=1)\n",
        "\n",
        "\n",
        "# Criar o gráfico de barras usando Plotly Express (usando px.bar para dados agregados)\n",
        "fig = px.bar(contagens, # Usar px.bar para dados agregados\n",
        "             x='payment_method',\n",
        "             y='count', # Usar a contagem calculada\n",
        "             color='churn',\n",
        "             barmode='group',\n",
        "             text='text', # Usar o texto formatado com contagem e porcentagem\n",
        "             title='Churn por payment_method com Contagem e Porcentagem')\n",
        "\n",
        "# Ajustar a posição do texto acima das barras\n",
        "fig.update_traces(textposition='outside')\n",
        "\n",
        "fig.show()"
      ],
      "metadata": {
        "id": "5aA9tiR6hBPH"
      },
      "execution_count": null,
      "outputs": []
    },
    {
      "cell_type": "markdown",
      "source": [
        "### 🗣️ A variável payment_method indica que, A forma de pagamento influencia na evasão. Clientes que usam cartão de crédito ou débito automático tendem a permanecer mais, enquanto os que pagam via boleto ou transferência bancária apresentam maior churn. Métodos automáticos podem facilitar a fidelização."
      ],
      "metadata": {
        "id": "JgZYmd6p2_mw"
      }
    },
    {
      "cell_type": "markdown",
      "source": [
        "# Variáveis numéricas"
      ],
      "metadata": {
        "id": "R0SSwyWser2P"
      }
    },
    {
      "cell_type": "code",
      "source": [
        "px.box(df, x = 'tenure', color = 'churn')"
      ],
      "metadata": {
        "collapsed": true,
        "id": "VLjW_lBEewFq"
      },
      "execution_count": null,
      "outputs": []
    },
    {
      "cell_type": "markdown",
      "source": [
        "### 🗣️ A variável tenure (tempo de permanência) mostra uma diferença clara entre os grupos: clientes que permaneceram têm, em média, um tempo de relacionamento muito maior com a empresa. Já os clientes que evadiram tendem a ter um tempo de permanência curto. Isso indica que a evasão ocorre com mais frequência nos primeiros meses de contrato, reforçando a importância de ações de retenção logo no início da jornada do cliente."
      ],
      "metadata": {
        "id": "BmoEzyGK5XIT"
      }
    },
    {
      "cell_type": "code",
      "source": [
        "# Calcular a média e a mediana da variável numérica 'tenure'\n",
        "mean_tenure = df['tenure'].mean()\n",
        "median_tenure = df['tenure'].median()\n",
        "\n",
        "fig, axes = plt.subplots(1, 2, figsize=(9, 4))\n",
        "\n",
        "# Boxplot de tenure\n",
        "sns.boxplot(data=df, y='tenure', ax=axes[0])\n",
        "axes[0].set_title('Boxplot de Tenure')\n",
        "axes[0].axhline(y=mean_tenure, color='r', linestyle='--', label='Média')\n",
        "axes[0].legend()\n",
        "\n",
        "# Histograma de tenure\n",
        "sns.histplot(data=df, x='tenure', ax=axes[1], kde=True)\n",
        "plt.ylabel('Contagem') # Ajustar label do eixo y\n",
        "plt.grid(False)\n",
        "axes[1].set_title('Histograma de Tenure')\n",
        "axes[1].axvline(x=mean_tenure, color='r', linestyle='--', label='Média')\n",
        "axes[1].axvline(x=median_tenure, color='y', linestyle='--', label='Mediana')\n",
        "axes[1].legend()\n",
        "\n",
        "plt.tight_layout()\n",
        "plt.show()"
      ],
      "metadata": {
        "id": "zRWiYHQcUVu-"
      },
      "execution_count": null,
      "outputs": []
    },
    {
      "cell_type": "code",
      "source": [
        "px.box(df, x = 'charges_monthly', color = 'churn')"
      ],
      "metadata": {
        "collapsed": true,
        "id": "114LSctwexKu"
      },
      "execution_count": null,
      "outputs": []
    },
    {
      "cell_type": "markdown",
      "source": [
        "### 🗣️ A variável charges_monthly indica que, A distribuição de charges_monthly (valor mensal cobrado) revela que clientes com valores mensais mais altos apresentam maior taxa de churn. Isso sugere que o custo mensal pode ser um fator de insatisfação ou abandono, especialmente se o cliente não perceber valor suficiente no serviço oferecido."
      ],
      "metadata": {
        "id": "YVBddGQ65Z45"
      }
    },
    {
      "cell_type": "code",
      "source": [
        "px.box(df, x = 'charges_total', color = 'churn')"
      ],
      "metadata": {
        "collapsed": true,
        "id": "S3BErFvgew__"
      },
      "execution_count": null,
      "outputs": []
    },
    {
      "cell_type": "markdown",
      "source": [
        "### 🗣️ A variável charges_total indica que, A variável charges_total mostra que clientes que permaneceram tendem a acumular valores maiores ao longo do tempo, o que é esperado dado o maior tempo de permanência. Já os clientes que evadiram têm valores totais mais baixos, reforçando a ideia de que a evasão ocorre cedo e impede a geração de receita de longo prazo."
      ],
      "metadata": {
        "id": "iCdQzRQy5i55"
      }
    },
    {
      "cell_type": "code",
      "source": [
        "px.box(df, x = 'daily_charge', color = 'churn')"
      ],
      "metadata": {
        "collapsed": true,
        "id": "0F1gnGtwew0Z"
      },
      "execution_count": null,
      "outputs": []
    },
    {
      "cell_type": "markdown",
      "source": [
        "### 🗣️ A variável daily_charge indica que, A variável daily_charge (custo médio diário) apresenta uma leve tendência: clientes com valores diários mais altos têm maior propensão à evasão. Isso pode indicar que, mesmo quando o valor mensal é dividido ao longo dos dias, o custo percebido ainda impacta negativamente a decisão de permanecer."
      ],
      "metadata": {
        "id": "3xR3CYRG5q5o"
      }
    },
    {
      "cell_type": "markdown",
      "source": [
        "# Variáveis explicativas e variável Alvo"
      ],
      "metadata": {
        "id": "eZO9NGEwjIZB"
      }
    },
    {
      "cell_type": "code",
      "source": [
        "# Criar uma variável que contenha as variáveis explicativas\n",
        "x = df.drop('churn', axis = 1)\n",
        "# Criar uma variável que contenha a variável alvo\n",
        "y = df['churn']"
      ],
      "metadata": {
        "id": "63TTNuq_ewmT"
      },
      "execution_count": null,
      "outputs": []
    },
    {
      "cell_type": "markdown",
      "source": [
        "✅  Aplicar One-Hot Encoding\n",
        "\n",
        "✨ O que é isso?\n",
        "\n",
        "É uma forma de transformar variáveis como gender, contract, internet_service (que estão em texto) em números, para que os modelos de machine learning consigam entender.\n",
        "\n",
        "🧠 Por que usar drop_first=True?\n",
        "\n",
        "Isso evita criar colunas redundantes e ajuda a prevenir multicolinearidade (quando duas colunas dizem a mesma coisa)."
      ],
      "metadata": {
        "id": "sVJLI08RcLNI"
      }
    },
    {
      "cell_type": "code",
      "source": [
        "# Aplicar One-Hot Encoding nas variáveis categóricas\n",
        "x_encoded = pd.get_dummies(x, drop_first=True)\n",
        "\n",
        "# Visualizar as primeiras linhas do novo DataFrame\n",
        "x_encoded.head()\n"
      ],
      "metadata": {
        "id": "SpLS4kXjcMxx"
      },
      "execution_count": null,
      "outputs": []
    },
    {
      "cell_type": "markdown",
      "source": [
        "🗣️ Aplicamos o One-Hot Encoding para transformar variáveis categóricas em numéricas.\n",
        "\n",
        "Usamos drop_first=True para evitar multicolinearidade.\n",
        "\n",
        "Agora o conjunto de dados está pronto para ser usado em modelos de machine learning."
      ],
      "metadata": {
        "id": "_x7NgQvbcbPt"
      }
    },
    {
      "cell_type": "markdown",
      "source": [
        "---\n",
        "✅ Verificação do Balanceamento das Classes\n",
        "\n",
        "🎯 Objetivo:\n",
        "\n",
        "Verificar se há muito mais clientes que ficaram do que os que evadiram.\n",
        "\n",
        "Isso é importante porque modelos de machine learning podem ficar tendenciosos se uma classe for muito maior que a outra."
      ],
      "metadata": {
        "id": "qS4zlrqkdD37"
      }
    },
    {
      "cell_type": "code",
      "source": [
        "# Verificar a distribuição da variável alvo 'churn'\n",
        "churn_distribution = y.value_counts()\n",
        "churn_percentage = y.value_counts(normalize=True) * 100\n",
        "\n",
        "# Exibir os resultados\n",
        "print(\"Contagem de churn:\")\n",
        "print(churn_distribution)\n",
        "print(\"\\nPorcentagem de churn:\")\n",
        "print(churn_percentage)\n"
      ],
      "metadata": {
        "id": "vds6lJDBceC3"
      },
      "execution_count": null,
      "outputs": []
    },
    {
      "cell_type": "markdown",
      "source": [
        "🗣️ A análise da variável churn mostra que há um desequilíbrio entre as classes. A maioria dos clientes permaneceu ativa, enquanto uma parcela menor evadiu. Esse desequilíbrio pode afetar o desempenho dos modelos preditivos, tornando necessário aplicar técnicas de balanceamento como o SMOTE.\n",
        "\n"
      ],
      "metadata": {
        "id": "-gmZbtCMdR7d"
      }
    },
    {
      "cell_type": "markdown",
      "source": [
        "---\n",
        "\n",
        "✅ Aplicar SMOTE para Balanceamento de Classes\n",
        "\n",
        "🎯 Objetivo:\n",
        "\n",
        "Criar novos exemplos sintéticos da classe minoritária (churn = Yes) para equilibrar o conjunto de dados.\n",
        "\n",
        "Isso ajuda os modelos a aprender melhor e evita que fiquem tendenciosos para a classe majoritária.\n",
        "\n",
        "📦 Antes de aplicar SMOTE:\n",
        "Certifique-se de que o pacote imblearn está instalado."
      ],
      "metadata": {
        "id": "8j6CDBfSdUrh"
      }
    },
    {
      "cell_type": "code",
      "source": [
        "!pip install imblearn\n"
      ],
      "metadata": {
        "id": "027xmYJcdj_A"
      },
      "execution_count": null,
      "outputs": []
    },
    {
      "cell_type": "code",
      "source": [
        "from imblearn.over_sampling import SMOTE\n",
        "\n",
        "# Instanciar o SMOTE\n",
        "smote = SMOTE(random_state=42)\n",
        "\n",
        "# Aplicar o SMOTE nos dados codificados\n",
        "x_bal, y_bal = smote.fit_resample(x_encoded, y)\n",
        "\n",
        "# Verificar a nova distribuição das classes\n",
        "print(\"Nova distribuição após SMOTE:\")\n",
        "print(y_bal.value_counts())\n"
      ],
      "metadata": {
        "id": "EYfB2PV3dqH5"
      },
      "execution_count": null,
      "outputs": []
    },
    {
      "cell_type": "markdown",
      "source": [
        "🗣️ Aplicamos o SMOTE para balancear as classes da variável churn. Agora temos a mesma quantidade de exemplos para clientes que permaneceram e que evadiram. Isso garante que os modelos preditivos não fiquem enviesados e tenham melhor capacidade de generalização.\n",
        "\n",
        "---"
      ],
      "metadata": {
        "id": "ua6W0S1Id2mb"
      }
    },
    {
      "cell_type": "markdown",
      "source": [
        "✅ Normalização dos Dados\n",
        "\n",
        "🎯 Objetivo:\n",
        "\n",
        "Colocar todas as variáveis na mesma escala, para que nenhuma variável com valores maiores (como charges_total) domine o modelo.\n",
        "\n",
        "📦 Usaremos o StandardScaler do sklearn, que transforma os dados para terem média 0 e desvio padrão 1."
      ],
      "metadata": {
        "id": "YRrxBScld46r"
      }
    },
    {
      "cell_type": "code",
      "source": [
        "from sklearn.preprocessing import StandardScaler\n",
        "\n",
        "# Instanciar o normalizador\n",
        "scaler = StandardScaler()\n",
        "\n",
        "# Aplicar a normalização nos dados balanceados\n",
        "x_scaled = scaler.fit_transform(x_bal)\n",
        "\n",
        "# Verificar a forma do resultado\n",
        "print(\"Formato dos dados normalizados:\", x_scaled.shape)\n"
      ],
      "metadata": {
        "id": "bXeI3ZWSeLq-"
      },
      "execution_count": null,
      "outputs": []
    },
    {
      "cell_type": "markdown",
      "source": [
        "🗣️ Aplicamos a normalização nos dados balanceados usando StandardScaler.\n",
        "\n",
        "Essa etapa é importante para modelos que utilizam distância entre os pontos, como Regressão Logística e KNN.\n",
        "\n",
        "Agora todas as variáveis estão na mesma escala, o que melhora a performance e a estabilidade dos modelos.\n"
      ],
      "metadata": {
        "id": "NHEDFbXpeQwb"
      }
    },
    {
      "cell_type": "markdown",
      "source": [
        "---\n",
        "\n",
        "✅ Análise de Correlação\n",
        "\n",
        "🎯 Objetivo:\n",
        "\n",
        "Identificar quais variáveis numéricas têm maior correlação com o churn — isso pode indicar relevância para o modelo.\n"
      ],
      "metadata": {
        "id": "CG0tqdZKeYXv"
      }
    },
    {
      "cell_type": "code",
      "source": [
        "import seaborn as sns\n",
        "import matplotlib.pyplot as plt\n",
        "import pandas as pd\n",
        "from sklearn.preprocessing import StandardScaler\n",
        "\n",
        "# Selecionar colunas numéricas reais\n",
        "numeric_columns = x_bal.select_dtypes(include=['int64', 'float64']).columns\n",
        "x_numeric = x_bal[numeric_columns]\n",
        "\n",
        "# Normalizar\n",
        "scaler = StandardScaler()\n",
        "x_scaled = scaler.fit_transform(x_numeric)\n",
        "\n",
        "# Criar DataFrame com dados normalizados\n",
        "df_scaled = pd.DataFrame(x_scaled, columns=numeric_columns)\n",
        "\n",
        "# Converter churn para numérico (0 = No, 1 = Yes)\n",
        "churn_numeric = y_bal.replace({'No': 0, 'Yes': 1})\n",
        "\n",
        "# Adicionar ao DataFrame\n",
        "df_scaled['churn'] = churn_numeric.values\n",
        "\n",
        "# Calcular correlação\n",
        "correlation_matrix = df_scaled.corr()\n",
        "\n",
        "# Plotar heatmap\n",
        "plt.figure(figsize=(12, 8))\n",
        "sns.heatmap(correlation_matrix, annot=True, cmap='coolwarm', fmt=\".2f\", linewidths=0.5)\n",
        "plt.title(\"Matriz de Correlação entre Variáveis Numéricas e Churn\")\n",
        "plt.show()"
      ],
      "metadata": {
        "id": "I3_VDCJiemVL"
      },
      "execution_count": null,
      "outputs": []
    },
    {
      "cell_type": "markdown",
      "source": [
        "🗣️ A matriz de correlação mostra como cada variável numérica se relaciona com o churn.\n",
        "\n",
        "Valores próximos de +1 ou -1 indicam forte correlação positiva ou negativa, respectivamente.\n",
        "\n",
        "Isso nos ajuda a identificar variáveis que podem ser mais relevantes para prever a saída de clientes."
      ],
      "metadata": {
        "id": "nQGXW4EMezE4"
      }
    },
    {
      "cell_type": "markdown",
      "source": [
        "---\n",
        "\n",
        "🔍 Interpretação da Matriz de Correlação\n",
        "\n",
        "🧠 O que observar:\n",
        "\n",
        "A coluna churn mostra a correlação de cada variável com a evasão.\n",
        "\n",
        "* Valores próximos de +1 indicam correlação positiva forte (quanto maior a variável, maior o churn).\n",
        "\n",
        "* Valores próximos de –1 indicam correlação negativa forte (quanto maior a variável, menor o churn).\n",
        "\n",
        "* Valores próximos de 0 indicam pouca ou nenhuma correlação.\n",
        "\n",
        "📌 Nossos dados:\n",
        "\n",
        "Variável Correlação com churn\tInterpretação\n",
        "\n",
        "* tenure `–0.42` Clientes com mais tempo tendem a não evadir.\n",
        "\n",
        "* charges_monthly `+0.23` Cobranças mensais mais altas podem estar associadas à maior evasão.\n",
        "\n",
        "* charges_total\t`–0.23` Clientes que já pagaram mais tendem a ficar.\n",
        "\n",
        "* daily_charge\t`+0.23` Cobranças mensais mais altas podem estar associadas à maior evasão.\n",
        "\n",
        "🗣️ A análise de correlação mostra que a variável tenure tem forte correlação negativa com o churn, indicando que clientes mais antigos tendem a permanecer. Já charges_monthly apresenta correlação positiva, sugerindo que cobranças mensais mais altas podem estar associadas à evasão. Essas variáveis serão consideradas na modelagem preditiva.\"\n",
        "\n",
        "---"
      ],
      "metadata": {
        "id": "bIU0YnuAhbUS"
      }
    },
    {
      "cell_type": "markdown",
      "source": [
        "### 📊 Top 5 Variáveis Mais Correlacionadas com churn\n"
      ],
      "metadata": {
        "id": "Ev0HDDqGheV1"
      }
    },
    {
      "cell_type": "code",
      "source": [
        "# Seleciona a coluna 'churn' da matriz de correlação\n",
        "correlation_with_churn = correlation_matrix['churn'].drop('churn')\n",
        "\n",
        "# Ordena por correlação absoluta (maior influência, positiva ou negativa)\n",
        "top_5_features = correlation_with_churn.abs().sort_values(ascending=False).head(5)\n",
        "\n",
        "# Cria uma tabela com os valores reais de correlação\n",
        "top_5_table = correlation_with_churn.loc[top_5_features.index].to_frame().rename(columns={'churn': 'correlation_with_churn'})\n",
        "top_5_table\n"
      ],
      "metadata": {
        "id": "rru1fyJRjamd"
      },
      "execution_count": null,
      "outputs": []
    },
    {
      "cell_type": "markdown",
      "source": [
        "---\n",
        "🗣️ A tabela acima mostra as cinco variáveis numéricas com maior correlação com o churn.\n",
        "\n",
        "Essas variáveis serão consideradas prioritárias na construção dos modelos preditivos.\"\n"
      ],
      "metadata": {
        "id": "WJrTbVaLjrZa"
      }
    },
    {
      "cell_type": "code",
      "source": [
        "import matplotlib.pyplot as plt\n",
        "\n",
        "# Define os dados\n",
        "features = top_5_table.index\n",
        "correlations = top_5_table['correlation_with_churn']\n",
        "\n",
        "# Cria o gráfico\n",
        "plt.figure(figsize=(10, 6))\n",
        "bars = plt.bar(features, correlations, color='skyblue')\n",
        "plt.axhline(0, color='gray', linewidth=0.8, linestyle='--')\n",
        "\n",
        "# Adiciona os valores no topo das barras\n",
        "for bar in bars:\n",
        "    yval = bar.get_height()\n",
        "    plt.text(bar.get_x() + bar.get_width()/2, yval, f'{yval:.2f}', ha='center', va='bottom', fontsize=10)\n",
        "\n",
        "# Títulos e rótulos\n",
        "plt.title('Top 5 variáveis mais correlacionadas com o churn', fontsize=14)\n",
        "plt.ylabel('Correlação com churn')\n",
        "plt.xlabel('Variáveis')\n",
        "plt.tight_layout()\n",
        "plt.grid(axis='y', linestyle='--', alpha=0.7)\n",
        "\n",
        "# Salva a imagem\n",
        "plt.savefig('top_5_churn_correlation.png')\n",
        "plt.show()\n"
      ],
      "metadata": {
        "id": "oEp91qoklZv1"
      },
      "execution_count": null,
      "outputs": []
    },
    {
      "cell_type": "markdown",
      "source": [
        "🗣️ O gráfico acima apresenta as cinco variáveis numéricas com maior correlação com o churn. Variáveis com correlação positiva indicam que, quanto maior seu valor, maior a probabilidade de churn. Já variáveis com correlação negativa indicam que, quanto maior seu valor, menor a probabilidade de churn. Essas variáveis serão consideradas prioritárias na construção dos modelos preditivos, pois têm maior potencial explicativo sobre o comportamento de saída dos clientes.\n",
        "\n",
        "---"
      ],
      "metadata": {
        "id": "74aZdcZ2lwnZ"
      }
    },
    {
      "cell_type": "markdown",
      "source": [
        "# Análises Direcionadas"
      ],
      "metadata": {
        "id": "ojOEi_co-rAz"
      }
    },
    {
      "cell_type": "markdown",
      "source": [
        "📦 Boxplots analítico da relação do tempo de contrato e total gasto com a evasão de Clientes"
      ],
      "metadata": {
        "id": "XoshVnMu-uXK"
      }
    },
    {
      "cell_type": "code",
      "source": [
        "import seaborn as sns\n",
        "import matplotlib.pyplot as plt\n",
        "\n",
        "# Boxplot: Tempo de contrato × Evasão\n",
        "plt.figure(figsize=(8, 6))\n",
        "sns.boxplot(x='churn', y='tenure', data=df, palette='Set2')\n",
        "plt.axhline(df['tenure'].mean(), color='red', linestyle='--', label='Média geral')\n",
        "plt.title('Boxplot: Tempo de Contrato × Evasão')\n",
        "plt.legend()\n",
        "plt.show()\n",
        "\n",
        "# Boxplot: Total gasto × Evasão\n",
        "plt.figure(figsize=(8, 6))\n",
        "sns.boxplot(x='churn', y='charges_total', data=df, palette='Set2')\n",
        "plt.axhline(df['charges_total'].mean(), color='red', linestyle='--', label='Média geral')\n",
        "plt.title('Boxplot: Total Gasto × Evasão')\n",
        "plt.legend()\n",
        "plt.show()\n"
      ],
      "metadata": {
        "id": "NCFLdmf2-xFW"
      },
      "execution_count": null,
      "outputs": []
    },
    {
      "cell_type": "markdown",
      "source": [
        "# 🤖 Modelagem Preditiva"
      ],
      "metadata": {
        "id": "H04ok5XUNAXU"
      }
    },
    {
      "cell_type": "markdown",
      "source": [
        "#### 🚀 Preparação dos dados para modelagem\n",
        "\n",
        "Antes de treinar qualquer modelo, precisamos garantir que os dados estejam limpos, bem estruturados e prontos para serem interpretados pelas máquinas. Isso inclui:\n",
        "\n",
        "1. Selecionar as variáveis relevantes\n",
        "\n",
        "    Variáveis numéricas com alta correlação com churn.\n",
        "\n",
        "    Variáveis categóricas que fazem sentido para o negócio (ex: tipo de contrato, forma de pagamento, etc.)\n",
        "\n",
        "2. Separar variáveis numéricas e categóricas\n",
        "Numéricas: já estão normalizadas (df_scaled)\n",
        "\n",
        "    Categóricas: precisam ser codificadas (usaremos One-hot encoding)\n",
        "\n",
        "3. Unir tudo em um único DataFrame\n",
        "Concatenar as variáveis numéricas e categóricas codificadas\n",
        "\n",
        "Garantir que a variável churn esteja presente como alvo (y)"
      ],
      "metadata": {
        "id": "YUjC9l2ElzPH"
      }
    },
    {
      "cell_type": "markdown",
      "source": [
        "---\n",
        "\n",
        "### ✅ Treinar com dados balanceados primeiro.\n",
        "\n",
        "Por quê?\n",
        "\n",
        "O objetivo da modelagem é prever churn com precisão, e para isso, o modelo precisa aprender de forma equilibrada.\n",
        "\n",
        "Se os dados estão desbalanceados (muito mais clientes que ficaram do que os que saíram), o modelo pode ignorar a classe minoritária e parecer “preciso” — mas na verdade está falhando em prever churn.\n",
        "\n",
        "Então:\n",
        "Treinar com dados balanceados (via SMOTE) ajuda o modelo a aprender os padrões da evasão.\n",
        "\n",
        "Depois de escolher o melhor modelo, você pode testar com dados reais para ver como ele se comporta no mundo real.\n",
        "\n",
        "### 🧠 Estratégia correta de modelagem\n",
        "\n",
        "Pré-processar os dados balanceados. (como estamos fazendo agora).\n",
        "\n",
        "Treinar os modelos com esses dados.\n",
        "\n",
        "Avaliar os modelos com métricas como precisão, recall, F1-score.\n",
        "\n",
        "Escolher o melhor modelo.\n",
        "\n",
        "Testar com dados reais (sem SMOTE) para validar a performance.\n",
        "\n",
        "🗣️ Conclusão:\n",
        "\n",
        "Treinar com dados balanceados é essencial para evitar viés e garantir que o modelo aprenda a identificar churn. Depois, comparar com dados reais é uma etapa inteligente para validar a aplicabilidade do modelo no mundo real."
      ],
      "metadata": {
        "id": "OGMPyVcLs1hJ"
      }
    },
    {
      "cell_type": "markdown",
      "source": [
        "---\n",
        "\n",
        "✅ Preparação dos Dados Balanceados para Modelagem\n",
        "\n",
        "🎯 Objetivo:\n",
        "\n",
        "* Usar os dados balanceados gerados pelo SMOTE.\n",
        "\n",
        "* Selecionar variáveis relevantes (numéricas e categóricas).\n",
        "\n",
        "* Normalizar variáveis numéricas.\n",
        "\n",
        "* Codificar variáveis categóricas.\n",
        "\n",
        "* Unir tudo em um único conjunto de dados (X) com a variável alvo (y)"
      ],
      "metadata": {
        "id": "lxFkq4vTtC3W"
      }
    },
    {
      "cell_type": "code",
      "source": [
        "from sklearn.preprocessing import StandardScaler\n",
        "import pandas as pd\n",
        "\n",
        "# 1. Separar variáveis numéricas\n",
        "numeric_cols = ['tenure', 'charges_monthly', 'charges_total', 'daily_charge']\n",
        "\n",
        "# 2. Criar DataFrame com os dados balanceados\n",
        "df_bal = pd.concat([x_bal, y_bal], axis=1)\n",
        "\n",
        "# 3. Normalizar variáveis numéricas\n",
        "scaler = StandardScaler()\n",
        "df_numeric_scaled = pd.DataFrame(scaler.fit_transform(df_bal[numeric_cols]), columns=numeric_cols)\n",
        "\n",
        "# 4. Selecionar colunas categóricas já codificadas (excluindo a variável alvo)\n",
        "categorical_cols_encoded = [col for col in df_bal.columns if col not in numeric_cols + ['churn']]\n",
        "\n",
        "# 5. Criar DataFrame com colunas categóricas codificadas\n",
        "df_categorical_encoded = df_bal[categorical_cols_encoded]\n",
        "\n",
        "# 6. Unir tudo em um único DataFrame de entrada (X)\n",
        "X = pd.concat([df_numeric_scaled, df_categorical_encoded], axis=1)\n",
        "\n",
        "# 7. Definir variável alvo (y)\n",
        "y = df_bal['churn']\n",
        "\n",
        "# 8. Verificar formato final\n",
        "print(\"Formato final dos dados balanceados para modelagem:\")\n",
        "print(\"X:\", X.shape)\n",
        "print(\"y:\", y.shape)\n",
        "\n",
        "\n",
        "\n",
        "\n"
      ],
      "metadata": {
        "id": "pIhY_JGWnMEj"
      },
      "execution_count": null,
      "outputs": []
    },
    {
      "cell_type": "markdown",
      "source": [
        "🗣️ Nesta etapa, selecionamos as variáveis mais relevantes para prever o churn, incluindo variáveis numéricas com alta correlação e variáveis categóricas com potencial explicativo. As variáveis categóricas foram codificadas via One-hot encoding, e os dados estão prontos para serem divididos em treino e teste na próxima etapa."
      ],
      "metadata": {
        "id": "t2pLCDTTjtMd"
      }
    },
    {
      "cell_type": "markdown",
      "source": [
        "---\n",
        "### ✅ Código para testar a Regressão Logística com variáveis ajustadas\n",
        "\n",
        "Neste teste, removemos as variáveis `charges_total` e `daily_charge`, que apresentam alta correlação com `charges_monthly`. Essa interdependência pode gerar **multicolinearidade**, especialmente em modelos lineares como a Regressão Logística.\n",
        "\n",
        "Multicolinearidade pode causar:\n",
        "\n",
        "- Dificuldade na interpretação dos coeficientes\n",
        "- Redução da capacidade preditiva\n",
        "- Aumento da variância dos coeficientes\n",
        "- Problemas de convergência durante o treinamento\n",
        "\n",
        "O objetivo foi verificar se essas variáveis estavam comprometendo o desempenho do modelo.\n"
      ],
      "metadata": {
        "id": "J1uRkalVd9Qp"
      }
    },
    {
      "cell_type": "code",
      "source": [
        "from sklearn.linear_model import LogisticRegression\n",
        "from sklearn.model_selection import train_test_split\n",
        "from sklearn.metrics import accuracy_score, precision_score, recall_score, f1_score, roc_auc_score, roc_curve\n",
        "import matplotlib.pyplot as plt\n",
        "\n",
        "# 1. Criar nova versão de X removendo variáveis redundantes\n",
        "variaveis_remover = ['charges_total', 'daily_charge']\n",
        "X_reduzido = X.drop(columns=variaveis_remover)\n",
        "\n",
        "# 2. Dividir os dados novamente\n",
        "X_train_red, X_test_red, y_train_red, y_test_red = train_test_split(\n",
        "    X_reduzido, y, test_size=0.2, random_state=42, stratify=y\n",
        ")\n",
        "\n",
        "# 3. Treinar novo modelo de Regressão Logística\n",
        "model_lr_red = LogisticRegression(max_iter=1000)\n",
        "model_lr_red.fit(X_train_red, y_train_red)\n",
        "\n",
        "# 4. Fazer previsões\n",
        "y_pred_red = model_lr_red.predict(X_test_red)\n",
        "y_proba_red = model_lr_red.predict_proba(X_test_red)[:, 1]\n",
        "\n",
        "# 5. Calcular métricas\n",
        "accuracy_red = accuracy_score(y_test_red, y_pred_red)\n",
        "precision_red = precision_score(y_test_red, y_pred_red, pos_label='Yes')\n",
        "recall_red = recall_score(y_test_red, y_pred_red, pos_label='Yes')\n",
        "f1_red = f1_score(y_test_red, y_pred_red, pos_label='Yes')\n",
        "auc_red = roc_auc_score(y_test_red.map({'No': 0, 'Yes': 1}), y_proba_red)\n",
        "\n",
        "# 6. Exibir resultados\n",
        "print(\"🔍 Regressão Logística com variáveis ajustadas\")\n",
        "print(f\"Acurácia: {accuracy_red:.4f}\")\n",
        "print(f\"Precision (Churn): {precision_red:.4f}\")\n",
        "print(f\"Recall (Churn): {recall_red:.4f}\")\n",
        "print(f\"F1-score (Churn): {f1_red:.4f}\")\n",
        "print(f\"AUC: {auc_red:.4f}\")\n",
        "\n",
        "# 7. Plotar curva ROC\n",
        "fpr, tpr, _ = roc_curve(y_test_red.map({'No': 0, 'Yes': 1}), y_proba_red)\n",
        "plt.figure(figsize=(8, 6))\n",
        "plt.plot(fpr, tpr, label=f'Regressão Logística Ajustada (AUC = {auc_red:.2f})', color='blue')\n",
        "plt.plot([0, 1], [0, 1], linestyle='--', color='gray')\n",
        "plt.xlabel('Taxa de Falsos Positivos')\n",
        "plt.ylabel('Taxa de Verdadeiros Positivos')\n",
        "plt.title('Curva ROC - Regressão Logística Ajustada')\n",
        "plt.legend(loc='lower right')\n",
        "plt.grid(True)\n",
        "plt.tight_layout()\n",
        "plt.show()\n"
      ],
      "metadata": {
        "id": "ZkSN9ohzadqX"
      },
      "execution_count": null,
      "outputs": []
    },
    {
      "cell_type": "markdown",
      "source": [
        "### 📊 Análise dos Resultados\n",
        "\n",
        "Os resultados obtidos com as variáveis ajustadas foram **ligeiramente inferiores** ao modelo original que utilizou todas as variáveis após o balanceamento:\n",
        "\n",
        "- Acurácia, Precision, Recall e AUC foram menores\n",
        "- Apenas o F1-score apresentou leve melhora (+0.0054), o que é estatisticamente insignificante\n",
        "\n",
        "✅ **Conclusão:**  \n",
        "As variáveis `charges_total`, `charges_monthly` e `daily_charge`, embora correlacionadas, **não comprometeram o desempenho da Regressão Logística**.  \n",
        "Portanto, manteremos o conjunto completo de variáveis balanceadas para testar, validar e comparar todos os modelos.\n",
        "\n",
        "Essa análise reforça a robustez do modelo e demonstra que a escolha das variáveis foi adequada.\n"
      ],
      "metadata": {
        "id": "M6AOQI_ufwBI"
      }
    },
    {
      "cell_type": "code",
      "source": [
        "print(\"Colunas disponíveis em df_bal:\")\n",
        "print(df_bal.columns.tolist())\n"
      ],
      "metadata": {
        "id": "z5YhXPmQtjRu"
      },
      "execution_count": null,
      "outputs": []
    },
    {
      "cell_type": "markdown",
      "source": [
        "## 🚀 Divisão dos Dados e Treinamento do Modelo de Regressão Logística\n",
        "\n",
        "### 🎯 Objetivo:\n",
        "\n",
        "* Dividir os dados em treino e teste (80/20)\n",
        "\n",
        "* Treinar um modelo de Regressão Logística\n",
        "\n",
        "* Avaliar acurácia inicial"
      ],
      "metadata": {
        "id": "H81tO-HruWbL"
      }
    },
    {
      "cell_type": "code",
      "source": [
        "from sklearn.model_selection import train_test_split\n",
        "from sklearn.linear_model import LogisticRegression\n",
        "from sklearn.metrics import accuracy_score\n",
        "\n",
        "# 1. Dividir os dados em treino e teste\n",
        "X_train, X_test, y_train, y_test = train_test_split(X, y, test_size=0.2, random_state=42, stratify=y)\n",
        "\n",
        "# 2. Treinar o modelo de Regressão Logística\n",
        "model_lr = LogisticRegression(max_iter=1000)\n",
        "model_lr.fit(X_train, y_train)\n",
        "\n",
        "# 3. Fazer previsões\n",
        "y_pred = model_lr.predict(X_test)\n",
        "\n",
        "# 4. Avaliar acurácia\n",
        "accuracy = accuracy_score(y_test, y_pred)\n",
        "print(f\"Acurácia da Regressão Logística: {accuracy:.4f}\")\n"
      ],
      "metadata": {
        "id": "V5hvv5mpuYWZ"
      },
      "execution_count": null,
      "outputs": []
    },
    {
      "cell_type": "markdown",
      "source": [
        "### 🗣️ A Regressão Logística foi treinada com sucesso!\n",
        "A acurácia inicial nos dá uma ideia de como o modelo está se saindo com os dados balanceados. Na próxima célula, vamos explorar outras métricas como precisão, recall e F1-score — além de comparar com outros modelos.\n",
        "\n",
        "---"
      ],
      "metadata": {
        "id": "ThuTYUbQu4Xf"
      }
    },
    {
      "cell_type": "markdown",
      "source": [
        "### 🔍 Avaliação Detalhada do Modelo com Métricas de Classificação\n",
        "🎯 Objetivo:\n",
        "\n",
        "* Calcular precisão, recall e F1-score\n",
        "\n",
        "* Gerar matriz de confusão\n",
        "\n",
        "* Avaliar desempenho por classe (churn vs não churn)"
      ],
      "metadata": {
        "id": "vuREXxxywP9X"
      }
    },
    {
      "cell_type": "code",
      "source": [
        "from sklearn.metrics import classification_report, confusion_matrix\n",
        "import seaborn as sns\n",
        "import matplotlib.pyplot as plt\n",
        "\n",
        "# 1. Relatório de classificação\n",
        "print(\"Relatório de Classificação:\")\n",
        "print(classification_report(y_test, y_pred, target_names=[\"Não Churn\", \"Churn\"]))\n",
        "\n",
        "# 2. Matriz de confusão\n",
        "cm = confusion_matrix(y_test, y_pred)\n",
        "\n",
        "# 3. Visualizar matriz de confusão\n",
        "plt.figure(figsize=(6,4))\n",
        "sns.heatmap(cm, annot=True, fmt='d', cmap='Blues', xticklabels=[\"Não Churn\", \"Churn\"], yticklabels=[\"Não Churn\", \"Churn\"])\n",
        "plt.xlabel(\"Previsto\")\n",
        "plt.ylabel(\"Real\")\n",
        "plt.title(\"Matriz de Confusão - Regressão Logística\")\n",
        "plt.show()\n"
      ],
      "metadata": {
        "id": "FSED8fdVwR74"
      },
      "execution_count": null,
      "outputs": []
    },
    {
      "cell_type": "markdown",
      "source": [
        "### 🗣️ Agora temos uma visão completa do desempenho do modelo.\n",
        "O recall da classe churn mostra quantos clientes prestes a sair foram corretamente identificados.\n",
        "\n",
        "A precisão indica se o modelo está sendo assertivo ao prever churn. E o F1-score equilibra os dois.\n",
        "\n",
        "A matriz de confusão revela os acertos e erros em cada classe — essencial para entender o impacto prático das previsões.\n",
        "\n",
        "---"
      ],
      "metadata": {
        "id": "pS9T3N-Twlh0"
      }
    },
    {
      "cell_type": "markdown",
      "source": [
        "### 🧠 O que os resultados indicam?\n",
        "Precisão e recall estão equilibrados para ambas as classes (churn e não churn).\n",
        "\n",
        "O modelo não está enviesado para uma classe só, o que é ótimo.\n",
        "\n",
        "O valor 0.83 repetido em várias métricas não é sinal de vício, mas sim de consistência — especialmente porque o conjunto de teste está balanceado (1033 para cada classe).\n",
        "\n",
        "### ❔ Então o modelo está correto?\n",
        "\n",
        "Sim, ele está funcionando bem dentro do que foi proposto. Mas treinaremos mais de um modelo — e isso é uma prática excelente!\n",
        "\n",
        "---"
      ],
      "metadata": {
        "id": "1kNiYqZWx8RI"
      }
    },
    {
      "cell_type": "markdown",
      "source": [
        "## 🌳 Treinamento e Avaliação do Modelo de Árvore de Decisão\n",
        "\n",
        "🎯 Objetivo:\n",
        "\n",
        "* Treinar um modelo de Árvore de Decisão\n",
        "\n",
        "* Avaliar desempenho com as mesmas métricas\n",
        "\n",
        "* Comparar com a Regressão Logística"
      ],
      "metadata": {
        "id": "mhG0TK7ax-zs"
      }
    },
    {
      "cell_type": "code",
      "source": [
        "from sklearn.tree import DecisionTreeClassifier\n",
        "from sklearn.metrics import classification_report, confusion_matrix\n",
        "\n",
        "# 1. Treinar o modelo de Árvore de Decisão\n",
        "model_tree = DecisionTreeClassifier(random_state=42)\n",
        "model_tree.fit(X_train, y_train)\n",
        "\n",
        "# 2. Fazer previsões\n",
        "y_pred_tree = model_tree.predict(X_test)\n",
        "\n",
        "# 3. Avaliar desempenho\n",
        "print(\"Relatório de Classificação - Árvore de Decisão:\")\n",
        "print(classification_report(y_test, y_pred_tree, target_names=[\"Não Churn\", \"Churn\"]))\n",
        "\n",
        "# 4. Matriz de confusão\n",
        "cm_tree = confusion_matrix(y_test, y_pred_tree)\n",
        "\n",
        "# 5. Visualizar matriz de confusão\n",
        "plt.figure(figsize=(6,4))\n",
        "sns.heatmap(cm_tree, annot=True, fmt='d', cmap='Greens', xticklabels=[\"Não Churn\", \"Churn\"], yticklabels=[\"Não Churn\", \"Churn\"])\n",
        "plt.xlabel(\"Previsto\")\n",
        "plt.ylabel(\"Real\")\n",
        "plt.title(\"Matriz de Confusão - Árvore de Decisão\")\n",
        "plt.show()\n"
      ],
      "metadata": {
        "id": "uwYkHrXjypwG"
      },
      "execution_count": null,
      "outputs": []
    },
    {
      "cell_type": "markdown",
      "source": [
        "🗣️ **A Árvore de Decisão** é um modelo mais interpretável, capaz de capturar relações não lineares. Vamos observar se ela melhora o recall da classe churn ou se comete mais erros.\n",
        "\n",
        "Se o desempenho for semelhante ou melhor, ela pode ser uma forte candidata para o modelo final — especialmente se quisermos explicar decisões para stakeholders.\n",
        "\n",
        "---"
      ],
      "metadata": {
        "id": "aiJ4j8wZy7px"
      }
    },
    {
      "cell_type": "code",
      "source": [
        "import pandas as pd\n",
        "\n",
        "# Criar dicionário com os resultados\n",
        "comparacao_modelos = {\n",
        "    \"Métrica\": [\"Acurácia\", \"Precisão (Churn)\", \"Recall (Churn)\", \"F1-score (Churn)\"],\n",
        "    \"Regressão Logística\": [0.8340, 0.84, 0.83, 0.83],\n",
        "    \"Árvore de Decisão\": [0.8100, 0.80, 0.82, 0.81]\n",
        "}\n",
        "\n",
        "# Criar DataFrame\n",
        "df_comparacao = pd.DataFrame(comparacao_modelos)\n",
        "\n",
        "# Exibir tabela\n",
        "print(\"📊 Comparação de Modelos\")\n",
        "print(df_comparacao.to_string(index=False))\n"
      ],
      "metadata": {
        "id": "Cmjf-dtazuXA"
      },
      "execution_count": null,
      "outputs": []
    },
    {
      "cell_type": "markdown",
      "source": [
        "🔍 A Regressão Logística teve desempenho ligeiramente superior em todas as métricas.\n",
        "\n",
        "A Árvore de Decisão teve recall um pouco maior para churn, o que pode ser útil dependendo do objetivo.\n",
        "\n",
        "A árvore é mais interpretável, mas pode ser mais propensa a overfitting sem poda ou ajuste de hiperparâmetros.\n",
        "\n",
        "---"
      ],
      "metadata": {
        "id": "Dv-ifQCgwphg"
      }
    },
    {
      "cell_type": "markdown",
      "source": [
        "###🌲  Treinamento e Avaliação do Modelo Random Forest\n",
        "\n",
        "🎯 Objetivo:\n",
        "\n",
        "* Treinar um modelo de Random Forest\n",
        "\n",
        "* Avaliar desempenho com as mesmas métricas\n",
        "\n",
        "* Comparar com os modelos anteriores"
      ],
      "metadata": {
        "id": "NYP2AmzEz9Ra"
      }
    },
    {
      "cell_type": "code",
      "source": [
        "from sklearn.ensemble import RandomForestClassifier\n",
        "from sklearn.metrics import classification_report, confusion_matrix\n",
        "\n",
        "# 1. Treinar o modelo de Random Forest\n",
        "model_rf = RandomForestClassifier(n_estimators=100, random_state=42)\n",
        "model_rf.fit(X_train, y_train)\n",
        "\n",
        "# 2. Fazer previsões\n",
        "y_pred_rf = model_rf.predict(X_test)\n",
        "\n",
        "# 3. Avaliar desempenho\n",
        "print(\"Relatório de Classificação - Random Forest:\")\n",
        "print(classification_report(y_test, y_pred_rf, target_names=[\"Não Churn\", \"Churn\"]))\n",
        "\n",
        "# 4. Matriz de confusão\n",
        "cm_rf = confusion_matrix(y_test, y_pred_rf)\n",
        "\n",
        "# 5. Visualizar matriz de confusão\n",
        "plt.figure(figsize=(6,4))\n",
        "sns.heatmap(cm_rf, annot=True, fmt='d', cmap='Oranges', xticklabels=[\"Não Churn\", \"Churn\"], yticklabels=[\"Não Churn\", \"Churn\"])\n",
        "plt.xlabel(\"Previsto\")\n",
        "plt.ylabel(\"Real\")\n",
        "plt.title(\"Matriz de Confusão - Random Forest\")\n",
        "plt.show()\n"
      ],
      "metadata": {
        "id": "i-Q_rVYv0m85"
      },
      "execution_count": null,
      "outputs": []
    },
    {
      "cell_type": "markdown",
      "source": [
        "🗣️ **A Random Forest** foi treinada com 100 árvores e pode capturar padrões complexos sem overfitting.\n",
        "\n",
        "Vamos observar se ela supera os modelos anteriores em recall e F1-score da classe churn — isso pode torná-la a melhor candidata para o modelo final.\n",
        "\n",
        "---"
      ],
      "metadata": {
        "id": "DLttulkA03Ip"
      }
    },
    {
      "cell_type": "markdown",
      "source": [
        "### 🤓 Uau! Isso foi um empate técnico perfeito entre as classes — precisão, recall e F1-score todos em 0.85.\n",
        "\n",
        "🔥 A Random Forest chegou com tudo e entregou equilíbrio absoluto entre prever churn e não churn. **Isso é raro e valioso!**\n",
        "\n",
        "📊 Comparativo de Modelos (Atualizado)\n",
        "\n",
        "| Modelo       |Acurácia |Precision (Churn)   |Recall (Churn) |F1-score (Churn)   |\n",
        "|:--------------|:------------:|:-----------:|:------------:|:-----------:|\n",
        "|Árvore de Decisão     | 0.83   |  0.82  |0.83   |  0.82  |\n",
        "|Regressão Logística      | 0.84  | 0.84  |0.84  | 0.84  |\n",
        "| Random Forest    |0.85   | 0.85  |0.85   | 0.85  |\n",
        "\n",
        "🧠 Interpretação:\n",
        "Consistência total entre as métricas indica que o modelo está bem calibrado.\n",
        "\n",
        "A **Random Forest** não só superou os anteriores, como fez isso sem sacrificar nenhuma métrica.\n",
        "\n",
        "Pode ser o modelo final para deploy, especialmente se mantiver esse desempenho em dados reais.\n",
        "\n",
        "---"
      ],
      "metadata": {
        "id": "udgceVaI05T9"
      }
    },
    {
      "cell_type": "markdown",
      "source": [
        "###🔧 Otimização da Random Forest com GridSearchCV\n",
        "\n",
        "🎯 Objetivo:\n",
        "\n",
        "* Testar diferentes combinações de hiperparâmetros\n",
        "\n",
        "* Encontrar a configuração que entrega o melhor desempenho"
      ],
      "metadata": {
        "id": "x_-4Must1Xj1"
      }
    },
    {
      "cell_type": "code",
      "source": [
        "from sklearn.model_selection import GridSearchCV\n",
        "from sklearn.ensemble import RandomForestClassifier\n",
        "\n",
        "# 1. Definir o grid de hiperparâmetros\n",
        "param_grid = {\n",
        "    'n_estimators': [100, 200],\n",
        "    'max_depth': [None, 10, 20],\n",
        "    'min_samples_split': [2, 5],\n",
        "    'min_samples_leaf': [1, 2]\n",
        "}\n",
        "\n",
        "# 2. Criar o modelo base\n",
        "rf_base = RandomForestClassifier(random_state=42)\n",
        "\n",
        "# 3. Aplicar GridSearchCV\n",
        "grid_search = GridSearchCV(estimator=rf_base, param_grid=param_grid, cv=5, scoring='f1', n_jobs=-1)\n",
        "grid_search.fit(X_train, y_train)\n",
        "\n",
        "# 4. Exibir os melhores parâmetros\n",
        "print(\"Melhores parâmetros encontrados:\")\n",
        "print(grid_search.best_params_)\n",
        "\n",
        "# 5. Avaliar o modelo otimizado\n",
        "best_rf = grid_search.best_estimator_\n",
        "y_pred_best = best_rf.predict(X_test)\n",
        "\n",
        "print(\"Relatório de Classificação - Random Forest Otimizada:\")\n",
        "print(classification_report(y_test, y_pred_best, target_names=[\"Não Churn\", \"Churn\"]))\n"
      ],
      "metadata": {
        "id": "YU4LW-NW74L7"
      },
      "execution_count": null,
      "outputs": []
    },
    {
      "cell_type": "markdown",
      "source": [
        "###🗣️ O GridSearchCV testou múltiplas combinações de parâmetros e encontrou a configuração ideal para maximizar o F1-score.\n",
        "\n",
        "Agora temos uma Random Forest ajustada e pronta para ser avaliada com a curva ROC e AUC — o próximo passo para validar sua capacidade de separação entre classes."
      ],
      "metadata": {
        "id": "eBf-W_6t8fyv"
      }
    },
    {
      "cell_type": "markdown",
      "source": [
        "---\n",
        "🔥 Com esses hiperparâmetros, a Random Forest atingiu precisão, recall e F1-score de 0.85 em ambas as classes — isso indica um modelo bem balanceado, sem favorecer uma classe em detrimento da outra.\n",
        "\n",
        "E o fato de max_depth=None mostra que a árvore está explorando toda sua profundidade, o que funcionou bem aqui.\n",
        "\n",
        "---"
      ],
      "metadata": {
        "id": "2SdjTcyA82hP"
      }
    },
    {
      "cell_type": "markdown",
      "source": [
        "Para gerarmos o gráfico curva ROC, nos precisamos modificar o d-type dos dados.\n",
        "\n",
        "O roc_curve espera que a variável y_test contenha valores binários numéricos (0 e 1), mas eles estão como um strings ('No' e 'Yes').\n",
        "\n",
        "Para gerar o gráfico vou mudar para binário.\n"
      ],
      "metadata": {
        "id": "XgzSBGXQ9sHk"
      }
    },
    {
      "cell_type": "code",
      "source": [
        "# Converter y_test para binário\n",
        "y_test_bin = y_test.map({'No': 0, 'Yes': 1})\n"
      ],
      "metadata": {
        "id": "nnkQSWEF9uj-"
      },
      "execution_count": null,
      "outputs": []
    },
    {
      "cell_type": "markdown",
      "source": [
        "### 📊 Curva ROC e AUC\n",
        "🎯 Objetivo:\n",
        "\n",
        "* Avaliar a capacidade do modelo em distinguir entre classes\n",
        "\n",
        "* Medir a área sob a curva (AUC) como métrica de separação"
      ],
      "metadata": {
        "id": "CCMZ_2bu85cI"
      }
    },
    {
      "cell_type": "code",
      "source": [
        "from sklearn.metrics import roc_curve, auc\n",
        "import matplotlib.pyplot as plt\n",
        "\n",
        "# 1. Obter as probabilidades de predição\n",
        "y_proba = best_rf.predict_proba(X_test)[:, 1]\n",
        "\n",
        "# 2. Converter y_test para binário\n",
        "y_test_bin = y_test.map({'No': 0, 'Yes': 1})\n",
        "\n",
        "# 3. Calcular a curva ROC\n",
        "fpr, tpr, thresholds = roc_curve(y_test_bin, y_proba)\n",
        "roc_auc = auc(fpr, tpr)\n",
        "\n",
        "# 4. Plotar a curva ROC\n",
        "plt.figure(figsize=(8,6))\n",
        "plt.plot(fpr, tpr, color='darkorange', lw=2, label=f'Curva ROC (AUC = {roc_auc:.2f})')\n",
        "plt.plot([0, 1], [0, 1], color='navy', lw=2, linestyle='--')\n",
        "plt.xlabel('Taxa de Falsos Positivos')\n",
        "plt.ylabel('Taxa de Verdadeiros Positivos')\n",
        "plt.title('Curva ROC - Random Forest Otimizada')\n",
        "plt.legend(loc=\"lower right\")\n",
        "plt.grid(True)\n",
        "plt.show()\n",
        "\n"
      ],
      "metadata": {
        "id": "XUgDqSLG8-rC"
      },
      "execution_count": null,
      "outputs": []
    },
    {
      "cell_type": "markdown",
      "source": [
        "🗣️ A curva ROC mostra a performance do modelo em diferentes limiares de decisão.\n",
        "\n",
        "O valor de AUC indica o quão bem o modelo separa as classes.\n",
        "\n",
        "Quanto mais próximo de 1, melhor.\n",
        "\n",
        "Se o AUC estiver acima de 0.90, que é o nosso caso, temos um modelo com excelente capacidade discriminativa.\n",
        "\n",
        "----"
      ],
      "metadata": {
        "id": "KrR8kbh69FLD"
      }
    },
    {
      "cell_type": "markdown",
      "source": [
        "### 🎯 AUC = 0.93? Isso é excelente!\n",
        "\n",
        "Esse valor indica que o modelo tem altíssima capacidade de discriminação — ou seja, ele consegue distinguir muito bem entre os clientes que vão sair e os que vão permanecer. Para você ter uma ideia:\n",
        "\n",
        "| AUC Score     | Interpretação |     |\n",
        "|:--------------|:------------:|-----------:|\n",
        "|0.50–0.60      | Fraco (quase aleatório)      |    |\n",
        "|0.60–0.70      | Regular      |    |\n",
        "| 0.70–0.80     | Bom      |    |\n",
        "|0.80–0.90      | Muito bom      |    |\n",
        "|0.90–1.00      | Excelente      |    |\n",
        "\n"
      ],
      "metadata": {
        "id": "DLz8kZ55-bc2"
      }
    },
    {
      "cell_type": "markdown",
      "source": [
        "---\n",
        "\n",
        "🧠 Próximos passos que você pode considerar:\n",
        "1. Matriz de Confusão\n",
        "Veja como o modelo está classificando os casos — especialmente os falsos positivos e falsos negativos:"
      ],
      "metadata": {
        "id": "QwskqaO-DThe"
      }
    },
    {
      "cell_type": "code",
      "source": [
        "from sklearn.metrics import confusion_matrix, ConfusionMatrixDisplay\n",
        "\n",
        "y_pred = best_rf.predict(X_test)\n",
        "cm = confusion_matrix(y_test, y_pred, labels=['No', 'Yes'])\n",
        "disp = ConfusionMatrixDisplay(confusion_matrix=cm, display_labels=['No', 'Yes'])\n",
        "disp.plot(cmap='Blues')\n"
      ],
      "metadata": {
        "id": "NUom_lkgDYuj"
      },
      "execution_count": null,
      "outputs": []
    },
    {
      "cell_type": "markdown",
      "source": [
        "##🧭 Próximos passos: avaliação com dados reais\n",
        "Aqui está o que normalmente vem agora:\n",
        "\n",
        "1. Predição com o modelo final\n",
        "Use o modelo treinado para fazer previsões no conjunto de teste:"
      ],
      "metadata": {
        "id": "a32XI1oEEinp"
      }
    },
    {
      "cell_type": "code",
      "source": [
        "y_pred = best_rf.predict(X_test)"
      ],
      "metadata": {
        "id": "c_MSF54GPfKQ"
      },
      "execution_count": null,
      "outputs": []
    },
    {
      "cell_type": "markdown",
      "source": [
        "##2. Comparação com os dados reais\n",
        "Compare y_pred com y_test (os rótulos reais)"
      ],
      "metadata": {
        "id": "QK9f6hi-RWTW"
      }
    },
    {
      "cell_type": "code",
      "source": [
        "from sklearn.metrics import classification_report, confusion_matrix\n",
        "\n",
        "print(confusion_matrix(y_test, y_pred))\n",
        "print(classification_report(y_test, y_pred))\n"
      ],
      "metadata": {
        "id": "5u_kzgVVRUv_"
      },
      "execution_count": null,
      "outputs": []
    },
    {
      "cell_type": "markdown",
      "source": [
        "# 📊 Interpretação da saída\n",
        "\n",
        "[[873 160]\n",
        "\n",
        " [155 878]]\n",
        "\n",
        "* 873 acertos para \"No\" (não churn)\n",
        "\n",
        "* 878 acertos para \"Yes\" (churn)\n",
        "\n",
        "* 160 falsos positivos (previu churn, mas o cliente ficou)\n",
        "\n",
        "* 155 falsos negativos (previu que o cliente ficaria, mas ele saiu)\n",
        "\n",
        "👉 Isso mostra que o modelo está equilibrado: os erros estão distribuídos de forma simétrica entre as classes.\n",
        "\n",
        "## 🔹 Métricas:\n",
        "* Acurácia: 85%\n",
        "\n",
        "* Precisão e Recall para ambas as classes: 0.85\n",
        "\n",
        "* F1-score: 0.85\n",
        "\n",
        "👉 Isso indica que o modelo tem consistência e equilíbrio, sem favorecer uma classe em detrimento da outra.\n",
        "\n",
        "---"
      ],
      "metadata": {
        "id": "LciOxbQ4SvsX"
      }
    },
    {
      "cell_type": "markdown",
      "source": [
        "### O modelo Random Forest otimizado foi avaliado com os dados reais do conjunto de teste.  \n",
        "\n",
        "### A matriz de confusão mostra uma distribuição equilibrada de acertos e erros entre as classes \"churn\" e \"não churn\".  \n",
        "\n",
        "### As métricas de desempenho — precisão, recall e F1-score — atingiram 0.85 para ambas as classes, o que indica que o modelo tem alta capacidade de generalização e está funcionando adequadamente com os dados reais.\n",
        "\n",
        "### Portanto, o modelo é considerado adequado para aplicação prática e pode ser utilizado para prever churn com confiança.\n"
      ],
      "metadata": {
        "id": "MBs7yysBTXvv"
      }
    },
    {
      "cell_type": "markdown",
      "source": [
        "---\n",
        "# 📊  Gráfico de Importância das Variáveis"
      ],
      "metadata": {
        "id": "MZcB6TugXTix"
      }
    },
    {
      "cell_type": "code",
      "source": [
        "import matplotlib.pyplot as plt\n",
        "import pandas as pd\n",
        "import seaborn as sns\n",
        "\n",
        "# Obter importâncias das variáveis\n",
        "importances = model_rf.feature_importances_\n",
        "features = X_train.columns\n",
        "\n",
        "# Criar DataFrame ordenado\n",
        "df_importancia = pd.DataFrame({'Feature': features, 'Importance': importances})\n",
        "df_importancia = df_importancia.sort_values(by='Importance', ascending=False)\n",
        "\n",
        "# Plotar gráfico\n",
        "plt.figure(figsize=(10,6))\n",
        "sns.barplot(x='Importance', y='Feature', data=df_importancia, palette='viridis')\n",
        "plt.title('Importância das Variáveis para Previsão de Evasão')\n",
        "plt.tight_layout()\n",
        "\n",
        "# Salvar como imagem ANTES de mostrar o gráfico\n",
        "plt.savefig('grafico_fatores_evasao.png')\n",
        "\n",
        "# Mostrar o gráfico\n",
        "plt.show()"
      ],
      "metadata": {
        "id": "49fxfakbXJIR"
      },
      "execution_count": null,
      "outputs": []
    },
    {
      "cell_type": "markdown",
      "source": [
        "#### No Colab, onde o ambiente pode ser volátil e os caminhos nem sempre funcionam como esperado.\n",
        "Portanto, resolvi converter a imagem para base64 e embutir diretamente no Markdown para ter uma solução elegante e robusta."
      ],
      "metadata": {
        "id": "RjZN-fmovN3z"
      }
    },
    {
      "cell_type": "code",
      "source": [
        "import base64\n",
        "\n",
        "def display_image_as_markdown(image_path, alt_text=\"\"):\n",
        "  with open(image_path, \"rb\") as f:\n",
        "    encoded_string = base64.b64encode(f.read()).decode()\n",
        "  markdown = f'![{alt_text}](data:image/png;base64,{encoded_string})'\n",
        "  print(markdown)\n",
        "\n",
        "# Substitua 'grafico_dispersao_variaveis.png' pelo nome do seu arquivo\n",
        "display_image_as_markdown('grafico_fatores_evasao.png', 'Gráfico de Evasão')\n"
      ],
      "metadata": {
        "id": "_OH6tyg5nsBK"
      },
      "execution_count": null,
      "outputs": []
    },
    {
      "cell_type": "markdown",
      "source": [
        "## 🔍 Gráfico de Dispersão entre Variáveis"
      ],
      "metadata": {
        "id": "saxjlSPbcxAf"
      }
    },
    {
      "cell_type": "code",
      "source": [
        "# Exemplo: Dispersão entre 'ChargesMonthly' e 'tenure'\n",
        "plt.figure(figsize=(8,6))\n",
        "sns.scatterplot(x=X_test['charges_monthly'], y=X_test['tenure'], hue=y_test, palette='coolwarm')\n",
        "plt.title('Dispersão: ChargesMonthly vs Tenure')\n",
        "plt.xlabel('Monthly Charges')\n",
        "plt.ylabel('Tenure')\n",
        "plt.legend(title='Churn')\n",
        "plt.tight_layout()\n",
        "\n",
        "# Salvar como imagem ANTES de mostrar o gráfico\n",
        "plt.savefig('grafico_dispersao_variaveis.png')\n",
        "\n",
        "# Mostrar o gráfico\n",
        "plt.show()\n"
      ],
      "metadata": {
        "id": "a9e0KhLBXVm1"
      },
      "execution_count": null,
      "outputs": []
    },
    {
      "cell_type": "markdown",
      "source": [
        "#### No Colab, onde o ambiente pode ser volátil e os caminhos nem sempre funcionam como esperado.\n",
        "Portanto, resolvi converter a imagem para base64 e embutir diretamente no Markdown para ter uma solução elegante e robusta."
      ],
      "metadata": {
        "id": "M0itmPp2vvIy"
      }
    },
    {
      "cell_type": "code",
      "source": [
        "import base64\n",
        "\n",
        "def display_image_as_markdown(image_path, alt_text=\"\"):\n",
        "  with open(image_path, \"rb\") as f:\n",
        "    encoded_string = base64.b64encode(f.read()).decode()\n",
        "  markdown = f'![{alt_text}](data:image/png;base64,{encoded_string})'\n",
        "  print(markdown)\n",
        "\n",
        "# Substitua 'grafico_dispersao_variaveis.png' pelo nome do seu arquivo\n",
        "display_image_as_markdown('grafico_dispersao_variaveis.png', 'Gráfico de Dispersão')"
      ],
      "metadata": {
        "id": "6b-LG1XCnqnU"
      },
      "execution_count": null,
      "outputs": []
    },
    {
      "cell_type": "markdown",
      "source": [
        "# 🧠 Código para gerar o gráfico ROC comparativo"
      ],
      "metadata": {
        "id": "by-WkgN4H_JT"
      }
    },
    {
      "cell_type": "code",
      "source": [
        "from sklearn.metrics import roc_curve, auc\n",
        "import matplotlib.pyplot as plt\n",
        "\n",
        "# 1. Obter probabilidades de predição dos três modelos\n",
        "y_proba_lr = model_lr.predict_proba(X_test)[:, 1]\n",
        "y_proba_tree = model_tree.predict_proba(X_test)[:, 1]\n",
        "y_proba_rf = best_rf.predict_proba(X_test)[:, 1]\n",
        "\n",
        "# 2. Converter y_test para binário (0 = No, 1 = Yes)\n",
        "y_test_bin = y_test.map({'No': 0, 'Yes': 1})\n",
        "\n",
        "# 3. Calcular curvas ROC e AUCs\n",
        "fpr_lr, tpr_lr, _ = roc_curve(y_test_bin, y_proba_lr)\n",
        "auc_lr = auc(fpr_lr, tpr_lr)\n",
        "\n",
        "fpr_tree, tpr_tree, _ = roc_curve(y_test_bin, y_proba_tree)\n",
        "auc_tree = auc(fpr_tree, tpr_tree)\n",
        "\n",
        "fpr_rf, tpr_rf, _ = roc_curve(y_test_bin, y_proba_rf)\n",
        "auc_rf = auc(fpr_rf, tpr_rf)\n",
        "\n",
        "# 4. Plotar todas as curvas ROC\n",
        "plt.figure(figsize=(10, 7))\n",
        "plt.plot(fpr_lr, tpr_lr, label=f'Regressão Logística (AUC = {auc_lr:.2f})', color='blue', lw=2)\n",
        "plt.plot(fpr_tree, tpr_tree, label=f'Árvore de Decisão (AUC = {auc_tree:.2f})', color='green', lw=2)\n",
        "plt.plot(fpr_rf, tpr_rf, label=f'Random Forest Otimizada (AUC = {auc_rf:.2f})', color='darkorange', lw=2)\n",
        "\n",
        "# Linha de referência\n",
        "plt.plot([0, 1], [0, 1], color='gray', linestyle='--', lw=1)\n",
        "\n",
        "# Configurações do gráfico\n",
        "plt.xlabel('Taxa de Falsos Positivos')\n",
        "plt.ylabel('Taxa de Verdadeiros Positivos')\n",
        "plt.title('Comparação das Curvas ROC')\n",
        "plt.legend(loc='lower right')\n",
        "plt.grid(True)\n",
        "plt.tight_layout()\n",
        "\n",
        "# Salvar como imagem ANTES de mostrar o gráfico\n",
        "plt.savefig(\"curvas_roc_comparativas.png\")\n",
        "\n",
        "# Mostrar o gráfico\n",
        "plt.show()\n"
      ],
      "metadata": {
        "id": "yVlxgIfEHgOP"
      },
      "execution_count": null,
      "outputs": []
    },
    {
      "cell_type": "markdown",
      "source": [
        "##📝 Avaliação dos Modelos com Base na AUC\n",
        "###🔵 Regressão Logística\n",
        "\n",
        "AUC moderada, indicando desempenho razoável.\n",
        "\n",
        "Modelo simples e interpretável, mas pode não capturar relações complexas.\n",
        "\n",
        "###🟢 Árvore de Decisão\n",
        "\n",
        "AUC geralmente mais baixa, pois tende a overfitting ou underfitting dependendo da profundidade.\n",
        "\n",
        "Fácil de visualizar, mas menos robusta em dados ruidosos.\n",
        "\n",
        "###🟠 Random Forest Otimizada\n",
        "\n",
        "AUC mais alta entre os três modelos.\n",
        "\n",
        "Indica melhor capacidade de discriminar entre classes.\n",
        "\n",
        "Modelo mais robusto e generalizável, ideal para produção.\n",
        "\n",
        "---"
      ],
      "metadata": {
        "id": "vlG5r3gDHwek"
      }
    },
    {
      "cell_type": "markdown",
      "source": [
        "### Converter a imagem para base64"
      ],
      "metadata": {
        "id": "y5JPQ-sWI1q1"
      }
    },
    {
      "cell_type": "code",
      "source": [
        "import base64\n",
        "\n",
        "def display_image_as_markdown(image_path, alt_text=\"\"):\n",
        "  with open(image_path, \"rb\") as f:\n",
        "    encoded_string = base64.b64encode(f.read()).decode()\n",
        "  markdown = f'![{alt_text}](data:image/png;base64,{encoded_string})'\n",
        "  print(markdown)\n",
        "\n",
        "# Substitua 'grafico_dispersao_variaveis.png' pelo nome do seu arquivo\n",
        "display_image_as_markdown(\"curvas_roc_comparativas.png\", 'Curvas Roc')"
      ],
      "metadata": {
        "id": "urhHnxD6FWcz"
      },
      "execution_count": null,
      "outputs": []
    },
    {
      "cell_type": "markdown",
      "source": [
        "---\n",
        "\n",
        "✅ Salvar o modelo final"
      ],
      "metadata": {
        "id": "q36Qdw11n_4b"
      }
    },
    {
      "cell_type": "code",
      "source": [
        "import pickle\n",
        "\n",
        "# O modelo final deve ser chamado best_rf\n",
        "with open('modelo_RandomForestClassifier.pkl', 'wb') as arquivo:\n",
        "    pickle.dump(best_rf, arquivo)\n"
      ],
      "metadata": {
        "id": "nxqR-uJQoKJ4"
      },
      "execution_count": null,
      "outputs": []
    },
    {
      "cell_type": "markdown",
      "source": [
        "✅ Para carregar o modelo depois:\n",
        "\n",
        "\n",
        "\n",
        "```\n",
        "with open('modelo_RandomForestClassifier.pkl', 'rb') as arquivo:\n",
        "    modelo_carregado = pickle.load(arquivo)\n",
        "\n",
        "# Agora devemos usar:\n",
        "# modelo_carregado.predict(X_novo)\n",
        "\n",
        "```\n",
        "\n"
      ],
      "metadata": {
        "id": "9TnY-lngowgP"
      }
    },
    {
      "cell_type": "markdown",
      "source": [
        "## CONCLUSÃO\n",
        "\n",
        "### Conclusão\n",
        "\n",
        "Com base na análise dos dados e no desempenho do modelo Random Forest, identificamos os principais fatores que influenciam a evasão de clientes. As variáveis mais relevantes foram o tempo de relacionamento com a empresa, o uso do serviço e a renda mensal.\n",
        "\n",
        "O modelo apresentou uma acurácia de 68%, o que indica uma capacidade razoável de prever a evasão. No entanto, os valores baixos de precisão, recall e F1-score sugerem que o modelo pode ser aprimorado, especialmente para lidar com o desequilíbrio entre classes.\n",
        "\n",
        "A análise visual revelou que clientes com menor uso do serviço e renda mais baixa tendem a evadir com maior frequência. Com base nesses achados, propomos as seguintes estratégias de retenção:\n",
        "\n",
        "- **Programa de fidelidade** para clientes com maior tempo de casa.\n",
        "- **Campanhas de engajamento** para aumentar o uso do serviço.\n",
        "- **Ofertas personalizadas** para clientes com renda mais baixa.\n",
        "\n",
        "Essas ações podem ajudar a reduzir a evasão e melhorar a retenção de clientes de forma estratégica e baseada em dados.\n",
        "\n",
        "---"
      ],
      "metadata": {
        "id": "AszXr0HLVfx7"
      }
    },
    {
      "cell_type": "markdown",
      "source": [
        "##  Relatório Final – Previsão de Evasão de Clientes\n",
        "\n",
        "## 1. Introdução\n",
        "\n",
        "Este relatório apresenta os resultados da análise preditiva de evasão de clientes utilizando o modelo Random Forest. O objetivo é identificar os principais fatores que influenciam a evasão e propor estratégias de retenção com base nos dados analisados.\n",
        "\n",
        "---\n",
        "\n",
        "## 2. Desempenho do Modelo\n",
        "\n",
        "O modelo foi treinado e testado com dados reais, e os resultados foram avaliados por meio da matriz de confusão e métricas de classificação.\n",
        "\n",
        "### 🔹 Matriz de Confusão\n",
        "\n",
        "[[873 160]\n",
        "\n",
        "[155 878]]\n",
        "\n",
        "\n",
        "### 🔹 Métricas de Avaliação\n",
        "\n",
        "| Métrica       | Classe \"No\" | Classe \"Yes\" | Média |\n",
        "|---------------|-------------|--------------|-------|\n",
        "| Precisão      | 0.85        | 0.85         | 0.85  |\n",
        "| Recall        | 0.85        | 0.85         | 0.85  |\n",
        "| F1-score      | 0.85        | 0.85         | 0.85  |\n",
        "| Acurácia Total| —           | —            | 0.85  |\n",
        "\n",
        "O modelo apresentou desempenho equilibrado entre as classes, com acurácia de 85%, indicando boa capacidade de generalização.\n",
        "\n",
        "---\n",
        "\n",
        "## 3. Fatores que Influenciam a Evasão\n",
        "\n",
        "A análise de importância das variáveis revelou os seguintes fatores como os mais relevantes para prever a evasão:\n",
        "\n",
        "### 🔹 Gráfico: Importância das Variáveis\n",
        "\n",
        "\n",
        "![Gráfico de Importância das Variáveis](data:image/png;base64,iVBORw0KGgoAAAANSUhEUgAAA+gAAAJYCAYAAADxHswlAAAAOnRFWHRTb2Z0d2FyZQBNYXRwbG90bGliIHZlcnNpb24zLjEwLjAsIGh0dHBzOi8vbWF0cGxvdGxpYi5vcmcvlHJYcgAAAAlwSFlzAAAPYQAAD2EBqD+naQABAABJREFUeJzs3XlcTun/+PFXpSgqIkJkq3tQaZFUTJR9GTSyR/ax79RnLFNmxk6UbTBkHfu+jX1mGJnBjLHMjLEXWSJFpe3+/eHX+brdRSUK7+fj0WPc51znut7nOnf39L6v61xHR61WqxFCCCGEEEIIIUS+0s3vAIQQQgghhBBCCCEJuhBCCCGEEEIIUSBIgi6EEEIIIYQQQhQAkqALIYQQQgghhBAFgCToQgghhBBCCCFEASAJuhBCCCGEEEIIUQBIgi6EEEIIIYQQQhQAkqALIYQQQgghhBAFgCToQgghhBBCCCFEASAJuhBCCCGEEEIIUQBIgi6EEEIIIYQQQhQAkqALIYQQQgghhBAFgCToQgghhBBCCCFEASAJuhBCCCGEEEIIUQBIgi6EEEIIIYQQQhQAkqALIYQQQgghhBAFgCToQgghhBBCCCFEASAJuhBCCCGybc2aNezZsye/wxB56NmzZyxcuJBffvklv0MRQoiPniToQgghhMiWffv2sXjxYiZOnMilS5feenuhoaGoVKq33k5AQABeXl5vvZ384ufnh5+fX5b7v/32W3bv3k2tWrXeeixeXl4EBAS89XbEq+X2OoSHh+Po6Ei/fv24d+8evXv35uDBg28hQk2RkZGoVCq2bNny1tsqCJKTk/Hz88PFxYUlS5Zw584dateund9hiXdEEnQhhBAiD2zZsgWVSsVff/2V36Hk2po1a7L8Azg2NpZvvvmG2bNnExgYSGBgIKmpqe84wvffhQsXUKlUzJkzJ8sy169fR6VSMWXKlLcez969ezl8+DDfffcdxsbGb729j1HGZ0PGj52dHU2bNiU4OJgHDx7kd3g5smjRIr744guSk5P59NNPuXbtGnXr1s3vsHLlxWvy8s/EiRPzNbZff/2V+/fv07dvX8LDw2nYsCG+vr75GpN4dwrldwBCCCGEKBjWrVtHiRIl8PHx0dr333//8b///Y/atWtTu3Ztnj17xo0bN6hatepbi2fAgAH069fvrdWfH2rWrEmVKlXYvXs3I0aMyLTMrl27APjss8/ypM1ly5Zlul2tVnP37l2WLFlCuXLl8qSt19m3bx86OjrvpK2CZujQoVhaWpKcnMzp06dZt24dx44dY9euXRgaGr7TWHJ7HdavX0/FihXp378/9+/fp3jx4ujr67+FCN8NDw8P2rRpo7W9cuXK+RDN/3F2dmbNmjWULFmSnj17Ehsbi7m5eb7GJN4dSdCFEEKIj1xiYuJrE4SXp1d26dLlbYYEQKFChShU6MP7U6V169bMnTuXP/74AwcHB639u3btokqVKtSsWfON2sm4rgYGBpnu19HRwd/f/43ayKmsYimosvO7kV2ffvopdnZ2APj6+lK8eHGWL1/OoUOHaNWqVabHJCQkYGRklCftvyi316FixYrKvz+EhLFSpUqZJuj5rVixYhQrVgwAfX39D6KvRfbJFHchhBDiLQkICMDR0ZHbt2/Tv39/HB0dqV+/PmvWrAHgn3/+oXv37jg4ONCwYUN27typcXzG1NjffvuNiRMn4urqipOTE2PHjuXx48da7a1Zs4aWLVtia2tLvXr1CAoKIi4uTqOMn58frVq14vz583Tt2pVatWoxe/ZsvLy8uHz5MqdOnVKmeWbctxwbG8u0adNo3bo1jo6OODk50adPH/7++2+NuiMiIlCpVOzZs4eFCxcqCUmPHj24ceOGVrx//vknffv2xcXFBQcHB1q3bk14eLiyP7N70Ddv3kz37t1xc3PD1taWFi1asHbt2mxfk4MHD9KqVSvs7Oxo1aoVBw4cyLTcsmXL6NSpE66urtjb2+Pj48O+ffu0yh0/fpzOnTtTu3ZtHB0dadq0KbNnz35lDK1btwb+b6T8RefPn+fatWtKmYMHD9KvXz/q1auHra0tjRo1Yv78+aSlpWkcl9V1zdj34j3oycnJzJ07Fx8fH5ydnXFwcKBLly6cPHlSKZOSkkKdOnUIDAzUivHJkyfY2dkxbdo0jTrnzZtH48aNsbW1xdPTk+nTp5OcnKxx7Mv3PqekpBAWFkaTJk2ws7PD1dWVzp07c/z48Vf2YU5+N/KiD7NbR05kTA2PjIwE/u/z4ubNm/Tt2xdHR0dGjx4NQHp6OitWrKBly5bY2dnh7u7OxIkTNc61f//+eHt7Z9pWx44dNWbG5OY6XLp0ibFjx+Ll5YWdnR0eHh4EBgby6NEjrfYuXrxInz59cHJywtHRkR49evDHH39kq1/i4uIICAjA2dmZ2rVrM27cOOLj4zMte+XKFYYOHUqdOnWws7PDx8eHQ4cOZaud7AgODsbR0ZHExEStfSNHjsTDw0N5D2T3PXL9+nWGDBmCh4cHdnZ2fPrpp4wYMULjHDdu3Jjtz7nsfO6L98uH97W0EEIIUYCkpaXRt29fateuzejRo9m5cyfBwcEYGhoyZ84cWrduTZMmTfjhhx8YN24cDg4OVKhQQaOO4OBgTExMGDx4MNeuXWPdunXcvn2bVatWKdNUQ0NDCQsLw93dnc6dOyvl/vrrL9atW6cxDTU2Npa+ffvSsmVLPvvsM0qWLImrqyuTJ0/GyMiIL774AoBSpUoBcOvWLQ4ePEizZs2wtLTkwYMHrF+/nm7durF7927KlCmjEe+SJUvQ0dGhV69ePHnyhKVLlzJ69Gg2btyolDl+/Dj9+/endOnSdO/enVKlSnHlyhWOHj1Kjx49suzPdevWYW1tjZeXF4UKFeLIkSMEBQWhVqvp2rXrK6/FL7/8wpAhQ6hWrRqjRo3i0aNHBAYGYmFhoVV25cqVeHl50bp1a1JSUti9ezfDhg1j8eLFNGjQAIDLly/Tv39/VCoVQ4cOxcDAgBs3bnDmzJlXxlGhQgUcHR3Zu3cvgYGB6OnpKfsykvaMBH3r1q0YGRnRs2dPjIyMOHnyJPPmzePJkyeMGzdOo97Mrmtmnjx5wsaNG2nVqhW+vr48efKETZs20adPHzZu3Ej16tXR19enUaNGHDhwgKCgII0R14MHD5KcnEyLFi2A58njgAEDOH36NB06dKBq1ar8+++/hIeHc/36dRYsWJBlX4SFhbF48WJ8fX2xt7fnyZMnnD9/ngsXLuDh4fHKfoTs/W7kRR/mpI7sunnzJgDFixdXtqWmptK7d2+cnZ0ZN24cRYoUAWDixIls3boVHx8f/Pz8iIyMZM2aNVy8eFH5/W7evDnjxo3j3Llz2NvbK3VGRUXxxx9/MHbs2Cxjyc51+Pnnn4mKiuLzzz/H3Nycy5cvs2HDBv777z82bNig9Pfly5fp2rUrRYsWpU+fPhQqVIj169fj5+fH6tWrX7kYoVqtZuDAgZw+fZpOnTpRtWpVDhw4kGkfX758mc6dO1OmTBn69u2LkZERe/fuZdCgQYSGhtK4cePXXoNnz57x8OFDre3FihXDwMCAFi1asGbNGo4ePUrz5s2V/YmJiRw5coR27dopv7/ZeY8kJyfTu3dvkpOT6datG6VKleLu3bscPXqUuLg4ZR2IdevWoVKpXvs5l5PPffEeUQshhBDijW3evFltY2OjPnfunLJt3LhxahsbG/WiRYuUbY8fP1bb29urVSqVevfu3cr2K1euqG1sbNTz5s3TqrNdu3bq5ORkZfuSJUvUNjY26oMHD6rVarU6JiZGXbNmTXWvXr3UaWlpSrnVq1erbWxs1Js2bVK2devWTW1jY6Net26d1jm0bNlS3a1bN63tz54906hXrVarb926pba1tVWHhYUp206ePKm2sbFRN2/eXP3s2TNle3h4uNrGxkb9zz//qNVqtTo1NVXt5eWlbtiwofrx48ca9aanpyv/njdvntrGxkZjf2JiolZ8vXr1Unt7e2ttf1mbNm3UHh4e6ri4OGXbL7/8oraxsVE3bNjwle0kJyerW7Vqpe7evbuybfny5WobGxt1TEzMa9t+Wca1+fnnn5VtaWlp6vr166s7duyYZRxqtVo9YcIEda1atTT6+FXXtVu3bhrXNTU1VeNYtVqtjo2NVdetW1cdGBiobPv555/VNjY26sOHD2uU7du3r0Z/b9u2Tf3JJ5+of/vtN41y69atU9vY2KhPnz6tbGvYsKF63LhxyuvPPvtM3a9fP62YXye7vxtqdd70YXbreFWsJ06cUMfExKjv3Lmj3r17t7pOnTpqe3t7dXR0tFqt/r/Pi5kzZ2oc/9tvv6ltbGzUO3bs0Nj+008/aWyPj49X29raqqdOnapRbsmSJWqVSqWOiopStuXmOiQkJGht27Vrl9rGxkbj2g8cOFBds2ZN9c2bN5Vtd+/eVTs6Oqq7du36yjYOHDigtrGxUS9ZskTZlpqaqu7SpYvaxsZGvXnzZmV7jx491K1atdLo//T0dHXHjh3VTZo0eWU7arVabWNjk+XPrl27lPrq16+vHjJkiMaxe/bs0Trv7LxHLl68qLaxsVHv3bv3lbFl1tcvf87l5HNfvF9kirsQQgjxlr24+q6JiQmVK1fG0NBQY0SmSpUqmJiYcOvWLa3jO3bsqDES0rlzZwoVKsSxY8cAOHHiBCkpKXTv3h1d3f/7X7uvry/FihVTymUwMDDIdCG4rBgYGCj1pqWl8ejRI4yMjKhcuTIXL17UKu/j46Mx4ppx/3rGuV28eJHIyEi6d++OiYmJxrGvW7gqY0QRID4+nocPH1KnTh1u3bqV5TRYgHv37nHp0iXatWunsVq5h4cH1apVe2U7jx8/Jj4+HmdnZ43zzYj90KFDpKenvzLul7Vo0QJ9fX2Nae6nTp3i7t27yuj5y3E8efKEhw8fUrt2bRITE7l69apGndm9rnp6ehrXJzk5mSJFiuDo6KhxfnXr1qVEiRIaz71//PgxJ06cUEbP4fmCY1WrVqVKlSo8fPhQ+cmYwh0REZFlLCYmJly+fJnr16+/Nu7MvO53A/KmD3NSR1b8/f1xc3PD09OTESNGULRoUcLCwrRmoHTu3Fnj9b59+zA2NsbDw0Ojf2vWrImRkZHSv8WKFePTTz9l7969qNVq5fg9e/bg4ODwyoUAs3MdXrwXP2PkOWM0/MKFC8Dzz4fjx4/TqFEjjZlApUuXplWrVpw+fZonT55k2cZPP/1EoUKFNPpAT0+Pbt26aZSLjY3l5MmTNG/eXLkeDx8+5NGjR9SrV4/r169z9+7dLNvJ4O3tzfLly7V+XF1dgeefR82aNePYsWM8ffpUOW7v3r2UKVMGZ2dnZVt23iMZ95X/8ssvmU6bz/BiX2f1OZfTz33x/pAp7kIIIcRbVLhwYczMzDS2GRsbY2FhoZWMGhsbZ3rvoJWVlcbrokWLYm5uTlRUFAC3b98Gnif5LzIwMKBChQpKuQxlypTJ0SJR6enprFy5krVr1xIZGalxT+WL03MzvJwIZCSyGeeWkajb2NhkO4YMp0+fJjQ0lD/++EPrD9z4+PgsHxWW0Ucv9yWQ6RcNR44cYeHChVy6dEnjPuoXr1mLFi3YuHEj48ePZ9asWbi5udG4cWOaNWum8QdzZkqUKEG9evWUKeSFCxdm165dFCpUSOOLm8uXLxMSEsLJkye1EpuXv5DIyXXds2cPK1as4MqVKxr1WlpaKv8uVKgQTZo0YdeuXSQnJ2NgYMCPP/5ISkqKRoJ+48YNrly5gpubW6ZtxcTEZBnH0KFDGThwIE2bNsXGxoZ69erRpk0bPvnkk2ydx+t+NyBv+jAndWRl4sSJVK5cGT09PUqVKkXlypW13ieFChXSuuXixo0bxMfHZ6t/W7RowcGDBzl79ixOTk7cvHmTCxcu8L///e+VsWXnOsTGxhIWFsaePXu0rmlGHzx8+JDExMRMV0GvWrUq6enp3LlzB2tr60zjiIqKwtzcnKJFi2psf7m+mzdvolarmTt3LnPnzs20rpiYGK0vP15mYWGBu7v7K8u0aNGC8PBwDh8+TOvWrXn69CnHjh2jY8eOGp8H2XmPVKhQgZ49e7J8+XJ27txJ7dq18fLy4rPPPtP47MrO51xOP/fF+0MSdCGEEOItevH+4uxsf3Hk6215caQnOxYtWsTcuXP5/PPPGTZsGKampujq6vLtt99mGm9WyembntvNmzfx9/enSpUqBAQEULZsWfT19Tl27BgrVqzI8Sh2Vn7//XcGDBiAi4sLkyZNwtzcHH19fTZv3qwx4l2kSBHWrFlDREQER48e5eeff2bPnj2sX7+e77//PstrnOGzzz7jyJEjHDlyBC8vL3788Uc8PDyUL3Ti4uLo1q0bxYoVY+jQoVSsWJHChQtz4cIFZs6cqXW+2b2uu3fvZuTIkbRs2ZK+fftiZmaGnp4eoaGhXLt2TaNsy5YtWb9+PT/99BONGjVi3759VKlSRSNxS09Px8bGJtMF5YBM7/HP4OLiwoEDBzh06BDHjx9n06ZNhIeHExQUlCfPfc6LPsxpHVmxt7dXVnHPyouzVTKkp6dTsmRJZs6cmekxL34B2LBhQwwNDdm7dy9OTk7s3bsXXV1dmjVr9sp2s3Mdhg8fztmzZ+nduzfVq1fHyMiI9PR0+vTp804+t16U0ee9evWifv36mZZ5ccX5N+Hg4ED58uXZu3cvrVu35siRIyQlJWl8SZWT90hAQADt2rVT+vrrr79m8eLFbNiwAQsLi3f2OScKLknQhRBCiALuxo0bynRhgKdPn3L//n0+/fRT4P9GrK9evaoxrTQ5OZnIyMjXjhBlyGp6+f79+3F1deXbb7/V2B4XF0eJEiVydC6AEuO///6b7dgADh8+THJyMgsXLtQYpX/VFOoMGeUzW03+5aR0//79FC5cmGXLlmmMpm7evFnrWF1dXdzc3HBzcyMwMJBFixYxZ84cIiIiXntuXl5eFC1aVBk5f/z4scb09lOnTimjli4uLsr2jFW/c2vPnj1YWVlprTb/4hTeDC4uLpibm7Nnzx6cnJw4efKksohghooVK/L333/j5uaWq2drFy9enM8//5zPP/+cp0+f0q1bN0JDQ7OVoL/udyMv+vBtXYfsqlixIr/++itOTk6v/RLGyMiIBg0asG/fPgIDA9mzZw+1a9d+7UgyvPo6PH78mF9//ZUhQ4YwePBg5ZiXp8SbmZlhaGio9TsFzz+fdHV1KVu2bJYxlC9fnpMnT/L06VONUfSX68v4DNHX18/RZ0huNW/enJUrV/LkyRP27NlD+fLlNR6RmNP3SMaTMgYOHMiZM2fo3Lkz69atY8SIEdn+nMurz31R8Mg96EIIIUQBt379elJSUpTX69atIzU1VUlC3N3d0dfXZ9WqVRojWZs2bSI+Ph5PT89stWNoaJjpFHs9PT2tEbK9e/dm6x7PzNSsWRNLS0tWrlyp1d6rRuIyRqRfLBMfH59p4vyy0qVLU716dbZu3aoxJfn48eP8999/Wu3o6OhoTOWPjIzUenxTbGysVjvVq1cH0Hq8WGaKFClC48aNOXbsGOvWrcPIyEjjMVkZI6kvnm9ycnKOHiuXGR0dHdLT0zVG4s6cOZPpY7AyRl+PHDnCjh07SE1N1Rg5hOfJy927d9mwYYPW8UlJSSQkJGQZy8uP6CpatCgVK1bMVv/B63838qIP39Z1yK7mzZuTlpaW6Wr4qampWr9DLVq04N69e2zcuJG///5b45aJrLzuOmQ1G+TFxyJmlPPw8ODQoUMayemDBw/YtWsXzs7Oyn3Ymfn0009JTU1l3bp1yra0tDRWr16tUa5kyZLUqVOH9evXc+/ePa16MluZ/U20aNGC5ORktm7dys8//6zVp9l9jzx58oTU1FSNbTY2Nujq6mr19es+5/Lqc18UPDKCLoQQQhRwKSkp+Pv707x5c65du8batWtxdnZWkjkzMzP69+9PWFgYffr0wcvLSylnZ2fHZ599lq12atasybp161iwYAFWVlaYmZnh5uZGgwYNmD9/PoGBgTg6OvLvv/+yc+dOrcfBZZeuri5fffUVAwYMoG3btvj4+GBubs7Vq1f577//WLZsWabHeXh4oK+vzxdffEGnTp14+vQpGzdupGTJkty/f/+17Y4cOZL+/fvTpUsXPv/8c2JjY1m9ejXW1tYaSaSnpyfLly+nT58+tGrVipiYGNauXUvFihX5559/lHLz58/n999/x9PTk/LlyyvlLCwsNBaPepXPPvuMbdu28csvv9C6dWuMjIyUfY6OjpiamhIQEICfnx86Ojps3779jacTe3p6cuDAAQYNGkSDBg24desW69evx9raOtNR9ObNm7Nq1SrmzZuHjY0NVatW1djfpk0b9u7dy6RJk4iIiMDJyYm0tDSuXr3Kvn37WLp0aZZTu1u2bEmdOnWoWbMmxYsX56+//mL//v1ai4Jl5XW/G3nRh2/rOmRXnTp16NixI4sXL+bSpUvK78H169fZt28fX375pcYUdk9PT4oWLcq0adPQ09OjadOmr23jddehWLFiuLi4sHTpUlJSUihTpgzHjx/PdIR4+PDhnDhxgi5dutClSxf09PRYv349ycnJjBkz5pVxeHl54eTkxKxZs4iKiqJatWr8+OOPmd7nP2nSJLp06ULr1q3p0KEDFSpU4MGDB/zxxx9ER0ezY8eO15739evX2b59u9b2UqVKaTzmr2bNmlhZWTFnzhyNRwxmyO575OTJkwQHB9OsWTMqVapEWloa27dv17hO2f2cy6vPfVHwSIIuhBBCFHATJ05k586dzJs3j5SUFFq2bMn48eM1phMPGTIEMzMzVq9ezZQpUzA1NaVDhw6MHDky28/CHTRoELdv32bp0qU8ffqUOnXq4ObmxhdffEFiYiI7d+5kz5491KhRg8WLFzNr1qxcn1P9+vUJDw9n/vz5fP/996jVaipUqECHDh2yPKZKlSrMmzePkJAQpk2bRqlSpejcuTNmZmavXQQLno/OzZ07l5CQEGbNmkXFihWZMmUKhw4d4tSpU0o5Nzc3vvnmG5YsWcK3336LpaUlo0ePJioqSiNB9/LyIioqis2bN/Po0SNKlChBnTp1GDJkSJaL1b2sbt26mJubc//+fY3p7fB8IblFixYxbdo0QkJCMDEx4bPPPsPNzY3evXtnq/7MtG/fngcPHrBhwwaOHz9OtWrVmDVrFnv27NHohwxOTk6ULVuWO3fuaCUm8PwLl/nz57NixQq2b9/OgQMHMDQ0xNLSEj8/v0wXDMvg5+fH4cOHOX78OMnJyZQrV47hw4dn+/xe97uRF334tq5DTgQHB2Nra8sPP/zAnDlz0NPTo3z58nz22Wc4OTlplC1cuDBeXl7s3LkTd3d35Vnur5Kd6zBr1iwmT57M2rVrUavVeHh4sGTJEq17wK2trVmzZg2zZs1i8eLFqNVq7O3tmTFjxiufgQ7P30sLFy7k22+/ZceOHejo6ODl5UVAQABt27bVKFutWjU2b95MWFgYW7duJTY2FjMzM2rUqMGgQYNee87wfAbN8ePHtbbXqVNHI0GH519ULVq0CCsrK2rWrKmxL7vvEZVKRb169Thy5Ah3797F0NAQlUrFkiVLlCnzOfmcy4vPfVHw6Kjf9aoOQgghhMiWLVu2EBgYyKZNm167uJQQHxP53RBCfKjkHnQhhBBCCCGEEKIAkARdCCGEEEIIIYQoACRBF0IIIYQQQgghCgC5B10IIYQQQgghhCgAZARdCCGEEEIIIYQoACRBF0IIIYQQQgghCgB5DroQQnyAzp49i1qtluegCiGEEEK8ZSkpKejo6ODo6PjGdckIuhBCfIDUarXyI7JPrVaTkpIi/ZZD0m+5I/2Wc9JnuSP9ljvSb7nzMfZbXv7NJSPoQgjxAcoYObezs8vnSIQQQggh3q20tHT09N7dWPRff/2VZ3VJgi6E+OAdPHiQu3fv0rVr1/wO5Z37duA8bl6Oyu8whBBCCCHeiYrW5fnfgqH5HUauSYIuhPjgHTx4kPPnz3+UCfrNy1H899e1/A5DCCGEEEJkg9yDLoQQ+SQ5OZn09PT8DkMIIYQQQhQQkqALIT5oAQEBbN26lcuXL6NSqVCpVAQEBADPVzrv3r07Dg4OODs7M2rUKGJiYpRjIyMjUalUbN++neDgYFxcXKhXrx7Tpk0jNTVVo41WrVpptBsXF4dKpWLLli3KNi8vL4KDg1myZAkNGzbE3t6e2NhYALZs2ULr1q2xs7Ojfv36zJkzh7S0tLfYM0IIIYQQoqCRKe5CiA/awIEDefjwIVevXmXmzJkAmJmZcfbsWfz8/PD09GTOnDkkJiYSEhLCwIEDWb9+vUYdISEheHt7ExISwtmzZwkNDaVixYp07tw5x/H8+OOPWFlZ8eWXX6Krq4uRkRHLly9nxowZ9OjRg4CAAK5cuaIk6KNHj86TfhBCCCGEEAWfJOhCiA9axYoVMTMz4/bt2zg4OCjb//e//2Fra0tYWBg6OjoA2NjY0KpVK44dO4anp6dS1t7envHjxwPg4eFBREQE+/fvz1WCnpKSwpIlSzAyMgLgyZMnzJs3jz59+jBy5EilDX19faZOnUrv3r0pUaJEbk9fCCGEEEK8R2SKuxDio5OYmMiZM2do1qwZaWlppKamkpqaSqVKlShbtqzWozLq1aun8bpq1apER0fnqm1XV1clOYfn0+wTEhJo1qyZEkdqairu7u4kJSVx+fLlXLUjhBBCCCHePzKCLoT46MTFxZGWlsaUKVOYMmWK1v47d+5ovDY2NtZ4ra+vT3Jycq7aLlmypMbrR48eAdCuXbtMy78cixBCCCGE+HBJgi6E+OgYGxujo6ND//79adSokdb+nE4pNzAwICUlRWPb48ePMy2bMZ0+g6mpKQBhYWFYWFholbe0tMxRLEIIIYQQ4v0lCboQ4oOnr6/Ps2fPlNdGRkY4ODhw9epV7Ozs3rh+CwsLoqOjefr0KUWLFgXg+PHj2TrW0dERQ0NDoqOjady48RvHIoQQQggh3l+SoAshPnhVq1Zl8+bN7Nq1CysrK0qUKMHYsWPp0aMHw4cPp2XLlpiYmBAdHc2JEyfw8fHB1dU12/U3adKEefPm8b///Y8OHTpw+fJlNm3alK1jTUxMGDp0KDNmzCA6Opo6deqgp6fHrVu3OHToEKGhoRgaGub21IUQQgghxHtEEnQhxAevffv2nDt3jsmTJxMbG0u7du2YOnUqa9euJTQ0lMDAQFJSUrCwsKBu3bpYWVnlqP5q1aoxdepUFixYwMCBA3F2dmbmzJm0adMmW8f36tWLMmXKsHz5clavXk2hQoWoWLEiDRo0QF9fPzenrKhoXf6NjhdCCCGEeJ+873/76KjVanV+ByGEECJvZaxEnxdT+IUQQggh3idpaeno6b27B5bl5d9d8pg1IYT4QCUnJ5OYmJjfYbxXEhMTuXjxovRbDkm/5Y70W85Jn+WO9FvuSL/lTkHot3eZnOe19zdyIYQQQgghhBDiAyJT3IUQ4gMkU9yFEEII8aF711PZs5KXf3fJInFCiGyLjIzE29ubuXPn0qxZs/wO562Li4sjPDyc5s2bU61atRwfv2XLFvT19WndunWujg0MDOTXX3/FzMwsx8dnmDpiMbeu3Mn18UIIIYQQBVGFqmUJmNM/v8PIc5KgCyFEFuLi4ggLC8Pa2jpXCfrWrVsxMjLKVYKeV25ducN/F27kW/tCCCGEECL78n8+gBBC/H9JSUn5HYIQQgghhBD5RhJ0IYSWs2fP0qtXL5ycnHB0dMTX15fjx48r+589e0ZwcDAuLi7Uq1ePadOmkZqaquy/cuUKI0aMwNPTk1q1atGiRQu+//570tPTlTKRkZGoVCq2bNnC+PHjcXV1xdfXF4D4+HhGjx6No6Mjbm5uzJ49m++//x6VSqURZ1xcHF999RX16tXD1tYWHx8ffvnlF40yp0+fpmvXrjg7O+Po6Ejr1q3ZunXra/sgYzo/wLBhw1CpVKhUKiIjIwGIjY0lMDAQV1dX7O3t6dSpE7/99ptyvJ+fH6dOneLo0aPKsaGhoQAcPXqUnj174ubmhpOTE76+vvz000/ZujZCCCGEEOLDJVPchRAaTp8+TY8ePXBwcODrr7/GxMSE8+fPc/v2baysrAAICQnB29ubkJAQzp49S2hoKBUrVqRz584A3Lt3j8qVK9O6dWuKFi3KpUuXCA0NJSEhgcGDB2u0N3v2bDw9PZk1a5aSwAcGBnLy5EnGjBlD+fLl2bBhAxcuXNA4Ljk5mZ49exITE8Pw4cMpU6YMO3bsoH///mzZsgWVSsWTJ0/o378/zs7OzJ49GwMDA/777z/i4uJe2w+lS5cmLCyMwYMHM3LkSFxdXZXtaWlp9O3bl1u3bjF69GhKlSrFqlWr6NmzJz/88AO2trZMmjSJMWPGUKRIEcaNGweAhYUF8Dz5b9iwIb169UJXV5effvqJfv36ER4errQjhBBCCCE+PpKgCyE0zJgxAysrK8LDw9HT0wOgXr16AMrosb29PePHjwfAw8ODiIgI9u/fryTobm5uuLm5AaBWq3F2diYpKYnVq1drJeiffPIJ33zzjfL6v//+48CBA0ybNo22bdsCUL9+fZo3b65x3M6dO/n777/Zvn27cn94/fr1uXHjBgsWLGDu3Llcu3aN+Ph4Ro4cqYy+Z8T1OgYGBlSvXh0AKysrHBwclH2HDh3i3LlzLF26lPr16yt91KRJExYvXkxoaCjVqlWjWLFiGBkZaRwL0K1bN+Xf6enpuLq68t9//7FhwwZJ0IUQQgghPmKSoAshFImJifz555+MHDlSSc4zk5GwZ6hatSonT55UXj979ozFixezc+dO7ty5Q0pKirLv6dOnFC1aVHndoEEDjboyHlORMb0cQFdXl4YNG7J8+XJl2/Hjx7GxsaFSpUoa0+vd3d3ZsWMHABUrVqRYsWJ89dVX+Pn5Ubdu3TdaET3D77//TrFixZTkHEBfX5/GjRuza9eu1x4fHR3NnDlzOHHiBPfv3yfjaZc1a9Z849iEEEIIIcT7SxJ0IYQiLi6O9PR0Spcu/cpyxsbGGq/19fVJTk5WXs+YMYONGzcyaNAgbG1tMTY25tChQyxcuJBnz55pJOglS5bUqOv+/fvo6+trtfFyYv3o0SMuXryYaVKb8eWCqakpy5cvZ968eYwdO5a0tDRq167N+PHjte5nz4m4uDituAFKlSrF48ePX3lseno6AwYMID4+nqFDh2JlZYWhoSHz5s3jzh15HJoQQgghxMdMEnQhhMLY2BhdXV3u3bv3RvXs27ePjh070q9fP2XbsWPHMi2ro6Oj8drc3JyUlBTi4+M1kvSHDx9qlDM1NUWlUmlMj8+Mvb09S5cuJSkpiYiICKZNm8agQYM4ePBgTk9Lo+2YmBit7Q8ePMDU1PSVx964cYOLFy8yf/58GjVqpGyXFeyFEEIIIYSs4i6EUGTcL719+3bS0tJyXc+zZ8/Q19dXXqelpbF79+5sHWtraws8v887Q3p6OkeOHNEo5+7uzq1btyhdujR2dnZaPy8rUqQInp6edO7cmcjISJ49e/baWDLO4eWyzs7OPHnyRGPF+NTUVA4ePIizs7PG8S8fm/H6xf6Jiori7Nmzr41HCCGEEEJ82GQEXQihYdSoUfj7++Pv70+XLl0wNTXlwoULlChRgrp162arDnd3dzZu3Ei1atUoUaIEa9eu1ZgC/yrW1tY0btyYr7/+msTERMqVK8eGDRtISkrSGG1v27YtP/zwA927d6dXr15UqlSJ+Ph4Ll68SEpKCqNGjeLo0aNs2rSJRo0aUa5cOR48eMDq1atxcnKicOHCr43F3NwcExMTdu/ejaWlJQYGBqhUKho0aIC9vT1jxoxh1KhRyiru9+7dY968ecrxVapUYdu2bRw+fBhzc3NKly5NlSpVsLCwUFatT0hIYN68ea+9rUAIIYQQQnz4JEEXQmioXbs2K1euJCQkhMDAQHR1dbG2tmb48OHZrmPChAlMmjSJyZMnY2hoSLt27WjcuLGy8vvrfPvttwQHBzN9+nQMDAxo164d1tbWrFmzRiljYGDAypUrCQ0NZdGiRdy/f5/ixYtTo0YNunTpAjxfJE5XV5eQkBBiYmIoXrw49erVY+TIkdmKQ1dXlylTpjB79mz8/f1JTk7m0KFDWFpa8t133zF9+nRmzJhBQkICNWvW5Pvvv1dmAAD07duXmzdvMm7cOOLi4hg8eDBDhgwhNDSU4OBghg0bRtmyZRkwYAAnT57k/Pnz2e7j7KpQtWye1ymEEEIIkd8+1L9xdNQZywcLIUQB1rVrV3R1dVm1alV+h/JeyFgNP7Pp/kIIIYQQH4K0tHT09PL/ru28/Lsr/89GCCFesn//flasWMGJEyc4dOgQI0aM4Pfff6dHjx75Hdp7JTk5mcTExPwO472SmJjIxYsXpd9ySPotd6Tfck76LHek33JH+i133mW/FYTkPK/JFHchRIFjZGTE9u3buX79OikpKVSpUoUZM2ZorHr+ptRq9SsXwtPV1UVX98P70BdCCCFE9qjVahITE5EJxzkj/fZmZIq7EOKjFBERQffu3bPc365dO6ZOnfoOI8pbMsVdCCFEQZGelo7uezjSmZCQwKVLl6hevTpGRkb5Hc5742Pst7z8u0tG0IV4j0VGRuLt7c3cuXNp1qxZfofzXqlZsyabNm3Kcn+JEiWy3BcZGcnWrVvp0KEDZcqUUbZnJP2bNm165Qd0QEAA58+fZ9euXbkLPgemB6zg1rXot96OEEIIkZkKlS0YO9U/v8MQ4r0hCboQ4qNUrFixXH/LGRUVRVhYGA0aNNBI0AuiW9eiuXLpVn6HIYQQQgghsuH9m2sihHhnkpKS8jsEIYQQQgghPhqSoAvxHjh79iy9evXCyckJR0dHfH19OX78uLL/2bNnBAcH4+LiQr169Zg2bRqpqanK/itXrjBixAg8PT2pVasWLVq04Pvvvyc9PV0pExkZiUqlYsuWLYwfPx5XV1d8fX0BiI+PZ/To0Tg6OuLm5sbs2bP5/vvvUalUGnHGxcXx1VdfUa9ePWxtbfHx8eGXX37RKHP69Gm6du2Ks7Mzjo6OtG7dmq1bt2arHzJi3LZtGxMnTqR27dq4ubmxfPlyAHbv3k3Tpk1xcnJi8ODBxMXFaRwfFRXF0KFDcXZ2xsHBgd69e/PPP/9olPHy8iI4OJg1a9bQsGFDnJ2dGThwIA8fPgQ0711v3749KpUq034YNWoUjo6ONGzYkCVLlmR5Tg8fPsTW1pYNGzZo7fP19WXYsGHZ6hshhBBCCPH+kynuQhRwp0+fpkePHjg4OPD1119jYmLC+fPnuX37NlZWVgCEhITg7e1NSEgIZ8+eJTQ0lIoVK9K5c2cA7t27R+XKlWndujVFixbl0qVLhIaGkpCQwODBgzXamz17Np6ensyaNUtJ4AMDAzl58iRjxoyhfPnybNiwgQsXLmgcl5ycTM+ePYmJiWH48OGUKVOGHTt20L9/f7Zs2YJKpeLJkyf0798fZ2dnZs+ejYGBAf/9959WIv06ISEhNGnShLlz53Lw4EGmTp3Kw4cPOXXqFGPGjOHJkyd8/fXXzJgxg8mTJwPw5MkT/Pz80NXVJSgoiMKFC7Nw4UK6devGjh07KFu2rFL/4cOHuXHjBhMnTuTRo0dMmTKFyZMnM2fOHGrWrMnEiRMJDg5mypQpVKlSRSu+SZMm0aZNG+bPn8/BgweZOXMmKpWKTz/9VKusmZkZjRs3ZvPmzXTo0EHZfvnyZc6dO8fQoUNz1DdCCCGEEOL9JQm6EAXcjBkzsLKyIjw8HD09PQDq1asHPB9RBrC3t2f8+PEAeHh4EBERwf79+5UE3c3NDTc3N+D5oy+cnZ1JSkpi9erVWgn6J598wjfffKO8/u+//zhw4ADTpk2jbdu2ANSvX5/mzZtrHLdz507+/vtvtm/fTrVq1ZRyN27cYMGCBcydO5dr164RHx/PyJEjlVHnjLhywsHBgf/9738A1K1blx9//JHVq1dz+PBhZXG3f/75h02bNikJ+pYtW7h9+za7d++matWqALi4uNCwYUPCw8MJCAhQ6ler1SxcuBADAwPg+cj74sWLSU9Pp1ixYsr5WVtbZ3ofe5MmTRgyZIhyfkePHmX//v2ZJugAHTp0wN/fnytXriixbd68mbJly+Lh4ZHj/hFCCCGEEO8nmeIuRAGWmJjIn3/+Sdu2bZXkPDMZCXuGqlWrEh39fyt3P3v2jHnz5tG4cWPs7OyoWbMmc+bM4f79+zx9+lTj2AYNGmi8znhshLe3t7JNV1eXhg0bapQ7fvw4NjY2VKpUidTUVOXH3d1dqaNixYoUK1aMr776ij179ijTxnPqxaRVT0+PChUq8Mknn2isvF6pUiXi4uKU8/v999+xtrZWEmCA4sWL4+7uzunTpzXqd3FxUZJzeN6fKSkpxMTEZCu+F6+Hjo6O1vV4Wd26dalQoYKyqnxqaio7duygXbt28ix2IYQQQoiPiIygC1GAxcXFkZ6eTunSpV9ZztjYWOO1vr4+ycnJyusZM2awceNGBg0ahK2tLcbGxhw6dIiFCxfy7NkzihYtqpQtWbKkRl33799HX19fqw0zMzON148ePeLixYvUrFlTK76MLxdMTU1Zvnw58+bNY+zYsaSlpVG7dm3Gjx+vdR93Ts/35eds6uvrAyjnFxcXR6lSpbTqKlmyJJcvX9bYZmJiovE6I1l/9uxZruOLj4/PsryOjg6+vr6sXLmSUaNGcfToUR4+fIiPj0+22hNCCCGEEB8GSdCFKMCMjY3R1dXl3r17b1TPvn376NixI/369VO2HTt2LNOyOjo6Gq/Nzc1JSUkhPj5eI/F8efTb1NQUlUqlMT0+M/b29ixdupSkpCQiIiKYNm0agwYN4uDBgzk9rRwxNTXl2rVrWttjYmIwNTV9q21nh4+PD/PmzePo0aNs2rQJV1dXKlSokN9hCSGEEEKId0jmTgpRgBkZGeHg4MD27dtJS0vLdT3Pnj1TRpQB0tLS2L17d7aOtbW1BeDQoUPKtvT0dI4cOaJRzt3dnVu3blG6dGns7Oy0fl5WpEgRPD096dy5M5GRkdkenc4tZ2dn/v33X65evapse/z4MSdOnMDZ2TlHdb04Op9XzM3NadCgAUuXLuXnn3/m888/z7O6hRBCCCHE+0FG0IUo4EaNGoW/vz/+/v506dIFU1NTLly4QIkSJahbt2626nB3d2fjxo1Uq1aNEiVKsHbtWo0p8K9ibW1N48aN+frrr0lMTKRcuXJs2LCBpKQkjdH2tm3b8sMPP9C9e3d69epFpUqViI+P5+LFi6SkpChTtzdt2kSjRo0oV64cDx48YPXq1Tg5OVG4cOFc9U92+fj4sGLFCvr378/w4cOVVdwLFSpEjx49clRXpUqV0NPTY/PmzRQqVAg9Pb1Mv4TIqQ4dOtCvXz9MTExo2rTpG9cnhBBCCCHeL5KgC1HA1a5dm5UrVxISEkJgYCC6urpYW1szfPjwbNcxYcIEJk2axOTJkzE0NKRdu3Y0btxYWfn9db799luCg4OZPn06BgYGtGvXDmtra9asWaOUMTAwYOXKlYSGhrJo0SLu379P8eLFqVGjBl26dAGeLxKnq6tLSEgIMTExFC9enHr16jFy5Mgc9UluFCtWjFWrVjF16lQmTJhAeno6Tk5OrF69WuMRa9lhZmbGxIkTWbp0KTt27CA1NVXreeq5Ua9ePQwNDWnZsmWefWFRobJFntQjhBBC5Ib8f0iInNFRq9Xq/A5CCPH+6dq1K7q6uqxatSq/Q/lg/Prrr/j7+7N582bl1oLcylg5Py9G9oUQQog3kZ6Wjq7e+3dnbUJCApcuXaJ69epai9GKrH2M/ZaXf3fJCLoQ4rX279/PnTt3sLGxITExkV27dvH7778zf/78/A7tg3D37l1u3rzJjBkzcHJyeuPkPENycjKJiYkYGhrmSX0fg8TERK5du0blypWl33JA+i13pN9yTvosd/K7397H5FyI/CIJuhDitYyMjNi+fTvXr18nJSWFKlWqMGPGDBo1apRnbajV6lcuhKerq/vBPhN8w4YNLFiwgOrVq/P111/ndzhCCCE+MGq1msTERGTirBAFn0xxF0K8kbi4OFxcXJgyZUq2n9sdGhrK999/z9mzZwGIiIige/furzymXbt2TJ069Y3jfZGXlxcNGjRg4sSJeVpvQSBT3IUQ4uOT1VTyj3HKcV6Qfsudj7HfZIq7EOK95uvri6enp9b2qVOnUq1atUyPKVGixNsO64M0Y9Jqbl2/m99hCCGEeMsqVCrDmKBu+R2GEOINSYIuhHjnLCwssLDQXtW1WrVqH8yIb3JyMoUKFcr3afm3rt/lyj9R+RqDEEIIIYTIng/zhk4hxFuzYcMGvLy8qFWrFj169ODGjRsa+7dt20bnzp2pU6cOLi4u+Pn5ce7cOY0yoaGhODo6ZtnGkCFD6NSpk9b2tWvXYmdnR2xsbLZivXv3LmPHjsXd3R17e3uaNWtGeHi4Vrk1a9bQsGFDnJ2dGThwIA8fPlT2JSQkEBwcTNOmTalVqxZeXl5MnDiR+Ph4jTq8vLwIDg5myZIlNGzYEHt7e2JjY1Gr1YSFheHh4YGjoyNDhw7lxIkTqFQqIiIilOPVajXLli2jadOm2Nra4u3tzYoVK7J1nkIIIYQQ4sMgI+hCiGw7cuQIEyZMwMfHhxYtWnDhwgWGDRumUSYyMpK2bdtSsWJFkpOT2b17N127dmXHjh1Urlw5W+34+vrSt29frl69SpUqVZTtmzdvpnHjxhQvXvy1dTx69IiOHTsCMGLECCwtLblx4wY3b97UKHf48GFu3LjBxIkTefToEVOmTGHy5MnMmTMHgKSkJNLS0hgxYgRmZmbcuXOHRYsWMXDgQK1HzP34449YWVnx5Zdfoquri5GREatWrSIsLIw+ffpQt25dTp48menz57/55hs2btzIF198Qa1atThz5gwzZ86kcOHCdO7cOVv9JoQQQggh3m+SoAshsm3hwoXUrl2bKVOmAFC/fn2ePXvGggULlDKDBw9W/p2eno6Hhwfnzp1j69atjBw5Mlvt1KtXj3LlyrF582bGjBkDwL///sv58+ezXceKFSuIiYlh7969WFpaAuDm5qZVTq1Ws3DhQgwMDACIiopi8eLFpKeno6uri5mZGUFBQUr51NRULC0t6dKli/LImgwpKSksWbJEWRAlLS2N7777Dh8fH0aPHq2c26NHj9i0aZNy3M2bN1m9ejVBQUHKlwru7u4kJSUxf/58OnbsmO9T5YUQQgghxNsnf/EJIbIlLS2NCxcu0LhxY43tTZs21Xh95coVBg0ahLu7O9WrV6dmzZpcu3aN69evZ7stXV1dPv/8c7Zv305qairwfPS8fPnymSbZmfn111+pW7eukpxnxcXFRUnOAapWrUpKSgoxMTHKtm3bttG2bVscHR2pWbMmXbp0AdA6J1dXV43VSqOjo7l//z5eXl4a5by9vTVenzhxAoAmTZqQmpqq/Li7u3P//n3u3LmTrXMWQgghhBDvNxlBF0Jky8OHD0lNTcXMzExje6lSpZR/P3nyhF69emFmZkZAQADlypWjcOHCjB8/nmfPnuWovfbt27NgwQKOHTvGp59+yo4dO+jSpUu2R5JjY2OxtrZ+bTkTExON1xnJeka8Bw4cYNy4cXTs2JERI0ZQvHhx7t+/z6BBg7TOqWTJkhqv79+/D6DVZy+Xe/ToEWq1mrp162Ya4507dyhfvvxrz0UIIYQQQrzfJEEXQmSLmZkZhQoV0lhADeDBgwfKv//44w+io6NZvHgxn3zyibI9Pj4+01XbX8XCwoL69euzefNm0tLSePToUbafsw5QvHhx7t27l6M2M7Nv3z6qV69OcHCwsu3UqVOZltXR0dF4bW5uDqDVZy+OzgOYmpqio6PD2rVr0dfX16o3u/fuCyGEEEKI95tMcRdCZIuenh41atTgwIEDGtv379+v/DspKQlAI8k8c+YMUVG5e8yXr68vx44d4/vvv8fNzS1Ho8hubm6cPHmS27dv56rtDElJSVpJ886dO7N1rIWFBebm5hw6dEhj+8GDB7Viheej/nZ2dlo/xYoVe4MzEEIIIYQQ7wsZQRdCZNsXX3zBwIEDCQwMVFZx3759u7LfwcEBIyMjgoKC6NevH3fv3iU0NJQyZcrkqr0GDRpQokQJzp49y+zZs3N0rL+/P9u3b6dbt24MGDCAChUqcOvWLa5fv64sPJcd7u7uBAcHM3/+fBwdHTl27Bi//vprto7V09OjX79+fPvtt5QqVQpXV1ciIiKU4zOm61euXJmuXbsyduxYevfuTa1atUhJSeH69etERERoLMInhBBCCCE+XJKgCyGyzdvbm6CgIBYtWsTu3bupVasWISEh+Pr6As/vR587dy7Tp09n4MCBVKpUiaCgIJYuXZqr9goVKoSXlxf79u3TWpzudUqUKMG6deuYNWsWM2fOJDExkfLlyysLvGVXp06diIyMZPXq1Sxbtox69eoxa9YsOnTokK3j/fz8iIuLY+3ataxatQo3NzfGjBnDiBEjMDY2VsqNHz+eypUrs379eubPn0/RokWpXLkyzZo1y1G8L6tQKXdfjgghhHi/yOe9EB8GHbVarc7vIIQQIjPp6ek0atSIhg0bMmHChPwOJ8+EhISwfPlyIiIiKFKkyFtp46+//gLAzs7urdQvhBCi4ElPS0dXT/sO1oSEBC5dukT16tU1njYiXk36LXc+xn7Ly7+7ZARdCFHgJCcn8/fff7N//36io6Pp2rVrfoeUa1euXGHHjh04Ojqir6/PqVOnWLZsGZ07d35ryXmG5ORkEhMTMTQ0fKvtfEgSExOV59tLv2Wf9FvuSL/lnPTZq2WWnAsh3i+SoAshCpx79+7h6+uLmZkZEyZMoEqVKhr709PTSU9Pz/J4PT09rRXV80uRIkU4e/Ys69at4+nTp5QpU4bevXszZMiQd9K+TJLKGbVaTWJiovRbDkm/5Y70W85JnwkhPnSSoAshChxLS0v++eefLPfPnz+fsLCwLPdPmTIlR49ke5vKly/PypUr8639gvJFxftCR0cHQ0ND6bcckn7LHem3nJM+E0J86CRBF/kiIiKCs2fP8sUXX+R3KBqyiis0NJTvv/+es2fPvrW2a9euTY8ePbI9sqpSqTLdbmBgoNwH87bijoyMZOvWrXTo0CHXK7TnVkREBGFhYUydOpVq1aplWsbS0vKN24mMjMTb25u5c+e+8UJt2fE2rpWBgYFMAc0hQ0NDatSokd9hvHek33JH+i3nPqY+y+p+ciHEh00SdJEvTp06xffff1/gEvSCGldW/Pz8aNWqlca2jEd3vU1RUVGEhYXRoEGDd56g16xZk/Xr12NjY/PRLDzyJmZ+s55bN+7ldxhCCCFyoIJVaUZ/2TG/wxBC5ANJ0IV4j5UtWxYHB4f8DuOVkpKS8nQxtGLFihX4cy5Ibt24x5XLt/M7DCGEEEIIkQ0ybyafBQQE0KpVK44dO0arVq2ws7PDx8eHP/74Q6Pctm3b6Ny5M3Xq1MHFxQU/Pz/OnTun7P/nn39QqVQcP35c47i0tDTq16/P9OnTgefTaB0dHbl48SIdO3bE3t6edu3acfHiRZ49e8akSZNwcXHh008/ZcWKFVrxnj17lu7du+Pg4ICzszOjRo0iJiZG2R8ZGYlKpWL79u0EBwfj4uJCvXr1mDZtGqmpqUoMYWFhJCQkoFKpUKlU+Pn5Zau/vLy8CA4OZsWKFXh6euLo6EhAQADJyclcunSJTp064eDgQPv27bXuYVar1SxbtoymTZtia2uLt7e3xjlmJ65//vmHzp07U6tWLVq1asXPP/+ssT89PZ0FCxbg5eWFra0tzZo144cfftA6j4MHD9KsWTPs7Oxo3769xrV82+Li4vjqq6+oV68etra2+Pj48Msvv2iVO3r0KJ06daJWrVrKe+7ixYtERETQvXt3ANq3b6/0FTyffq5SqTh69ChDhw7FycmJYcOGAc9H3YcOHYqzszMODg707t1b6xplXN81a9bQsGFDnJ2dGThwIA8fPlTKZLSRMY0fnvf78uXLad68Oba2tnh4eDB06FDi4+Nf2Rdnz56lV69eODk54ejoiK+vr9bv0LNnz7J8L2e4cuUKAwYMUM6tX79+3Lx5U6NMbmIMCwujVq1aHDt27JXnIYQQQgghPgwygl4A3L9/n6CgIIYMGYKJiQlLliyhd+/e/Pjjj5QsWRJ4nvi2bduWihUrkpyczO7du+natSs7duygcuXKqFQqatWqxebNm/Hw8FDq/vnnn7l37x6ff/65si0lJYVx48bh7+9PqVKlmDlzJoMHD8bJyYmSJUsSEhLCoUOHmDJlCvb29jg5OQHPkxk/Pz88PT2ZM2cOiYmJhISEMHDgQNavX69xTiEhIXh7exMSEsLZs2cJDQ2lYsWKdO7cGV9fX6Kjo9m1axfh4eHA81HR7Dp06BDW1tYEBwdz69Ytpk6dir6+Pn/88YfGOQ0bNow9e/YoU76/+eYbNm7cyBdffEGtWrU4c+YMM2fOpHDhwtmKKyUlhdGjR9O9e3cGDhzIkiVLGDp0KIcPH6ZEiRIATJ8+nZUrVzJgwAAcHR05evQokyZNIjU1lW7dugFw6dIlhg4dyqeffkpgYCCRkZEMHz6c5OTkbPdBhvT0dK1kUVdXN8tp7snJyfTs2ZOYmBiGDx9OmTJl2LFjB/3792fLli1Kor1nzx5GjhyJt7c3s2bNQl9fnzNnznD37l1cXFyYOHEiwcHBTJkyRWuFdYAJEybw2WefMX/+fHR1dXny5Al+fn7o6uoSFBRE4cKFWbhwId26dWPHjh2ULVtWOfbw4cPcuHGDiRMn8ujRI6ZMmcLkyZOZM2dOlv0wefJk1q9fT48ePfDw8ODp06ccPXqUhIQEjI2NMz3m9OnT9OjRAwcHB77++mtMTEw4f/48t29rjja/6r0McOvWLTp16oS1tTVTp05FR0eHRYsW4e/vz759+zAwMMhVjNOmTeOHH37gu+++w9XVNctzF0IIIYQQHw5J0AuA2NhYQkJCcHNzA6BOnTp4enqyYsUKRo0aBcDgwYOV8unp6Xh4eHDu3Dm2bt3KyJEjAfD19WXy5Mk8fvwYU1NTADZv3oyjoyNVq1ZVjs9IND09PZX6MpLWwMBAAOrWrcu+ffvYt2+fkqDPmjULW1tbwsLClNVTbWxslBkAGfUB2NvbM378eAA8PDyIiIhg//79dO7cGQsLCywsLNDV1c31VOUFCxYoic+pU6fYsGEDS5Ys4dNPP9U4p3///ZdPPvmEmzdvsnr1aoKCgujY8fk9Xe7u7iQlJTF//nw6duz42rhe7rfKlSvj7e3NTz/9RJs2bXj48CGrV6/WeIRWvXr1ePToEfPnz6dz587o6enx3XffUbZsWebPn4+enh4AhQsX5ssvv8xxP8ycOZOZM2dqbHNzc8t09gPAzp07+fvvv9m+fbuywFr9+vW5ceMGCxYsYO7cuajVaqZNm4aHhwfz589Xjn3x+mYca21tjZ2dnVY7Xl5ejBkzRnm9cuVKbt++ze7du5X3oouLCw0bNiQ8PJyAgAClrFqtZuHChcr1jYqKYvHixaSnp2f6xcO1a9dYt24dI0aMoH///sr2pk2bZt5p/9+MGTOwsrIiPDxcuQ716tXTKveq9zI8H+U2NTVl+fLlFC5cGAAnJye8vb3ZuHEjXbt2zVGMarWar776ir1797JixQpq1ar1yvMQQgghhBAfDpniXgAYGxsryXnGa3d3d/78809l25UrVxg0aBDu7u5Ur16dmjVrcu3aNa5fv66UadmyJYUKFWLXrl0APHz4kCNHjtC+fXuN9nR1dTXaq1SpEvA8Yc2gp6dHxYoViY6OBiAxMZEzZ87QrFkz0tLSSE1NJTU1lUqVKlG2bFmN6cagnehUrVpVqetNubi4KMlbRvy6urrUrVtX65zu3LkDwIkTJwBo0qSJEntqairu7u7cv39fKfcqL/ebpaUlRYoU4e7duwCcO3eOlJQUrRW/mzdvzsOHD5Vr9eeff9KwYUMlKQRyvUp49+7d2bRpk8bPpEmTsix//PhxbGxsqFSpklY/ZFzDq1evEh0drTHrIqcaNGig8fr333/H2tpa44ui4sWL4+7uzunTpzXKvnx9q1atSkpKisatFC86efIkarVa633+KomJifz555+0bdtW4zpk5nXv5ePHj+Pl5YWenp7SnyYmJtSoUYPz58/nKEa1Ws3YsWM5cOAAK1eulORcCCGEEOIjIyPoBYCZmZnWtpIlS3LlyhUAnjx5Qq9evTAzMyMgIIBy5cpRuHBhxo8fz7Nnz5RjjIyMaNWqFZs2bVKmv+vr69O8eXONuosUKaKRAOnr6wNoTbPV19dX6o+LiyMtLY0pU6YwZcoUrXhfTnAzqys3U7gzY2JiolV3VueUEf+jR49Qq9UaSfyL7ty5Q/ny5V/Z7sttZLST0cbjx48BKFWqlEaZjNexsbHA81saMm5dyFCsWDFl9DUnLCwsMh3BzsqjR4+4ePEiNWvW1NqXkahmxFm6dOkcx5Ph5fOLi4vT6peMcpcvX9bY9vL1zejzF9/rL4qNjaVQoUJabb5KXFwc6enp2TrH172XHz16RHh4uHJbxMtlcxJjSkoKhw8fxt3dHRsbm+ycihBCCCGE+IBIgl4AvLgAVoaYmBjMzc0B+OOPP4iOjmbx4sV88sknSpn4+HgsLCw0jvP19WX9+vX8/fffbNmyhebNm1O0aNE3jtHY2BgdHR369+9Po0aNtPZn3INdUJmamqKjo8PatWuVpOlFlStXfuM2ihcvDjy/di8+euzBgwca+83NzbVGg588eZJlApqXTE1NUalUfPPNN1mWyYjz3r3cP5or4xaIF9u9du2aVrmYmBjldozcKl68OKmpqcTExGQ7STc2NkZXV/eNzjGDqakpnp6edOnSRWtfxu9edmM0MDBg8eLF9O3bl6+++org4OA3jk8IIYQQQrw/ZIp7ARAfH8+vv/6q8frEiRPK9NakpCQAjcTyzJkzREVFadVlZ2dH9erV+frrr/nnn3/eaJryi4yMjHBwcODq1avY2dlp/VhaWuaovrwcUc+OjKnpsbGxmcafsRjcm8RlZ2eHvr4++/bt09i+d+9eSpYsqUy7t7e358iRI6SlpSllXj7mbXF3d+fWrVuULl06034AqFKlChYWFmzZsiXLel6eofA6zs7O/Pvvv1y9elXZ9vjxY06cOIGzs/MbnNHz9RJ0dHTYvHlzto/JeD9v375d4zrkhpubG5cvX6ZGjRpa/ZmxgF5OYqxduzYLFixg27Ztr/wiRQghhBBCfHhkBL0AKF68OF9++SVDhw7F2NiYJUuWoFar6dGjBwAODg4YGRkRFBREv379uHv3LqGhoRqjtC/y9fUlODiYypUrv3Hy86KxY8fSo0cPhg8fTsuWLTExMSE6OpoTJ07g4+OTo5Wmq1atSmpqKuHh4Tg6OlKsWLFMVwPPK5UrV6Zr166MHTuW3r17U6tWLVJSUrh+/ToREREsWLDgjeMyMzOjW7duLFu2DAMDAxwcHDh27Bi7du1iwoQJyhTyfv360b59ewYNGkTnzp2JjIxk2bJluZrifufOHa1H8gHUqFFDazo+QNu2bfnhhx/o3r07vXr1olKlSsTHx3Px4kVSUlIYNWoUOjo6jBs3jpEjRzJkyBDatGmDgYEBf/zxB3Z2djRs2JBKlSqhp6fH5s2bKVSoEHp6eq+cau/j48OKFSvo378/w4cPV1ZxL1SokPI+z63KlSvTqVMn5s6dy+PHj3FzcyMpKYmjR48yZMiQLH9PRo0ahb+/P/7+/nTp0gVTU1MuXLhAiRIlcnQ/+9ChQ2nfvj29e/emQ4cOlCpVigcPHnDq1Clq165Nq1atchyjm5sboaGhDBo0CENDQ2UhSCGEEEII8WGTBL0AMDc3Z/To0UyfPp2bN29ibW3NsmXLlHt2S5Uqxdy5c5k+fToDBw6kUqVKBAUFsXTp0kzra9y4McHBwXk2ep7BycmJtWvXEhoaSmBgICkpKVhYWFC3bl2srKxyVFfDhg3p0qUL3333HTExMbi4uLBq1ao8jfdl48ePp3Llyqxfv5758+dTtGhRKleurLFA25vGNXbsWIyNjdm0aROLFi2ifPnyBAUF0alTJ6VMjRo1mDt3rvJ4O2tra+bMmUPv3r1zfE6rVq3KNL5jx45p3f4Az6dQr1y5ktDQUBYtWsT9+/cpXrw4NWrU0Jii3aJFC4oUKcKiRYsYOXIkhQsXpkaNGjRu3Bh4/mXExIkTWbp0KTt27CA1NVXrmeYvKlasGKtWrWLq1KlMmDCB9PR0nJycWL16tcYj1nJr4sSJWFpasnHjRsLDwylevDguLi6vvL2jdu3arFy5kpCQEAIDA9HV1cXa2prhw4fnqG0rKys2btxISEgIQUFBJCQkYG5ujouLi/LYutzE6OnpSUhICMOGDaNw4cIMGjQoR3FlqGCV+7UEhBBC5A/57Bbi46WjVqvV+R3ExywgIIDz588rK6/nhYyVvI8eParcxy6E+LhkrMqfk0UEhRBCFBzpaeno6uXN3agJCQlcunSJ6tWrY2RklCd1fgyk33LnY+y3vPy7S+5B/4BERkZy/PhxFixYQPPmzSU5F+Ijl5ycTGJiYn6H8V5JTEzk4sWL0m85JP2WO9JvOfcx9VleJedCiPeLTHH/gISFhbFr1y4cHR0JCAjI73ByLDU1Nct9Ojo6r31e9YdCrVa/cuEyXV1ddHXlf9pCCPG+U6vVJCYmIpMZs0/6TAjxoZMEPZ9NnTo1T+vKy/retcyezZ2hfPnyHD58+B1Gk39OnTpF9+7ds9zfrl279/o6i3fHwMAAQ0PD/A7jvWJoaEiNGjXyO4z3zofQb+np6fLlpxBCiHwnCbp467J7n/2mTZs0Xh85coRChQpRv379TFckLwhCQ0Px8PDAyckpz+qsWbOmVl+8KC+eOR8aGsr333/P2bNn37iunLYbFhamtd3a2ppdu3ahUqmUlfYB/Pz8MDIyYvHixe80zrwUFxdHeHg4zZs3p1q1asr2yMhIvL29mTt3rsZChXltxvRN3Lp1/63VL8SHoEIFc8aMzf7TG4QQQoi3RRJ08dYNHDiQhISE15Z7eVGF6dOnY2RkxMCBA99WaG8sLCwMIyOjPE3QixUr9tYX9vL19cXT0/OttpGVIkWKEB4errUNYP369ZQrVy4/wnpr4uLiCAsLw9raWiNBL126NOvXr6dSpUpvtf1bt+5z5cqdt9qGEEIIIYTIG5Kgi7euYsWK+R0CAElJSUoi+CFKTk6mUKFC2ZqiaWFhkelj2N4FXV1dHBwcMt2X1fa3JT/fEwYGBu/8fIUQQgghRMEmN1uJty4gIIBWrVopr7ds2YJKpeLixYv06dMHBwcHmjRpwrZt25Qyfn5+nDp1iqNHj6JSqVCpVISGhir7jx49iq+vL/b29tStW5dJkyZpjNJHRESgUqk4evQoQ4cOxcnJiWHDhhEZGYlKpWL79u0EBwfj4uJCvXr1mDZtmtYidVeuXGHAgAE4Ozvj4OBAv379uHnzprI/4xnX06dPV2KMiIh4bX/ExcUxfvx46tevj52dHZ6enowYMUKjTHR0NKNHj8bV1RV7e3u6du3K+fPnNcp4eXkRHBzMkiVLaNiwIfb29vz444+oVCrlUQ8Z0tLS8PDwYNasWcDzqeaOjo5acU2ePJlPP/0UW1tbvLy8lPLZ7fc3pVKpWLZsmdb2bdu20ahRI+zt7fHz8+Pq1asa+9VqNcuWLaNp06bY2tri7e3NihUrNMpknPO5c+fo2LEjdnZ2rFmzJstYoqKiGDp0qHL9e/furfWs94xrsHTpUurXr0+tWrUYMGAA9+7dA/5vGjvAsGHDlPdJZGSk8l7ct2+f1rm2bdsWOzs7XF1d6du3L1FRUdnuQyGEEEII8f6SEXSRb0aPHk2HDh3o2bMnGzZsICAgADs7O6pWrcqkSZMYM2YMRYoUYdy4cQDKiO++ffsYMWIEPj4+DBkyhPv37zNr1izi4uKYM2eORhsTJkzgs88+Y/78+RojyyEhIXh7exMSEsLZs2cJDQ2lYsWKdO7cGYBbt27RqVMnrK2tmTp1Kjo6OixatAh/f3/27duHgYEB69evp2PHjvj5+SlfQLw4hTkrU6ZM4eeff2bUqFGUL1+e+/fv89NPPyn7Hz9+TJcuXTAyMmLChAkYGxuzatUqevTowY8//kjJkiWVsj/++CNWVlZ8+eWX6OrqUrduXUqXLs2ePXs0psmfPHmSBw8eaHxR8qLk5GR69OhBVFQUgwYNwsbGhujoaE6fPq2UyUm/v87LX4bo6emho6OTadkLFy5w8+ZNRo0aBTy/dn369FGuA8A333zDxo0b+eKLL6hVqxZnzpxh5syZFC5cWLmmACkpKYwaNQp/f39GjBhB8eLFM23zyZMn+Pn5oaurS1BQEIULF2bhwoV069aNHTt2ULZsWaXsgQMHKF++PF999RVxcXHMnDmTIUOGsH79ekqXLk1YWBiDBw9m5MiRuLq6As+nt2ck8S9aunQpM2bMoH379owYMYKUlBROnjzJw4cPKV++fPY7WAghhBBCvJckQRf5pmvXrnTt2hUAR0dHjh07xv79+xk4cCDVqlWjWLFiGBkZaUwDVqvVTJ8+nRYtWvDNN98o283NzenXrx8DBw7E2tpa2e7l5cWYMWOU15GRkQDY29szfvx4ADw8PIiIiGD//v1KMhcWFoapqSnLly+ncOHCADg5OeHt7c3GjRvp2rWrElfZsmVzNFX5r7/+olWrVrRr107Z1rJlS+Xf4eHhxMXFsXHjRiUZd3Nzo2nTpixbtoyxY8cqZVNSUliyZAlGRkbKthYtWrBnzx7Gjh2rJL27du3C2tpaGfV/2bZt27h48SI//PCDxsh6Row57fdXSUhI0Fqxf/r06bRp0ybT8jExMaxevVq5V7tGjRo0a9aMLVu20KlTJ27evMnq1asJCgqiY8eOALi7u5OUlMT8+fPp2LGj8uVMSkoKI0aMoEWLFq+MccuWLdy+fZvdu3dTtWpVAFxcXGjYsCHh4eEajzF8+vQpS5YswdjYGHj+RZK/vz8///wz9evXp3r16gBYWVm98n0SHx9PWFgYHTt2JDg4WNneqFGjV8YqhBBCCCE+HDLFXeSbevXqKf82MjKiXLlyREdHv/KYa9euERUVRfPmzUlNTVV+6tSpg66urtY08AYNGry2bYCqVatqtH38+HG8vLzQ09NT2jAxMaFGjRpabeRUjRo12Lp1K8uWLePff//V2n/8+HFcXV0xNTVV2tbV1cXFxUVr6rqrq6tGcg7Pk/0XR7+Tk5M5ePCgxpcAL/v111+pWrWq1rT3DDnt91cpUqQImzZt0vh51YJ11tbWGgupWVlZ8cknn/Dnn38CcOLECQCaNGmiEZu7uzv379/nzh3NBdKyszje77//jrW1tZKcAxQvXhx3d3eNWQXw/BpkJOfw/MuU4sWLK/Fl19mzZ0lMTKR9e1lJWgghhBDiYyUj6CLfvJjUAOjr65OcnPzKYx49egTAoEGDMt3/cjL24nTwnLT96NEjwsPDtVYbzyj7JiZMmKCMzk+fPp2yZcvSr18/unTporT9xx9/ZPpc+JcX3Mvs/Ozt7alYsSK7du2idu3a/PTTT8TFxWU5vR0gNjaW0qVLZ7k/p/3+Krq6ujlapT6zcyxZsiT3799XYlOr1dStWzfL2DKmhxsaGlK0aNHXthkXF0epUqUybffy5cuvjc/MzEyJL7tiY2MBXnkdhBBCCCHEh00SdPFeybhneOLEidjb22vtfzm5yeq+5tcxNTXF09NTSZpflJ0E71WMjY358ssv+fLLL/nnn39YuXIlQUFB2NjYULt2bUxNTalfvz7Dhg3TOvbl58FndX4tW7Zk/fr1jB8/nj179lCrVi0qVKiQZUzFixfXWgDt5f2Q/X7PSzExMZlu++STT4Dn10pHR4e1a9dm+uVJ5cqVlX9n9/1gamrKtWvXMm3X1NT0tfE9fPgQc3PzbLWVIaOP7927l28r7AshhBBCiPwlCboosPT19Xn27JnGtipVqmBhYcGtW7eU+9ffBjc3Ny5fvkyNGjXQ09PLUYw5oVKpCAwMZNOmTVy5coXatWvj7u7Ojh07qFq1qtb09exq1aoVCxcu5PDhwxw+fFhrlfiXubu7s2fPHv78809q1aqltf9d9XtmLl++zI0bN7CysgLgxo0b/P3338r95m5ubsDzEWgvL688adPZ2Zn9+/dz9epVqlSpAjxfvO/EiRNKuxkiIiKIj49XZmX8+uuvxMbGKv2Y8aXB694njo6OGBoasnnz5ky/BBFCCCGEEB8+SdBFgVWlShW2bdvG4cOHMTc3p3Tp0pQpU4aAgABGjx5NQkICDRo0wNDQkNu3b3Ps2DFGjBihMWKaW0OHDqV9+/b07t2bDh06UKpUKR48eMCpU6eoXbu2Ml28SpUqHDp0iNq1a2NoaEjlypUpVqzYK+vu1KkTjRs3xtraGj09PbZt24a+vj61a9cGwN/fn507d9KtWze6d+9OuXLlePjwIX/++SdlypTB39//tfFXq1YNlUrF5MmTefbs2WsXRWvTpg1r166lX79+DB48GGtra+7evcvvv//O5MmT0dHReSf9npmSJUvyxRdfMHToUADmzp1LmTJl8PHxAZ6PkHft2pWxY8fSu3dvatWqRUpKCtevXyciIoIFCxbkuE0fHx9WrFhB//79GT58uLKKe6FChejRo4dG2aJFi9K3b1/69u1LfHw8M2fOxN7envr16wPPF9IzMTFh9+7dWFpaYmBgkOlifcbGxgwaNIiZM2eiVqvx9vYmPT2diIgIWrZsmaPbAoQQQgghxPtJEnRRYPXt25ebN28ybtw44uLiGDx4MEOGDKF58+aYmJiwaNEidu7cCUD58uWpX79+pvcN54aVlRUbN24kJCSEoKAgEhISMDc3x8XFRSO5mjhxIt9++y19+/YlKSmJlStXKo/SyoqTkxPbtm0jMjISXV1dbGxsWLRokbIgWYkSJVi/fj0hISHMnDmT2NhYSpYsSa1atWjcuHG2z6FVq1bMmjULNze31063NjAwYMWKFcyZM4fFixcTGxuLhYWFxsJy76LfM1OzZk2aNGnCjBkzuH//PrVq1SIoKEhjuv/48eOpXLky69evZ/78+RQtWpTKlSvTrFmzXLVZrFgxVq1axdSpU5kwYQLp6ek4OTmxevVqjUesATRu3BgLCwsmTZpEXFwc7u7uBAUFKft1dXWZMmUKs2fPxt/fn+TkZA4dOpRpu3379sXMzIwVK1awZcsWihYtiqOjY5ZrKWRHhQo5m2ovxMdIfk+EEEIUFDpqtVqd30EIIcT7yMvLiwYNGjBx4sT8DkVLxor/MvIuRPakp6crj2R8VxISErh06RLVq1fP9S1NHxvps9yRfssd6bfc+Rj7LS//7pLHrAkhxAcqOTmZxMTE/A7jvZKYmMjFixel33LoQ+i3d52cCyGEEJmRKe5C5KH09HTS09Oz3K+np5frleULurS0NF41IadQIfm4EUIIIYQQ4lXkL2Yh8tD8+fMJCwvLcv+UKVOUxc0+NP7+/pw6dSrL/YcOHcLS0vIdRvT2HT58OL9DeCUDAwMMDQ3zO4z3iqGhITVq1MjvMN47b9pv+TG9XAghhCiIJEEXIg916NCBBg0aZLk/vxPUuLg4wsPDad68OdWqVcvTuoOCgnj69GmW+/fv30+1atXw9PTMVn0BAQFs3br1lWXq1KnDqlWrchTnx2b6nC3cjLyf32EIkaWKluaMHfFhfnEphBBC5JQk6ELkoTJlylCmTJn8DiNLcXFxhIWFYW1tnecJesbzwrMybNgwGjRokO0EfeDAgXTq1El5vWDBAq5evcrMmTOVba97pJ2Am5H3uXI1Or/DEEIIIYQQ2SAJuhAiU0lJSRQpUiTf2q9YsSIVK1ZUXpuZmXH79m0cHBzyLab8kpaWRnp6Ovr6+vkdihBCCCGEeIvkhi8hCoCzZ8/Sq1cvnJyccHR0xNfXl+PHjyv7Y2NjCQwMxNXVFXt7ezp16sRvv/2mUYefnx/9+/dn3759NG3aFEdHR7p3787NmzcBiIyMxNvbG3g+mq1SqVCpVERGRhIZGYlKpWLLli2MHz8eV1dXfH19ATh69Cg9e/bEzc0NJycnfH19+emnn7TO4e7du4wdOxZ3d3fs7e1p1qwZ4eHhwPPHkUVFRbFmzRql3S1btuS6v5KTk6lVqxYbN25Utn3//feoVCrWrFmjbPvhhx9wdnYmLS0NeH6f64IFC/Dy8sLW1pZmzZrxww8/vLKtw4cPo1KpuH79usb2x48fY29vr9He2bNn6d69Ow4ODjg7OzNq1ChiYmI0jps5cyatW7fG0dGR+vXrM3LkSO7du6dRJuNabt26laZNm2JnZ8fff/+doz4SQgghhBDvHxlBFyKfnT59mh49euDg4MDXX3+NiYkJ58+f5/bt28Dz0dO+ffty69YtRo8eTalSpVi1ahU9e/bkhx9+wNbWVqnr0qVLPHz4kNGjR5OWlsbUqVMZM2YM69evp3Tp0oSFhTF48GBGjhyJq6srAKVLl1YSxNmzZ+Pp6cmsWbOU1egjIyNp2LAhvXr1QldXl59++ol+/foRHh6u1PHo0SM6duwIwIgRI7C0tOTGjRvKlwNhYWH069cPJycnevXqBaAxOp5TBgYG2Nvb8/vvvytfJJw6dYrChQvz22+/0bVrVwB+++03HB0d0dPTA2D69OmsXLmSAQMG4OjoyNGjR5k0aRKpqal069Yt07Y8PT0pU6YMmzdvZtSoUcr2Xbt2AdC6dWvgeXLu5+eHp6cnc+bMITExkZCQEAYOHMj69euV42JiYujfvz+lS5fm4cOHLF++HD8/P3bv3q2x0v358+eJiopi2LBhmJiYULZs2Vz3lxBCCCGEeD9Igi5EPpsxYwZWVlaEh4criWS9evWU/UePHuXcuXMsXbqU+vXrK/ubNGnC4sWLCQ0NVcrGx8ezbds2zMzMAEhISCAwMJDo6GgsLCyoXr06AFZWVplOFf/kk0/45ptvNLa9mLimp6fj6urKf//9x4YNG5QEfcWKFcTExLB3715lITw3NzfluBo1amBgYECpUqXybIq6i4sL27ZtA0CtVnPmzBl8fX3Zv3+/Uub333+nS5cuADx8+JDVq1fTu3dvhgwZAjzvx0ePHjF//nw6d+6s9P+L9PT08PHxYfPmzQwfPlwps3nzZho3boyJiQkAs2bNwtbWlrCwMOVRejY2NrRq1Ypjx44p995PmTJFqTstLQ1HR0c+/fRTTp48qXHdHz9+zKZNmyQxF0IIIYT4iMgUdyHyUWJiIn/++Sdt27bNNDmE50lmsWLFlOQcQF9fn8aNG3P69GmNsp988omSnAPKQnDR0dlbJCyzFeijo6MZN24c9evXp0aNGtSsWZNffvmFa9euKWV+/fVX6tat+05XqXdxcSEqKoro6Gj++ecfnj59Sp8+fYiJieHq1avcunWL6OhoateuDcC5c+dISUmhWbNmGvU0b96chw8fak1hf1H79u25f/8+P//8MwB///03Fy5coH379sDz63jmzBmaNWtGWloaqamppKamUqlSJcqWLctff/2l1HXs2DE6deqEs7MzNWrU4NNPPwXQat/GxkaScyGEEEKIj4yMoAuRj+Li4khPT6d06dKvLFOyZEmt7aVKleLx48ca2zJGczNkLCr27NmzbMXzcjvp6ekMGDCA+Ph4hg4dipWVFYaGhsybN487d+4o5WJjY7G2ts5WG3nFwcEBfX19Tp06RVxcHDVr1qRs2bJYW1vz+++/U6hQIQoXLoydnR2A0lelSpXSqCfjdWxsbJZtWVpa4uHhwaZNm2jQoAGbN2/G0tKSunXrAs+vUVpaGlOmTNEYIc+Q0Vfnzp1j4MCBeHt707dvX0qWLImOjg4dOnTQukYvxymEEEIIIT58kqALkY+MjY3R1dXVWiTsRaamploLjQE8ePAAU1PTPI0nY2p2hhs3bnDx4kXmz59Po0aNlO1JSUka5YoXL/7Kc3gbDA0NsbW15ffff+fx48fKSLmLiwunTp1CX1+fWrVqYWBgoMQIz+8Bf/FReA8ePNDYnxVfX19Gjx7N3bt32blzJ35+fkp/GRsbo6OjQ//+/TX6KUOJEiUAOHjwIMWKFSMkJARd3ecTmKKiojJt7+VrIYQQQgghPnwyxV2IfGRkZISDgwPbt29XVhp/mbOzM0+ePOGXX35RtqWmpnLw4EGcnZ1z1F5OR9Qzyr34eK+oqCjOnj2rUc7NzY2TJ08qC9tl1XZ2282u2rVrc+rUKU6fPk2dOnWA5wn6b7/9xu+//64k7QB2dnbo6+uzb98+jTr27t1LyZIlqVSp0ivb8vb2xsTEhFGjRvH48WN8fHyUfRnX8erVq9jZ2Wn9ZEz9T0pKQl9fXyP53rlz55t2gxBCCCGE+EDICLoQ+WzUqFH4+/vj7+9Ply5dMDU15cKFC5QoUYL27dvToEED7O3tGTNmDKNGjVJWcb937x7z5s3LUVvm5uaYmJiwe/duLC0tMTAwQKVSZVm+SpUqWFhYKKu6JyQkMG/ePK0p+f7+/mzfvp1u3boxYMAAKlSowK1bt7h+/TpjxoxR6jp58iTHjx/HxMQES0tLZWQ5t1xcXFiyZAm6urrKlxUuLi7KPfcuLi5KWTMzM7p168ayZcswMDDAwcGBY8eOsWvXLiZMmJDlGgAZ9PX1adu2LcuWLaNevXpa94ePHTuWHj16MHz4cFq2bImJiQnR0dGcOHECHx8fXF1d8fDwIDw8nMmTJ9O4cWPOnj3L9u3b36gPhBBCCCHEh0MSdCHyWe3atVm5ciUhISEEBgaiq6uLtbU1w4cPB56vIv7dd98xffp0ZsyYQUJCAjVr1uT777/XeMRadujq6jJlyhRmz56Nv78/ycnJHDp0KMvyBgYGhIaGEhwczLBhwyhbtiwDBgzg5MmTnD9/XilXokQJ1q1bx6xZs5g5cyaJiYmUL19eWUEdYOTIkXz11VcMGTKEp0+fMmXKFI1R6NxwdnZGT08PGxsbjI2Ngef30VepUoWbN29qrRg/duxYjI2N2bRpE4sWLaJ8+fIEBQXRqVOnbLXXuHFjli1bxueff661z8nJibVr1xIaGkpgYCApKSlYWFhQt25drKysgOePbBs9ejSrV69my5YtODk5sXjxYpo2bfpG/fAqFS3N31rdQuQFeY8KIYQQ/0dHrVar8zsIIYR4H8ydO5e1a9fy888/K/e2F1QZK8dnLJInREGWnp6urMvwMUlISODSpUtUr14dIyOj/A7nvSB9ljvSb7kj/ZY7H2O/5eXfXR/f/w2FECKHrl69yqFDh1i9ejWdOnUq8Ml5huTkZBITE/M7jPdKYmIiFy9elH7LoTftt48xORdCCCEyI1PchRD5Qq1WZ7kwHjz/g72g/NE+adIk/vjjD+rXr0///v3zOxwhChy1Wk1iYiIyKU8IIYR4MwXjr18hxFvh5eVFcHBwfoehITQ0FEdHR7Zu3UrNmjWz/PH29tZIhjOOyxAREYFKpVKmFAGoVCqWLVuW5zGvWrWKv/76iwULFmhN1UpOTqZZs2b06NFD67j09HQ6dOiAj4/PK7+MeFsMDAwwNDR85+2+zwwNDalRo8ZH2W9p6en5HYIQQgjx0ZMRdCFEvmjYsCGbNm3Kcn9CQgLm5jlbPGr9+vWUK1fuTUPLEQMDA4KCgujevTvbt2+nTZs2GvGcP3+eDRs2vHaV+LdlaugWbkY9yJe2xfujYvlSBAx5s0UbhRBCCPHmJEEX4gOUlJREkSJF8juMVypRosQbP2btZS+v2v6uuLq64uPjw7Rp02jYsCEmJibExMQwZ84cunbtmuPV9vPSzagH/HctOt/aF0IIIYQQ2SdT3IXIgYCAAFq1asWxY8do1aoVdnZ2+Pj48Mcffyhltm3bRufOnalTpw4uLi74+flx7tw5jXoypmufO3eO9u3bY2dnR/PmzTly5IhWm0ePHsXX1xd7e3vq1q3LpEmTSEhIUPZnTPU+evQoQ4cOxcnJiWHDhmV5DmfPnqV79+44ODjg7OzMqFGjiImJ0Sjz3Xff0bhxY+zs7Khbty7+/v7cunUr2/uz43Xn7ufnl+P7vV+e4p5Rx759+2jatCmOjo50796dmzdvahwXHR1N//79qVWrFp6enqxYsYJvvvkGLy+vbLc9duxY0tPTmTlzJgDTpk3D0NBQeVzelStXGDBgAM7Ozjg4ONCvXz+tODZt2kTLli2xt7fH1dWVzp07a713hBBCCCHEh0tG0IXIofv37xMUFMSQIUMwMTFhyZIl9O7dmx9//JGSJUsSGRlJ27ZtqVixIsnJyezevZuuXbuyY8cOKleurNSTkpLCiBEj6NWrF5aWlqxbt47BgwezZcsWVCoVAPv27WPEiBH4+PgwZMgQ7t+/z6xZs4iLi2POnDkacU2YMIHPPvuM+fPnZ7m42tmzZ/Hz88PT05M5c+aQmJhISEgIAwcOZP369cDzLxjmzp3L0KFDcXBwID4+ntOnT/P06dNs7c+O7Jx7Xrl06RIPHz5k9OjRpKWlMXXqVMaMGaOcr1qtZuDAgTx48ICgoCCMjY1ZtmwZt2/fztEidSVKlCAgIIDAwEAsLS3Zvn078+fPp2jRoty6dYtOnTphbW3N1KlT0dHRYdGiRfj7+7Nv3z4MDAz47bff+PLLL+nVqxeenp4kJSVx7tw54uPj87Q/hBBCCCFEwSUJuhA5FBsbS0hICG5ubgDUqVNHGXUdNWoUgwcPVsqmp6fj4eHBuXPn2Lp1KyNHjlT2paSkMGDAANq3bw9AvXr1aNKkCYsXL2b27Nmo1WqmT59OixYt+Oabb5TjzM3N6devHwMHDsTa2lrZ7uXlxZgxY14Z+6xZs7C1tSUsLAwdHR0AbGxslFkBnp6enDt3DpVKpTF63ahRI+Xfr9ufHa8797wUHx/Ptm3bMDMzA57f2x4YGEh0dDQWFhb89NNPXLhwgTVr1lC7dm0A6tati6enJyYmJjlqq23btmzdupVZs2bh7e2t9EtYWBimpqYsX76cwoULA+Dk5IS3tzcbN26ka9eunDt3juLFizNu3DilvgYNGuRBDwghhBBCiPeFTHEXIoeMjY2V5Dzjtbu7O3/++SfwfCrzoEGDcHd3p3r16tSsWZNr165x/fp1rboaN26s/FtPT49GjRop9Vy7do2oqCiaN29Oamqq8lOnTh10dXU5f/68Rl2vS+YSExM5c+YMzZo1Iy0tTamvUqVKlC1bVlkNvUaNGly8eJEpU6bw+++/k5KSolHP6/Zn16vOPS998sknSnIOUK1aNeD5tHaAv/76CxMTEyU5ByhatKjGNc6Jvn37AtCnTx9l2/Hjx/Hy8kJPT0/pdxMTE2rUqKFcxxo1ahAbG0tAQADHjx+X53ALIYQQQnyEZARdiBx6MdnLULJkSa5cucKTJ0/o1asXZmZmBAQEUK5cOQoXLsz48eN59uyZxjH6+vqYmppq1XP//n0AHj16BMCgQYMyjePOnTtax75KXFwcaWlpTJkyhSlTpmRZn4+PD0+fPmXDhg2sWLECY2Nj2rZty+jRoylSpMhr92fH6849L708Cq6vrw+gXI979+5lek0z25YdGfVn/BeeX8vw8HDCw8OzLO/m5sb06dNZuXIlvXv3pnDhwjRt2pT//e9/FC9ePFexCCGEEEKI94sk6ELk0MOHD7W2xcTEYG5uzh9//EF0dDSLFy/mk08+UfbHx8djYWGhcUxKSgqPHz/WSFQz6gGUpGzixInY29trtVm6dGmN1xlT1rNibGyMjo4O/fv3z3RKesaK6rq6uvTo0YMePXpw9+5ddu/ezaxZsyhRogSDBg167f7seN25v0ulS5fO9Jpmti23TE1N8fT0pEuXLlr7ihYtqvy7TZs2tGnThocPH3Lo0CGmTJlCoUKF+Pbbb/MsFiGEEEIIUXBJgi5EDsXHx/Prr78qU6Dj4+M5ceIEXbt2JSkpCdAcPT1z5gxRUVEa94tnOHDggHIfdlpaGgcPHqRWrVoAVKlSBQsLC27dukXXrl3fOG4jIyMcHBy4evUqdnZ22TqmTJky9OrVi127dnH16tUc73+VV537u2RnZ0dcXBy//fYbLi4uADx9+pRff/01x/egZ8XNzY3Lly9To0aNbD0P3czMDF9fX3766acc96sQQgghhHh/SYIuRA4VL16cL7/8kqFDh2JsbMySJUtQq9X06NEDeJ4IBwUF0a9fP+7evUtoaChlypTRqkdfX5+FCxfy7NkzZSXz6Oho5s+fDzwfEQ8ICGD06NEkJCTQoEEDDA0NuX37NseOHWPEiBEaq8Jnx9ixY+nRowfDhw+nZcuWmJiYEB0dzYkTJ/Dx8cHV1ZWJEydiYmKCg4MDJiYmnDlzhr///pvOnTsDvHZ/drzu3N+lTz/9lJo1azJq1ChGjhyJiYkJS5cupWjRoq+dlZBdQ4cOpX379vTu3ZsOHTpQqlQpHjx4wKlTp6hduzatWrVi3rx5xMbGUqdOHUqWLMm///7Lzz//jL+/f57EIIQQQgghCj5J0IXIIXNzc0aPHs306dO5efMm1tbWLFu2jFKlSgEwd+5cpk+fzsCBA6lUqRJBQUEsXbpUqx59fX1mz55NUFAQ//77L5aWlsybN09janzz5s0xMTFh0aJF7Ny5E4Dy5ctTv359pb2ccHJyYu3atYSGhhIYGEhKSgoWFhbUrVsXKysrABwdHdmwYQMbN24kMTGRChUqEBgYiK+vb7b2Z0d2zv1d0dHRYcGCBUycOFH58qF79+5cu3aNS5cu5UkbVlZWbNy4kZCQEIKCgkhISMDc3BwXFxflsXJ2dnaEh4ezd+9enjx5goWFBb1792bAgAF5EoMQQgghhCj4dNRqtTq/gxDifREQEMD58+fZtWvXG9UTGhrK999/z9mzZ/MoMpGXkpOTadmyJbVr1850Qb33Qcaq/LuPXuZm1IN8jkYUdBXLlyJgiE+uj09ISODSpUtUr14dIyOjPIzswyb9lnPSZ7kj/ZY70m+58zH2W8bfXdm9jfRVZARdCPHRW79+Penp6VSuXJm4uDjWrVtHVFRUnj+TPT+8SdIlPi5p6eno6crTV4UQQoj8JAm6ECLPpKenk56enuV+PT29PLuvOy8VLlyY7777jqioKOD5s9MXL16sfAualpbGqyYbFSpUMD9Kk5OTSUxMxNDQML9DeW8kJiZy7do1Kleu/NH1myTnQgghRP4rmH9VClFATZ06NU/qGTJkCEOGDMmTugqS//3vf2zdujXL/StXrsTV1fUdRpQ9bdu2pW3btlnub9y4sZK8Z+aff/55C1EJIYQQQoiPjSToQog8M3jw4Fc+Ei6nq86/6NKlS7Rt2/adJflbtmwhMDAQAwMDwsPDNR6dBxASEsIvv/xCjRo1cly3SqVi7Nix9O7dO6/CzZSBgcFHNwr8pgwNDV95TWUauBBCCCHeJknQhRB5xtLSEktLy/wOI08VKlSI69ev4+Pzf/dyJyYmcubMGYyMjChWrFg+Rvd63yzcKovE5ZGK5Uvx5YB2+R2GEEIIIT5gkqALIT46SUlJFClSJFtlvb292b17t0aCfuTIEQwMDKhVqxaJiYlvK8w8cTPqAZdvROd3GEIIIYQQIhtknp4QIlt++OEHGjZsSK1atejZsycXL15EpVKxZcsWpcyWLVto3bo1dnZ21K9fnzlz5pCWlqaxX6VScfHiRfr06YODgwNNmjRh27ZtWu0tWLAADw8PHB0dGTx4MDExMVpl1Go1y5Yto2nTptja2uLt7c2KFSs0yoSGhuLo6Mi5c+fo2LEjdnZ2rFmzJtvn3apVK3799VeN9nfu3EnTpk21Foe7d+8egYGBeHt7Y29vT5MmTZg9ezbJycmvbefo0aP4+vpib29P3bp1mTRpEgkJCdmOUwghhBBCvP8kQRdCvNahQ4eYNGkSHh4ehIWF4ebmxvDhwzXKLF++nPHjx1OvXj0WLVpE3759WblyJXPmzNGqb/To0dSrV4/58+dTvXp1AgICuHLlirJ/9erVzJ07l88++4x58+ZRoUIFvvzyS616vvnmG+bNm0fbtm357rvvaNeuHTNnzmTdunUa5VJSUhg1ahSfffYZS5YswcPDI9vnbm9vT7ly5di3bx8AcXFx/Pzzz7Rs2VKr7KNHjyhevDiBgYEsXbqUPn36sHXrViZNmvTKNvbt28eAAQOwsbEhLCyMMWPGcODAgUzPWQghhBBCfLhkirsQ4rUWLlxI3bp1+frrrwGoX78+qampzJ07F4AnT54wb948+vTpw8iRIwHw8PBAX1+fqVOn0rt3b0qUKKHU17VrV2UxOUdHR44dO8b+/fsZOHAgaWlpLF68mDZt2jBu3DilvZiYGLZv367UcfPmTVavXk1QUBAdO3YEwN3dnaSkJObPn0/Hjh3R/f+LeaWkpDBixAhatGiRq/Nv2bIlu3fvpmvXruzfvx8zMzNcXFwIDw/XKKdSqZSYAZycnDA0NCQgIICJEydmumCbWq1m+vTptGjRgm+++UbZbm5uTr9+/Rg4cCDW1ta5ilsIIYQQQrxfZARdCPFKaWlpXLp0CS8vL43t3t7eyr/Pnj1LQkICzZo1IzU1VfnJSJgvX76scWy9evWUfxsZGVGuXDmio5/fJx0dHc29e/do3LixxjFNmzbVeH3ixAkAmjRpotXm/fv3uXPnjkZ5T0/PXPbA8wT9zJkz3Llzh927d9OiRQsl+X+RWq1mxYoVtGjRAnt7e2rWrMno0aNJTU3l1q1bmdZ97do1oqKiaN68ucZ51KlTB11dXc6fP5/ruIUQQgghxPtFRtCFEK/08OFDUlNTMTMz09hesmRJ5d+PHj0CoF27zFe4fjlZNjY21nitr6+v3Kd9//59AK32SpUqpfH60aNHqNVq6tatm2Wb5cuXB54/Oqto0aKZlssOGxsbrK2tWbFiBREREYwePTrTcuHh4UybNo0+ffrg6uqKiYkJf/31F8HBwTx79izTYzL6btCgQVmehxBCCCGE+DhIgi6EeCUzMzMKFSrEw4cPNba/uGiaqakpAGFhYVhYWGjVkZNHr5mbmwNotffggeajwkxNTdHR0WHt2rVazygHzWeu6+joZLv9rLRs2ZK5c+dSsWJFbG1tMy2zb98+vLy8GDVqlLLtxXvrM1O8eHEAJk6ciL29vdb+0qVL5z5oIYQQQgjxXpEEXQjxSnp6elSvXp1Dhw7Ro0cPZfvBgweVfzs6OmJoaEh0dLTW1PScsrCwwNzcnAMHDmjUtX//fo1ybm5uAMTGxmpNv38bWrVqxblz5zSm9r8sKSlJ68uCnTt3vrLeKlWqYGFhwa1bt5T78oUQQgghxMdJEnQhxGsNGDCAgQMHMn78eJo1a8bFixeVR6Pp6upiYmLC0KFDmTFjBtHR0dSpUwc9PT1u3brFoUOHCA0NzXSBtMzo6enRr18/vvnmG0qWLImHhwfHjx8nIiJCo1zlypXp2rUrY8eOpXfv3tSqVYuUlBSuX79OREQECxYsyNM+sLS0fG2d7u7urFy5ktWrV1OpUiV27NjBjRs3XnmMjo4OAQEBjB49moSEBBo0aIChoSG3b9/m2LFjjBgxQmM2gBBCCCGE+HBJgi6EeC1vb2+++uorFi9ezI4dO6hVqxZfffUVvXr1olixYgD06tWLMmXKsHz5clavXk2hQoWoWLEiDRo0yHQK+qv4+fkRFxfH2rVrWbduHW5ubnz99df06dNHo9z48eOpXLky69evZ/78+RQtWpTKlSvTrFmzPDv3nBg0aBCPHj1i3rx5wPOF7caPH88XX3zxyuOaN2+OiYkJixYtUkbcy5cvT/369bXuvc+piuXf7Hjxf6QvhRBCCPG26ajVanV+ByGEeP9s3LiR8ePHc+jQoRzdYy7ejb/++gsAOzu7fI7kw5KWno5eJiv4f+wSEhK4dOkS1atXx8jIKL/DeW9Iv+Wc9FnuSL/ljvRb7nyM/ZaXf3fJCLoQ4rViY2MJCwujbt26FC1alL/++otFixbh7e0tyXkBlpycTGJiYrZvLxCQmJjItWvXqFy5cqb9Jsm5EEIIId4mSdCFEK9VqFAhbt26xa5du4iPj6dEiRK0adMmy8eNFXTp6emkp6dnuV9PTy9PVn4vCGSSVM6o1WoSExOl34QQQgiRLyRBF0K8VrFixVi8eHF+h5Fn/ve//7F169Ys969cuRJXV9d3GNHb86F80fCu6OjoYGhoKP0mhBBCiHwhCboQH7i4uDjCw8Np3rw51apVe6dtr1ixgsqVK+Pp6ZnjY69cucKCBQs4efIkjx8/pkyZMjRu3JgvvvhCeXZ4bg0ePPiVjzT7UFZNNzAwkOntOWRoaEiNGjVIS8t6hoUQQgghxNsiCboQH7i4uDjCwsKwtrZ+5wn6ypUradCgQY4T9N9++41+/fpRsWJFxo4dS9myZfn7779ZuHAhR44cYfXq1Zibm+c6LktLy4/m3vnJ323lxp0H+R3Ge8WqbCkm9GuX32EIIYQQ4iMkCboQQpGUlESRIkXyPYaRI0dSrlw51q1bp6z+WadOHTw8PGjbti3BwcGEhobma5zv0ptclxt3HnD5ZnQeRySEEEIIId4GWY5WiHxy9uxZevXqhZOTE46Ojvj6+nL8+HFlf2xsLIGBgbi6umJvb0+nTp347bffNOrw8/Ojf//+7Nu3j6ZNm+Lo6Ej37t25efMmAJGRkXh7ewMwbNgwVCoVKpWKyMhIIiMjUalUbNmyhfHjx+Pq6oqvry8AR48epWfPnri5ueHk5ISvry8//fST1jncvXuXsWPH4u7ujr29Pc2aNSM8PBwALy8voqKiWLNmjdLuli1bXtsv+/bt4969e3zxxRdaj+aoWrUqbdq04cCBA0RFRQEQERGBSqXi+PHjjBo1CkdHRxo2bMiSJUsy7fPu3bvj4OCAs7Mzo0aNIiYmJstYUlJS8PDwYM6cOVr7hg8fTvv27ZXXcXFxfPXVV9SrVw9bW1t8fHz45ZdfNI7JTr9u2bIFlUrF2bNn6dmzJw4ODkyfPv21/SaEEEIIId5/kqALkQ9Onz6Nn58fycnJfP3114SGhuLt7c3t27cBSEtLo2/fvhw5coTRo0czd+5cjIyM6NmzJ+fPn9eo69KlSyxbtozRo0czZcoUbt68yZgxYwAoXbo0YWFhAIwcOZL169ezfv16SpcurRw/e/Zs1Go1s2bNUo6LjIykYcOGTJ8+ndDQUJycnOjXrx8RERHKcY8ePaJjx46cOnWKESNGsHjxYvz9/bl79y4AYWFhmJub07RpU6XdBg0avLZvTp06BUDDhg0z3e/l5YVareb06dMa2ydNmkSlSpWYP38+DRs2ZObMmRrJ79mzZ/Hz88PY2Jg5c+YwefJk/vrrLwYOHJhlLPr6+rRr145t27ZprPoeGxvLoUOHlAQ9OTmZnj17cvToUYYPH87ChQupWrUq/fv3559//lGOy06/Zhg1ahR169Zl0aJFtGnT5rX9JoQQQggh3n8yxV2IfDBjxgysrKwIDw9HT08PgHr16in7jx49yrlz51i6dCn169dX9jdp0oTFixdrTO+Oj49n27ZtmJmZAZCQkEBgYCDR0dFYWFhQvXp1AKysrHBwcNCK5ZNPPuGbb77R2NatWzfl3+np6bi6uvLff/+xYcMGZXXzFStWEBMTw969e5X7ud3c3JTjatSogYGBAaVKlcq03azcvXsXExMTihUrlun+cuXKARAdrTltu0mTJgwZMkSJ4+jRo+zfv59PP/0UgFmzZmFra0tYWJiyQreNjQ2tWrXi2LFjWd4n7+vry9KlS/n555+VMjt37kRXV5dWrVopr//++2+2b9+u3Odfv359bty4wYIFC5g7dy6QvX7N0KlTJ/r165fNXhNCCCGEEB8CGUEX4h1LTEzkzz//pG3btkpy/rLff/+dYsWKKck5PB/Nbdy4sdbI8SeffKIk54CSIL6cwGYls1Ht6Ohoxo0bR/369alRowY1a9bkl19+4dq1a0qZX3/9lbp16xaYxdZe/IJDR0eHqlWrKn2QmJjImTNnaNasGWlpaaSmppKamkqlSpUoW7Ysf/31V5b1WllZUadOHTZv3qxs27JlC02bNlW+RDh+/Dg2NjZUqlRJqTs1NRV3d3eNurPTrxmyM9tACCGEEEJ8WGQEXYh3LC4ujvT0dI1p5pmVKVmypNb2UqVK8fjxY41tJiYmGq/19fUBePbsWbbiebmd9PR0BgwYQHx8PEOHDsXKygpDQ0PmzZvHnTt3lHKxsbFYW1tnq42cKFOmDHFxcTx58iTTUfSM2wAsLCw0thsbG2u81tfXJz4+Hnjen2lpaUyZMoUpU6Zo1fnieWWmQ4cOBAQE8PDhQ+7du8fFixcJCAhQ9j969IiLFy9Ss2ZNrWMzvoTJbr9mKFWq1CtjEkIIIYQQHx5J0IV4x4yNjdHV1eXevXtZljE1Nc108bIHDx5gamqap/FkTPfOcOPGDS5evMj8+fNp1KiRsj0pKUmjXPHixV95DrmVMVp97NgxWrZsqbX/6NGj6OjoULt27WzXaWxsjI6ODv3799c4pwwlSpR45fFNmjRh8uTJ7Nixg8jISCpWrEidOnWU/aampqhUKq1bBV6U3X4VQgghhBAfL5niLsQ7ZmRkhIODA9u3byctLS3TMs7Ozjx58kRjFfDU1FQOHjyIs7NzjtrL6Yh6RrmM4wCioqI4e/asRjk3NzdOnjypjGhn1XZ2283QrFkzSpcuzcKFC0lMTNTYd+3aNbZu3UqTJk2Ue9GzI6PPr169ip2dndbP66bpGxgY0KZNGzZu3MjOnTvx8fHR+GLD3d2dW7duUbp06Uzrh+z3qxBCCCGE+HjJCLoQ+WDUqFH4+/vj7+9Ply5dMDU15cKFC5QoUYL27dvToEED7O3tGTNmDKNGjaJUqVKsWrWKe/fuMW/evBy1ZW5ujomJCbt378bS0hIDAwNUKlWW5atUqYKFhQWzZs0iPT2dhIQE5s2bpzUl39/fn+3bt9OtWzcGDBhAhQoVuHXrFtevX1dWg69SpQonT57k+PHjmJiYYGlp+drR6iJFijB79mz69etHly5d6NmzJ2XLluXvv/9m0aJFlC1blgkTJuSoDwDGjh1Ljx49GD58OC1btsTExITo6GhOnDiBj4+P1iJtL+vQoYOyqJ+Pj4/GvrZt2/LDDz/QvXt3evXqRaVKlYiPj+fixYukpKT8P/buPa7n83/8+KNSlE4ichia5T2di0IiyinxQR/HWdhMETnGagw1lnNRmcOczTSn2ZzHsH0w22dyZh9zDhGVsqLj7w+/Xl9vFZWSeN5vN7db79frel3X83W937n1fF/X67oYP358kftVCCGEEEK8vSRBF6IcNGvWjDVr1hAREUFwcDCamppYWFgwZswY4Mlzy0uXLmX27NnMmTOHtLQ0rKysWLFiBdbW1sVqS1NTk7CwMObPn8/gwYPJyMhg//79hZbX0dEhMjKS0NBQRo8eTe3atRk+fDi//fab2hZv1apV49tvv2XevHnMnTuX9PR06tatywcffKCUGTduHNOmTSMgIIB//vmHsLCwfMltQZycnNi0aROLFi1i5syZpKSkULNmTbp168awYcMwNjYuVh8AODo6sn79eiIjIwkODiYzMxMzMzNatGhBgwYNXnj9e++9R8OGDalfvz61atVSO6ejo8OaNWuIjIxk8eLFJCQkYGxsjKWlpdIfRe3X0tagtjzLXlzSZ0IIIYQoLxq5ubm55R2EEEK87q5fv07Hjh1ZsGABnTp1Ku9wXihv9fi8KfaieLKzc9DSkqfAiiotLY3z58/TpEkT9PT0yjucCkP6rfikz0pG+q1kpN9K5m3st9L8u0tG0IUQ4jmSkpK4cuUK0dHR1KlTBw8Pj/IOqcgyMjJIT09HV1e3vEOpMNLT07ly5Qrm5ubSb0IIIYR45WR4QAjxyuTm5qrtE/7sv5ycnPIOMZ8DBw7wwQcfEBcXx5w5c6hUSb7XfJPl5uaSnp6OTC4TQgghRHmQvzSFEK/M1q1bCQ4OLvT8yJEjCQgIeIURvZi3t3eRnpt/Heno6Mgo8HNk5+SgpSnfUwshhBDi9SEJuhBvuLi4ODw8PFiwYAGdO3cGYNWqVZibm+Pm5qZW1t3dnbZt2zJlypRitVHU69q1a8emTZsKPf/0iuaRkZGsWLFC2Ybs2LFjDBw4kE2bNr1Wz1Vv2bKF4OBg1q5dq7Y3OsChQ4fw9fXNt/f5qxSyYivX4u+VS9uvswZmNZj6cc/yDkMIIYQQQo0k6EK8hdasWUPbtm3zJehRUVEYGhqWWbvVqlV74TZrhbGysiImJoZGjRqVclQvx9vbm61btxISEsL333+v7HP+6NEjQkND8fDwKLfkHOBa/D3+dyO+3NoXQgghhBBFJ3P7hBAKS0tL6tWrV95hFEhfXx97e/vXcjXQkJAQrl+/zvLly5VjX331FYmJicWejSCEEEIIId5ekqAL8RoICgqia9euHDlyhG7dumFra8uHH35IXFwcycnJjB49GkdHR9q3b8/OnTuV69zd3QkNDVWra9++fahUKuLi4gpsy93dnZs3b/LNN9+gUqlQqVRs2bKlwPry4jp06BBdu3bFxsYGb29vTpw48cJ7io2NZeDAgdjb29O0aVPGjx/P/fv3S9A7Txw7dgyVSqVsYwGgUqlYtmwZkZGRuLi40Lx5c4KDg0lLS1O7Nj4+nsDAQJo3b46trS0DBgzIt/f4/v378fb2xsHBgWbNmuHt7c2hQ4eKFNu7776Ln58fX331FTdu3ODSpUssX76c0aNHY2ZmRm5uLsuXL6dTp05YW1vj4eHBqlWr8sU4evRoXFxcsLGxwd3dnS+//LJknSWEEEIIISokmeIuxGsiISGBmTNnMnz4cCpVqsT06dMJDAxEV1eXZs2a0adPH7777jsmTJiAnZ0ddevWLVE7UVFR+Pr64ujoyMcffwxA/fr1nxtXSEgIAQEBGBoasmzZMoYMGcLevXupXr16gdfExsbi4+ODm5sb4eHhpKenExERgb+/PzExMSWKuzDffPMNTZs2ZebMmVy9epXZs2dTvXp1AgMDAXjw4AEffPABenp6fP755xgYGLB27VoGDRqk3MP169cZPXo0Xl5ejB8/npycHC5cuMCDBw+KHIevry87duwgNDSUx48f07hxY3x8fACYMWMGGzduZNiwYdjZ2XH8+HHmzp1L5cqV6d+/PwATJ07k7t27TJ48merVq3P79u18XyIIIYQQQog3myToQrwmHjx4wLp167CwsADg7t27fPHFFwwdOpQRI0YAYGNjw08//cS+ffsYNGhQidqxtLRER0eHGjVqYG9v/8LyycnJRERE0LJlSwCcnZ1xc3Nj1apVjB8/vsBr5s2bh7W1NVFRUWhoaADQuHFjZTT+2WffX4apqSnz5s0DoE2bNpw7d449e/YoCfrq1atJSUlh48aNyhcKLVu2pFOnTixfvpyJEydy7tw5MjMz+fzzz9HX1wegdevWxYpDR0eHkJAQfHx80NLS4rvvvkNLS4vr16+zbt06QkJC6Nu3LwAuLi48evSI6Oho+vbti6amJqdPn2bcuHF06dJFqbNHjx4v2z1CCCGEEKICkSnuQrwmatasqSTnAA0bNgSeJHN5DA0NMTExIT7+1S36ZWBgoCTnea9dXFw4efJkgeXT09M5fvw4nTt3Jjs7W9njvGHDhtSuXVttinppeLp/ABo1aqTWP4cPH6Z58+YYGRkpsWhqauLk5KTEolKp0NLSIjAwkJ9//pnU1NQSxeLs7IyDgwMtWrTA2toagCNHjgDQsWNHtT3fXVxcSEhI4Pbt28CTL05WrFjB+vXruXbtWonaF0IIIYQQFZuMoAvxmnh29fS81cANDAzUjuvo6PD48eNXFpeJiUm+Y9WrV+fSpUsFlk9JSSE7O5uwsDDCwsLync9LSEtLQf2WkZGhvE5KSuLEiRNYWVnluzZvar+5uTmLFy9myZIljBw5Ek1NTVxdXZkyZQp16tQpVjza2trKe5fXfm5uLi1atCiw/O3bt6lbty7h4eGEh4cTERFBSEgI5ubmjBs3jo4dOxarfSGEEEIIUXFJgi5EBaajo0NmZqbaseI8N10UiYmJ+Y7dv38fU1PTAssbGBigoaGBn59fgduLlXSbtZIyMjKidevWjB49Ot85HR0d5ec2bdrQpk0bHj58yC+//EJYWBjBwcGsXr36pdvX0NBg/fr1aol7HnNzc+DJDIqwsDBycnI4c+YMX331FWPHjmX37t288847LxWDEEIIIYSoGCRBF6ICMzMzyzeSffjw4Rdep62tXeRR+NTUVI4ePapMc09NTeXIkSMMGDCgwPJ6enrY29tz+fJlbGxsitRGWXJxceGHH36gUaNGRdqiTV9fny5dunDq1Cm2b9/+0u3n9VtycjLu7u4vLK+pqYmtrS1jxozh559/5tq1a5KgCyGEEEK8JSRBF6IC69SpE9OmTSMqKgoHBwcOHTpUpC3Q3n33XX777TcOHz6MoaEh9erVK3Rk29jYmEmTJjFq1CgMDAxYtmwZubm5z12kbuLEiQwaNIgxY8bg5eWFoaEh8fHxHDlyBG9vb5o3b17SWy62wYMH8+OPP/Lhhx8ycOBA6tSpQ2JiIidPnqRWrVoMHjyYDRs2cOLECVq3bo2pqSlxcXH88MMPtGrV6qXbNzc3Z8CAAUycOJEhQ4ZgZ2dHZmYmV69e5dixYyxatIjU1FSGDBlC9+7dMTc3JzMzk7Vr12JoaIilpWUp9IIQQgghhKgIJEEXogLr3bs3169f59tvv2XVqlV06dKFcePGFbq6ep5x48Yxbdo0AgIC+OeffwgLC8Pb27vAsqampgQGBjJ79myuX7+OhYUFy5cvp0aNGoXW7+joyPr164mMjCQ4OJjMzEzMzMxo0aIFDRo0eKl7Lq5q1aoRExNDREQEc+fOJTk5merVq2NnZ0eHDh2AJ4vEHThwgLCwMJKTkzE1NcXLy6vAafElMXnyZMzNzYmJiSE6OpqqVatibm5O586dAahcuTKNGzdm7dq13L59mypVqmBtbc3y5csLXAOgOBqYFf4+vc2kX4QQQgjxOtLIzc3NLe8ghBCvp6CgIM6cOVMqU73Fq5W3Qv3r8JjB6yo7JwctTfXNTNLS0jh//jxNmjQp0iMR4gnpt5KRfis+6bOSkX4rGem3knkb+600/+6SbdaEEOINlZGRQXp6enmH8dp6NjkXQgghhChvMsVdCPHK5eTkkJOTU+h5LS0tNDQ0XmFEhcvNzSU7O7vQ85qammhKoieEEEIIIUqBJOhCiELNnDmzTOr97LPP2Lp1a6Hn16xZ80oXknuerVu3EhwcXOj5kSNHEhAQ8AojKjodHR10dXXLO4zXQkHT2YUQQgghXjeSoAshXrmRI0cWuk0b/N/e4E9LSUlh9erVeHp68t5775VleGratWvHpk2bCj3/6NEjbGxs8PPzY+TIkWrn7t69i6enJ97e3kyaNKmsQy3Q1DVbuRp/r1zafl00NKtByMCe5R2GEEIIIcQLSYIuhHjl6tWrR7169Yp1TUpKClFRUVhYWLzSBL1atWqFbkGXx9fXl6VLl9KtWze1VerDwsLQ19dnzJgxZRxl4a7G3+N/cfHl1r4QQgghhCg6me8nhHjtPXr06LVu28/Pjzp16hAaGqocO3z4MDt37uTzzz+natWqZRmiEEIIIYR4Q0iCLoQoFUFBQXTt2pVDhw7RtWtXbGxs8Pb25sSJE0qZ77//nv79++Ps7IyTkxM+Pj6cOnVKrZ7IyEgcHBw4deoUffv2xcbGhm+++QYPDw8ARo8ejUqlQqVSERcXR1xcHCqVim3bthEaGoqTkxOurq7MmjWLrKwstbovXbrE8OHDadq0Kfb29vj6+nL9+nW1MiqViqVLlzJnzhxatWpFy5YtX3jvOjo6hIaG8p///IcdO3aQkZFBaGgoHh4etG/fHoCDBw/Su3dvbG1tadGiBVOnTiUtLU2pIzMzk1mzZtG2bVusra1xdXVl2LBhpKamFut9EEIIIYQQFZdMcRdClJqEhARCQkIICAjA0NCQZcuWMWTIEPbu3Uv16tWJi4ujR48e1K9fn4yMDHbs2MGAAQP44Ycf1J47z8zMZPz48QwePJixY8dibGxMVFQUI0eOZNy4ccoCcjVr1uTu3bsARERE4OHhQUREBLGxsURGRlK/fn369+8PwI0bN+jXrx8WFhbMnDkTDQ0NFi9ezODBg9m9ezc6OjpK+2vWrMHOzo4ZM2bkS/IL4+zsjLe3N2FhYZw6dYq7d++yevVqAHbv3s3YsWPx9vYmICCAhIQE5s2bR0pKCuHh4QAsWbKEDRs2EBgYiIWFBUlJSRw+fJiMjIyXf2OEEEIIIUSFIAm6EKLUJCcnExERoYw6Ozs74+bmxqpVqxg/frzaImo5OTm0atWKU6dOsXXrVsaNG6ecy8zMZOzYsXTp0kU5pq+vD0CDBg2wt7fP17atrS2TJ08GoFWrVhw7dow9e/YoCXpUVBRGRkasXLmSypUrA+Do6IiHhwcbN25UW7TOyMiIqKioYm/1NnHiRA4cOMCqVasIDg7GzMyM3NxcZs+eTZcuXZgxY4ZS1tTUFF9fX/z9/bGwsOD06dO4urqqxdGpU6ditS+EEEIIISo2meIuhCg1BgYGalPCDQwMcHFx4eTJk8CTKeYjRozAxcWFJk2aYGVlxZUrV7h69Wq+utzc3IrVtqurq9rrRo0aER//f4ujHT58GHd3d7S0tMjKyiIrKwtDQ0MsLS05c+aM2rVt2rQp0T7s1apVo0+fPlSpUgUfHx8Arly5ws2bN/H09FTazcrKwtnZGU1NTaVtS0tLDh06RGRkJKdOnXruPvFCCCGEEOLNJCPoQohSY2Jiku9Y9erVuXTpEg8fPuTjjz/GxMSEoKAg6tSpQ+XKlZk8eTKPHz9Wu0ZXV7fYC6sZGBiovdbW1labHp6UlMTq1auVaefPln025pLS1tZGU1MTLS0tpV2AESNGFFj+9u3bAAwfPhxNTU22bt1KVFQUJiYmDBgwgBEjRpToywIhhBBCCFHxSIIuhCg1iYmJ+Y7dv38fU1NTTpw4QXx8PEuWLOH9999XzqempmJmZqZ2TVkkpEZGRri5ufHBBx/kO/fslwGl2b6xsTEAU6ZMwdbWNt/5mjVrAk8WmgsICCAgIIBr166xefNmIiMjqVevHj169Ci1eIQQQgghxOtLEnQhRKlJTU3l6NGjyjT31NRUjhw5woABA5Ttyp4erT5+/Dg3b97EwsLihXXnXffsaHtRtWzZkosXL2JpaamMbr8K7777LmZmZty4cUPt+fLnadCgAePGjSMmJobLly+XcYRCCCGEEOJ1IQm6EKLUGBsbM2nSJEaNGoWBgQHLli0jNzeXQYMGAaCnp0dISAi+vr7cuXOHyMhIatWqVaS6TU1NMTQ0ZMeOHdSrVw8dHR1UKlWRYxs1ahS9evViyJAh9OnThxo1anDv3j1+//13mjVrRteuXUt0zy+ioaFBUFAQgYGBpKWl0bZtW3R1dbl16xaHDh1i7NixmJub4+/vj5WVFZaWlujq6nLgwAEePHhAixYtyiQuIYQQQgjx+pEEXQhRakxNTQkMDGT27Nlcv34dCwsLli9fTo0aNQBYsGABs2fPxt/fn4YNGxISEsLXX39dpLo1NTUJCwtj/vz5DB48mIyMDPbv31/k2Bo0aMDGjRuJiIggJCSEtLQ0TE1NcXJyKlaiXxKenp4YGhqyePFifvzxRwDq1q1L69atlb5xdHRk165drFy5kuzsbMzNzZk7dy4uLi4v1XZDsxovHX9FJ30ghBBCiIpCIzc3N7e8gxBCVHxBQUGcOXOG7du3l3coAjh9+jQANjY25RzJ6yE7JwctzRdvXJKWlsb58+dp0qQJenp6ryCyN4P0W8lIvxWf9FnJSL+VjPRbybyN/Vaaf3fJNmtCCPGGysjIID09vbzDeC0UJTkXQgghhChvMsVdCCFeICsrq9BzGhoar3TROSGEEEII8eaSIYUK4NixYyxevLi8w8insLgiIyNxcHAo07abNWtGZGRksa5JTExk5syZdOrUCRsbGxwdHfnwww/ZuHEj2dnZZRQprFq1Su0Z52PHjqFSqZSpMPCkz44fP15mMbysGTNm4O7u/twyM2fOZPv27YwaNYpZs2aVSRz79u3jm2++KZO6CxMXF4eVlVWh/wYPHqyULex9VKlULF++vMht/vnnnzRv3pyHDx++VOw6Ojro6uq+VB0VVXZOTnmHIIQQQghRbDKCXgH8/vvvrFixgmHDhpV3KGpe17gKcu3aNQYOHEh2djYfffQRVlZWZGRk8NtvvxEWFka1atVo3779K4nFysqKmJgYGjVqpByLiopCT08PR0fHVxJDWTl79iwHDhxg3759ZVL/vn37OHPmTJG3KysNNWvWZNOmTYWef3oP9cLex5iYGOrUqVPkNps2bYqFhQUrVqxg1KhRxQ/6KVO+2crVO/deqo6KpmGtGoQO6FneYQghhBBCFJsk6OKtEBgYSHZ2Nps3b1bb1qtNmzZ8+OGHpKamFnrto0ePqFKlSqnFoq+vj729fanVV1pK4z7XrFmDq6trkbdOqwh0dHReesGPkrzfvXr1YtasWQwfPlxt7/jiunrnHn/djC/x9UIIIYQQ4tWpUFPcg4KC6Nq1K4cOHaJr167Y2Njg7e3NiRMn1Mp9//339O/fH2dnZ5ycnPDx8eHUqVPK+b/++guVSsXhw4fVrsvOzqZ169bMnj0b+L+p2ufOnaNv377Y2trSs2dPzp07x+PHj5k6dSpOTk60adOGVatW5Ys3NjaWgQMHYm9vT9OmTRk/fjz3799XzsfFxaFSqdi2bRuhoaE4OTnh6urKrFmzlGdeIyMjiYqKIi0tDZVKhUqlwsfHp0j95e7uTmhoKKtWrcLNzQ0HBweCgoLIyMjg/Pnz9OvXD3t7e3r16sVff/2ldm1ubi7Lly+nU6dOWFtb4+HhoXaPRYnrr7/+on///tjZ2dG1a1d+/fVXtfM5OTksWrQId3d3rK2t6dy5Mxs2bMh3H/v27aNz587Y2NjQq1cvtfeyKP773/9y6tQp/Pz8Ckwc69Spo0xBz3vPT506Rd++fbGxsVGmVF+6dInhw4fTtGlT7O3t8fX15fr162p1PXz4kIkTJ+Lg4ECLFi2YPXt2vunzz05xz2t79uzZSl8eO3as0PvJyMggPDwcDw8PrK2tadOmDUFBQcr52NhYhg0bhqurK/b29nTv3p3vv/++wBgOHjzIqFGjcHR0ZPTo0QDcuXOHYcOGYWdnR+vWrVm2bFlRupm0tDT27t1Lp06d1I4XJZ4tW7agUqlITExUO969e3fl3oKCgti6dSsXL15U+unp+967dy/du3fHxsYGV1dXwsLCePz4cb57/vXXXxk9ejQODg60bdtW2fZszZo1tG3bFmdnZyZNmkRGRoZy7d27dwkODsbDwwNbW1s6duzI/Pnz1co8730saIr7wYMH6devH3Z2dsr/U+fOnVPOt2/fntTUVA4dOlSk/hdCCCGEEBVfhRtBT0hIICQkhICAAAwNDVm2bBlDhgxh7969VK9eHXiS+Pbo0YP69euTkZHBjh07GDBgAD/88APm5uaoVCrs7OzYvHkzrVq1Uur+9ddfuXv3Lv/+97+VY5mZmXz66acMHjyYGjVqMHfuXEaOHImjoyPVq1cnIiKC/fv3ExYWhq2trTK1NTY2Fh8fH9zc3AgPDyc9PZ2IiAj8/f2JiYlRu6eIiAg8PDyIiIggNjaWyMhI6tevT//+/enduzfx8fFs376d1atXA09GYItq//79WFhYEBoayo0bN5g5cyba2tqcOHFC7Z5Gjx7Nzp070fz/Kx3PmDGDjRs3Kona8ePHmTt3LpUrVy5SXJmZmQQGBjJw4ED8/f1ZtmwZo0aN4ueff6ZatWrAk0RmzZo1DB8+HAcHBw4ePMjUqVPJysriww8/BOD8+fOMGjWKNm3aEBwcTFxcHGPGjFFLjF7k999/B6B169ZFKp+Zmcn48eMZPHgwY8eOxdjYmBs3btCvXz8sLCyYOXMmGhoaLF68mMGDB7N79250dHQA+Oyzz/j1118JDAykXr16rF+//oXbjsXExNC3b198fHzo2rUrAO+9916h5QMCAvjtt9/w8/PD3t6exMRE9u7dq5y/desWjo6O9O/fHx0dHY4fP87kyZPJzc2lZ0/1ab+ff/45//rXv4iOjlbee39/f+7cucO0adMwMDBg2bJl3L59m0qVnv/fxYkTJ0hLS6Np06Zqx4sTz/P4+/uTmJjI5cuXmTt3LgAmJibAk8/5qFGj8PLyYvz48Vy+fJnw8HBu377NwoUL1eqZNm0aPXv2pE+fPnz33XdMnDiRCxcucPHiRUJCQpTfk3feeUd5fCMpKQljY2OCg4MxNDTk6tWrREZGkpCQQFhYGFC893Hnzp2MGzcODw8P5s2bh7a2NsePH+fOnTtYWloCT36f3nvvPY4cOfLKHr8QQgghhBDlq8Il6MnJyURERNCyZUsAnJ2dcXNzY9WqVYwfPx6AkSNHKuVzcnJo1aoVp06dYuvWrYwbNw6A3r1788UXX/DgwQOMjIwA2Lx5Mw4ODmrPBuclmm5ubkp9eUlrcHAwAC1atGD37t3s3r1bSdDnzZuHtbU1UVFRaGhoANC4cWNlBkBefQC2trZMnjwZgFatWnHs2DH27NlD//79MTMzw8zMDE1NzRJPi160aJGSQP7+++989913LFu2jDZt2qjd0//+9z/ef/99rl+/zrp16wgJCaFv374AuLi48OjRI6Kjo+nbt+8L43q238zNzfHw8OCXX36he/fuJCYmsm7dOoYMGUJAQAAArq6uJCUlER0dTf/+/dHS0mLp0qXUrl2b6OhoZaXsypUrM2nSpCLf/507dwCK/AxwZmYmY8eOpUuXLsqxTz/9FCMjI1auXEnlypUBcHR0xMPDg40bNzJgwAD+/vtv9u7dy/Tp0+nVq5dyTx07dnxue3n9V7t27Re+x4cPH+bgwYPMmzdPSQIBtZ+9vLyUn3Nzc3FycuLOnTvExMTkS4jd3d2ZMGGC8vqXX37hzJkzrFq1Svkda968OW5ubhgbGz83ttOnT6Onp8c777yjdrw48TxP/fr1MTEx4datW/n6KSoqCnt7e+bNmwc8eXRBV1eXKVOmKDNm8nTu3Fn5P8LW1paffvqJHTt28NNPPylTyX///Xd2796tJOgqlYpPP/1UqcPR0RFdXV2CgoKYMmUKurq6RX4fc3NzmTVrFq1atSI6Olo5/vT/CXnef/99Tp48WeQ+EkIIIYQQFVuFmuIOYGBgoCQOea9dXFzU/oi9dOkSI0aMwMXFhSZNmmBlZcWVK1e4evWqUsbLy4tKlSopo5uJiYkcOHBASazyaGpqqrXXsGFD4EnCmkdLS4v69esTH//kOc/09HSOHz9O586dyc7OJisri6ysLBo2bEjt2rXVVu+GJ0nc0xo1aqTU9bKcnJyU5Dwvfk1NTVq0aJHvnm7fvg3AkSNHAOjYsaMSe1ZWFi4uLiQkJCjlnufZfqtXrx5VqlRRkuVTp06RmZlJ586d1a7z9PQkMTFRea9OnjxJu3bt1LaxevaasvBssnT48GHc3d3R0tJS+sPQ0BBLS0vOnDkDPElQc3Nz6dChg3KdlpZWqY5+Hj16FF1dXbWk91kPHjxg+vTptGvXTllpPCYmhitXruQr27ZtW7XXp06dKvR37EUSEhKU2REljack/vnnH86fP59van3eFyx//vmn2vGnZ80YGBhgYmJCs2bN1J7zbtiwodrnPDc3l1WrVtGlSxdsbW2xsrIiMDCQrKwsbty4Uax4L1++THx8vNpMncJUq1aNhISEYtUvhBBCCCEqrgo3gp43pfVp1atX59KlS8CTZ4A//vhjTExMCAoKok6dOlSuXJnJkyerPY+qp6dH165d2bRpkzL9XVtbG09PT7W6q1Spopbg5v0Rb2BgoFZOW1tbqT8lJYXs7GzCwsKU6a9PezbBLaiu4kzhfh5DQ8N8dRd2T3nxJyUlkZubq5bEP+327dvUrVv3ue0+20ZeO3ltPHjwAIAaNWqolcl7nZycDDxJ+vIeXcijr6+vjGIXRd5z57dv36ZBgwYvLK+rq6u2Mjc86ZPVq1cr0/mfltd/CQkJaGtrKzMy8jwb/8tITk7G1NRUmZVRkKCgIGJjYxkxYgTvvfce+vr6fPvtt+zatStf2Wdju3v3bqG/Yy/y+PHjfO95ceMpidTUVHJzc/PFaGBggI6OjvJZe/r403R0dAr8PXn6d3D16tXMmjWLTz75hObNm2NoaMjp06cJDQ1V+3+lKPI+2zVr1nxhWR0dnWLXL4QQQgghKq4Kl6A/u4gUwP379zE1NQWePAcbHx/PkiVLeP/995UyqampmJmZqV3Xu3dvYmJiuHDhAlu2bMHT0zNfYlYSBgYGaGho4OfnV+DoaUGjjK8TIyMjNDQ0WL9+fYGrR5ubm790G3nTpe/fv6+2cNu9e/fUzpuamqotrAdPvoQpTtLi7OwMwH/+858iJegFJb9GRka4ubnxwQcf5DuX95kxNTUlMzNT7bEJIF/8L8PY2JiEhARyc3MLjPPx48ccPHiQoKAgtUX71q9fX2B9z9ZRs2bNQn/HXsTIyCjfavhFjSfvC5fMzEy14ykpKS9sN+/37dm4U1NTycjIyPeFSUns3r0bd3d35TEaQPlSsLjyPtt37959YdmUlJQXPloghBBCCCHeHBVuintqaipHjx5Ve33kyBHs7OyAJ1tFAWqJ5fHjx7l582a+umxsbGjSpAnTp0/nr7/+KtKU06LQ09PD3t6ey5cvY2Njk+9fvXr1ilVfaY6oF0Xe9Obk5OQC489bDO5l4rKxsUFbW5vdu3erHd+1axfVq1dXpt3b2tpy4MABtZXQn73mRZo1a4atrS2LFy8uMCm6fft2vlXsn9WyZUsuXryIpaVlvv549913lXsC+Omnn5TrsrOzi7Qn+NOzC57HxcWF9PT0QkefMzIyyMnJUfv8P3z4kJ9//vmFdcOTeyjsd+xFzM3NSUxMJC0trdjx5H1Jc/nyZeXYpUuX8s02KaifqlatSpMmTQr8LAH5Fq0riUePHuX7sipv9fcXxfesd999FzMzM7Zs2fLCdm/evFkqX4gJIYQQQoiKocKNoBsbGzNp0iRGjRqlrDCdm5vLoEGDgCcLbunp6RESEoKvry937twhMjKy0H2Ze/fuTWhoKObm5qXyh3yeiRMnMmjQIMaMGYOXlxeGhobEx8dz5MgRvL29ad68eZHratSoEVlZWaxevRoHBwf09fWVpLAsmJubM2DAACZOnMiQIUOws7MjMzOTq1evcuzYMRYtWvTScZmYmPDhhx+yfPlydHR0sLe359ChQ2zfvp3PP/9ceebc19eXXr16MWLECPr3709cXBzLly8v1hR3gLlz5+Lj48O///1vPvroI6ysrMjIyOCPP/7gm2++YdasWWoLiT1r1KhR9OrViyFDhtCnTx9q1KjBvXv3+P3332nWrBldu3blvffeo0OHDnz55Zc8fvxYWcX92VHhgrz77rvs37+fZs2aoauri7m5eYGr9bu4uODm5sZnn33G9evXsbOzIzk5mT179hAREYGBgQE2NjYsW7YMExMTKlWqxNKlS9HX1y9wZPxZbdq0wcrKigkTJhAYGIiBgYFy/Ys4OjqSk5PDuXPnaNasGUCR47Gzs6N27dp8+eWXjB8/nocPH7J06dJ8o8eNGjVi8+bNbN++nQYNGlCtWjXq1avHyJEjGTFiBIGBgfzrX//iypUrhIeH06lTp+e+r0Xl4uLCmjVrWLduHQ0bNuSHH37g2rVr+coV5X3U0NDg008/Zdy4cQQEBNC9e3d0dHQ4ceIENjY2tGvXTil75swZPvroo5eOXwghhBBCVAwVLkE3NTUlMDCQ2bNnc/36dSwsLFi+fLny7HKNGjVYsGABs2fPxt/fn4YNGxISEsLXX39dYH0dOnQgNDS01EbP8zg6OrJ+/XoiIyMJDg4mMzMTMzMzWrRoUaRp1k9r164dH3zwAUuXLuX+/fs4OTmxdu3aUo33WZMnT8bc3JyYmBiio6OpWrUq5ubmagu0vWxcEydOxMDAgE2bNrF48WLq1q1LSEgI/fr1U8pYWlqyYMECZXs7CwsLwsPDGTJkSLHup0GDBmzdupVly5bx7bffcvv2bXR0dLC0tOSzzz5TS4oKu37jxo1EREQQEhJCWloapqamODk5qSWAX375JaGhocydOxcdHR169uyJs7Mzs2fPfm79U6ZM4csvv2To0KE8evSINWvWFPolTt4e9DExMURFRVG9enW1hc/mzZvHlClTCAoKwtjYGB8fH9LS0lixYsUL+0lDQ4NFixYxdepUpkyZgqGhIT4+Pty7d4/9+/c/91pzc3MaN27Mr7/+qiToRY1HW1ubqKgopk2bxujRo6lfvz6fffYZM2fOVGujV69enDp1ii+++ILk5GR69uzJzJkz8fDwYMGCBURHR+Pv74+xsTF9+vRRm5L+MkaMGEFSUpKyZVunTp2YPHmyssp7nqK+j126dKFKlSosXryYcePGUblyZSwtLdUWGDx79iyJiYn5Fr8rroa1ary40BvmbbxnIYQQQrwZNHJzc3PLO4iiCgoK4syZMy/cV7o4Nm3axNSpUzl48KDyHLsQomTWrl3LmjVr2Lt373MXshMvNmvWLM6ePcuaNWtKdH3ebhF5j168bbJzctDSLP5TXGlpaZw/f54mTZqgp6dXBpG9maTfSkb6rfikz0pG+q1kpN9K5m3st9L8u6vCPYNeWuLi4jh8+DCLFi3C09NTknMhSkHv3r159OhRkZ95FwV7+PAhmzZtIiAg4KXqycjIID09vZSiqlhKkpwLIYQQQpS3CjfFvbRERUWxfft2HBwcCAoKKu9wii0rK6vQcxoaGmr7hr/JcnNz1RaQe5ampiaa8of6K1OlShVmzpyZbzV3UTy3bt1i9OjRODk5vXRdFWiSlBBCCCHEW69CJejPPo/6snWVZn2vmpWVVaHn6tat+9aMYP7+++8MHDiw0PN5zyiLV+fp5+FFyTRu3JjGjRuXSl3yqIEQQgghRMVRoRJ08X82bdpU6DkdHZ1XGEn5srKyem5fvO57zr+Mffv2cefOHQYMGFDeoRSLu7s7bdu2ZcqUKa+87bLos8uXL9O9e3f8/PwYOXKk2rm7d+/i6emJt7c3kyZNKrU2i0pHRwddXd1X3m55Kelz50IIIYQQrwtJ0Cuot3Xhp2fp6+u/tX2xb98+zpw5U+ES9KioKAwNDcul7bLos3fffRdfX1+WLl1Kt27d1HZpCAsLQ19fnzFjxpRae8U1OWYLV+7eK7f2XxXzmjWY3te7vMMQQgghhHgpkqAL8YbLzc0lMzPztZlZYWlpWd4hlDo/Pz927NhBaGgoy5cvB+Dw4cPs3LlT2aawvFy5e4+/bsWXW/tCCCGEEKLoZC6gEK+xixcvMnToUJo3b46dnR2dOnVi2bJlBAUFsXXrVi5evIhKpUKlUimLHQYFBdG1a1cOHTrEv/71L2xsbJQ1CWJjYxk4cCD29vY0bdqU8ePHc//+fbU2586dS7du3XBwcKB169aMGzeOu3fvqpXx8fHBz8+P7du307FjR+zs7Bg2bBgPHjzg5s2bDBkyBAcHB7y8vDh27Jjate7u7oSGhiqv8+I9duwYPXr0wN7enl69enHmzBm161JTUwkMDMTBwYGWLVsyf/58VqxYobYP/fMU1mdbtmzB0tKSe/fUR5mTk5OxtrZmw4YNL6xbR0eH0NBQ/vOf/7Bjxw4yMjIIDQ3Fw8OD9u3bA3Dw4EF69+6Nra0tLVq0YOrUqaSlpSl1ZGZmMmvWLNq2bYu1tTWurq4MGzZMFtwTQgghhHiLyAi6EK+xYcOGUaNGDWbMmIG+vj7Xr18nPj4ef39/EhMTuXz5MnPnzgXAxMREue7u3btMnz6d4cOHU7t2berUqUNsbCw+Pj64ubkRHh5Oeno6ERER+Pv7ExMTo1x7//59/Pz8qFmzJomJiaxcuRIfHx927NhBpUr/91/GuXPnSEpKYuLEiTx8+JDp06fz+eefc/PmTXr06MFHH33EkiVLCAgI4MCBA88dRU5ISGD69On4+vpiYGDAvHnzGDlyJD/99BPa2toABAcH89tvvzFhwgTq1q3Ld999x9mzZ4vcl4X1WbVq1Zg6dSq7d+/mww8/VMrv3bsXgM6dOxepfmdnZ7y9vQkLC+PUqVPcvXuX1atXA7B7927Gjh2Lt7c3AQEBJCQkMG/ePFJSUggPDwdgyZIlbNiwgcDAQCwsLEhKSuLw4cNkZGQU+R6FEEIIIUTFJgm6EK+pxMRE4uLimDRpEu7u7gC0aNFCOW9iYsKtW7ewt7fPd+2DBw9YtmwZdnZ2yrFJkyZhbW1NVFSUsrJ348aNldF2Nzc34Mlz03mys7NxcHCgTZs2/Pbbb7i6uirnHj58yOLFi5UvBv766y9WrFjBtGnT6N+/PwA1a9akW7duHD16VBlJLsiDBw9Yt24dFhYWAOjq6jJw4EBOnjxJs2bN+Pvvv/npp5+YNWsWPXr0AKB169Z4enoWuT/r169faJ+5ubmxfft2tQR9+/bttGrVCmNj4yK3MXHiRA4cOMCqVasIDg7GzMyM3NxcZs+eTZcuXZgxY4ZS1tTUFF9fX/z9/bGwsOD06dO4urqqPR/fqVOnIrcthBBCCCEqPpniLsRrqlq1atStW5f58+ezdetW4uOL/hyxsbGxWnKenp7O8ePH6dy5M9nZ2WRlZZGVlUXDhg2pXbs2p0+fVsoeOnSIfv360bRpUywtLWnTpg0AV69eVWvj/fffVxu1b9iwIQAuLi75jr0o9po1ayrJOcB7770HwJ07dwCU+Dw8PJQympqatGvX7rn1FpWXlxcnTpzg1q1bwJMZCH/88QdeXl7FqqdatWr06dOHKlWq4OPjA8CVK1e4efMmnp6eSr9nZWXh7OyMpqamMpXf0tKSQ4cOERkZyalTp8jJySmVexNCCCGEEBWHjKAL8ZrS0NBg+fLlhIeHExoaSlpaGlZWVgQHB+Pk5PTca2vUqKH2OiUlhezsbMLCwtRGyPPcvn0bgFOnTuHv74+HhwdDhw6levXqaGho0KdPHx4/fqx2zbMrsedNRTcwMFCO5S1M9+y1zyqsrrzrEhIS0NbWVqsb1Kf1v4x27dqhq6vLjh07GDp0KLt27aJy5crPHfUvjLa2NpqammhpaQGQlJQEwIgRIwosn9f3w4cPR1NTk61btxIVFYWJiQkDBgxgxIgRspe5EEIIIcRbQhJ0IV5j5ubmLFy4kMzMTGJjY5k/fz7Dhg3jl19+ee51zyZ0BgYGaGho4OfnV2DSmbdf/L59+9DX1yciIgLN/7+f9M2bN0vpbkrO1NSUzMxMUlNT1ZL0xMTEUqm/SpUqtG/fnp07dzJ06FB27txJu3bt0NPTe+m686bIT5kyBVtb23zna9asCTz5MiMgIICAgACuXbvG5s2biYyMpF69esq0fiGEEEII8WaTBF2ICkBbWxtnZ2d8fX0ZPnw4d+/eRVtb+4Uj03n09PSwt7fn8uXLz903/tGjR2hra6sl+D/++ONLx/+yrK2tAdi/f7+SrObk5HDgwIFi1fO8PuvatSu+vr78+uuvnDhxgqFDh75UzHneffddzMzMuHHjRpH3X2/QoAHjxo0jJiaGy5cvl0ocQgghhBDi9VfmCfrDhw9Zv349x44d4/79+4SGhmJra0tycjJbt27F3d2dBg0alHUYQlQ4Fy5cYNasWXTp0oV33nmHhw8fsmTJEurWrUv9+vVp1KgRmzdvZvv27TRo0IBq1apRr169QuubOHEigwYNYsyYMXh5eWFoaEh8fDxHjhzB29ub5s2b06pVK1avXs0XX3xBhw4diI2NZdu2ba/wrgtmYWFBhw4dmD59Ounp6dSpU4fvvvuOR48eFWv69/P6zMXFBWNjYz777DMMDQ2VZ+9floaGBkFBQQQGBpKWlkbbtm3R1dXl1q1bHDp0iLFjx2Jubo6/vz9WVlZYWlqiq6vLgQMHePDggdrCgEIIIYQQ4s1Wpgl6fHw8H374IfHx8TRo0IDLly/zzz//AE+mfW7YsIGbN28yefLksgxDiArJ1NSUGjVqsGTJEu7cuYOBgQHNmjVjzpw5aGlp0atXL06dOsUXX3xBcnIyPXv2ZObMmYXW5+joyPr164mMjCQ4OJjMzEzMzMxo0aKF8iWZm5sbgYGBrFu3ji1btuDo6MiSJUtei9XEv/zyS0JDQ5k9ezY6Ojr07NkTCwsLvvnmmyLX8bw+09bWplOnTsTExNCrVy/l+fnS4OnpiaGhIYsXL1ZmJNStW5fWrVsr6wU4Ojqya9cuVq5cSXZ2Nubm5sydO1dt0b2SMK9Z48WF3gBvy30KIYQQ4s2mkZubm1tWlY8bN46jR4+ydu1aTExMcHFxYeXKlbRs2RKAOXPmcPDgQXbs2FFWIQgh3mADBgxAU1OTtWvXlncor528le+f90jDmyY7JwctzZfbnCQtLY3z58/TpEmTUlmD4G0h/VYy0m/FJ31WMtJvJSP9VjJvY7+V5t9dZTqCfvjwYQYNGsR7772nrGT8tHfeeUdZwVgIIZ5nz5493L59m8aNG5Oens727dv573//S3R0dHmH9trKyMggPT0dXV3d8g7llXjZ5FwIIYQQoryVaYL+6NGj526DlDfdXQghXkRPT49t27Zx9epVMjMzeffdd5kzZ46yKn12djbPmxBUqVLJ/7vLysoq9JyGhoaypZoQQgghhBAvo0wT9EaNGvHHH3/Qr1+/As/v27cPS0vLsgxBCPGGaN26Na1bty70/ODBg/n9998LPb9///7nLqJXmLi4ODw8PAo97+zs/NpOsdfR0XlrRs9LY3q7EEIIIUR5K9MEfdCgQQQFBaFSqfD09AQgNzeXa9euERUVxYkTJ4iMjCzLEIR44wUFBXHmzBm2b98OwJYtWwgODubo0aPPncFSFl512z4+Pujp6bFkyRJCQkKeOysnb7/x4qpZsyabNm0q9HzVqlWJjIxk6dKl/PjjjzRs2FDt/DfffMOMGTP47rvvlO3iXqXPNm3hSkLCK2/3VTI3NeXLXt7lHYYQQgghxEsr0wS9e/fu3Lp1iwULFhAREQHAJ598Qm5uLpqamowdO1aZniqEKB1t27YlJiYGQ0PD8g7llXr33XfLpF4dHZ0XLvjh5+fHjh07CAkJYeXKlcrxe/fuER4ezoABA8olOQe4kpDAhdvx5dK2EEIIIYQonjLfB3348OF0796dvXv3cu3aNXJycqhfvz4dO3bknXfeKevmhXjrmJiYvPKR87edjo4OISEhDBw4kB9//JFu3boBEBYWRtWqVRkzZkz5BiiEEEIIISqEMntgLz09HW9vb7799lvq1KnD4MGDmTp1KiEhIQwZMkSScyGAvXv30r17d2xsbHB1dSUsLIzHjx8DcOzYMVQqFYcPH2b8+PE4ODjQrl07li1b9tw6t2zZgkqlIjExEXjyDLVKpWLbtm2Ehobi5OSEq6srs2bNyrf42aVLlxg+fDhNmzbF3t4eX19frl+/Xuz7un79OgMHDsTOzg53d/d8U8RjY2MZNmwYrq6u2Nvb0717d77//vt89aSkpPDFF1/Qpk0brK2tcXd3Z968eYW2++jRI3x9ffHw8ODGjRtERkbi4OCQr1yzZs3UHq/x8fHBz8+P77//nvbt22Nra4uPjw+XL18u8j03b94cb29vZs6cSWpqKkePHmX79u18/vnnVK1alYyMDObPn0+7du2wtrbG09NT2RM9z8WLFxk6dCjNmzfHzs6OTp06vfD9FkIIIYQQb44yG0HX1dUlLi4ODQ2NsmpCiApt//79jBo1Ci8vL8aPH8/ly5cJDw/n9u3bLFy4UCk3depUunfvTnR0NPv27WPu3LmoVCratGlTrPYiIiLw8PAgIiKC2NhYIiMjqV+/Pv379wfgxo0b9OvXDwsLC2bOnImGhgaLFy9m8ODB7N69Gx0dnSK3NW7cOPr27cvQoUPZuXMnkyZNombNmkrMt27dwtHRkf79+6Ojo8Px48eZPHkyubm59OzZE3iyRdigQYO4efMmI0aMoHHjxsTHx/Pnn38W2OY///zDsGHDSEhIYP369dSqVatY/XP27FmuX7/O+PHjlf765JNPinXvEydO5MCBA8ycOZM///wTDw8P5TGe0aNHc/z4cUaMGEGjRo04dOgQEyZMwNDQEDc3NwCGDRtGjRo1mDFjBvr6+ly/fp34eJmeLoQQQgjxtijTKe6tW7fmP//5T6GruAvxNouKisLe3l4ZEW7Tpg26urpMmTKFv/76SynXsWNHAgICAGjZsiUHDx5kz549xU7QbW1tmTx5MgCtWrXi2LFj7NmzR0nQo6KiMDIyYuXKlVSuXBkAR0dHPDw82LhxIwMGDChyW927d8fPzw948v/AjRs3iI6OVmL28vJSyubm5uLk5MSdO3eIiYlREvTvv/+ec+fOsWHDBrVR8LzzT3vw4AFDhw7l8ePHfPPNN1SvXr04XQPA/fv3WbdunbLIm6WlJZ07d2bLli1F/j+sWrVqBAUF8emnn6Knp8eqVasA+O233/j5559Zvnw5rq6uwJP3ICEhgcjISNzc3EhMTCQuLo5Jkybh7u4OQIsWLYp9H0IIIYQQouIq0z1p/P39uXr1KhMmTOC///0vd+7cITk5Od8/Id42//zzD+fPn6dTp05qx7t06QKgNkqcl9DBkz23GzVqVKJR1afrAfLVc/jwYdzd3dHS0iIrK4usrCwMDQ2xtLTkzJkzxWqrQ4cOaq87duzI2bNnyc7OBp4k1NOnT6ddu3ZYWVlhZWVFTEwMV65cUa45evQojRo1KnCK+tOSkpIYOHAgAGvWrClRcg5gYWGhtgJ7gwYNeP/99zl58mSx6unRowc1a9aka9eumJmZAU/61tjYmBYtWih9m5WVhYuLC+fPnyc7O5tq1apRt25d5s+fz9atW2XkXAghhBDiLVSmI+h5o2R///23sgVUQc6fP1+WYQjx2klNTSU3NzdfMmlgYICOjg4PHjxQO/Y0bW1tUlNTi91mQfVkZGQor5OSkli9ejWrV6/Od622tnax2nr2vmrUqEFmZiZJSUnUqFGDoKAgYmNjGTFiBO+99x76+vp8++237Nq1S7kmOTm5SFujXb16lQcPHvDZZ59hZGRUrDifF3PesYQSbFGmra2t1mdJSUkkJydjZWVVYPmEhATMzMxYvnw54eHhhIaGkpaWhpWVFcHBwTg5ORU7BiGEEEIIUfGUaYI+YsQIeQZdiAIYGBigoaGhLOSWJzU1lYyMjJdKNEvKyMgINzc3Pvjgg3znqlatWqy67t+/r/YM+L1799DW1qZatWo8fvyYgwcPEhQUhI+Pj1Jm/fr1anUYGxurTfUvjIODAy1btmTmzJkYGxvTvXt35VzlypXJzMxUK5+ZmUlaWlqBMRd07P33339hDC9iZGSEiYkJS5cuLfB83qr75ubmLFy4kMzMTGJjY5k/fz7Dhg3jl19+KfZ7IIQQQgghKp4yTdDznpsVQqirWrUqTZo0Yffu3QwePFg5njeC3LRp01f++EfLli25ePEilpaWaGlpvVRdP/30E5aWlsrrvXv3YmVlhZaWFmlpaeTk5KiNMD98+JCff/5ZrQ4XFxd27tzJyZMnsbOze257gwcP5vHjxwQHB1O5cmU6d+4MQK1atcjMzOT69evUr18fePI8eN5U+6ddvHiRa9eu0aBBAwCuXbvGhQsX6Nu3b8k64Zl7+frrr9HW1i5Swq+trY2zszO+vr4MHz6cu3fvYm5u/tJxCCGEEEKI11uZ74MuhCjYyJEjGTFiBIGBgfzrX//iypUrhIeH06lTJ1QqFceOHXul8YwaNYpevXoxZMgQ+vTpQ40aNbh37x6///47zZo1o2vXrkWua9u2bVSpUgVLS0t27tzJH3/8oYweGxgYYGNjw7JlyzAxMaFSpUosXboUfX19tRkF3bt3Z/369fj6+jJy5EgsLCy4c+cO//3vf/niiy/ytenn58ejR48IDAykcuXKtGvXjjZt2qCnp8fkyZMZOnQo8fHxrFmzRlkE72nVq1dn2LBhjBo1CoAFCxZQq1YtvL29i9uV+bRq1Yp27drxySef8Mknn6BSqUhPT+fvv//m2rVrzJgxgwsXLjBr1iy6dOnCO++8w8OHD1myZAl169ZVvlwQQgghhBBvtjJN0KOiol5YRkNDgxEjRpRlGEK8ljw8PFiwYAHR0dH4+/tjbGxMnz59lG2+XrUGDRqwceNGIiIiCAkJIS0tDVNTU5ycnFCpVMWqa968ecyfP5/o6GiqV6/OF198oWwllnd+ypQpBAUFYWxsjI+PD2lpaaxYsUIpo6Ojw6pVqwgPD2fJkiUkJydjZmamtgL8s0aPHs2jR48YNWoUS5YswcXFhYULFzJr1ixGjBhBkyZNmD17ttrU+jxWVlZ07NiROXPmkJCQgJ2dHSEhIcXaXu55Fi5cyNKlS/n222+5efMmBgYGWFhYKF8AmJqaUqNGDZYsWcKdO3cwMDCgWbNmzJkz56VmNJibmpZK/K+zt+EehRBCCPF20MjNzc0tq8qfN5VTQ0OD3NxcNDQ0ZJE4IUS58vHxQU9PjyVLlpR3KKXm9OnTANjY2JRzJK9Gdk4OWpovvzFJWloa58+fp0mTJujp6ZVCZG8H6beSkX4rPumzkpF+Kxnpt5J5G/utNP/uKtMR9AsXLuQ7lpOTw82bN1m/fj1//PEHy5YtK8sQhBDirZWRkUF6ejq6urrlHUqZK43kXAghhBCivL3yv2g0NTV55513+PTTT2nQoAHTp09/1SEIIUogJydHbQ/vZ/+V4WSccvc237sQQgghhHh1ynWROCcnJ+bOnVueIQghiig6Ovq560qEhYWVyoJq5WHt2rXPPV9R711HR+etGD2H0pviLoQQQghRnso1QT9z5gya8geVeE3t27ePO3fuMGDAgPIOpVjc3d1p27YtU6ZMKdV6+/TpQ9u2bQs9X69evVJtr6S2bNlCcHAwR48eVfYXf1nPu/ebN28yYcIEbt26xciRI9XO3b17F09PT7y9vZk0aVKpxFJcn32/mcv37pVL26/KuzVq8GWPf5d3GEIIIYQQL61ME/Tvv/++wOMpKSn897//Ze/evfTu3bssQxCixPbt28eZM2cqXIIeFRWFoaFhqddbq1YtatWqVer1lra2bdsSExNTqn3wvHu3sbHh4sWLLF26lG7duin7qMOTkXV9fX3GjBlTarEU1+V797gQf7vc2hdCCCGEEEVXpgl6UFBQoeeqVauGr6+vbLEmKrzc3FwyMzNLbTuul2VpaVneIZQrExOTUhs5Lyo/Pz927NhBaGgoy5cvB+Dw4cPs3LmT6Ohoqlat+krjEUIIIYQQFVOZzi/fv39/vn8///wz//3vfzl69Cjjxo2jcuXKZRmCEM918eJFhg4dSvPmzbGzs6NTp04sW7aMoKAgtm7dysWLF1GpVKhUKuULp6CgILp27cqhQ4f417/+hY2NDT///DMAsbGxDBw4EHt7e5o2bcr48eO5f/++Wptz586lW7duODg40Lp1a8aNG8fdu3fVyvj4+ODn58f27dvp2LEjdnZ2DBs2jAcPHnDz5k2GDBmCg4MDXl5eHDt2TO1ad3d3QkNDldd58R47dowePXpgb29Pr169OHPmjNp1qampBAYG4uDgQMuWLZk/fz4rVqwo1h7oeW0dOXKEbt26YWtry4cffkhcXBzJycmMHj0aR0dH2rdvz86dO/Ndv2HDBjp16oS1tTXu7u4sWrSInJwcAOLi4lCpVOzevTvfdd7e3owbNw54MsVdpVKRmJionM/IyGD+/Pm0a9cOa2trPD09+fHHH9XqKOyzUBQ6OjqEhobyn//8hx07dpCRkUFoaCgeHh60b98egIMHD9K7d29sbW1p0aIFU6dOJS0tTakjMzOTWbNm0bZtW6ytrXF1dWXYsGGkpqYWKQYhhBBCCFHxlekIuoaGBiYmJlSpUqXA848ePSIxMZE6deqUZRhCFGrYsGHUqFGDGTNmoK+vz/Xr14mPj8ff35/ExEQuX76sLGT49Kjs3bt3mT59OsOHD6d27drUqVOH2NhYfHx8cHNzIzw8nPT0dCIiIvD39ycmJka59v79+/j5+VGzZk0SExNZuXIlPj4+7Nixg0qV/u9X8ty5cyQlJTFx4kQePnzI9OnT+fzzz7l58yY9evTgo48+YsmSJQQEBHDgwIHnjtImJCQwffp0fH19MTAwYN68eYwcOZKffvoJbW1tAIKDg/ntt9+YMGECdevW5bvvvuPs2bPF7tOEhARmzpzJ8OHDqVSpEtOnTycwMBBdXV2aNWtGnz59+O6775gwYQJ2dnbUrVsXeLJQ2/Tp0/Hx8aFt27bExsYSFRVFamoqn376KfXq1cPe3p6dO3fSuXNnpb2rV69y9uzZfM9/P2306NEcP36cESNG0KhRIw4dOsSECRMwNDTEzc0NKPyzUFTOzs54e3sTFhbGqVOnuHv3LqtXrwZg9+7djB07Fm9vbwICAkhISGDevHmkpKQQHh4OwJIlS9iwYQOBgYFYWFiQlJTE4cOHycjIKPZ7IIQQQgghKqYyTdA9PDyYPXs23bp1K/D8zz//zPjx4zl//nxZhiFEgRITE4mLi2PSpEm4u7sD0KJFC+W8iYkJt27dwt7ePt+1Dx48YNmyZdjZ2SnHJk2ahLW1NVFRUWhoaADQuHFjZbQ9LxEMCwtTrsnOzsbBwYE2bdrw22+/4erqqpx7+PAhixcvVr4Y+Ouvv1ixYgXTpk2jf//+ANSsWZNu3bpx9OhRZaS2IA8ePGDdunVYWFgAoKury8CBAzl58iTNmjXj77//5qeffmLWrFn06NEDgNatW+Pp6Vnk/iysrbt37/LFF18wdOhQ5ZEWGxsbfvrpJ/bt28egQYPIzs4mOjoaLy8vJk+eDICrqyuZmZmsWLECX19fqlWrhpeXF3PnzuXhw4fo6+sDsH37doyMjNT67mm//fYbP//8M8uXL1fKtGrVioSEBCIjI3Fzc3vhZ6GoJk6cyIEDB1i1ahXBwcGYmZmRm5vL7Nmz6dKlCzNmzFDKmpqa4uvri7+/PxYWFpw+fRpXV1e1NQ86depU7BiEEEIIIUTFVaZT3F+0N3BmZqas4i7KTbVq1ahbty7z589n69atxRotNTY2VkvO09PTOX78OJ07dyY7O1vZH7thw4bUrl2b06dPK2UPHTpEv379aNq0KZaWlrRp0wZ4MhL8tPfff19t1L5hw4YAuLi45Dv2othr1qypJMwA7733HgB37twBUOLz8PBQymhqatKuXbvn1luUtgqK29DQEBMTEyXuy5cvk5SUpDYyDtClSxcyMzM5deoUAJ6enmRmZrJv3z6lzM6dO+nYsWOhawAcPnwYY2NjWrRoobZ3uYuLC+fPnyc7O/ulPgtPq1atGn369KFKlSr4+PgAcOXKFW7evImnp6da+87OzmhqaiqPGlhaWnLo0CEiIyM5deqUMrVfCCGEEEK8PUp9BP3hw4ekpKQor5OTk7l161a+cikpKezcuRNTU9PSDkGIItHQ0GD58uWEh4cTGhpKWloaVlZWBAcH4+Tk9Nxra9SoofY6JSWF7OxswsLC1EbI89y+/WQV7VOnTuHv74+HhwdDhw6levXqaGho0KdPHx4/fqx2zbOrkOdNRTcwMFCO5SWlz177rMLqyrsuISEBbW1ttbqBEi22VpS44Unsee0/ePAAgOrVq6uVyXudd97U1JTmzZuzY8cOevTowYULF7h06dJzt5RLSkoiOTkZKyurAs8nJCRgZmZW4s/Cs7S1tdHU1ERLS0tpHyh0Qcy8z8bw4cPR1NRk69atREVFYWJiwoABAxgxYoQyI0MIIYQQQrzZSj1BX7VqFdHR0cCTBOjLL7/kyy+/LLBsbm5uuW4/JIS5uTkLFy4kMzOT2NhY5s+fz7Bhw/jll1+ee92zCZOBgQEaGhr4+fkVONW8WrVqwJOt2/T19YmIiFBmj9y8ebOU7qbkTE1NyczMJDU1VS2RfnqhtbJkbGxcYHt5C+wZGRkpx7y8vAgJCSEpKYkdO3ZgamqKs7NzoXUbGRlhYmLC0qVLCzyf9yXE8z4LL7MKe969TZkyBVtb23zna9asCTz5wiIgIICAgACuXbvG5s2biYyMpF69espjB0IIIYQQ4s1W6gl6q1at0NPTIzc3lzlz5uDl5ZVv5EpDQwNdXV2srKywsbEp7RCEKDZtbW2cnZ3x9fVl+PDh3L17F21t7ReOTOfR09PD3t6ey5cvP/cz/ejRI7S1tdUS/GdXEy8P1tbWwJOdF/KSwZycHA4cOPBK2jc3N8fExITdu3fToUMH5fiuXbvQ1tZWS2w7duxISEgIe/bsYceOHXTp0uW5j8q4uLjw9ddfo62tzfvvv//CWAr6LJibm5f43t59913MzMy4ceOG2vPlz9OgQQPGjRtHTEwMly9fLnHbQgghhBCiYin1BN3BwQEHBwfgyXO5HTt2pHHjxqXdjBAv7cKFC8yaNYsuXbrwzjvv8PDhQ5YsWULdunWpX78+jRo1YvPmzWzfvp0GDRpQrVo16tWrV2h9EydOZNCgQYwZMwYvLy8MDQ2Jj4/nyJEjeHt707x5c1q1asXq1av54osv6NChA7GxsWzbtu0V3nXBLCws6NChA9OnTyc9PZ06derw3Xff8ejRo1cyvVpLSwt/f3+mT5+OiYkJbm5unDhxgmXLljFo0CBlBgI8GRFv3bo10dHR3L17l65duz637latWtGuXTs++eQTPvnkE1QqFenp6fz9999cu3aNGTNmvPCz8DI0NDQICgoiMDCQtLQ02rZti66uLrdu3eLQoUOMHTsWc3Nz/P39sbKywtLSEl1dXQ4cOMCDBw9KtFidEEIIIYSomMp0FffnbXskRHkzNTWlRo0aLFmyhDt37mBgYECzZs2YM2cOWlpa9OrVi1OnTvHFF1+QnJxMz549mTlzZqH1OTo6sn79eiIjIwkODiYzMxMzMzNatGhBgwYNAHBzcyMwMJB169axZcsWHB0dWbJkyWuxWveXX35JaGgos2fPRkdHh549e2JhYcE333zzStr38fGhUqVKrFq1im+//RZTU1NGjhzJsGHD8pXt2rUrP//8M/Xr1y9w2vizFi5cyNKlS/n222+5efMmBgYGWFhY4O3tDbz4s/CyPD09MTQ0ZPHixcqMibp169K6dWtlPQNHR0d27drFypUryc7OxtzcnLlz56otrlcS7z6zXsKb6G24RyGEEEK8HTRyX7TUein4888/OXfuHKmpqflWJtbQ0Ch08SQhRPkaMGAAmpqarF27trxDEcWUtzL/2/IYUXZODlqlsCtIWloa58+fp0mTJujp6ZVCZG8H6beSkX4rPumzkpF+Kxnpt5J5G/utNP/uKtMR9OTkZPz8/Dh16hS5ubloaGgoW6/l/SwJuhCvhz179nD79m0aN25Meno627dv57///a+y6KOoeDIyMkhPT0dXV7e8QylzpZGcCyGEEEKUtzJN0GfPns1ff/3FvHnzsLW1pX379ixfvpx69eqxatUq5RlTIUT509PTY9u2bVy9epXMzEzeffdd5syZo6xKn52dzfMm3FSqVKb/nZSrrKysQs9paGiUyjR4IYQQQgghyvQv6l9++YW+ffvSpUsXZS9gTU1NGjRowNSpUxk5ciRffvkl8+fPL8swhBBF0Lp1a1q3bl3o+cGDB/P7778Xen7//v3PXUSvooqLi8PDw6PQ887Ozq/tIwA6Ojpv9Oh5aU1rF0IIIYR4XZRpgp6SksJ7770HoOwj/M8//yjnW7VqRXh4eFmGIN5ix44dIzY2tsBFxspTYXFFRkayYsUKYmNjy6ztZs2aMWjQIAICAopUXqVSATBt2jRCQkLUfn9PnjzJF198AcCiRYuU/byLIigoiDNnzrB9+3YAtmzZQnBwMEePHlX2JS+plJQUnJycCAsLUxaBK4m89+PYsWNs2rSp0HIvs0f609zd3Wnbti1TpkwplfryBG/fzOX790q1ztfBu9VrENb13+UdhhBCCCFEqSrTBL1mzZrcu/fkD0MdHR2qV6/OhQsXlCmzd+7ceSVbOIm30++//86KFSteuwT9dY2rMHp6euzcuZP+/furHV+/fj16enqkpaWhUqnQ0dEpcp3+/v6kpaWVdqhlQkdHp0IvtHb5/j0u3Lld3mEIIYQQQogiKNME3cnJiSNHjjB8+HDgyVZDy5cvR0tLi5ycHFavXv3cKbVCiPLn4eHBjh07uHPnDrVq1QKeLD72008/0b59e3744Ydi1/mye4sLIYQQQgjxJirTh/cGDx6Mu7s7GRkZAAQEBGBnZ8eCBQuIjIzE2tqayZMnl2UIgifTibt27cqhQ4fo2rUrNjY2eHt7c+LECbVy33//Pf3798fZ2RknJyd8fHw4deqUcv6vv/5CpVJx+PBhteuys7Np3bo1s2fPBp5MDXZwcODcuXP07dsXW1tbevbsyblz53j8+DFTp07FycmJNm3asGrVqnzxxsbGMnDgQOzt7WnatCnjx4/n/v37yvm4uDhUKhXbtm0jNDQUJycnXF1dmTVrlrKYV2RkJFFRUcrorkqlwsfHp0j95e7uTmhoKKtWrcLNzQ0HBweCgoLIyMjg/Pnz9OvXD3t7e3r16sVff/2ldm1ubi7Lly+nU6dOWFtb4+HhoXaPRYnrr7/+on///tjZ2dG1a1d+/fVXtfM5OTksWrQId3d3rK2t6dy5Mxs2bMh3H/v27aNz587Y2Ngoe7qXRJMmTWjYsCE7d+5Ujh06dIjc3Fzatm2br/yKFSv497//TdOmTWnZsiV+fn5cuXJFrUzeZ/J5MjIymD9/Pu3atcPa2hpPT09lD/Gnfffdd7i7u2NnZ8egQYO4du1ake4rJyeHlStX4unpibW1Na1atWLUqFGkpqaqlXvR+wFPpuh369YNGxsbWrduTXh4ONnZ2Wpl7ty5w8SJE3FxccHW1pbOnTuzevXqQuNLSkri3//+N97e3iQmJhbpnoQQQgghRMVWpiPoeQlIHiMjI1atWkVKSgqampro6+uXZfPiKQkJCYSEhBAQEIChoSHLli1jyJAh7N27l+rVqwNPEt8ePXpQv359MjIy2LFjBwMGDOCHH37A3NwclUqFnZ0dmzdvplWrVkrdv/76K3fv3uXf//6/50EzMzP59NNPGTx4MDVq1GDu3LmMHDkSR0dHqlevTkREBPv37ycsLAxbW1scHR2BJ8m5j48Pbm5uhIeHk56eTkREBP7+/sTExKjdU0REBB4eHkRERBAbG0tkZCT169enf//+9O7dm/j4eLZv364kQcX5vO3fvx8LCwtCQ0O5ceMGM2fORFtbmxMnTqjd0+jRo9m5cyea/3+hqhkzZrBx40aGDRuGnZ0dx48fZ+7cuVSuXLlIcWVmZhIYGMjAgQPx9/dn2bJljBo1ip9//plq1aoBT3ZHWLNmDcOHD8fBwYGDBw8ydepUsrKy+PDDDwE4f/48o0aNok2bNgQHBxMXF8eYMWOUL8uKy8vLi+3bt/PRRx8BsH37djp06EDlypXzlY2Pj+fDDz+kTp06PHz4kA0bNtCvXz/27NmDsbFxkdscPXo0x48fZ8SIETRq1IhDhw4xYcIEDA0NcXNzA+DAgQN8/vnneHt706VLF86ePcvo0aOLVP8XX3xBTEwMgwYNolWrVvzzzz8cPHiQtLQ0DAwMgKK9HytXrmTOnDkMGjSIoKAgLl26pCTogYGBwJNku2/fvgCMHTuWevXqce3aNa5fv15gbAkJCXz88cfo6+uzdOlSJR4hhBBCCPFmK5d9kQwNDcuj2bdacnIyERERtGzZEniy8rSbmxurVq1i/PjxAIwcOVIpn5OTQ6tWrTh16hRbt25l3LhxAPTu3ZsvvviCBw8eYGRkBMDmzZtxcHCgUaNGyvV5iU1eIpWTk6MkrcHBwQC0aNGC3bt3s3v3biVBnzdvHtbW1kRFRSnrEzRu3FiZAZBXH4Ctra0yA6NVq1YcO3aMPXv20L9/f8zMzDAzM0NTUxN7e/sS9dmiRYuU56p///13vvvuO5YtW0abNm3U7ul///sf77//PtevX2fdunWEhIQoyZiLiwuPHj0iOjqavn37vjCuZ/vN3NwcDw8PfvnlF7p3705iYiLr1q1jyJAhykJvrq6uJCUlER0dTf/+/dHS0mLp0qXUrl2b6OhoZQuwypUrM2nSpBL1RdeuXYmMjOT69etUr16dgwcPEh0dzaNHj/KV/eyzz5Sfs7OzadWqFS1btmTPnj1Kv7zIb7/9xs8//8zy5ctxdXUFnrzHCQkJREZGKv3z1Vdf0axZM8LCwoAnK9E/fvyYRYsWPbf+K1eu8O233zJ27Fj8/PyU4506dVIr96L34+HDhyxcuJBPPvlE+R1p1aoV2trazJw5kyFDhlCtWjVWrVrF/fv32bVrl7LSfd7v4rNu3brF4MGDqVu3LtHR0ejp6RWpz4QQQgghRMVX5vvT3Lp1iylTptCpUyecnZ35448/AEhMTGT69OmcO3eurEMQgIGBgVpCYGBggIuLCydPnlSOXbp0iREjRuDi4kKTJk2wsrLiypUrXL16VSnj5eVFpUqVlNW3ExMTOXDgAL169VJrT1NTU629hg0bAk8S1jxaWlrUr1+f+Ph4ANLT0zl+/DidO3cmOzubrKwssrKyaNiwIbVr1+b06dNqbeQlbnkaNWqk1PWynJyc1BY9a9iwIZqamrRo0SLfPd2+/WQBriNHjgDQsWNHJfasrCxcXFxISEhQyj3Ps/1Wr149qlSpwp07dwA4deoUmZmZdO7cWe06T09PEhMTlffq5MmTtGvXTm1/7mevKY6GDRtiZWXF9u3b2bdvH1WrVi00wTxx4gQfffQRzZs3x9LSEjs7O9LS0tQ+Ry9y+PBhjI2NadGiRb6+PH/+PNnZ2WRnZ3P27Fk6dOigdu2zSXZBfvvtN3Jzc/N9bp/1ovcjNjaWtLQ0OnfunC/OR48ecfHiRQCOHj1KixYtXrgN3fXr1xkwYACNGjViyZIlkpwLIYQQQrxlynQE/e+//2bAgAHk5ORga2vL9evXlWeETUxM+PPPP0lLS+PLL78syzAEFLh1VfXq1bl06RIADx8+5OOPP8bExISgoCDq1KlD5cqVmTx5Mo8fP1au0dPTo2vXrmzatEmZ/q6trY2np6da3VWqVFFLcLW1tQHyTdXV1tZW6k9JSSE7O5uwsDBlRPRpzya4BdVV0incz3p2loe2tnah95QXf1JSErm5uWpJ/NNu375N3bp1n9vus23ktZPXxoMHDwCoUaOGWpm818nJycCTKdJ5jy7k0dfXL3BKelF17dqVzZs3U6dOHTw9PdWS/zy3bt3i448/xtrampCQEGrWrIm2tjZ+fn5qn6MXSUpKIjk5GSsrqwLPJyQkoKWlRVZWVr7P9rN9U5Dk5GQqVaqUr4+e9aL3IykpCYCePXsWeH3eZzY5ORkLC4sXxnX69GmSk5OZNGlSsVbFF0IIIYQQb4YyTdDnzJmDgYEB3333HaA+egrg5ubGrl27yjIE8f8VtMjU/fv3MTU1BZ6MesbHx7NkyRLef/99pUxqaipmZmZq1/Xu3ZuYmBguXLjAli1b8PT0LJW9oA0MDNDQ0MDPz0/Ziu9pec/8vq6MjIzQ0NBg/fr1SvL+NHNz85duI+8Z7vv37ysrqgPKdoZ5501NTdUW1oMnX8IUJ0l+VpcuXZg9ezaXL1/mm2++KbDMr7/+SlpaGlFRUcqXHFlZWcoXC0VlZGSEiYkJS5cuLfC8iYkJWlpaVKpUKd9nO68vnsfY2JisrCzu37//wiT9RXECREVF5fs9AZQRc2NjY+7evfvC+ry8vNDS0mLcuHEsWbKk0FkKQgghhBDizVSmCfoff/zBiBEjMDExUUaanlanTh1lqqgoW6mpqRw9elT5gz81NZUjR44wYMAAAOVZ4qcTy+PHj3Pz5s18I382NjY0adKE6dOn89dffzF16tRSiVFPTw97e3suX75cKvtOl+aIelHk9W1ycjLu7u6FlnuZuGxsbNDW1mb37t1YWloqx3ft2kX16tWVafe2trYcOHCA4OBgZaR79+7dJWozj5mZGYMGDSIxMVFZM+BZjx49QkNDg0qV/u+/ll27dikzZ4rKxcWFr7/+Gm1tbbUvjJ5laWnJTz/9xODBg5Vje/bseWH9LVq0QENDg82bN+Pr61us2J7m4OCArq4u8fHx+abaP61ly5asWLGCW7duUadOnefWOWnSJB4/foy/vz9ff/01TZs2LXF8QgghhBCiYinTBD03N5cqVaoUej4xMVGmcb4ixsbGTJo0iVGjRmFgYMCyZcvIzc1l0KBBANjb26Onp0dISAi+vr7cuXOHyMhItVHap/Xu3ZvQ0FDMzc1LNYGYOHEigwYNYsyYMXh5eWFoaEh8fDxHjhzB29ub5s2bF7muRo0akZWVxerVq3FwcEBfX59333231GJ9lrm5OQMGDGDixIkMGTIEOzs7MjMzuXr1KseOHVMWLnuZuExMTPjwww9Zvnw5Ojo62Nvbc+jQIbZv387nn3+uJOO+vr706tWLESNG0L9/f+Li4li+fPlLTXEHlAX+CpM3vT84OJh+/fpx8eJFVq5cWeyFIVu1akW7du345JNP+OSTT1CpVKSnp/P3339z7do1ZsyYAcCwYcPw9/cnODhYWcV927ZtL6zf3Nycfv36sWDBAh48eEDLli159OgRBw8eJCAgoNDP/bMMDQ0ZNWoUc+bMIT4+HmdnZ7S0tLhx4wb79+8nMjISXV1dBg8ezLZt2/jwww8ZPnw477zzDjdu3ODq1atMmDAhX70hISE8fvwYX19fVq5cia2tbbH6TwghhBBCVExlmqBbWlpy6NAhZZT2aVlZWezYsQM7O7uyDEH8f6ampgQGBjJ79myuX7+OhYUFy5cvV57XrVGjBgsWLGD27Nn4+/vTsGFDQkJC+Prrrwusr0OHDoSGhqptrVYaHB0dWb9+PZGRkQQHB5OZmYmZmRktWrSgQYMGxaqrXbt2fPDBByxdupT79+/j5OTE2rVrSzXeZ02ePBlzc3NiYmKIjo6matWqmJubqy3Q9rJxTZw4EQMDAzZt2sTixYupW7cuISEh9OvXTyljaWnJggULlO3tLCwsCA8PZ8iQIaV6v89SqVSEhYURFRWFn58fTZo0YcGCBYwZM6bYdS1cuJClS5fy7bffcvPmTQwMDLCwsMDb21sp4+HhQUhICIsXL1b+P4mIiKB3794vrH/KlCnUq1ePjRs3snr1aoyNjXFycir24xoff/wxtWrVYuXKlaxbt45KlSpRv3592rZtq8xIqVatGt9++y3z5s1j7ty5pKenU7duXT744IMC69TQ0ODLL78kIyODTz75hDVr1jx3JsHzvFv9xc/kV0Rv6n0JIYQQ4u2mkZubm1tWlR86dIhhw4bRp08fvLy8GDhwIHPnzsXExITFixfz559/smrVKpycnMoqBAEEBQVx5swZZeX10rBp0yamTp3KwYMHlefYhRCvj7xdD0rjcZHXVXZODlqapbsZSVpaGufPn6dJkyayin4xSL+VjPRb8UmflYz0W8lIv5XM29hvpfl3V5mOoLu5uREWFsaXX36pLBQ3YcIEcnNz0dfXZ9asWZKcVzBxcXFcu3aNRYsW4enpKcm5EK+xjIwM0tPT0dXVLe9QykRpJ+dCCCGEEOWt1BP0+fPn06VLF2U6Zo8ePejYsSNHjhzh6tWr5OTkUL9+fVxdXdHX1y/t5kUZi4qKYvv27Tg4OBAUFFTe4RTb8xYr09DQKHDrsDdRbm4u2dnZhZ7X1NREU5IfIYQQQgghXqlS/wt86dKlXLx4UXmdlJRE06ZNqVq1Kp988gm+vr507txZkvNXaObMmaU2vX3mzJmcOXOGtWvXFmm/6deNlZVVof8KW4U7JSUFlUrFli1bSjWWLVu2oFKpCtwCr6z9/vvvz+2Lzz777KXqP3/+PJGRkaSnp5dSxEWrv7z6NCgoiBYtWij70D9t1qxZODg4EB8f/0pjAtDR0XljR8+zc3LKOwQhhBBCiFJXplPc85ThY+5CFMumTZsKPfeqdxRo27YtMTExxV7hvDRYWVk9ty9eds/58+fPExUVxYABA8okQSys/vLq04kTJ3LgwAHmzJmjrDAP8Ndff7FmzRomTJhQ4D7pr8JnuzZxOfHFe8NXJO+a1OBLz17lHYYQQgghRKl7JQm6EK+L12nBLBMTE0xMTMqlbX19/WL3RXZ2Njk5OcrK5K+j8upTExMTgoKCCA4Oxtvbm6ZNm5Kbm8u0adNQqVT4+Pi88pjyXE68x4WE2+XWvhBCCCGEKDp5yFSIZ3z33Xe4u7tjZ2fHoEGDuHbtWr4yW7ZsoVu3btjY2NC6dWvCw8OVZ7rj4uJQqVTs3r0733Xe3t6MGzdOqePZ6dgZGRmEh4fj4eGBtbU1bdq0yfesf2xsLAMHDsTe3p6mTZsyfvx47t+/X+T7i4yMxMHBgVOnTtGrVy9sbGzw9PTkwIEDauV8fHzw8/Nj69atdOrUCRsbGy5cuADAhg0b6NSpE9bW1ri7u7No0SJy/v+U4y1btij7pbds2RKVSoW7u7tSb3x8PIGBgTRv3hxbW1sGDBjAmTNn8sX5/fff06NHD2xsbGjevDlDhw7l5s2bz62/oD5NTk4mODhYaa9fv3788ccfBd7r7t276dSpEw4ODgwcOJDr168XuV979uyJs7Mz06ZNIysri82bN3Py5ElCQ0PR0tIiJSWFadOm4erqirW1Nd7e3vznP/9Rq+PPP/9kwIABNG3aFAcHB7p168bWrVuLHIMQQgghhKjYymQE/ebNm5w9exaA1NRUAK5du1botFMrK6uyCEOIYjtw4ACff/453t7edOnShbNnzzJ69Gi1MitXrmTOnDkMGjSIoKAgLl26pCTogYGB1KtXD3t7e3bu3Km2//nVq1c5e/YsI0eOLLT9gIAAfvvtN/z8/LC3tycxMZG9e/cq52NjY/Hx8cHNzY3w8HDS09OJiIjA39+fmJiYIt9nZmYmY8eO5eOPP6ZevXp8++23jBw5Uklw85w5c4abN28yevRoDA0NqV27NmvXrmX69On4+PjQtm1bYmNjiYqKIjU1lU8//ZS2bdsyfPhwvvrqK77++msMDAyUxwcePHjABx98gJ6eHp9//jkGBgasXbuWQYMGsXfvXqpXrw7A119/zZw5c+jVqxdjx44lMzOT3377jcTExOfW/6zs7GyGDh3KjRs3CAwMpEaNGqxdu5aPPvqIDRs2YG1trZQ9f/48iYmJBAYGkp2dzcyZM5kwYUKx+jUkJIR//etfhIeHs2nTJgYMGIC1tTUZGRl89NFH3L9/nzFjxlCrVi1++OEH/Pz8lD5/+PAhfn5+NG3alPnz56Ojo8Pff/9NSkpKkdsXQgghhBAVW5kk6AsWLGDBggVqx0JCQvKVy83NRUNDg/Pnz5dFGEIU21dffUWzZs0ICwsDoHXr1jx+/JhFixYB8PDhQxYuXMgnn3yijIS3atUKbW1tZs6cyZAhQ6hWrRpeXl7MnTuXhw8fKgsibt++HSMjI1xdXQts+/Dhwxw8eJB58+bRtWtX5fjTP8+bNw9ra2uioqLQ0NAAoHHjxnTt2pVDhw7h5uZWpPvMzMxk+PDh9Or15DleV1dXOnbsyJIlS5g/f75S7sGDB2zatInatWsDTxLe6OhovLy8mDx5snJtZmYmK1aswNfXFxMTE+rXrw88+fLt6Snnq1evJiUlhY0bNyrJeMuWLenUqRPLly9n4sSJpKamEhUVRd++fQkNDVWubd++vfJzYfU/6+DBg5w6dYqvv/6a1q1b57vXyMhIpWxqairff/+9Ul9aWhrBwcHEx8cX+flxc3Nz/Pz8iIyMxMzMjDFjxgDw448/cuHCBbZt28Z7770HPPls5W1ZuGDBAq5cuUJqairjxo1TviRp2bJlkdoVQgghhBBvhlJP0PMSGyEqmuzsbM6ePcuECRPUjnfq1ElJ0GNjY0lLS6Nz585qW7a5uLjw6NEjLl68iLOzM56enoSFhbFv3z569OgBwM6dO+nYsWOho71Hjx5FV1cXLy+vAs+np6dz/PhxJk6cqLZFWsOGDalduzanT58ucoIOqK1ar6WlRfv27dm3b59amcaNGyvJOcDly5dJSkpSmxkA0KVLF5YsWcKpU6eeG8Phw4dp3rw5RkZGSv9pamri5OTE6dOngSd9nJ6ernx58DL++9//oq+vryTnANra2nTo0CHfzgbvv/++WrKfl0gXJ0EH8PX1JTIykv79+1O1alXgyX03btyYhg0b5vvc/PDDD8CTLx309fWZNm0aPj4+tGjRotzWKBBCCCGEEOWj1BP0nj17lnaVQrwSiYmJZGVl5UuKnt5OLikpCSj8c3779pPFuExNTWnevDk7duygR48eXLhwgUuXLjFlypRC209OTsbU1FQZGX9WSkoK2dnZhIWFFfhFWF7bRaGtrY2RkZHaserVq5OQkKB27Nmt9B48eKCUffbap88XJikpiRMnThT4WEveqHjeVmU1a9Z8wV28WEpKSr5Y4cl9PRvrs4/g5C2G9/jx42K1mfcFzNOL6SUlJXHu3LkC71tLSwsAIyMjVq5cycKFC5UvYZo1a8bkyZPVHjsQQgghhBBvLlnFXYj/z8TEhEqVKuXbQ/vevf/boiovqY2KiipwVLVevXrKz15eXoSEhJCUlMSOHTswNTXF2dm50PaNjY1JSEhQHv14loGBARoaGvj5+alN985TnK3RMjMzefDggVqSfv/+fUxNTdXKPRuHsbExQL4+yluk7tmk/1lGRka0bt0633P98H+JbV4bd+/efemtyYyMjApcQO/evXsvjLU0GRkZoVKp1LZgK4itrS1ff/01jx494tixY8yaNYsRI0bkm9kghBBCCCHeTLKKuxD/n5aWFpaWlvz0009qx/fs2aP87ODggK6uLvHx8djY2OT793SS3LFjR+X6HTt20KVLFzQ1C/+Vc3FxIT09nV27dhV4Xk9PD3t7ey5fvlxg209/OVAUT99ndnY2+/btw87O7rnXmJubY2Jikm+F+l27dqGtrY2trS3wf6PHGRkZ+e7x0qVLNGrUKF/8eaPEeX28efPmQuMorP5nNW3alIcPH6qtlp6VlcW+ffto2rTpc68tTS4uLty4cYOaNWsW+N49q0qVKri5udG/f3/i4uKKPYovhBBCCCEqJhlBF+Ipw4YNw9/fn+DgYGUV923btinnDQ0NGTVqFHPmzCE+Ph5nZ2e0tLS4ceMG+/fvJzIyEl1dXeD/Roujo6O5e/eu2mJvBXFxccHNzY3PPvuM69evY2dnR3JyMnv27CEiIgKAiRMnMmjQIMaMGYOXlxeGhobEx8dz5MgRvL29ad68eZHuU1tbm6+++orHjx8rq7jHx8cTHR393Ou0tLTw9/dn+vTpmJiY4ObmxokTJ1i2bBmDBg1SvqBo1KgRAN988w3t27enSpUqqFQqBg8ezI8//siHH37IwIEDqVOnDomJiZw8eZJatWoxePBgDAwMGDFiBHPnziU3NxcPDw9ycnI4duwYXl5e2NjYFFr/s9q2bYutrS0TJkxg/Pjxyirud+/eZeHChUXqq9LQo0cPNmzYwMCBA/n4449p2LAhqampnDt3jszMTMaPH8/BgwfZtGkT7du3p06dOty7d49169bh6OhI5cqVX1msQgghhBCi/EiCLsRTPDw8CAkJYfHixezYsQM7OzsiIiLo3bu3Uubjjz+mVq1arFy5knXr1lGpUiXq169P27Zt1Z47hicrsP/888/Ur19fGV1+nsjISKKiooiJiSEqKorq1avTqlUr5byjoyPr168nMjKS4OBgMjMzMTMzo0WLFjRo0KDI96mtrc38+fMJCQnhf//7H/Xq1WPhwoW8//77L7zWx8eHSpUqsWrVKr799ltMTU0ZOXIkw4YNU8pYWloSEBDAxo0b+frrr6lduzY///wz1apVIyYmhoiICObOnUtycjLVq1fHzs5ObdG6oUOHYmJiwqpVq9iyZQtVq1bFwcFBeZ68sPqfpaWlxdKlS5k9ezZz5swhLS0NKysrVqxYobbFWlnT0dFhzZo1REZGsnjxYhISEjA2NsbS0pIPPvgAePIMvqamJhEREdy/fx9jY2NcXV2V3QJK6l2TGi8uVMG8ifckhBBCCAGgkZubm1veQQghXp3IyEhWrFhBbGxseYciylDeqvgFTaF/E2Tn5KD1nEdGSiotLY3z58/TpEkT9PT0Sr3+N5X0W8lIvxWf9FnJSL+VjPRbybyN/Vaaf3fJM+hCCPGGysjIID09vbzDKBNlkZwLIYQQQpQ3meIuxBskJyeHnJycQs/nbekliqco/VrY9njlTSZJCSGEEEJUHJKgC/EG+eyzz9i6dWuh59esWUNAQAABAQGvMKqKryj9WtQF+l611/WLAyGEEEIIkZ8k6EJUEEFBQZw5c4bt27cDsGXLFoKDgzl69CgmJiYAjBw5kgEDBhRah7m5+SuJ9XXxbB+lpKSwevVqPD09ee+994pcz4v6ddWqVYwePZrdu3cr+7jnmTVrFhs2bGDXrl0vva97ceno6Ci7CrxpyuoZdCGEEEKI8iQJuhAVVNu2bYmJicHQ0FA5Vq9evWLvh/4me7aPUlJSiIqKwsLColgJ+ov6ddKkSXh6ejJnzhxmzJihHP/rr79Ys2YNEyZMeOXJeZ7J+zZyJSmhXNouK+bVTJnevveLCwohhBBCVDCSoAtRQZmYmCgj50JddnY2OTk5r6yPTExMCAoKIjg4GG9vb5o2bUpubi7Tpk1DpVLh4+NT5jEU5kpSAhfu3S639oUQQgghRNHJ/EAhXoG9e/fSvXt3bGxscHV1JSwsjMePHwNw7NgxVCoVhw8fZvz48Tg4ONCuXTuWLVv23Dq3bNmCSqUiMTERgLi4OFQqFdu2bSM0NBQnJydcXV2ZNWsWWVlZatdeunSJ4cOH07RpU+zt7fH19eX69etFvp+UlBQmT55M69atsbGxwc3NjbFjx6qViY+PJzAwkObNm2Nra8uAAQM4c+ZMvrq+//57evTogY2NDc2bN2fo0KHcvHkTeLIlnIODQ75rmjVrRmRkpPLax8cHPz8/tm7dSqdOnbCxseHChQtqfRQXF4eHhwcAo0ePRqVSoVKpiIuLw9vbm/Hjx+drZ86cObi6upKdnf3CPunZsyfOzs5MmzaNrKwsNm/ezMmTJwkNDUVLS4uUlBSmTZuGq6sr1tbWeHt785///Eetjj///JMBAwbQtGlTHBwc6Nat23OffRdCCCGEEG8WGUEXoozt37+fUaNG4eXlxfjx47l8+TLh4eHcvn2bhQsXKuWmTp1K9+7diY6OZt++fcydOxeVSkWbNm2K1V5ERAQeHh5EREQQGxtLZGQk9evXp3///gDcuHGDfv36YWFhwcyZM9HQ0GDx4sUMHjyY3bt3o6Oj88I2wsLC+PXXXxk/fjx169YlISGBX375RTn/4MEDPvjgA/T09Pj8888xMDBg7dq1DBo0iL1791K9enUAvv76a+bMmUOvXr0YO3YsmZmZ/PbbbyQmJlK3bt1i3feZM2e4efMmo0ePxtDQkNq1a3Px4kXlfM2aNYmKimLkyJGMGzdOWdStZs2a9O7dm5kzZ5KamoqBgQHwZBR+27Zt9OzZs8ir34eEhPCvf/2L8PBwNm3axIABA7C2tiYjI4OPPvqI+/fvM2bMGGrVqsUPP/yAn5+f8iXCw4cP8fPzo2nTpsyfPx8dHR3+/vtvUlJSitUPQgghhBCi4pIEXYgyFhUVhb29PfPmzQOgTZs26OrqMmXKFP766y+lXMeOHZXV1Vu2bMnBgwfZs2dPsRN0W1tbJk+eDECrVq04duwYe/bsURL0qKgojIyMWLlyJZUrVwbA0dERDw8PNm7c+NzF0PKcPn2arl270rNnT+WYl5eX8vPq1atJSUlh48aNSjLesmVLOnXqxPLly5k4cSKpqalERUXRt29fQkNDlWvbt29frPvN8+DBAzZt2kTt2rULPK+jo0OTJk0AaNCgAfb29sq5bt26MWvWLH788Uc++OADAA4dOkRCQgL//ve/ixyDubk5fn5+REZGYmZmxpgxYwD48ccfuXDhAtu2bVOefW/dujXXrl1j0aJFLFiwgCtXrpCamsq4ceNQqVTAkz4TQgghhBBvD5niLkQZ+ueffzh//jydOnVSO96lSxfgyZTmPK6ursrPGhoaNGrUiPj4+GK3+XQ9QL56Dh8+jLu7O1paWmRlZZGVlYWhoSGWlpYFTkEviKWlJVu3bmX58uX873//y3f+8OHDNG/eHCMjI6UNTU1NnJycOH36NACxsbGkp6fTq1evYt9jQRo3blxocv4i+vr6eHp6snnzZuXYli1baNasGQ0bNixWXb6+vgD079+fqlWrAk/6o3HjxjRs2FDpj6ysLFxcXJT+qF+/Pvr6+kybNo2dO3cqjy4IIYQQQoi3h4ygC1GGUlNTyc3NVUaR8xgYGKCjo8ODBw/Ujj1NW1ub1NTUYrdZUD0ZGRnK66SkJFavXs3q1avzXautrV2kNj7//HNlFH727NnUrl0bX19fZfQ5KSmJEydOYGVlle/a+vXrA5CcnAw8mWJeGmrUqPFS1/fp04d+/fpx4cIFatasycGDB9VG9osq7xGBp/syKSmJc+fOFdgfedPn8/pz4cKFTJw4kezsbJo1a8bkyZOVEXUhhBBCCPFmkwRdiDJkYGCAhoZGvtHQ1NRUMjIyMDIyeuUxGRkZ4ebmpiTTT8sb8X0RAwMDJk2axKRJk5StxEJCQmjcuDHNmjXDyMiI1q1bM3r06HzX5iWwefuF3717t9AtyCpXrkxmZqbasczMTNLS0vKV1dDQKFLshXFwcMDCwoLNmzdTp04ddHR06Ny580vVmcfIyAiVSqW2BVtBbG1t+frrr3n06BHHjh1j1qxZjBgxgn379pVKHEIIIYQQ4vUmCboQZahq1ao0adKE3bt3M3jwYOX4rl27AGjatKkykvyqtGzZkosXL2JpaVnkxc+eR6VSERwczKZNm7h06RLNmjXDxcWFH374gUaNGqGnp1fgdQ4ODujq6rJ582ZsbW0LLFOrVi0yMzO5fv26MvL+22+/FWlV9YLkjWrnraD/rN69e/PVV19RvXp1unTpUmjsxeXi4sKhQ4eoWbMmtWrVemH5KlWq4ObmxvXr15kxYwaPHz9W1gsQQgghhBBvLknQhShjI0eOZMSIEQQGBvKvf/2LK1euEB4eTqdOnVCpVBw7duyVxjNq1Ch69erFkCFD6NOnDzVq1ODevXv8/vvvNGvWjK5du76wjn79+tGhQwcsLCzQ0tLi+++/R1tbm2bNmgEwePBgfvzxRz788EMGDhxInTp1SExM5OTJk9SqVYvBgwdjYGDAiBEjmDt3Lrm5uXh4eJCTk8OxY8fw8vLCxsaGNm3aoKenx+TJkxk6dCjx8fGsWbOmxMmqqakphoaG7Nixg3r16qGjo4NKpVJG9bt3787cuXNJSkp64Wh3cfTo0YMNGzYwcOBAPv74Yxo2bEhqairnzp0jMzOT8ePHc/DgQTZt2kT79u2pU6cO9+7dY926dTg6OkpyLoQQQgjxlpAEXYgy5uHhwYIFC4iOjsbf3x9jY2P69OlT4L7br0KDBg3YuHEjERERhISEkJaWhqmpKU5OTkV+1tnR0ZHvv/+euLg4NDU1ady4MYsXL6ZRo0YAVKtWjZiYGCIiIpg7dy7JyclUr14dOzs7OnTooNQzdOhQTExMWLVqFVu2bKFq1ao4ODgoz+xXq1aNhQsXKlO9mzRpwuzZs/Hx8SnRvWtqahIWFsb8+fMZPHgwGRkZ7N+/n3r16gFPpt07OzsTHx+vtsr7y9LR0WHNmjVERkayePFiEhISMDY2xtLSUnnUoH79+mhqahIREcH9+/cxNjbG1dWVcePGvVTb5tVMS+MWXitv4j0JIYQQQgBo5Obm5pZ3EEII8Tp4+PAhrVu3JiAggI8//ri8w3kpeavD29jYlHMkZSM7JwctzdLfiCQtLY3z58/TpEmTUnvE4W0g/VYy0m/FJ31WMtJvJSP9VjJvY7+V5t9dMoIuhHjrPXz4kEuXLrF+/Xo0NDTw9vYu75BKRUZGBunp6ejq6pZ3KKWuLJJzIYQQQojyJgm6EEJNTk4OOTk5hZ7X0tJ66RXTXzdnz55l4MCB1K5dm1mzZikrzOd5G/tECCGEEEK8epKgCyHUREdHExUVVej5sLCwN2aEOU/z5s3566+/Cj3/2WefsXXr1kLPr1mzhubNm5dFaC9FR0fnjRw9L6vp7UIIIYQQ5U0SdCHeQCkpKTg5OZUome7Tpw9t27Yt9HzegmplqVmzZgwaNIiAgIBSr3vfvn3cuXOHAQMGFPmakSNHFlr+5s2bfPLJJ/j5+TFy5Ei1c3fv3sXT0xNvb28mTZr0UnGX1LRDG7n64G65tF0WGhrVZJpb7/IOQwghhBCiTEiCLoRQU6tWrSLt1V1R7du3jzNnzhQrQa9Xr16hX0zY2Nhw8eJFli5dSrdu3WjQoIFyLiwsDH19fcaMGfOyYZfY1Qd3+d/92+XWvhBCCCGEKDqZIyiEEC/Jz8+POnXqEBoaqhw7fPgwO3fu5PPPP6dq1arlGJ0QQgghhKgoJEEX4g3w3Xff4e7ujp2dHYMGDeLatWv5ymzZsoVu3bphY2ND69atCQ8PJzs7W+28SqXixIkTDBw4EDs7O9zd3dm0aVO+umJjYxk4cCD29vY0bdqU8ePHc//+feV8XFwcKpWKbdu2ERoaipOTE66ursyaNYusrCy1uvbt20fnzp2xsbGhV69enDp1qsB7PHjwIL1798bW1pYWLVowdepU0tLSlPPHjh1DpVJx+PBhxo8fj4ODA+3atWPZsmVKmaCgILZu3crFixdRqVSoVCqCgoIAuHjxIkOHDqV58+bY2dnRqVMntWufR0dHh9DQUP7zn/+wY8cOMjIyCA0NxcPDg/bt2xcp/szMTGbNmkXbtm2xtrbG1dWVYcOGkZqaWqQYhBBCCCFExSdT3IWo4A4cOMDnn3+Ot7c3Xbp04ezZs4wePVqtzMqVK5kzZw6DBg0iKCiIS5cuKQl6YGCgWtlx48bRt29fhg4dys6dO5k0aRI1a9akTZs2wJPk3MfHBzc3NyKWpGgAALaRSURBVMLDw0lPTyciIgJ/f39iYmLU6oqIiMDDw4OIiAhiY2OJjIykfv369O/fH4Dz588zatQo2rRpQ3BwMHFxcYwZM4aMjAy1enbv3s3YsWPx9vYmICCAhIQE5s2bR0pKCuHh4Wplp06dSvfu3YmOjmbfvn3MnTsXlUpFmzZt8Pf3JzExkcuXLzN37lwATExMABg2bBg1atRgxowZ6Ovrc/36deLj44v8Pjg7O+Pt7U1YWBinTp3i7t27rF69usjxL1myhA0bNhAYGIiFhQVJSUkcPnw4X18IIYQQQog3lyToQlRwX331Fc2aNSMsLAyA1q1b8/jxYxYtWgQ82eN74cKFfPLJJ4wbNw6AVq1aoa2tzcyZMxkyZAjVqlVT6uvevTt+fn5KXTdu3CA6OlpJ0OfNm4e1tTVRUVHK1mKNGzema9euHDp0CDc3N6UuW1tbJk+erLR57Ngx9uzZoyToS5cupXbt2kRHR6OlpQVA5cqV1RZUy83NZfbs2XTp0oUZM2Yox01NTfH19cXf3x8LCwvleMeOHZXF5Vq2bMnBgwfZs2cPbdq0oX79+piYmHDr1i3s7e2VaxITE4mLi2PSpEm4u7sD0KJFi2K/FxMnTuTAgQOsWrWK4OBgzMzMihz/6dOncXV1VXs2vlOnTsWOQQghhBBCVFwyxV2ICiw7O5uzZ8/SoUMHteNPJ3axsbGkpaXRuXNnsrKylH8uLi48evSIixcvql37bF0dO3bk7NmzZGdnk56ezvHjx+ncuTPZ2dlKXQ0bNqR27dqcPn1a7VpXV1e1140aNVIblT558iTt2rVTknOAzp07q11z5coVbt68iaenp1r8zs7OaGpqcubMmULb1NDQyNdmQapVq0bdunWZP38+W7duLdbI+bP19OnThypVquDj41Os+C0tLTl06BCRkZGcOnXqufuuCyGEEEKIN5OMoAtRgSUmJpKVlaVM085To0YN5eekpCQAevbsWWAdt2+rr/BdvXr1fHVlZmaSlJREdnY22dnZhIWFKSP2z6vLwMBA7bW2trbalO2EhIR87enr61O5cuV88Y8YMaJI8RfU5oue49bQ0GD58uWEh4cTGhpKWloaVlZWBAcH4+Tk9Nxrn6WtrY2mpqbypUNR4x8+fDiampps3bqVqKgoTExMGDBgACNGjFBmKgghhBBCiDebJOhCVGAmJiZUqlSJxMREteP37t1TfjYyMgIgKioKMzOzfHU8u33Y/fv31bZZu3fvHtra2lSrVo3Hjx+joaGBn5+fsvjZ056eKl8UpqamaovLwZMp+Y8fP1ZeGxsbAzBlyhRsbW3z1VGzZs1itVkYc3NzFi5cSGZmJrGxscyfP59hw4bxyy+/vNQq7EWNX0dHh4CAAAICArh27RqbN28mMjKSevXq0aNHjxK3L4QQQgghKg5J0IWowLS0tLC0tOSnn35i8ODByvE9e/YoPzs4OKCrq0t8fHy+6esF+emnn7C0tFRe7927FysrK7S0tNDT08Pe3p7Lly9jY2Pz0vHb2tpy4MABgoODlRHn3bt3q5V59913MTMz48aNG8Xau7ww2traal8AFHTe2dkZX19fhg8fzt27dzE3Ny9xeyWJv0GDBowbN46YmBguX75c4raFEEIIIUTFIgm6EBXcsGHD8Pf3Jzg4WFnFfdu2bcp5Q0NDRo0axZw5c4iPj8fZ2RktLS1u3LjB/v37iYyMRFdXVym/bds2qlSpgqWlJTt37uSPP/5g6dKlyvmJEycyaNAgxowZg5eXF4aGhsTHx3PkyBG8vb1p3rx5kWP39fWlV69ejBgxgv79+xMXF8fy5cvVprhraGgQFBREYGAgaWlptG3bFl1dXW7dusWhQ4cYO3ZssRLoRo0asXnzZrZv306DBg2oVq0aDx8+ZNasWXTp0oV33nmHhw8fsmTJEurWrUv9+vWLXHdBihq/v78/VlZWWFpaoqury4EDB3jw4EGJFqsTQgghhBAVkyToQlRwHh4ehISEsHjxYnbs2IGdnR0RERH07t1bKfPxxx9Tq1YtVq5cybp166hUqRL169enbdu2aGtrq9U3b9485s+fT3R0NNWrV+eLL75QW5nd0dGR9evXExkZSXBwMJmZmZiZmdGiRQsaNGhQrNgtLS1ZsGABc+fOZeTIkVhYWBAeHs6QIUPUynl6emJoaMjixYv58ccfAahbty6tW7dWe96+KPL2Wv/iiy9ITk6mZ8+eTJgwgRo1arBkyRLu3LmDgYEBzZo1Y86cOWoL2JVUUeJ3dHRk165drFy5kuzsbMzNzZk7dy4uLi4v1XZDo9J5BOB18abdjxBCCCHE0zRyc3NzyzsIIUT527JlC8HBwRw9ejTfonOi4slbUb80HkV43WTn5KClWTabkKSlpXH+/HmaNGmCnp5embTxJpJ+Kxnpt+KTPisZ6beSkX4rmbex30rz7y7ZZk0IId5QGRkZpKenl3cYpa6sknMhhBBCiPImU9yFEOIFsrKyCj2noaFRKtPghRBCCCGEkARdCAGAt7c33t7e5R3GaycuLg4PD49Czzs7O7N27dpXGFHR6ejoqC0AWNFl5+agpSGj50IIIYR4c0mCLsRrbN++fdy5c6dUthd7VlBQEGfOnGH79u2lXndFduzYMWJjYxk2bBjwZJ/yTZs2FVo+KyuL5s2b4+7uTlhYmNq59PR0vLy8eP//sXff8Tme+wPHP0kkJM0SQoxaEU9F9hAyZNVMFDlqNkaNELOkGjXaGCd2UgmCKjF6mmpjRlGUnkNxWkHVOIoa0ZCS2YTM3x9euX8eSWSIBv2+X6++jue+rvu6rvt6bufl+1zrjTdYuXLlc213Wf55LI4b6Sk1Und1amZkyoeu/Wu6GUIIIYQQz5UE6EK8wA4cOMC5c+eeS4AuSnfy5Ek+++wzJUDX0dEpd8OPDz74gA8//JB//OMfODk5KddXrFhBamoqs2fPfq5tfpob6Sn8mnq7xuoXQgghhBAVJ3MFhRCCRxuqFRYWVunegIAA2rdvz8cff0xeXh4Av/76Kxs2bGDSpEmYmZlVZ1OFEEIIIcQrSgJ0IV5QoaGhbNu2jcuXL6NSqVCpVISGhgKQmJjIkCFDsLOzw9HRkalTp3Lv3j21+3Nzc4mIiMDX1xcrKys6deqk3P+4EydO0Lt3b+zs7Ojbty/nzp2rcBszMjKYOXMmHh4eWFtb4+npyXvvvaekR0VFYW9vX+I+JycnoqKilM+BgYEEBQWxfft23nzzTWxsbAgMDOTq1atq96lUKtasWcOiRYvo0KED9vb2hIaGkpWVpZYvKSmJiRMn4ujoiJ2dHSNGjODSpUtqeXx8fJgzZw5r167F29sbGxsb5s2bR3R0NNnZ2UqfBwYGVqgvwsLCuH79OuvXrwfg448/pk2bNsr9FfnO1qxZQ+fOnbG2tqZDhw4MGzaMmzdvVqh+IYQQQgjx8pMp7kK8oIKDg7l//z5Xr15lyZIlAJiYmJCYmEhgYCCenp5ERESQk5NDZGQkwcHBxMXFKfdPmDCB48ePExQUhJ2dHffv32f//v1qdaSkpDBv3jxGjx6NgYEBS5cuZfz48Xz77bdoa2uX28bw8HD+/e9/M3XqVJo0aUJKSgrff/99lZ73l19+4caNG0ydOhWAyMhIRo4cyd69e9HR0VHybdq0iXbt2rFw4UJu3brFkiVLePjwIREREQBkZWURGBiIpqYmYWFh1K5dm1WrVvHOO++wc+dOGjVqpJS1f/9+mjdvzowZM9DU1KRt27Y8fPiQ3bt3ExsbC4C+vn6F2t+yZUuCgoJYuXIlubm5nDp1ii+//BItLa0KfWfbt2/nk08+YeLEidjZ2ZGZmclPP/3En3/+WaX+FEIIIYQQLx8J0IV4QTVr1gwTExNu376NnZ2dcv3DDz/EysqK6OhoNDQ0AGjTpg3+/v4cOXIET09Pjh49yuHDh1m6dCn+/v7KvY//GSA9PZ3NmzdjYWEBgK6uLkOGDOHMmTNqa6nL8vPPP+Pv70+fPn2Ua35+flV63nv37rF582ZatGgBgKWlJd26dSM+Pp4BAwYo+XR0dFixYoVytFnt2rWZOXMm48ePx9zcnPj4eG7fvk1CQgLm5uYAODs74+3tTWxsrNosgry8PNauXYuenp5yzczMDE1NTbU+r6jRo0eTkJBAVFQUQ4YMwcrKCoClS5eW+52dPXsWlUpFUFCQUt6bb75Z6TYIIYQQQoiXl0xxF+IlkpOTw6lTp+jWrRsFBQXk5+eTn59PixYtaNSoET///DMAP/zwA7q6uuUGyw0aNFCCc4DWrVsDcOfOnQq1x9LSkm3btrFu3Tr+97//VfGpHrGwsFCCc4DmzZvzxhtvcObMGbV83t7eaueOd+vWjaKiIuXZf/zxRywsLJTgHMDY2BhXV1d++ukntbJcXFzUgvNnpaOjw7BhwwAYOXIkUPHvzNLSkvPnzxMeHs6PP/6orGUXQgghhBB/HzKCLsRLJCMjg4KCAsLDw0sc6QXw+++/A5CWloapqakyWlsWQ0NDtc/F09ofPnxYofbMmjULIyMj1q9fz6JFi2jUqBGjR49m0KBBFbr/cfXq1Sv1WkpKylPz6evrU7t2be7evQs86qP69euXWtbly5fLrfNZFfdh8f9W9DsLCAjgzz//5Msvv2TDhg0YGBjQu3dvQkJCqFOnTrW3UwghhBBCvHgkQBfiJWJgYICGhgZBQUGlTn+uW7cu8GjEOCUlhaKionKD9Gdtz4wZM5gxYwaXLl1i48aNhIWF0aZNG5ycnKhdu3aJkeC8vDyys7NLlPXkhmnF1954442n5svKyuLhw4c0aNAAACMjI65du1ZqWUZGRmrXnmffFKvod6apqcnQoUMZOnQod+7cISEhgaVLl1K3bl3GjRv33NsphBBCCCFqnkxxF+IFpq2trTaaraenh52dHVevXsXa2rrEf02bNgXA1dWVnJwcvvnmm7+srSqViunTpwNw5coVABo2bEheXh43btxQ8h0/fpyCgoIS91++fJnr168rn69fv87FixextbVVy/fdd9+p3b937140NDSUs8odHR353//+p7YDfHp6OseOHcPR0bHc59DW1iY3N7cij1whFf3OHtewYUPeffddVCpViZ3shRBCCCHEq0tG0IV4gZmbm/P111+ze/dumjdvTt26dZk2bRpDhw5l8uTJ+Pn5YWhoSHJyMseOHSMgIAAXFxdcXV3x9PTkww8/5MaNG9ja2pKWlsa+ffuIjIystvYNGDCAzp07Y2FhgZaWFtu3b0dbW1vZYK5Tp07o6ekxc+ZMRo0aRXJyMhs3bqR27dolyqpXrx5jxoxh4sSJAHzyySc0bNiQgIAAtXy5ubmMGzeOgQMHKru4d+3aVVlzHhAQwIYNGwgKCmLy5MnKLu61atVi6NCh5T6Tubk5+fn5xMbGYm9vj76+Pq1atXqmfqrIdzZ79mwMDQ2xs7PD0NCQU6dOcfHiRQYOHPhMdQshhBBCiJeHBOhCvMD69u3L2bNnmTt3LmlpafTp04cFCxbw+eefExUVxfTp08nLy8PMzIwOHTrQvHlz5d6oqCiio6OJi4sjOjqaevXq4ebmVq3tc3BwYPv27dy6dQtNTU3atGlDTEyMEizXrVuX5cuXs3DhQsaNG0fbtm1ZtGhRqWeLt2vXji5durB48WJSUlKwtbUlLCxM7Yg1eHRm+v3795k2bRq5ubl07tyZ2bNnK+n6+vps2rSJBQsWMGvWLAoLC3FwcGDz5s1qR6yVxdvbm0GDBrFmzRru3buHs7MzmzZteuZ+Ku87s7e358svv2Tr1q3k5OTw+uuvM336dN5+++1nqruZkekz3f+ieFWeQwghhBDiaTSKioqKaroRQoi/t8DAQPT09Fi9evVT86lUKqZNm8aIESP+opa9vIp3hy+e+v8qKCgqREvj+a7Mys7O5sKFC7Rt27Zad/h/1Um/VY30W+VJn1WN9FvVSL9Vzd+x36rz312yBl0IIV5Rubm55OTk1HQzqs3zDs6FEEIIIWqaTHEXQpSqsLCQwsLCMtO1tLT+kl3QXwT5+fllpmloaKidyy6EEEIIIURVSYAuhCjVihUriI6OLjM9PDy8xAZuFRUVFcVnn31GYmIiQIXXeF+6dKlK9ZUnPj6e6dOn88MPP2BiYkJGRgaxsbF0796d1q1b065duzLvbdKkCYcOHXou7XpWOjo66Orq1nQznllhUSGaMnouhBBCiL8BCdCFEKXq168fXl5eZaaXdjxYRb399tt4enpW+f7q5uXlRVxcHIaGhgBkZGQQHR2NhYUFrVu35quvvgIeneF+7do1GjVqhIGBAUCJTexeNMv++y9uZt6t6WZU2esGDZjiLDvZCyGEEOLvQQJ0IUSpGjZsSMOGDZ9L2WZmZpiZmT1zObm5udSqVQtNzWcbXTUxMcHExKTM9Mc3/HBwcHimuv5qNzPvcjXtdk03QwghhBBCVIDMGRRCKC5fvsyoUaNwcXHB1taWrl27snbtWiU9MTGRIUOGYGdnh6OjI1OnTuXevXtK+q1bt1CpVOzYsYM5c+bg7OyMu7s7CxcuVFvHHRUVhb29vVrdSUlJTJw4EUdHR+zs7BgxYkSJKe0+Pj7MmTOHtWvX4u3tjY2NDWlpaRV6tu3bt9O7d2+sra1xcXFh1KhRJCUlAY+muKtUKu7fv8+tW7fw9fUFYNKkSahUKlQqFbdu3VKeb+/evWr3lfbfrVu3lLrj4+Pp2bMn1tbWeHh4EBERQUFBgVq6SqXi/PnzjBw5Ejs7O7p06cL27dsr9GxCCCGEEOLVICPoQgjFmDFjqF+/PvPnz0dfX58bN26QnJwMPArOAwMD8fT0JCIigpycHCIjIwkODiYuLk6tnMjISHx9fYmMjCQxMZGoqCiaNWvGwIGlT1XOysoiMDAQTU1NwsLCqF27NqtWreKdd95h586daueX79+/n+bNmzNjxgw0NTUrdHzHp59+yuLFi+nbty/vvfceeXl5HD9+nPv379OkSRO1vA0aNCA6Oprx48czZcoUXFxclOt376pPFS+eGv+4f/7zn9y8eRMjIyMA1q9fz+LFixk6dCihoaFcuXJFCdBDQkLU7g0JCaFfv34MHz6cL7/8ktDQUKytrZVz5YUQQgghxKtNAnQhBIAyejxjxgx8fHwA6NChg5K+dOlSrKysiI6OVnZvb9OmDf7+/hw5ckRtTbmNjQ0zZ84EwM3NjRMnTrBv374yA/T4+Hhu375NQkKCEow6Ozvj7e1NbGwsoaGhSt68vDzWrl1b4XM1MzMziY6Opn///syZM0e5/uabb5aaX0dHh7Zt2wLQvHlz7Ozsyiz7yanx69at45dffmH9+vUYGBiQlZXF8uXLGTlyJFOmTFH6Q1tbmwULFjBixAjq1q2r3D948GAGDx4MgL29PUeOHGHfvn0EBwdX6FmFEEIIIcTLTaa4CyEAqFu3Lk2aNGHZsmVs27ZNGTkHyMnJ4dSpU3Tr1o2CggLy8/PJz8+nRYsWNGrUiJ9//lmtLHd3d7XP5ubmauU96ccff8TCwkJtpNjY2BhXV1d++ukntbwuLi4VDs7h0ch/Tk4Offv2rfA9VfH999+zZMkSQkNDad++vVJ3dnY23bp1U/osPz8fV1dXHjx4wOXLl9XKeLzf9PT0aNy48VP7TQghhBBCvFpkBF0IATw6z3vdunVEREQwZ84csrOzadeuHdOnT6dZs2YUFBQQHh5OeHh4iXt///13tc/FO5wX09bWJjc3t8y6MzIyqF+/fonr9erVKxHE1qtXrzKPpaxRb9CgQaXuq4xr164xdepUevfuTWBgoHI9NTUVgD59+pR637P2mxBCCCGEeLVIgC6EULRs2ZLly5eTl5dHYmIiy5YtY8yYMRw+fBgNDQ2CgoJKnRr++DTtqjAyMuLatWslrt+7d09Zy12seHp9RRkbGwNw9+7datk5/kmZmZkEBwfTokULwsLC1NKK2x4dHV1q3c9yVJ0QQgghhHj1SIAuhChBW1ub9u3bM3r0aMaOHcsff/yBnZ0dV69eVTtyrLo4Ojqyb98+rl69SqtWrQBIT0/n2LFj9O/f/5nKtre3R1dXl6+//hobG5sK3aOtrQ3Aw4cPn5qvsLCQqVOnkpmZyYYNG0qciV5cd3JyMp07d67aAwghhBBCiL8NCdCFEABcvHiRhQsX0qNHD15//XWysrJYvXo1TZo0oVmzZkybNo2hQ4cyefJk/Pz8MDQ0JDk5mWPHjhEQEKDsdl4VAQEBbNiwgaCgICZPnqzs4l6rVi2GDh36TM9lYGDAuHHjWLJkCUVFRfj6+lJYWMiJEyfw8/Mr9QcHU1NTDA0NSUhIoGnTpujo6KBSqUrkW7t2LUeOHOGDDz7g999/V5uybmlpiaGhIRMnTmTx4sUkJyfTvn17tLS0uHnzJgcPHiQqKgpdXd1nej4hhBBCCPHqkABdCAE8Ckrr16/P6tWruXPnDgYGBjg5ObF48WK0tLRwcHDg888/JyoqiunTp5OXl4eZmRkdOnSgefPmz1S3vr4+mzZtYsGCBcyaNYvCwkIcHBzYvHmz2hFrVTVq1ChMTEzYsGED8fHxvPbaa9jb25e5nl1TU5Pw8HCWLVvGsGHDyM3N5eDBgyXyFU/LX7hwYYm0gwcP0rRpU959910aNmzI+vXr2bx5M7Vq1aJZs2Z4eXkpI/VCCCGEEEIAaBQVFRXVdCOEEEJUr+Kd9b99cI6bmXfLyf3iet2gAVOcSz+e73nIzs7mwoULtG3btlKnBfzdSb9VjfRb5UmfVY30W9VIv1XN37Hfiv/dVR1LQWUEXQghXmF/ZXD7vBQWFaKpIaeCCiGEEOLVJwG6EOKllp+fX2aahoYGWlpaf2FrXiy5ubnk5OS89OvcJTgXQgghxN+FBOhCiJdau3btykxr0qQJhw4d+gtbI4QQQgghRNXJsISotFu3bqFSqdi7d69ybcOGDRw5cqREXh8fH+bMmVPpOqp639NERUVhb2+vfD5x4gQqlUpZM/IiKe5jS0tLfvvtN7W0CxcuoFKpOHHixF/WnufxfVSXr776qsz/Vq1aVSNtUqlUrFu3rkbqfpyOjs4LMXpeWFRY000QQgghhHgpyAi6qBYbN27Ey8sLT09PtevR0dEYGhrWUKuerl27dsTFxWFubl7TTSlTQUEBMTExLFiwoKab8sJ6HueyP6u4uDgaN25c080AYFXiFpKy7tRY/U30GzLWfnCN1S+EEEII8TKRAF08V5aWljXdhDLp6+tjZ2dX0814KhcXF3bt2sW4ceN4/fXXa7o5f2sPHjygTp06Fcr7Ir1XSVl3uJ6RVNPNEEIIIYQQFSBT3F9BoaGh+Pv7c+zYMXr27ImNjQ3vvPMOt27dIi0tjUmTJuHg4MCbb77Jnj171O4tbSrzgQMHUKlU3Lp1q9T6fHx8SEpKYsuWLahUKlQqFfHx8aWWV9y2I0eO4O/vj7W1NQEBAZw+fbrc50pMTGTIkCHY2dnh6OjI1KlTuXfvXiV75/+VNsVdpVKxdu1aoqKicHV1xcXFhenTp5Odna12b3JyMiEhIbi4uGBjY8PgwYM5d+6cWp6DBw8SEBCAvb09Tk5OBAQElLoM4Gn69u2LiYkJq1evfmq+wsJCVq5ciY+PD1ZWVnTr1o0vvvii3PIr+31s2bIFb29vHB0dCQ4O5v79+2rpSUlJTJw4EUdHR+zs7BgxYgSXLl1Sy1P8TpRXVkZGBh9//DHu7u5YWVkREBDAf/7zn3KfqSL9Hh8fT8+ePbG2tsbDw4OIiAgKCgrU0lUqFYmJiQwfPhw7OzsWLVpEYGAgQUFBJercvHkzNjY2ZGZmAqVPcT98+DADBgzA1tYWZ2dnAgMDOX/+/DM/rxBCCCGEeHVIgP6KSklJYcGCBYwdO5YlS5Zw48YNQkJCeO+992jTpg1RUVG0a9eO999/n6SkZxtdi46OxtTUlK5duxIXF0dcXBxeXl5PbVtYWBgjRowgMjISHR0dRowY8dRgOzExkcDAQAwMDIiIiGDu3Ln8/PPPBAcHP1PbS7NlyxZ+++03FixYwLhx49i1axcrV65U0tPT0xk0aBAXL15k1qxZREVFoaury9ChQ5VnuHHjBpMmTcLCwoLo6GgiIiLo3r076enplWqLjo4OI0eOZPv27dy+fbvMfIsWLSI6Opo+ffoQExODu7s7H330EZs3by63jop+H4cOHeLQoUPMnj2bGTNm8N///pe5c+cq6VlZWUrQGRYWxuLFi0lNTeWdd97h999/r1RZubm5DB8+nMOHDzN58mRWrVqFubk5QUFBJQL+x1Wk39evX8/MmTNxd3cnJiaGUaNGsXHjRiIiIkqUN3XqVDp06EBMTAy9evXCz8+Po0ePkpaWppZv9+7deHp6YmBgUGq79uzZw5gxY6hXrx5Lly5lyZIlODg4cOfOnWd6XiGEEEII8WqRKe6vqPT0dDZv3oyFhQUAd+/eZe7cuYwaNYpx48YBj9bufvvttxw4cIChQ4dWuS5LS0t0dHSoX79+hab2pqWlERkZSceOHQFo3749np6ebNiwgalTp5Z6z9KlS7GysiI6OhoNDQ0A2rRpo4z+Prn2/VmYmpqydOlSADp16sT58+fZt28fISEhAMTGxpKRkcHWrVupV68eAB07dqRr166sW7eOadOmcf78efLy8pg1axb6+voAeHh4VKk9/fv3Z82aNaxZs4aPP/64RPr9+/fZvHkzI0aMYMKECQC4u7uTmprKihUrGDhw4FOPGqvo91FUVMSqVavQ0dEBHo2Wr169msLCQjQ1NYmPj+f27dskJCQo6/qdnZ3x9vYmNjaW0NDQCpe1a9cuLl68yI4dO2jdurXSf9evX2flypV88sknpT5Lef2elZXF8uXLGTlyJFOmTAHAzc0NbW1tFixYwIgRI6hbt66Sf8CAAYwePVr53KxZM+bNm8f+/fvp16+f0vbTp08TGRlZapuKiopYuHAhbm5urFixQrn++Dtb1ecVQgghhBCvFhlBf0U1aNBACc4BWrRoAYCrq6tyzdDQEBMTE5KTk//SthkYGCjBYPFnV1dXzpw5U2r+nJwcTp06Rbdu3SgoKCA/P5/8/HxatGhBo0aNqn0X9sf7CMDc3Fytj44ePYqLiwtGRkZKWzQ1NXF2dlbaolKp0NLSIiQkhEOHDilTn6uiTp06DB8+nK+//loZcX3c2bNnycvLo1u3bmrXu3fvzv3790vsAv+kin4fzs7OSkANj/olLy9PGWn/8ccfsbCwUNt0z9jYGFdXV3766adKlXX06FHatGlDixYtlD7Oz8/H1dX1qd93ef2emJhIdnY23bp1K1HugwcPuHz5slr+J2eC1K1bF1dXVxISEpRre/bsQU9PD29v71LbdPXqVZKTk/nHP/5RZrur+rxCCCGEEOLVIiPor6gnd07X1tYGKDEFV0dHh4cPH/5l7QIwMTEpca1evXpcuXKl1PwZGRkUFBQQHh5OeHh4ifQnp08/q9L6Ljc3V/mcmprK6dOnSz1/u1mzZgC0bNmSmJgYVq9ezfjx49HU1MTd3Z3Zs2dXaXfvgQMHsnbtWtauXVsi0Cuevl2/fn2168Wfn5yO/aSKfh9P9ktxgF38/mRkZJRoQ3FZTwa+5ZWVmprK+fPnS+3jp80GKK/fU1NTAejTp0+p9z/5LpX2PH5+foSGhpKSkoKpqSkJCQl07tyZ2rVrl1pmcf83aNCgzHZX9XmFEEIIIcSrRQJ0oUZHR4e8vDy1a5VdN12eJzcDA7h37x6mpqal5jcwMEBDQ4OgoCDefPPNEumPT0n+KxgZGeHh4cGkSZNKpD0+KtypUyc6depEVlYW33//PeHh4UyfPp3Y2NhK1/naa68xfPhwVq1aRadOndTSjI2NgUd92LBhQ+X6H3/8oZZelsp+H2UxMjLi2rVrpZZlZGRU6bJUKhXz58+v1H3w9H4vbkd0dDRmZmYl7m3atGm55fv6+qKjo8M333yDu7s7Fy5cUKbLl6a4/+/evVtmnmd5XiGEEEII8eqQAF2oMTMzKzFyevTo0XLv09bWrvBIfGZmJj/88IMyrTozM5Njx44xeHDpZyXr6elhZ2fH1atXX4gzr11dXdm5cyfm5ubo6emVm19fX58ePXpw9uxZdu/eXeV633nnHdatW1did3Bra2u0tbXZu3ev2rF233zzDfXq1VOWN5Slst9HWRwdHdm3bx9Xr16lVatWwKMfd44dO0b//v0rVZarqytHjhyhQYMGaj86VEZp/W5vb4+uri7Jycl07ty5yuV6eXmRkJBAeno6JiYmJZZFPK5Vq1aYmZkRHx9Pjx49Ss1THc8rhBBCCCFefhKgCzVdu3bl448/Jjo6Gnt7e44cOVKhI9BatWrF8ePHOXr0KIaGhjRt2rTMkW1jY2NmzJjBxIkTMTAwYO3atRQVFT11o7pp06YxdOhQJk+ejJ+fH4aGhiQnJ3Ps2DECAgJwcXGp6iNX2rBhw9i1axfvvPMOQ4YMoXHjxty/f58zZ87QsGFDhg0bxhdffMHp06fx8PDA1NSUW7dusXPnTtzc3Kpcr76+PkOGDCE6OlrtuomJiRK86+joYGdnx5EjR9i9ezezZs0qd4p0Vb6P0gQEBLBhwwaCgoKYPHkytWvXZtWqVdSqVavSZfXu3ZsvvviCIUOG8O6779KiRQsyMzOVTeDK2kywvH43NDRk4sSJLF68mOTkZNq3b4+WlhY3b97k4MGDyo785fH392f8+PEkJSXRrVs3atUq+/9KNTQ0+OCDD5gyZQoTJkygV69e6OjocPr0aaytrfH29q7y8wohhBBCiFeLBOhCzdtvv82NGzf417/+xYYNG+jRowdTpkwpN0CYMmUKH3/8MRMmTODPP/8kPDycgICAUvOampoSEhLCokWLuHHjBhYWFqxbt67U9b7FHBwc+Pzzz4mKimL69Onk5eVhZmZGhw4daN68+TM9c2XVrVuXuLg4IiMjWbJkCWlpadSrVw9bW1tlVFalUvHdd98RHh5OWloapqam+Pn5lTotvjKGDBnChg0byMrKUrs+bdo0DAwM+Oqrr4iJiaFJkyaEhYUxYMCAcsusyvdRGn19fTZt2sSCBQuYNWsWhYWFODg4sHnzZho1alSpsnR0dNi4cSNRUVHExMSQkpKCsbExlpaWDBo0qMz7KtLv7777Lg0bNmT9+vVs3ryZWrVq0axZM7y8vJS9GspTfKRaSkoKfn5+5ebv0aMHderUISYmhilTplC7dm0sLS2V96Wqz1sRTfRrdkS+pusXQgghhHiZaBQVFRXVdCPE30doaCjnzp17pqneovrI9/HqKt79/UVYFlJYVIimxstxaEh2djYXLlygbdu2FVrCIh6Rfqsa6bfKkz6rGum3qpF+q5q/Y79V57+7Xo5/MQkhhKi03NxccnJyaroZL01wLoQQQghR02SKu3glFBYWUlhYWGa6lpYWGhoaf2GLylZUVERBQUGZ6ZqammhqSkAjqodMkhJCCCGEeHlIgC7+UgsWLHgu5X744Yds27atzPSNGzf+pRvJPc22bduYPn16menjx49nwoQJf0lbntf3IV4cL8oPU0IIIYQQonwyTPcKCA0Nxd/fX/kcHx+PSqUq9XzrV9X48eP56quvyvyvXbt2avmf7KOMjAyioqL49ddfq71txXX5+vqSn5+Pt7e30q5hw4YBqLW1X79+VarHx8eHOXPmVPq+qKgoTp06VaU6/wq3bt0iKiqKO3fu1HRTKiQqKgp7e/uabgbwaPO5iuxKXx0Ki8qewSKEEEIIISpGRtBfQV5eXsTFxWFoaFjTTfnLNG3alKZNm1Y4/5N9lJGRQXR0NBYWFrRu3fq5tLH4yK+AgADlCLqffvoJqJ4NJaKjo6v0nUdHR6Onp4eDg8Mzt+F5SEpKIjo6Gi8vr5fijPC3334bT0/Pmm6GIvbcRpKzn++PG2Z6DRlqNeS51iGEEEII8XcgAforyMTEBBMTk5puxgupoKCAwsLCGukjFxcXVq9eTa9evco9m7wqLC0tq73Mqnjw4AF16tSp6WZUq9zcXGrVqlWhvQHMzMwwMzP7C1pVMcnZd7iVeaummyGEEEIIISpAprjXoP3799OrVy+sra1xd3cnPDychw8fKuknTpxApVJx9OhRpk6dir29Pd7e3qxdu/ap5T45ffvWrVuoVCp27NjBnDlzcHZ2xt3dnYULF5Kfn69275UrVxg7diyOjo7Y2dkxevRobty4UeFnysjIYObMmXh4eGBtbY2npyfvvfeeWp7k5GRCQkJwcXHBxsaGwYMHc+7cuRJlbd++nd69e2NtbY2LiwujRo0iKSkJKHsasZOTE1FRUcrnwMBAgoKC2LZtG127dsXa2pqLFy+q9dGtW7fw9fUFYNKkSahUKlQqFbdu3SIgIKDUM+AXL16Mu7v7Uzd7e1JwcDDXr18nISHhqfnS0tKYPn260j8DBgzgv//9b7nlPznFvXjpw4kTJ+jduzd2dnb07dtXra9VKhUAixYtUp77xIkTwKPNxdatW0fXrl2xsrLC19eXDRs2qNVZ/D2cPXuW/v37Y21tzZYtW5T+PX/+PCNHjsTOzo4uXbqwffv2Eu0+fPgwb7/9NjY2NnTo0IGPPvqI7Oxs4NHfgSFDHo3M9u3bV2ljWarr/Svuy7Vr1+Lt7Y2NjQ379+9HpVIpx2gUKygowM3NjaVLl6r1yZPtmjt3Lp06dcLKygofHx8lf0X6QQghhBBC/D3ICHoNOXjwIBMnTsTPz4+pU6dy9epVIiIi+P3331m+fLla3o8++ohevXqxYsUKDhw4wJIlS1CpVHTq1KlSdUZGRuLr60tkZCSJiYlERUXRrFkzBg4cCMDNmzcZMGAAFhYWLFiwAA0NDWJiYhg2bBh79+5FR0en3DrCw8P597//zdSpU2nSpAkpKSl8//33Snp6ejqDBg1CT0+PWbNmYWBgwKZNmxg6dCj79++nXr16AHz66acsXryYvn378t5775GXl8fx48e5f/8+TZo0qdRznzt3jqSkJCZNmoShoSGNGjXi8uXLSnqDBg2Ijo5m/PjxTJkyRdlMrkGDBrz99tssWLCAzMxMDAwMgEcB2Y4dO+jTp0+lRsLbtGmDr68vMTEx+Pv7lzoaW1BQwKhRo7h58yYhISHUr1+fTZs2MXz4cL744gusrKwq9ewpKSnMmzeP0aNHY2BgwNKlSxk/fjzffvst2traxMXF0b9/fwIDA5V9DIqn+M+fP5+tW7cyZswYbG1tOXXqFEuWLKF27drKOwOQl5fH1KlTGTZsGO+99x7GxsacP38egJCQEPr168fw4cP58ssvCQ0NxdraGnNzcwD27t3Le++9R0BAABMmTCAlJYWlS5eSkZFBREQE7dq1Y/bs2cyZM4fw8HBatWr11OetrvcPHv2A1rx5c2bMmIGmpiYdOnSgQYMG7NmzR21JwvHjx/njjz/U9oF4XG5uLkOHDiUpKYlx48bRpk0bkpOTleUNFekHIYQQQgjx9yABeg2Jjo7Gzs5OGUXr1KkTurq6zJ49m0uXLqmNEnbp0kXZ1btjx44cPnyYffv2VTpAt7GxYebMmQC4ublx4sQJ9u3bpwRb0dHRGBkZsX79emrXrg2Ag4MDvr6+bN26lcGDB5dbx88//4y/vz99+vRRrvn5+Sl/jo2NJSMjg61btyrBUMeOHenatSvr1q1j2rRpZGZmEh0dTf/+/dVGhN98881KPW+x9PR0vvrqKxo1alRquo6ODm3btgWgefPm2NnZKWk9e/Zk4cKF7Nq1i0GDBgFw5MgRUlJS+Mc//lHptowdO5Z//OMf7N27lx49epRIP3z4MGfPnuXTTz/Fw8MDAHd3d7p06cLq1avVZgdURHp6Ops3b8bCwgIAXV1dhgwZwpkzZ3ByclKetVGjRmrPfePGDTZv3kxYWBj9+/cHwNXVlQcPHrBixQr69++v/MCQl5fHe++9p/Y8xQH64MGDlffG3t6eI0eOsG/fPoKDgykqKmLRokX06NGD+fPnK/eampoyevRogoOD1fYEsLCwKHetfnW8f8Xy8vJYu3Ytenp6yrUePXqwZ88epk2bpuyOvnv3biwsLMoc2d++fTvnz5/niy++UBtZL25jRftBCCGEEEK8+mSKew34888/uXDhAl27dlW7XhzgPD6yBo8CtGIaGhqYm5uTnJxc6XofLwcoUc7Ro0fx8fFBS0uL/Px88vPzMTQ0xNLSstQp6KWxtLRk27ZtrFu3jv/9738l0o8ePYqLiwtGRkZKHZqamjg7OytThxMTE8nJyaFv376VfsbStGnTpszgvDz6+vp0796dr7/+WrkWHx+Pk5MTLVq0qHR5VlZWeHp6smrVqlLPp/7xxx/R19dXgnMAbW1tOnfuXOK9qIgGDRqoBXfFwW55O6IfO3YMePTjUPH3lJ+fj6urKykpKfz+++9q+cvaFO3xd05PT4/GjRsr79y1a9dISkqie/fuanW0b98eTU3NCr9zj6uO96+Yi4uLWnAOj4L9x0e/c3NzOXDggNqPAE/64YcfMDc3L3Nn9+fRD0IIIYQQ4uUkI+g1IDMzk6KiIrXptAAGBgbo6OiQnp5e4vrjtLW1yczMrHS9pZWTm5urfE5NTSU2NpbY2NgS92pra1eojlmzZimj8IsWLaJRo0aMHj1aGX1OTU3l9OnTJY49A2jWrBnwaA02PAouq0P9+vWf6f5+/foxYMAALl68SIMGDTh8+HCVjjMrFhwcTP/+/Tlw4ECJtIyMjBLvBTx6hiffi4p4clf34u/x8b0OSpOamkpRUREdOnQoNf33339Xlhro6ury2muvlZrvae9camoqAOPGjSuzjsqqjvevWGnfg42NDc2aNWP37t04OTnx/fffk5GRUeb0dnj0Pj/tXX4e/SCEEEIIIV5OEqDXAAMDAzQ0NEqcU56ZmUlubi5GRkY10i4jIyM8PT2VYOZxZQVgTzIwMGDGjBnMmDGDS5cusXHjRsLCwmjTpg1OTk4YGRnh4eHBpEmTStxbvMbd2NgYgLt375a5G3bt2rXJy8tTu5aXl1fqplrFU5Gryt7eHgsLC77++msaN26Mjo4O3bp1q3J5dnZ2uLm5sXLlSnr16qWWZmRkxL1790rc88cff/yl74WRkREaGhp8/vnnpf4407JlS+XPVe3f4u959uzZ2NjYlEivyg801fH+FSvrufz8/IiLi2PmzJns2bMHW1tbXn/99TLbZGxszKVLl56aDtXbD0IIIYQQ4uUkAXoNeO2112jbti179+5l2LBhyvVvvvkGAEdHxxppV8eOHbl8+TKWlpbVcgyYSqVi+vTpfPXVV1y5cgUnJydcXV3ZuXMn5ubmJaYPF7O3t0dXV5evv/661IAFoGHDhuTl5XHjxg1l5PP48eOV2lX9ceWNLL/99tusWrWKevXq0aNHjzLbXlHBwcEMHjy4xAi3o6Mj69at4z//+Y8yPTw/P58DBw48t/dCW1u7xHN37NgReDT66+Pj81zqbdWqFWZmZty8efOp+xtUdNT/SVV9/8rj7+/PqlWrOHToEIcOHSqxS/yTXF1d2bNnD2fOnMHW1rZEekX7QQghhBBCvPokQK8h48ePZ9y4cYSEhPDWW29x7do1IiIi6Nq161OPkXqeJk6cSN++fRkxYgT9+vWjfv36/PHHH5w8eRInJ6enTuMtNmDAADp37oyFhQVaWlps374dbW1tnJycABg2bBi7du3inXfeYciQITRu3Jj79+9z5swZGjZsyLBhwzAwMGDcuHEsWbKEoqIifH19KSws5MSJE/j5+WFtbU2nTp3Q09Nj5syZjBo1iuTkZDZu3KhsbldZpqamGBoakpCQQNOmTdHR0UGlUimjqr169WLJkiWkpqaqbeRVVU5OTrRv357jx4+rXffy8sLGxob333+fqVOnKru43717t8Tu/tWlVatWHDx4ECcnJ3R1dWnZsiUtW7Zk8ODBTJs2jREjRmBra0teXh6//fYbJ06cYOXKlc9cr4aGBqGhoYSEhJCdnY2Xlxe6urrcvn2bI0eO8N5779GyZUtatGiBlpYWX3/9NbVq1UJLS6vMzeKq4/0rT+vWrVGpVMydO5eHDx+Wutnf43r16sXnn3/O6NGjGT9+PBYWFty5c4cff/yRuXPnVrgfhBBCCCHEq08C9Bri6+vLJ598wooVKwgODsbY2Jh+/fqVeub2X6V58+Zs3bqVyMhIwsLCyM7OxtTUFGdn5wr/aODg4MD27du5desWmpqatGnThpiYGOVYrbp16xIXF0dkZCRLliwhLS2NevXqYWtrS+fOnZVyRo0ahYmJCRs2bCA+Pp7XXnsNe3t7ZV1w3bp1Wb58OQsXLmTcuHG0bduWRYsWERgYWKVn19TUJDw8nGXLljFs2DByc3M5ePAgTZs2BR5NQ27fvj3Jyclqu50/i+DgYE6ePKl2TUtLizVr1rBo0SIWL15MdnY27dq147PPPqv0EWsVNXv2bP75z38yatQoHjx4wMaNG3FxcWHmzJm0bNmSuLg4VqxYwWuvvUbLli2faXr/k7p3746hoSExMTHs2rULgCZNmuDh4aHsHWBiYsLs2bP59NNP2blzJ/n5+WVOGa+u9688/v7+LF26lI4dO2JqavrUvDo6OmzYsIGIiAhWr15NWloaZmZmahvLVaQfqspMr+Ez3f+i1CGEEEII8XegUVTaVtJCCDVZWVl4eHgwYcIE3n333ZpujhDlKt6Vvryj6apLYVEhmhov/8Eg2dnZXLhwgbZt2z7zUpa/E+m3qpF+qzzps6qRfqsa6beq+Tv2W3X+u0tG0IV4iqysLK5cucLnn3+OhoYGAQEBNd0kISosNzeXnJwcdHV1n3tdr0JwLoQQQghR0yRAFxVWWFhIYWFhmelaWlrPvGP6i+aXX35hyJAhNGrUiIULFyo7bhf7O/aJEEIIIYQQ4vmQAF1U2IoVK4iOji4zPTw8/JUbYXZxcXnqEVkffvgh27ZtKzO9eD23EDVBR0fnLxk9f1WmtwshhBBC1DQJ0EWF9evXDy8vrzLTizdU+zsZP3682tFY0dHRXLlyhYiICIAK7b4dHx+PtrY2PXv2fG7tfFZRUVG4ubnh4OBQ002plKioKD777DMSExP/8nqjo6NxcnJiy5Ytamnz58/n4MGDHDp06C9pS9yFdaRk//7cyjfVa0T/tiOeW/lCCCGEEH8nEqCLCmvYsCENG8puzY9r2rSp2g8TM2bMIDs7mzfeeKPCZWzbtg09Pb0XOkCPjo5GT0/vpQvQ3377bTw9PWus/h9//JETJ07U6CyKlOzfuZ11s8bqF0IIIYQQFScBuhDVqFmzZjXdBB48eECdOnVquhnPTW5uLrVq1UJTs/wp1WZmZpiZmf0FrSpJT0+P1q1bs3LlSlnmIIQQQgghKkQWDQpRjUJDQ/H39wceTV1XqVScP3+ekSNHYmdnR5cuXdi+fbuSPzAwkJMnT3L48GFUKhUqlYqoqCgl/fDhw7z99tvY2NjQoUMHPvroI7Kzs5X0EydOoFKpOHz4MBMnTsTBwYFJkyZx69YtVCoVO3bsYM6cOTg7O+Pu7s7ChQvJz89Xa/OVK1cYO3Ysjo6O2NnZMXr0aG7cuKGkq1QqABYtWqS08cSJE+X2RUZGBjNnzsTDwwNra2s8PT1577331PIkJycTEhKCi4sLNjY2DB48mHPnzqnl8fHxYc6cOaxduxZvb29sbGzYv38/KpVKOdKiWEFBAW5ubixduhR4NNXc3t6+RLvmzp1Lp06dsLKywsfHR8lf0X6vqODgYI4fP86pU6eemi8pKYmJEycq38GIESOeuveBEEIIIYR4NckIuhDPWUhICP369WP48OF8+eWXhIaGYm1tjbm5OR999BHvv/8+derU4YMPPgBQRnz37t3Le++9R0BAABMmTCAlJYWlS5eSkZGhrHEvNmvWLN566y1WrFihNrIcGRmJr68vkZGRJCYmEhUVRbNmzRg4cCAAN2/eZMCAAVhYWLBgwQI0NDSIiYlh2LBh7N27Fx0dHeLi4ujfvz+BgYHKjw+tW7cu97nDw8P597//zdSpU2nSpAkpKSl8//33Snp6ejqDBg1CT0+PWbNmYWBgwKZNmxg6dCj79++nXr16St79+/fTvHlzZsyYgaamJh06dKBBgwbs2bNH7bzJ48eP88cffyjtfFJubi5Dhw4lKSmJcePG0aZNG5KTk/npp5+UPJXp9/J4e3tjaWnJihUrWLduXal5srKyCAwMRFNTk7CwMGrXrs2qVat455132LlzJ40aNapUnUIIIYQQ4uUlAboQz9ngwYOVjeTs7e05cuQI+/btIzg4mNatW6Ovr4+enh52dnbKPUVFRSxatIgePXowf/585bqpqSmjR48mODgYCwsL5bqPjw/vv/++8vnWrVsA2NjYMHPmTADc3Nw4ceIE+/btUwL06OhojIyMWL9+PbVr1wbAwcEBX19ftm7dyuDBg5V2NWrUSK2N5fn555/x9/enT58+yjU/Pz/lz7GxsWRkZLB161YlGO/YsSNdu3Zl3bp1TJs2Tcmbl5fH2rVr0dPTU6716NGDPXv2MG3aNOUou927d2NhYaGM+j9p+/btnD9/ni+++EJtZL24jZXt94oYO3YsEyZM4OzZs9jY2JRIj4+P5/bt2yQkJGBubg6As7Mz3t7exMbGEhoaWqn6hBBCCCHEy0umuAvxnLm7uyt/1tPTo3HjxiQnJz/1nmvXrpGUlET37t3Jz89X/mvfvj2ampolpoGXtbv+43UDmJubq9V99OhRfHx80NLSUuowNDTE0tKyRB2VZWlpybZt21i3bh3/+9//SqQfPXoUFxcXjIyMlLo1NTVxdnYuMXXdxcVFLTiHR8H+46Pfubm5HDhwQO1HgCf98MMPmJubl5j2Xqyy/V4RnTt3pk2bNqxYsaLU9B9//BELCwslOAcwNjbG1dVVbWRfCCGEEEK8+mQEXYjnzMDAQO2ztrY2ubm5T70nNTUVgHHjxpWa/vvv6sdmPT4dvDJ1p6amEhsbS2xsbIl7tbW1n9rG8syaNUsZnV+0aBGNGjVi9OjRDBo0SKn79OnTtGvXrsS9T262V9rz2djY0KxZM3bv3o2TkxPff/89GRkZZU5vB0hLS6NBgwZlple23ytCQ0ODMWPGMGXKFH755ZcS6RkZGdSvX7/E9Xr16nH58uVK1yeEEEIIIV5eEqAL8QIyNjYGYPbs2aVOi34yyCye4l1ZRkZGeHp6KkHz41577bUqlVnMwMCAGTNmMGPGDC5dusTGjRsJCwujTZs2ODk5YWRkhIeHB5MmTSpxr46Ojtrnsp7Pz8+PuLg4Zs6cyZ49e7C1teX1118vs03GxsZP3Xytsv1eUd27dycqKoqVK1fSuHFjtTQjIyOuXbtW4p579+5hZGRUpfqEEEIIIcTLSQJ0IWqYtrY2Dx8+VLvWqlUrzMzMuHnzprJ+/Xno2LEjly9fxtLSEi0trUq1sTJUKhXTp0/nq6++4sqVKzg5OeHq6srOnTsxNzcvMX29ovz9/Vm1ahWHDh3i0KFDJXaJf5Krqyt79uzhzJkz2Nralkh/Xv2uqanJmDFjCA0NpX379mppjo6O7Nu3j6tXr9KqVSvg0QZ6x44do3///tXWBiGEEEII8eKTAF2IGtaqVSu2b9/OoUOHMDU1pUGDBjRs2JDQ0FBCQkLIzs7Gy8sLXV1dbt++zZEjR3jvvfdo2bLlM9c9ceJE+vbty4gRI+jXrx/169fnjz/+4OTJkzg5OSnTxVu1asXBgwdxcnJCV1eXli1boq+v/9SyBwwYQOfOnbGwsEBLS4vt27ejra2Nk5MTAMOGDWPXrl288847DBkyhMaNG3P//n3OnDlDw4YNGTZsWLntb926NSqVirlz5/Lw4UN69Ojx1Py9evXi888/Z/To0YwfPx4LCwvu3LnDjz/+yNy5c9HQ0Hhu/d6zZ09WrFjBiRMnaNKkiXI9ICCADRs2EBQUxOTJk5Vd3GvVqsXQoUOrVJcQQgghhHg5SYAuRA0bNWoUN27c4IMPPiAjI4Px48czYcIEunfvjqGhITExMezatQuAJk2a4OHhUeqa5apo3rw5W7duJTIykrCwMLKzszE1NcXZ2VltJ/TZs2fzz3/+k1GjRvHgwQM2btyIi4vLU8t2cHBg+/bt3Lp1C01NTdq0aUNMTIyyGVrdunWJi4sjMjKSJUuWkJaWRr169bC1taVz584VfgZ/f3+WLl1Kx44dMTU1fWpeHR0dNmzYQEREBKtXryYtLQ0zMzO1jeWeV79raWkxevRoZVf9Yvr6+mzatIkFCxYwa9YsCgsLcXBwYPPmzdVyxJqp3vM9pu15ly+EEEII8XeiUVRUVFTTjRBCCFG9infCf/yc+OelsKgQTY1X41CQ7OxsLly4QNu2bau89OLvSPqtaqTfKk/6rGqk36pG+q1q/o79Vp3/7no1/kUlhBCihNzcXHJycp57Pa9KcC6EEEIIUdNkirsQotIKCwspLCwsM11LS6vKO8u/6AoKCnjaxKNateT/VoUQQgghRNXIvySFEJW2YsUKoqOjy0wPDw8nICDgL2zRX2fYsGGcPHmyzPSDBw/StGnTv7BFZdPR0UFXV/e5lf8qTW0XQgghhHgRSIBeRQcOHODOnTvP9Qis58HHxwcvLy9mz55d002pEfHx8UyfPp0ffvgBExOTv6xeHx8fkpKSmD9/Pn379lVLc3JyYujQoUyYMOGZ6qjqs504cYLExETGjBlT4Xv69euHl5dXmenVHaDGx8ejra1Nz549q7XcqggLC+PPP/8sM71BgwaoVCqmTZvGiBEj/sKWlW7npVXcy06q9nLr6TXhLdXYai9XCCGEEOLvTAL0Kjpw4ADnzp176QL06OhoDA0Na7oZNcbLy4u4uLga64PVq1fTp0+fp545XlVVfbaTJ0/y2WefVSpAb9iwIQ0bNqxsE6ts27Zt6OnpvRABevFZ5U8TFxdH48aN/4LWlO9edhJ3/rxe080QQgghhBAVIHMTn7OioiJyc3NruhkKS0vLF2b6bU0wMTHBzs6uRtYJt2/fnps3bypHd1W3mny2xz148KBG639eKvNcdnZ2NGjQ4Dm2RgghhBBCvIokQC/D5cuXGTVqFC4uLtja2tK1a1fWrl0LQGhoKNu2bePy5cuoVCpUKhWhoaFKmr+/P0eOHOGtt97C2tqaQ4cOAZCYmMiQIUOws7PD0dGRqVOncu/ePbV6lyxZQs+ePbG3t8fDw4MpU6Zw9+5dtTyBgYEEBQWxe/duunTpgq2tLWPGjCE9PZ2kpCRGjBiBvb09fn5+nDhxQu1eHx8f5syZo3wubu+JEyfo3bs3dnZ29O3bl3Pnzqndl5mZSUhICPb29nTs2JFly5bx2WefqZ2VXZ7iuo4dO0bPnj2xsbHhnXfe4datW6SlpTFp0iQcHBx488032bNnT4n7v/jiC7p27YqVlRU+Pj6sXLlS2ajs1q1bqFQq9u7dW+K+gIAApkyZAjyaKq1Sqbh//76Snpuby7Jly/D29sbKyoru3buXCKKf9j5UlIWFBV26dCEmJuapG6wB7N+/n169emFtbY27uzvh4eE8fPjwqfc8+WzFfbJjxw7mzJmDs7Mz7u7uLFy4kPz8fACioqKIjo4mOztbeZcDAwOVMq9cucLYsWNxdHTEzs6O0aNHc+PGDbV6VSoVa9asYfHixbi5udGxY0fg/9+1LVu24O3tjaOjI8HBwWp9D5CRkcHHH3+Mu7s7VlZWBAQE8J///EdJDwwM5OTJkxw+fFhpY1RUVJn9cPDgQQICArC3t8fJyYmAgACOHDlSoq969uyJtbU1Hh4eREREUFBQUKIvExMTGT58OHZ2dixatEj5u/ekzZs3Y2NjQ2ZmptIn69atU8tz+PBhBgwYgK2tLc7OzgQGBnL+/PkK94MQQgghhHj1yRT3MowZM4b69eszf/589PX1uXHjBsnJyQBKkHH16lWWLFkCoLbm9+7du8ybN4+xY8fSqFEjGjduTGJiIoGBgXh6ehIREUFOTg6RkZEEBwcTFxen3Hvv3j2CgoJo0KAB9+/fZ/369QQGBpKQkKA2Mnr+/HlSU1OZNm0aWVlZzJs3j1mzZpGUlETv3r0ZPnw4q1evZsKECXz33Xe89tprZT5rSkoK8+bNY/To0RgYGLB06VLGjx/Pt99+i7a2NgDTp0/n+PHjvP/++zRp0oQvv/ySX375pdL9mpKSwoIFCxg7diy1atVi3rx5hISEoKuri5OTE/369ePLL7/k/fffx9bWliZNmgCwadMm5s2bR2BgIF5eXiQmJhIdHU1mZiYffPABTZs2xc7Ojj179tCtWzelvt9++41ffvmF8ePHl9mmSZMmcerUKcaNG4e5uTlHjhzh/fffx9DQEE9PT+Dp70NljB07lt69e7Nnzx78/f1LzXPw4EEmTpyIn58fU6dO5erVq0RERPD777+zfPnyStcZGRmJr68vkZGRJCYmEhUVRbNmzRg4cCBvv/02ycnJ7N69m9jYWAD09fUBuHnzJgMGDMDCwoIFCxagoaFBTEwMw4YNY+/evejo6Ch1bNy4EVtbW+bPn68E/wCHDh3i+vXrzJ49m9TUVMLDw5k7dy4RERHAox9Hhg8fzr1795g8eTINGzZk586dBAUFKUHyRx99xPvvv0+dOnX44IMPADAzMyv1WW/cuMGkSZOUvissLOTixYukp6credavX8/ixYsZOnQooaGhXLlyRQnQQ0JC1MqbOnUq/fv3JygoCF1dXS5cuMC8efNIS0vD2NhYybd79248PT0xMDAotV179uxhypQp+Pr6snTpUrS1tTl16hR37tzB0tKyQv0ghBBCCCFefRKgl+L+/fvcunWLGTNm4OPjA0CHDh2U9GbNmmFiYsLt27exs7MrcX96ejpr167F1tZWuTZjxgysrKyIjo5Wjp9q06aNMtpeHAiGh4cr9xQUFGBvb0+nTp04fvw47u7uSlpWVhYxMTHKDwOXLl3is88+4+OPP2bgwIHAo82qevbsyQ8//MCbb75Z5vOmp6ezefNmLCwsANDV1WXIkCGcOXMGJycnfv31V7799lsWLlxI7969AfDw8KB79+4V7tOy6rp79y5z585l1KhRjBs3DgBra2u+/fZbDhw4wNChQykoKGDFihX4+fkxc+ZMANzd3cnLy+Ozzz5j9OjR1K1bFz8/P5YsWUJWVpYSZO7evRsjIyO1vnvc8ePHOXToEOvWrVPyuLm5kZKSQlRUFJ6enuW+D5XRtm1bvL29iYmJwc/Pr9SjyKKjo7Gzs2Pp0qUAdOrUCV1dXWbPns2lS5cqHazZ2Ngo/ebm5saJEyfYt28fAwcOxMzMDDMzMzQ1NUu8y9HR0RgZGbF+/Xpq164NgIODA76+vmzdulVt/wUjIyO1d7tYUVERq1atUoL5pKQkVq9eTWFhIZqamuzatYuLFy+yY8cOWrduDTx6t65fv87KlSv55JNPaN26Nfr6+ujp6ZX69+1x58+fJy8vj1mzZinvgIeHh5KelZXF8uXLGTlypDKrws3NDW1tbRYsWMCIESOoW7eukn/AgAGMHj1a+dysWTPmzZvH/v376devn/JMp0+fJjIystQ2FRUVsXDhQtzc3FixYoVyvfjvPFChfhBCCCGEEK8+meJeirp169KkSROWLVvGtm3bKj1SamxsrBac5+TkcOrUKbp160ZBQQH5+fnk5+fTokULGjVqxM8//6zkPXLkCAMGDMDR0RFLS0s6deoEPBoJftwbb7yhNmrfokULAFxdXUtcK6/9DRo0UAJmQAkQ7ty5A6C0z9fXV8mjqamJt7f3U8utSF2ltdvQ0BATExOl3VevXiU1NVVtZBygR48e5OXlcfbsWQC6d+9OXl4eBw4cUPLs2bOHLl26qI32Pu7o0aMYGxvToUMH5XvJz8/H1dWVCxcuUFBQ8Mzvw5OCg4O5fPky+/btK5H2559/cuHCBbp27VriWQF++umnStf35I8T5ubmFXqGo0eP4uPjg5aWltIvhoaGWFpallgC0alTp1J/bHB2dlbre3Nzc/Ly8pSlHUePHqVNmza0aNGiRP8//veiolQqFVpaWoSEhHDo0CFlynmxxMREsrOz6datW4n6Hjx4wOXLl9XyP7lTfd26dXF1dSUhIUG5tmfPHvT09Mr8+3D16lWSk5P5xz/+UWa7q7sfhBBCCCHEy0lG0EuhoaHBunXriIiIYM6cOWRnZ9OuXTumT5+Os7NzuffXr19f7XNGRgYFBQWEh4erjZAX+/333wE4e/YswcHB+Pr6MmrUKOrVq4eGhgb9+vUrsf74yZ26i6eiPz7FtjgwKm/tclllFd+XkpKCtrZ2iem7VTmmrCLthkdtL66/eHpyvXr11PIUfy5ONzU1xcXFhYSEBHr37s3Fixe5cuXKU4+US01NJS0tjXbt2pWanpKSgpmZ2TO9D0+ysbHB3d2dVatWlQjEMzMzKSoqKvGsBgYG6OjoqE3Vrqgn+1ZbW7tCGxempqYSGxurTH1/sozHPdneYk9+30++k6mpqZw/f77U/q/KTvctW7YkJiaG1atXM378eDQ1NXF3d2f27Nk0btyY1NRUAPr06VPq/cV/F4s9+XcZwM/Pj9DQUFJSUjA1NSUhIYHOnTsrswyelJaWBvDUTeOqux+EEEIIIcTLSQL0MrRs2ZLly5eTl5dHYmIiy5YtY8yYMXz//fdPXc8NlBhJNDAwQENDg6CgoFKnmhdPqT1w4AD6+vpERkaiqflockNSUvWfX1xZpqam5OXlkZmZqRbsPbnZ1/NSvNb3yfqKR2GNjIyUa35+foSFhZGamkpCQgKmpqa0b9++zLKNjIwwMTFhzZo1paYX/wjxLO9DacaNG8fAgQM5ePCg2vXid+XJZ83MzCQ3N1ftWZ83IyMjPD09GTRoUIm0J5+5tNHzitahUqmYP39+le4vTadOnejUqRNZWVl8//33hIeHM336dGJjY5X+i46OLnUde0VOOPD19UVHR4dvvvkGd3d3Lly4oEyXL03x+/vkZo+Pex79IIQQQgghXj4SoJdDW1ub9u3bM3r0aMaOHcvdu3dp2bIl2tra5Y5MFyteO3v16lWsra3LzPfgwQO0tbXVgp3ndSRXZVhZWQGPNi8rXoNeWFjId99995fU37JlS0xMTNi7dy+dO3dWrn/zzTdoa2tjY2OjXOvSpQthYWHs27ePhIQEevToofzYURpXV1c+/fRTtLW1eeONN8ptS1nvQ2U5ODjQoUMHVq5cqXb9tddeo23btuzdu5dhw4apPSuAo6NjpesqT1kj6h07duTy5ctYWlo+t1FcV1dXjhw5QoMGDZ56rnpl/r4V09fXp0ePHpw9e5bdu3cDYG9vj66uLsnJyWrvUmXL9fLyIiEhgfT0dExMTNSWaDypVatWmJmZER8fryxVeFJF+0EIIYQQQrzaJEAvxcWLF1m4cCE9evTg9ddfJysri9WrV9OkSROaNWsGPFpL+/XXX7N7926aN29O3bp1nzr6Nm3aNIYOHcrkyZPx8/PD0NCQ5ORkjh07RkBAAC4uLri5uREbG8vcuXPp3LkziYmJ7Nix46967DJZWFjQuXNn5s2bR05ODo0bN+bLL7/kwYMHVR45rQwtLS2Cg4OZN28eJiYmeHp6cvr0adauXcvQoUPVNvUyMjLCw8ODFStWcPfu3TJ3Si/m5uaGt7c3I0eOZOTIkahUKnJycvj111+5fv068+fPr9D7UBXBwcEMGTKkxPXx48czbtw4QkJCeOutt7h27RoRERF07dr1uezmbW5uTn5+PrGxsdjb26Ovr0+rVq2YOHEiffv2ZcSIEfTr14/69evzxx9/cPLkSZycnMrt24ro3bs3X3zxBUOGDOHdd9+lRYsWZGZmKpu9TZ06FXgU5G7fvp1Dhw5hampaZiD7xRdfcPr0aTw8PDA1NeXWrVvs3LkTNzc34NGU+4kTJ7J48WKSk5Np3749Wlpa3Lx5k4MHDxIVFYWurm657fb392f8+PEkJSXRrVu3p549r6GhwQcffMCUKVOYMGECvXr1QkdHh9OnT2NtbY23t3eF+0EIIYQQQrzaJEAvhampKfXr12f16tXcuXMHAwMDnJycWLx4sTKS2LdvX86ePcvcuXNJS0ujT58+LFiwoMwyHRwc+Pzzz4mKimL69Onk5eVhZmZGhw4daN68OfBoV+eQkBA2b95MfHw8Dg4OrF69usQ65Zrwz3/+kzlz5rBo0SJ0dHTo06cPFhYWbNmy5S+pPzAwkFq1arFhwwb+9a9/YWpqyvjx4xkzZkyJvP7+/hw6dIhmzZqpja6XZfny5axZs4Z//etfJCUlYWBggIWFBQEBAUDF3oeqcHFxwdHRscTGb76+vnzyySesWLGC4OBgjI2N6dev33ML0ry9vRk0aBBr1qzh3r17ODs7s2nTJpo3b87WrVuJjIwkLCyM7OxsTE1NcXZ2rrYfCnR0dNi4cSNRUVHExMSQkpKCsbExlpaWalPrR40axY0bN/jggw/IyMhg/PjxTJgwoUR5KpWK7777jvDwcNLS0jA1NcXPz49JkyYped59910aNmzI+vXr2bx5M7Vq1aJZs2Z4eXmVWFtfluIj1VJSUvDz8ys3f48ePahTpw4xMTFMmTKF2rVrY2lpqYziV7QfqqKeXpNnuv+vLlcIIYQQ4u9Mo6ioqKimGyFeToMHD0ZTU5NNmzbVdFOEEE8o3v39actqnlVhUSGaGq/WYSDZ2dlcuHCBtm3boqenV9PNeWlIv1WN9FvlSZ9VjfRb1Ui/Vc3fsd+q899dMoIuKmTfvn38/vvvtGnThpycHHbv3s2PP/6odq6zEOLFkpubS05OToWm7VfFqxacCyGEEELUNAnQRYXo6emxY8cOfvvtN/Ly8mjVqhWLFy9WdqUvKCjgaZMxnrZG92WXn59fZpqGhoYckyWEEEIIIYSokFc3avqbO3DgAHfu3GHw4MHVUp6HhwceHh5lpg8bNoyTJ0+WmX7w4MEKHWHl4+ODl5fXU88uf16q0me3bt3C19e3zPT27duzadMmfHx8SEpKYv78+fTt21ctj5OTE0OHDi11TXVlxMfHM336dH744YdKnVF/4sQJEhMTS13P/6KIj49HW1ubnj171nRTKkSlUjFt2jRGjBhRo+3Q0dGp9tHzV3FauxBCCCHEi0IC9FfUgQMHOHfuXLUF6OUJCwvjzz//LDO9QYMGFSonOjoaQ0PD6mpWpVSlzxo0aMBXX31VZvqT54WvXr2aPn36PJdRdS8vL+Li4irdfydPnuSzzz57oQP0bdu2oaen99IE6HFxcTRu3LimmwHAt/+LJDXnVrWUVVe3KZ3bTK6WsoQQQgghREkSoP/NFRUVkZeXh46OzjOV06pVq2ppj6WlZbWU81fR0dGp8GYQ7du357///S+7du1SzpOvTiYmJpUaOX9eHjx4QJ06dWq6GdWuMs9lZ2f3fBtTCak5t/jjz6s13QwhhBBCCFEBMk/xJXX58mVGjRqFi4sLtra2dO3albVr1wIQGhrKtm3buHz5MiqVCpVKRWhoqJLm7+/PkSNHeOutt7C2tubQoUMAJCYmMmTIEOzs7HB0dGTq1Kncu3dPrd4lS5bQs2dP7O3t8fDwYMqUKdy9e1ctT2BgIEFBQezevZsuXbpga2vLmDFjSE9PJykpiREjRmBvb4+fnx8nTpxQu9fHx4c5c+Yon4vbe+LECXr37o2dnR19+/bl3LlzavdlZmYSEhKCvb09HTt2ZNmyZXz22WcVPg6srD6Lj4/H0tKSP/74Qy1/WloaVlZWfPHFFxUqHx6dJ9+lSxdiYmIoLCx8at79+/fTq1cvrK2tcXd3Jzw8nIcPHz71nvj4eFQqFffv3wceTb9XqVTs2LGDOXPm4OzsjLu7OwsXLlTWzUdFRREdHU12drby3IGBgUqZV65cYezYsTg6OmJnZ8fo0aO5ceOGWr0qlYo1a9awePFi3Nzc6NixI/D/3+WWLVvw9vbG0dGR4OBgpX3FMjIy+Pjjj3F3d8fKyoqAgAD+85//KOmBgYGcPHmSw4cPK22Miooqsx8OHjxIQEAA9vb2ODk5ERAQwJEjR0r0Vc+ePbG2tsbDw4OIiAgKCgpK9GViYiLDhw/Hzs6ORYsWKe/2kzZv3oyNjQ2ZmZlKn6xbt04tz+HDhxkwYAC2trY4OzsTGBjI+fPnK9wPQgghhBDi1Scj6C+pMWPGUL9+febPn4++vj43btwgOTkZQAmCrl69ypIlSwDURlbv3r3LvHnzGDt2LI0aNaJx48YkJiYSGBiIp6cnERER5OTkEBkZSXBwMHFxccq99+7dIygoiAYNGnD//n3Wr19PYGAgCQkJahvBnT9/ntTUVKZNm0ZWVhbz5s1j1qxZJCUl0bt3b4YPH87q1auZMGEC3333XYmp4I9LSUlh3rx5jB49GgMDA5YuXcr48eP59ttvlXOrp0+fzvHjx3n//fdp0qQJX375Jb/88kuF+7OsPqtbty4fffQRe/fu5Z133lHy79+/H4Bu3bpVuA6AsWPH0rt3b/bs2YO/v3+peQ4ePMjEiRPx8/Nj6tSpXL16lYiICH7//XeWL19eqfoAIiMj8fX1JTIyksTERKKiomjWrBkDBw7k7bffJjk5md27dxMbGwuAvr4+ADdv3mTAgAFYWFiwYMECNDQ0iImJYdiwYezdu1dt1sXGjRuxtbVl/vz5apvmHTp0iOvXrzN79mxSU1MJDw9n7ty5REREAI92GR8+fDj37t1j8uTJNGzYkJ07dxIUFKQEyR999BHvv/8+derU4YMPPgDAzMys1Ge9ceMGkyZNUvqusLCQixcvkp6eruRZv349ixcvZujQoYSGhnLlyhUlQA8JCVErb+rUqfTv35+goCB0dXW5cOEC8+bNIy0tDWNjYyXf7t27lbPRS7Nnzx6mTJmCr68vS5cuRVtbm1OnTnHnzh0sLS0r1A9CCCGEEOLVJwH6S+j+/fvcunWLGTNm4OPjA0CHDh2U9GbNmmFiYsLt27dLnWqbnp7O2rVrsbW1Va7NmDEDKysroqOj0dDQAKBNmzbKaLunpycA4eHhyj0FBQXY29vTqVMnjh8/jru7u5KWlZVFTEyM8sPApUuX+Oyzz/j4448ZOHAg8Gj9ds+ePfnhhx+U3eBLk56ezubNm7GwsABAV1eXIUOGcObMGZycnPj111/59ttvWbhwoTJ13MPDg+7du1e4T5/WZ56enuzevVstQN+9ezdubm5qQVpFtG3bFm9vb2JiYvDz81P6+nHR0dHY2dmxdOlSADp16oSuri6zZ8/m0qVLlQ7WbGxsmDlzJgBubm6cOHGCffv2MXDgQMzMzDAzM0NTU7PEc0dHR2NkZMT69eupXbs2AA4ODvj6+rJ161a1tfpGRkZq706xoqIiVq1apQTzSUlJrF69msLCQjQ1Ndm1axcXL15kx44dtG7dGnj03V2/fp2VK1fyySef0Lp1a/T19dHT0yt36vj58+fJy8tj1qxZyg8Nj29umJWVxfLlyxk5ciRTpkxR+kRbW5sFCxYwYsQI6tatq+QfMGAAo0ePVj43a9aMefPmsX//fvr166c80+nTp4mMjCy1TUVFRSxcuBA3Nze1YwmL/04BFeoHIYQQQgjx6pMp7i+hunXr0qRJE5YtW8a2bduUkfOKMjY2VgvOc3JyOHXqFN26daOgoID8/Hzy8/Np0aIFjRo14ueff1byHjlyhAEDBuDo6IilpSWdOnUC4LffflOr44033lAbtW/RogUArq6uJa6V1/4GDRoowTmgBDB37twBUNr3+G7qmpqaeHt7P7XcivLz8+P06dPcvn0beDQD4b///S9+fn5VKi84OJjLly+zb9++Eml//vknFy5coGvXrmrXe/ToAcBPP/1U6foe/+EEwNzcvELvzNGjR/Hx8UFLS0t5JwwNDbG0tCyxxKBTp06l/tjg7OysNtJubm5OXl6esnTi6NGjtGnThhYtWih15Ofn4+rqqvbeVZRKpUJLS4uQkBAOHTqkTDkvlpiYSHZ2Nt26dStR34MHD7h8+bJafi8vL7XPdevWxdXVlYSEBOXanj170NPTK/N9u3r1KsnJyfzjH/8os93V3Q9CCCGEEOLlJCPoLyENDQ3WrVtHREQEc+bMITs7m3bt2jF9+nScnZ3Lvb9+/fpqnzMyMigoKCA8PFxthLzY77//DsDZs2cJDg7G19eXUaNGUa9ePTQ0NOjXr1+J9dFP7iRePBX98SnAxYFbeWuryyqr+L6UlBS0tbVLTC+urg3TvL290dXVJSEhgVGjRvHNN99Qu3btp476P42NjQ3u7u6sWrWqRCCemZlJUVER9erVU7tuYGCAjo6O2lTtinqyX7S1tcnNzS33vtTUVGJjY5Wp70+W8bgn21vsye/uye88NTWV8+fP065duxL3VmWn+5YtWxITE8Pq1asZP348mpqauLu7M3v2bBo3bkxqaioAffr0KfX+4ne92JN/V+DRDzahoaGkpKRgampKQkICnTt3VmYZPCktLQ14+kkG1d0PQgghhBDi5SQB+kuqZcuWLF++nLy8PBITE1m2bBljxozh+++/f+p6bqDESKeBgQEaGhoEBQWVGnQWT/k9cOAA+vr6REZGoqn5aPJFUlJSNT1R1ZmampKXl0dmZqZaMPrkZmRVVadOHd5880327NnDqFGj2LNnD97e3ujp6VW5zHHjxjFw4EAOHjyodr34u3iy7ZmZmeTm5mJkZFTlOivLyMgIT09PBg0aVCLtyXestNHzitahUqmYP39+le4vTadOnejUqRNZWVl8//33hIeHM336dGJjY5X+i46OLnUde9OmTcst39fXFx0dHb755hvc3d25cOGCMl2+NMXLIJ7cTPFxz6MfhBBCCCHEy0cC9JectrY27du3Z/To0YwdO5a7d+/SsmVLtLW1yx2ZLla8tvfq1atPPTLswYMHaGtrqwVju3bteuZneFZWVlbAo83VitegFxYW8t1331WqnKf1mb+/P6NHj+bf//43p0+fZtSoUc/UZgcHBzp06MDKlSvVrr/22mu0bduWvXv3MmzYMOX6N998A4Cjo+Mz1VuaskbUO3bsyOXLl7G0tHxuo7iurq4cOXKEBg0a0LBhw6e2saLvczF9fX169OjB2bNn2b17NwD29vbo6uqSnJxM586dq9RmfX19vLy8SEhIID09HRMTE7WlG09q1aoVZmZmxMfHK0sVnlTRfhBCCCGEEK82CdBfQhcvXmThwoX06NGD119/naysLFavXk2TJk1o1qwZ8Git79dff83u3btp3rw5devWfero4LRp0xg6dCiTJ0/Gz88PQ0NDkpOTOXbsGAEBAbi4uODm5kZsbCxz586lc+fOJCYmsmPHjr/qsctkYWFB586dmTdvHjk5OTRu3Jgvv/ySBw8eVGpk92l95urqirGxMR9++CGGhobK2vtnERwczJAhQ0pcHz9+POPGjSMkJIS33nqLa9euERERQdeuXZ/Lbt7m5ubk5+cTGxuLvb09+vr6tGrViokTJ9K3b19GjBhBv379qF+/Pn/88QcnT57EycmpzF3oK6N379588cUXDBkyhHfffZcWLVqQmZmpbPY2depU4FGQu337dg4dOoSpqWmZgewXX3zB6dOn8fDwwNTUlFu3brFz507c3NyAR1PuJ06cyOLFi0lOTqZ9+/ZoaWlx8+ZNDh48SFRUFLq6uuW229/fn/Hjx5OUlES3bt3UTjB4koaGBh988AFTpkxhwoQJ9OrVCx0dHU6fPo21tTXe3t4V7gchhBBCCPFqkwD9JWRqakr9+vVZvXo1d+7cwcDAACcnJxYvXqyMdPbt25ezZ88yd+5c0tLS6NOnDwsWLCizTAcHBz7//HOioqKYPn06eXl5mJmZ0aFDB5o3bw482nU6JCSEzZs3Ex8fj4ODA6tXry6xjrom/POf/2TOnDksWrQIHR0d+vTpg4WFBVu2bKlwGU/rM21tbbp27UpcXBx9+/ZV2/isqlxcXHB0dCyx8Zuvry+ffPIJK1asIDg4GGNjY/r16/fcgjRvb28GDRrEmjVruHfvHs7OzmzatInmzZuzdetWIiMjCQsLIzs7G1NTU5ydnavthwIdHR02btxIVFQUMTExpKSkYGxsjKWlpdrU+lGjRnHjxg0++OADMjIyGD9+PBMmTChRnkql4rvvviM8PJy0tDRMTU3x8/Nj0qRJSp53332Xhg0bsn79ejZv3kytWrVo1qwZXl5eJdbWl6X4SLWUlJQKbRbYo0cP6tSpQ0xMDFOmTKF27dpYWloqo/gV7QchhBBCCPFq0ygqKiqq6UYI8TwMHjwYTU1NNm3aVNNNEeIvV7z7e3Ltg6Tm3KqWMuvqNqVzm8nVUtaLKjs7mwsXLtC2bdtn2mfi70b6rWqk3ypP+qxqpN+qRvqtav6O/Vb8766nLReuKBlBF6+Effv28fvvv9OmTRtycnLYvXs3P/74o9q500L8HVV3QF1YVIimhpzQKYQQQgjxPEiALl4Jenp67Nixg99++428vDxatWrF4sWLlV3pCwoKeNpkkaetIS5Pfn5+mWkaGhpyTJaoMbm5ueTk5FRoXX1FSXAuhBBCCPH8SIAuXgkeHh54eHiUmT5s2DBOnjxZZvrBgwcrdMTWk27duoWvr2+Z6e3bt5cp9kIIIYQQQogKkQD9JXXgwAHu3LnD4MGDn0v5oaGhnDt3Tjme6mUXFhbGn3/+WWZ6gwYNKlTOiRMnSExMZMyYMcp9X331VZn5i88LDwwM5OTJkwQHB6ttWAbQq1cv2rZt+9RN/CratiFDhvDVV19Vav3LhQsXOHDgACNHjqzWkdbq9Lzf9+rm4+ODl5cXs2fPrtF26OjoVOt3WlhUgKaGzAgRQgghhHheJEB/SR04cIBz5869NAFLTWvVqlW1lHPy5Ek+++wzJUDX0dGpVDC8adMm3n33XQwMDKqlPY9r164dcXFxmJubV+q+CxcuEB0dzeDBg1/oAP1let+jo6MxNDSs6WYA8J/LC8jIufnM5Rjqvo67RWg1tEgIIYQQQpRFAnQhKiA3N/eZ1qkD2NjY8Ouvv7Jx40bGjRtXTS37f/r6+tjZ2VV7uZVV3Feamq/WWuUHDx5Qp06dCuW1tLR8zq2puIycm9zP/rWmmyGEEEIIISrg1foX9N9EaGgo27Zt4/Lly6hUKlQqFaGh/z+ylZiYyJAhQ7Czs8PR0ZGpU6dy7949tTJyc3OJiIjA19cXKysrOnXqpFZGsRMnTtC7d2/s7Ozo27cv586dq3A7MzIymDlzJh4eHlhbW+Pp6cl7772npEdFRWFvb1/iPicnJ6KiopTPgYGBBAUFsX37dt58801sbGwIDAzk6tWravepVCrWrFnDokWL6NChA/b29oSGhpKVlaWWLykpiYkTJ+Lo6IidnR0jRozg0qVLanl8fHyYM2cOa9euxdvbGxsbG+bNm0d0dDTZ2dlKvwcGBla4P0xMTBgwYAAbN24s0aYn/fe//2XAgAHY2Njg4uLC9OnTSUtLe+o9J06cQKVSKcc8FPfJ2rVriYqKwtXVVSkrOzsbgPj4eKZPnw5Ax44dUalU+Pj4KPcnJycTEhKCi4sLNjY2DB48uMQ7UFpfpaWlKd/b3r176dq1K/b29gwZMoQbN26o3Z+bm8uyZcvw9vbGysqK7t27s2vXLiW9vPf9ST/99BODBw/G0dERe3t7evbsybZt29TyHD58mLfffhsbGxs6dOjARx99pPTJ4315+PBhJk6ciIODA5MmTSI0NBR/f/8SdX733XeoVCrlnSzuk8clJiby7rvv4uDggL29PW+//TZHjx6tcD8IIYQQQohXn4ygv4SCg4O5f/8+V69eZcmSJcCj4A8eBQGBgYF4enoSERFBTk4OkZGRBAcHExcXp5QxYcIEjh8/TlBQEHZ2dty/f5/9+/er1ZOSksK8efMYPXo0BgYGLF26lPHjx/Ptt9+ira1dbjvDw8P597//zdSpU2nSpAkpKSl8//33VXrmX375hRs3bjB16lQAIiMjGTlyJHv37kVHR0fJt2nTJtq1a8fChQu5desWS5Ys4eHDh0RERACQlZVFYGAgmpqahIWFUbt2bVatWsU777zDzp07adSokVLW/v37ad68OTNmzEBTU5O2bdvy8OFDdu/eTWxsLPBo1Loy3n33XbZs2cKWLVsICgoqNc+5c+cYPnw4Li4ufPLJJ/zxxx8sXbqUX3/9lS+++KLSu8Jv2bIFR0dHFixYwG+//caiRYuoV68eISEheHl5MXbsWFatWsWnn36KgYGB0p/p6ekMGjQIPT09Zs2ahYGBAZs2bWLo0KHs37+fevXqldlXxWdeXrhwgfv37xMSEkJBQQELFizg/fffV3sXJ02axKlTpxg3bhzm5uYcOXKE999/H0NDQzw9PZ/6vj8pKyuLoKAgHB0dWbZsGTo6Ovz6669kZGQoefbu3ct7771HQEAAEyZMICUlhaVLl5KRkaG8J8VmzZrFW2+9xYoVK9DU1CQ3N5dt27bxv//9jzZt2ij5du/eTbt27cpcSvHTTz8xdOhQ7OzsmDdvHoaGhpw7d47bt29XuB+EEEIIIcSrTwL0l1CzZs0wMTHh9u3bJaY0L126FCsrK6Kjo9HQ0ACgTZs2+Pv7c+TIETw9PTl69CiHDx9m6dKlaqOBT44Mpqens3nzZiwsLADQ1dVlyJAhnDlzBicnp3Lb+fPPP+Pv70+fPn2Ua35+flV65nv37rF582ZatGgBPJpC3K1bN+Lj4xkwYICST0dHhxUrVihBbO3atZk5cybjx4/H3Nyc+Ph4bt++TUJCgrJW29nZGW9vb2JjY9VGZvPy8li7dq0SbAKYmZmhqalZ5ankpqam9OvXj/Xr1xMYGKhWdrGYmBhMTU2JiYlRfghp1KgRI0aM4MiRI2oj3BWtc+nSpQB06tSJ8+fPs2/fPkJCQjAxMaFZs2bAozXsjwe+sbGxZGRksHXrViUY79ixI127dmXdunVMmzZNyVtaXwFkZmayfft2pdzs7GymT59OcnIyZmZmHD9+nEOHDrFu3Trc3d0BcHNzIyUlhaioKDw9PZ/6vj/p2rVrZGZmMmXKFFQqldLmYkVFRSxatIgePXowf/58tT4aPXo0wcHByvsOj0bC33//feVzfn4+JiYmJCQkKAF6Tk4Ohw4dYvz48WW2a/HixTRv3pzY2Fjl3Sx+XqBC/SCEEEIIIV59MsX9FZKTk8OpU6fo1q0bBQUF5Ofnk5+fT4sWLWjUqJEy9fmHH35AV1e33GC5QYMGasFK69atAbhz506F2mNpacm2bdtYt24d//vf/6r4VI9YWFgowTlA8+bNeeONNzhz5oxaPm9vb7UR5m7dulFUVKQ8+48//oiFhYXaRmrGxsa4urry008/qZXl4uJSagD9rEaOHElWVhb/+te/Sk3/8ccf8fX1VZul4O7ujqGhYYk2VoSrq6vaZ3Nzc5KTk8u97+jRo7i4uGBkZKS8S5qamjg7O6tNo4ey++qNN95QC/qL36Hi+o8ePYqxsTEdOnRQ6sjPz8fV1ZULFy5QUFBQqWdt1qwZ+vr6fPzxx+zZs4f79++rpV+7do2kpCS6d++uVl/79u3R1NQsMX3fy8tL7XOtWrXo1q0be/bsUa5999135OTklPn3KScnhzNnztC7d+8yZz9Udz8IIYQQQoiXk4ygv0IyMjIoKCggPDyc8PDwEum///47AGlpaZiamioj7GV5chfq4oDx4cOHFWrPrFmzMDIyYv369SxatIhGjRoxevRoBg0aVKH7H/f4dOrHr6WkpDw1n76+PrVr1+bu3bvAoz6qX79+qWVdvny53Dqrg5mZGQEBAXz22Wel7kqekZFR5vOmp6dXur7Svsfc3Nxy70tNTeX06dO0a9euRFrxqPvjbato3fD/71BqaippaWml1gGPllmYmZmV29Zixe/b8uXLmTZtGgUFBTg5OTFz5kxUKhWpqakAZW7SV/x35GnP5efnx+eff87Zs2exsbEhISEBJyenMtuZkZFBYWHhU4/yq+5+EEIIIYQQLycJ0F8hBgYGaGhoEBQUxJtvvlkivW7dusCjEeOUlBSKiorKDdKftT0zZsxgxowZXLp0iY0bNxIWFkabNm1wcnKidu3a5OXlqd2Tl5entllXsSc3uSu+9sYbbzw1X1ZWFg8fPlSCIyMjI65du1ZqWUZGRmrXnmffBAUFER8fr7YWu5iRkVGZz/tkG58nIyMjPDw8SpzbDqit+4eq95WRkREmJiasWbOm1PSy1po/jY2NDZ9++ikPHjzgxIkTLFy4kHHjxnHgwAGMjY0BmD17NjY2NiXufTKILu25HB0dadSoEQkJCbRs2ZLvv/+eDz/8sMz2GBgYoKmpqfxIVJrn0Q9CCCGEEOLlI1PcX1La2tolRrL19PSws7Pj6tWrWFtbl/ivadOmwKMpzzk5OXzzzTd/WXtVKpWyW/iVK1cAaNiwIXl5eWq7eh8/frzU6byXL1/m+vXryufr169z8eJFbG1t1fJ99913avfv3bsXDQ0N5axyR0dH/ve//6ntAJ+ens6xY8dwdHQs9zkqOvpcniZNmvDWW2/x6aeflijP0dGRgwcPkp+fr1w7evQoGRkZFWpjZRWPaj/ZDldXV65cuYK5uXmJd6l4ffezcnV15f79+2hra5f6zhb/EFDa+16eOnXq4OnpycCBA7l16xYPHz6kVatWmJmZcfPmzVLra9iwYbnlamho0KNHD7755hv27dtHYWEhXbt2LTN/8d/LHTt2lDlVvaL9IIQQQgghXm0ygv6SMjc35+uvv2b37t00b96cunXr0rRpU6ZNm8bQoUOZPHkyfn5+GBoakpyczLFjxwgICMDFxQVXV1c8PT358MMPuXHjBra2tqSlpbFv3z4iIyOrrY0DBgygc+fOWFhYoKWlxfbt29HW1lY2mOvUqRN6enrMnDmTUaNGkZyczMaNG6ldu3aJsurVq8eYMWOYOHEiAJ988gkNGzYkICBALV9ubi7jxo1TgrIlS5bQtWtXZc15QEAAGzZsICgoiMmTJyu7uNeqVYuhQ4eW+0zm5ubk5+cTGxuLvb09+vr6Ze7cXZ7io+Pu3r2r9kPDmDFjGDBgAEFBQQQGBiq7uNvY2DyXzcKK+2bLli28+eab1KlTB5VKxbBhw9i1axfvvPMOQ4YMoXHjxty/f58zZ87QsGFDhg0b9sx1u7m54e3tzciRIxk5ciQqlYqcnBx+/fVXrl+/rmzkVtb7/qTDhw/z1Vdf8eabb9K4cWP++OMPNm/ejIODg/JehYaGEhISQnZ2Nl5eXujq6nL79m2OHDnCe++9R8uWLcttt7+/P+vWreOTTz7Bzc2t3BHuqVOnMmzYMIYNG8agQYMwMjLil19+oW7duvTt27fC/SCEEEIIIV5tEqC/pPr27cvZs2eZO3cuaWlp9OnThwULFuDg4MDnn39OVFQU06dPJy8vDzMzMzp06EDz5s2V+6OiooiOjiYuLo7o6Gjq1auHm5tbtbbRwcGB7du3c+vWLTQ1NWnTpg0xMTFKQFi3bl2WL1+uTEFu27YtixYtKvVs8Xbt2tGlSxcWL15MSkoKtra2hIWFlRhZDAwM5P79+0ybNo3c3Fw6d+7M7NmzlXR9fX02bdrEggULmDVrFoWFhTg4OLB582a1I9bK4u3tzaBBg1izZg337t3D2dmZTZs2Val/mjdvjp+fHzt37lS7bmVlxWeffcayZcuYMGECenp6+Pj48MEHH1T6iLWKsLS0ZMKECWzdupVPP/2URo0acejQIerWrUtcXByRkZEsWbKEtLQ06tWrh62tLZ07d662+pcvX86aNWv417/+RVJSEgYGBlhYWKj9+FLW+/6kZs2aoampSWRkJPfu3cPY2Bh3d3emTJmi5OnevTuGhobExMQo54w3adIEDw+PUvcnKI2lpSUtW7bk2rVrhISElJvfycmJjRs3EhkZyfTp09HU1MTCwoLJkydXqh+qwlD39We6v7rLEUIIIYQQZdMoKioqqulGCPE0xceRrV69+qn5VCoV06ZNY8SIEX9Ry4R4cRXvtF+8vKM6FBYVoKlR/T8SvUiys7O5cOECbdu2fS6nOLyqpN+qRvqt8qTPqkb6rWqk36rm79hv1fnvLlmDLoQQr6jc3FxycnKqrbxXPTgXQgghhKhpMsVdVElhYSGFhYVlpmtpaT3XXdBfJI9v5vYkDQ2N5zItXQghhBBCCPHqkQBdVMmKFSuIjo4uMz08PPyZ184Wq+ga70uXLlVLfZVV1tnV8Ght86FDh/7C1gjx/3R0dNDV1a2WsoqKCtCQEXQhhBBCiOdKAvRXWGhoKOfOnWP37t0AxMfHM336dH744YdnPle5X79+eHl5lZn+5A7b1Vl3RVR03Xp1+Oqrr8pM09HR4cSJEwwZMgR9fX2+++47DA0NlfQDBw4wbtw4Dh48WOqu5JVR1WfesGEDLVu2fC47xFeHjIwMYmNj6d69O61bt67p5pTrr37Xy3Pq1zCycq6Xn/Ep9HWb49D6o2pqkRBCCCGEKIsE6H8jXl5exMXFqQWIVdWwYcMKnRn9d1DeZhAnTpwAICsri9jYWCZMmPBc2vHRRx+hqVn5bSU2btyIl5fXCx2gR0dHY2Fh8VIE6NX596w6ZOVcJz37fzXdDCGEEEIIUQGySdzfiImJCXZ2dtSqJb/L1AQXFxc2bdpEVlbWcym/devWVT6TvTo9ePCgpptQ7QoKCsjLy6tQXvl7JoQQQgghqkoC9BfQ/v376dWrF9bW1ri7uxMeHs7Dhw+V9BMnTqBSqTh69ChTp07F3t4eb29v1q5d+9Ry4+PjUalU3L9/H4Bbt26hUqnYsWMHc+bMwdnZGXd3dxYuXFhi47MrV64wduxYHB0dsbOzY/To0dy4caPSz3bjxg2GDBmCra0tPj4+JaaHJyYmMmbMGNzd3bGzs6NXr15s3769RDkZGRnMnTuXTp06YWVlhY+PD0uXLi2z3gcPHjB69Gh8fX25efMmUVFR2Nvbl8jn5OREVFSU8jkwMJCgoCC2b9/Om2++iY2NDYGBgVy9erXSzz5ixAgePnxY7pr6hw8fEh4ejru7O9bW1vTq1Ytvv/223PKL21qs+BkvXbrEwIEDsbW1xd/fn3//+99KHh8fH5KSktiyZQsqlQqVSkV8fLySHh8fT8+ePbG2tsbDw4OIiAgKCgrU0lUqFYmJiQwfPhw7OzsWLVpUqXc0MTGRIUOGYGdnh6OjI1OnTuXevXvAo3fU19cXgEmTJiltvHXrVql9kJeXx8KFC/Hy8sLKygp3d3fGjBlDZmamkicjI4OPP/4Yd3d3rKysCAgI4D//+U+pfblt2za6du2KtbU1Fy9eRKVSsXfv3hL1BgQEKGetP/n3DB7tph4REYGvry9WVlZ06tSJ0NDQCveDEEIIIYT4e5AA/QVz8OBBJk6cSOvWrVmxYgUjR47kiy++4P333y+R96OPPqJFixasWLECb29vlixZwvfff1/pOiMjI9HU1CQyMpIBAwbw2WefsXXrViX95s2bDBgwgPT0dBYsWMCSJUu4f/8+w4YNIzc3t1J1TZkyBTc3N6Kjo3FxcWHGjBlqbb59+zYODg7Mnz+fVatW0aVLF2bOnMm2bduUPLm5uQwdOpRdu3YxYsQI1q5dy4QJE0hNTS21zj///JNRo0Zx48YNPv/8c15//fVKtfmXX35h9erVTJ06lYULF3L37l1GjhxZ6Wc3MTGhf//+bNiwgT///LPMfCEhIcTFxTFy5EhWrFhB69atmTBhAgcPHqxUffAoYA0JCSEgIIDo6GhMTEyYOHGi0lfR0dGYmprStWtX4uLiiIuLU/YWWL9+PTNnzsTd3Z2YmBhGjRrFxo0biYiIKFHP1KlT6dChAzExMfTq1Uu5Xt47mpiYSGBgIAYGBkRERDB37lx+/vlngoODAWjQoIGyGeGUKVOUNjZo0KDU5129ejVffPEFo0aN4rPPPmPWrFk0aNBA+a5yc3MZPnw4hw8fZvLkyaxatQpzc3OCgoJKbDJ47tw51q1bx6RJk1izZg2NGjXCzs6OPXv2qOX77bff+OWXX/D39y/ze5gwYQIbNmzgH//4B2vWrGHatGlkZ2dXuB+EEEIIIcTfg8zBfMFER0djZ2enjAZ36tQJXV1dZs+ezaVLl1CpVEreLl26KOuZO3bsyOHDh9m3bx+dOnWqVJ02NjbMnDkTADc3N06cOMG+ffsYOHCg0iYjIyPWr19P7dq1AXBwcMDX15etW7cyePDgCtfVq1cvZZTXw8ODmzdvsmLFCqXNfn5+St6ioiKcnZ25c+cOcXFx9OnTB4Dt27dz/vx5vvjiC7VR8OL0x6WnpzNq1CgePnzIli1bqFevXmW6BoB79+6xefNmWrRoAYClpSXdunUjPj6eAQMGVKqsESNG8K9//YvPP/+cUaNGlUi/ePEi+/fvJywsTCm7U6dOJCUlsWLFCmU0uaKKA/Ti9eUtW7bE19eX77//nl69emFpaYmOjg7169fHzs5OuS8rK4vly5czcuRIZWTYzc0NbW1tFixYwIgRI6hbt66Sf8CAAYwePVr5XLzuvrx3dOnSpVhZWREdHa0cy9emTRv8/f05cuQInp6etG3bFoDmzZurtbE0P//8M+7u7mrvZNeuXZU/79q1i4sXL7Jjxw5lPbuHhwfXr19n5cqVfPLJJ0re9PR0vvrqKxo1aqRc8/PzY8mSJWRlZaGvrw/A7t27MTIywt3dvdQ2HT16lMOHD7N06VK1IP7xP1ekH4QQQgghxKtPRtBfIH/++ScXLlxQCygAevToAcBPP/2kdv3xgEBDQwNzc3OSk5MrXe+TgcWT5Rw9ehQfHx+0tLTIz88nPz8fQ0NDLC0tOXfuXKXq6ty5s9rnLl268MsvvyjTptPT05k3bx7e3t60a9eOdu3aERcXx7Vr15R7fvjhB8zNzUudov641NRUhgwZAjzaCK0qwTmAhYWFEpzDo0DxjTfe4MyZM5Uuq2HDhvTt25f169eTk5NTIr34O+7WrZva9e7du3P+/Hm1UdeK0NTUpGPHjsrnpk2bUqdOHe7cufPU+xITE8nOzqZbt27Kd56fn4+rqysPHjzg8uXLavnL2tH/ae9oTk4Op06dolu3bhQUFCh1tGjRgkaNGvHzzz9X6lnh0Y8nR44cISoqirNnz1JYWKiWfvToUdq0aUOLFi1KPNeT9bVp00YtOIdH30NeXh4HDhxQru3Zs4cuXbqgo6NTapt++OEHdHV11X58etzz6AchhBBCCPFykhH0F0hmZiZFRUUlAkkDAwN0dHRIT08vcf1x2traamttK6q0ch6fvp2amkpsbCyxsbEl7tXW1q5UXU8+W/369cnLyyM1NZX69esTGhpKYmIi48aNo3Xr1ujr6/Ovf/2Lb775RrknLS2tzCnOj/vtt99IT0/nww8/xMjIqFLtfFqbi6+lpKRUqbxRo0axdetW4uLiShytlp6ejra2NsbGxmrX69evT1FREZmZmejp6VW4rjp16pQIHLW1tdX2NChN8RT40mYlAPz+++8l2leap72jGRkZFBQUEB4eTnh4eLl1VMTYsWPR1NRk27ZtypT+wYMHM27cODQ0NEhNTeX8+fOlnl2vpaV+xndpz2RqaoqLiwsJCQn07t2bixcvcuXKFWbPnl1mm9LS0jA1NVVGxp/0PPpBCCGEEEK8nCRAf4EYGBigoaGhtrkUPArcc3NznynIfBZGRkZ4enoyaNCgEmmvvfZapcq6d++e2vFsf/zxB9ra2tStW5eHDx9y+PBhQkNDCQwMVPJ8/vnnamUYGxuXWC9cGnt7ezp27MiCBQswNjZWWxtdu3btErty5+XllTpCXdpGXffu3eONN94otw2lady4MX369OHTTz9l+vTpamlGRkbk5eWRnp6u9n3/8ccfaGholAh4n5fiuqOjozEzMyuR/qxntsP/v+9BQUG8+eabJdIfn0JfUTo6OkyYMIEJEyZw/fp1vv76a6KiomjatCm9e/fGyMgIlUrF/Pnzyy2rrIDaz8+PsLAwUlNTSUhIwNTUlPbt25dZjrGxMSkpKRQVFZVa5vPoByGEEEII8XKSAP0F8tprr9G2bVv27t3LsGHDlOvFo8eOjo410q6OHTty+fJlLC0tS4wyVta3336LpaWl8nn//v20a9cOLS0tsrOzKSwsVBuVz8rK4tChQ2pluLq6smfPHs6cOYOtre1T6xs2bBgPHz5k+vTp1K5dW5k63rBhQ/Ly8rhx4wbNmjUD4Pjx42o7lBe7fPky169fp3nz5gBcv36dixcv0r9//6p1AjB69Gji4+P58ssv1a4Xf8d79+5VK3/v3r1YWlpWavS8okobUbe3t0dXV5fk5OQSyxKqi56eHnZ2dly9evWpZ8kXvw/ljfo/qXnz5srGcsW77ru6unLkyBEaNGig9kNRZXTp0oWwsDD27dtHQkICPXr0eOr5866urqxdu5ZvvvlGWa7yuIr2gxBCCCGEePVJgP6CGT9+POPGjSMkJIS33nqLa9euERERQdeuXdU2iPsrTZw4kb59+zJixAj69etH/fr1+eOPPzh58iROTk5P3b36STt27KBOnTpYWlqyZ88e/vvf/7JmzRrg0UiitbU1a9euxcTEhFq1arFmzRr09fXVZhX06tWLzz//nNGjRzN+/HgsLCy4c+cOP/74I3Pnzi1RZ1BQEA8ePCAkJITatWvj7e1Np06d0NPTY+bMmYwaNYrk5GQ2btyobIL3uHr16jFmzBgmTpwIwCeffELDhg0JCAiobFcqXn/9dXr27Km2Oz3AG2+8QZcuXViwYAEPHjygZcuW7Ny5k8TERFauXFnl+p6mVatWHD9+nKNHj2JoaEjTpk2pW7cuEydOZPHixSQnJ9O+fXu0tLS4efMmBw8eJCoqCl1d3Weue9q0aQwdOpTJkyfj5+eHoaEhycnJHDt2jICAAFxcXDA1NcXQ0JCEhASaNm2Kjo4OKpWq1DXfwcHBtGvXDktLS3R1dfnuu+9IT0+nQ4cOAPTu3ZsvvviCIUOG8O6779KiRQsyMzM5f/48eXl5TJ06tdw2GxkZ4eHhwYoVK7h7926577+rqyuenp58+OGH3LhxA1tbW9LS0ti3bx+RkZEV7gchhBBCCPHqkwD9BePr68snn3zCihUrCA4OxtjYmH79+lUocHhemjdvztatW4mMjCQsLIzs7GxMTU1xdnau9I8GS5cuZdmyZaxYsYJ69eoxd+5ctR2qly5dyuzZswkNDcXY2JjAwECys7P57LPPlDw6Ojps2LCBiIgIVq9eTVpaGmZmZmVuwgWPztB+8OABEydOZPXq1bi6urJ8+XIWLlzIuHHjaNu2LYsWLVKbWl+sXbt2dOnShcWLF5OSkoKtrS1hYWFlbgpWUUFBQezcubPEqP3ixYtZtmwZa9euJS0tjVatWrF8+XJ8fHyeqb6yTJkyhY8//pgJEybw559/Eh4eTkBAAO+++y4NGzZk/fr1bN68mVq1atGsWTO8vLwqvfdAWRwcHPj888+Jiopi+vTp5OXlYWZmRocOHZQZC5qamoSHh7Ns2TLlaL+DBw+WOs3ewcGBb775hvXr11NQUEDLli1ZsmQJrq6uwKN3Z+PGjURFRRETE0NKSgrGxsZYWlqWuoSjLP7+/hw6dIhmzZphY2NTbv6oqCiio6OJi4sjOjqaevXq4ebmVql+qCp93We7v7rKEEIIIYQQ5dMoKioqqulGCPGiCgwMRE9Pj9WrV9d0U4SolOLd36tr2nxRUQEaGs+2xOVlkJ2dzYULF2jbtu1zWVLyqpJ+qxrpt8qTPqsa6beqkX6rmr9jv1Xnv7vkmDUhhHhF5ebmlnqcX1X8HYJzIYQQQoiaJlPcxTMrLCwscd7047S0tMrcEftl93d+diGEEEIIIUT1kgBdPLMVK1YQHR1dZnrxmuaX0aZNm56a/io/u3j56ejoVHkzv7/LlHYhhBBCiBeJBOjimfXr1w8vL68y06vjzOwX1fN6dh8fH7y8vJg9e3YVW/b3dOLECYYMGcJXX331lx1ZFhUVxZo1a9i1axctWrRQS9uyZQvz58/nyy+/xMrK6i9pz5MuXplJds61St2jp9uSN8znPacWCSGEEEKIskiALp5Zw4YNq3ym9Mvu7/zsL6J27doRFxeHubn5X1ZnUFAQCQkJhIWFsX79euX6H3/8QUREBIMHD66x4BwgO+caWdmXaqx+IYQQQghRcbJJnBDihVZUVERubm6F8urr62NnZ/eX7hiqo6NDWFgYx44dY9euXcr18PBwXnvtNSZPnvyXtUUIIYQQQrzcJEAX4i8WGhqKv78/R44cwd/fH2trawICAjh9+nSJvFu2bMHb2xtHR0eCg4O5f/++WnpSUhITJ07E0dEROzs7RowYwaVL6qOlPj4+zJkzp9yyMjIy+Pjjj3F3d8fKyoqAgAD+85//VOrZ1qxZQ+fOnbG2tqZDhw4MGzaMmzdvKum5ubksW7YMb29vrKys6N69u1pQ+2T/vPXWW1hbW5OQkICdnR3r1q0rUefEiRPp378/8GiKu0qlUo66gEcb+a1fv57u3btjZWWFm5sbEydOJDMzU8lz5coVxo4dq/Tj6NGjuXHjRoWf28XFhYCAABYsWEBmZiY//PADu3fvZtasWbz22msVeu7Lly8zatQoXFxcsLW1pWvXrqxdu7bCbRBCCCGEEC8/meIuRA1ISUkhLCyMCRMmYGhoyNq1axkxYgT79++nXr16ABw6dIjr168ze/ZsUlNTCQ8PZ+7cuURERACQlZVFYGAgmpqahIWFUbt2bVatWsU777zDzp07adSokVJfeWXl5uYyfPhw7t27x+TJk2nYsCE7d+4kKCiI+Ph4VCpVuc+0fft2PvnkEyZOnIidnR2ZmZn89NNP/Pnnn0qeSZMmcerUKcaNG4e5uTlHjhzh/fffx9DQEE9PTyXf3bt3mTdvHmPHjqVRo0Y0btwYHx8fEhISGDFihJIvKyuLw4cP8/7775fZrrlz5xIXF8fQoUNxc3Pjzz//5PDhw2RnZ2NgYMDNmzcZMGAAFhYWLFiwAA0NDWJiYhg2bBh79+5FR0enQt/ptGnT+O6771iwYAE//fQTvr6+vPnmmxV+7jFjxlC/fn3mz5+Pvr4+N27cIDk5uUJ1CyGEEEKIV4ME6ELUgLS0NCIjI+nYsSMA7du3x9PTkw0bNjB16lTg0dTuVatWKQFiUlISq1evprCwEE1NTeLj47l9+zYJCQnKmmtnZ2e8vb2JjY0lNDRUqa+8snbt2sXFixfZsWMHrVu3BsDDw4Pr16+zcuVKPvnkk3Kf6ezZs6hUKoKCgpRrxQEqwPHjxzl06BDr1q3D3d0dADc3N1JSUoiKilIL0NPT01m7di22trbKNT8/P4KDg/ntt9+UzdgOHDhAfn4+3bt3L7VN165d41//+hfvvfeeWru6du2q/Dk6OhojIyPWr19P7dq1AXBwcMDX15etW7cyePDgcp8doG7duoSGhvLBBx+gp6fHhg0bKvzc9+/f59atW8yYMQMfHx8AOnToUKF6hRBCCCHEq0OmuAtRAwwMDJTgvPizq6srZ86cUa45Ozurjd6am5uTl5fHvXv3APjxxx+xsLBQ2xDN2NgYV1dXfvrpJ7X6yivr6NGjtGnThhYtWpCfn6/85+rqqjZd/GksLS05f/484eHh/Pjjj+Tl5amlHz16FGNjYzp06FCijgsXLlBQUKD2HI8H5/DoBwNDQ0MSEhKUawkJCbi4uFC/fv1S23T8+HGKioro27dvme0+evQoPj4+aGlpKW0yNDTE0tKSc+fOVejZi/Xu3ZsGDRrg7++PmZlZhZ+7bt26NGnShGXLlrFt2zYZORdCCCGE+JuSEXQhaoCJiUmJa/Xq1fu/9u47LIpr/QP4l7IoKEUUsWDB6G4CIkUBlSjFWBCMXq4FNYpRESNiLspNNEZy0RiNBkRBBcWGsWBPiDXGqDcxGvOzJZZoxG5AOqIoK8zvD5+d67IsLisLq34/z+PzuGfOOXPOy/AM787MGVy9elX8bGFhobRdkWA/fvwYwNNnxitLTBs3bowrV64olT2vr/z8fFy4cAGOjo4q/RkZafYu7KCgIDx48ABbtmzB2rVrYW5ujkGDBiEqKgr169dHfn4+CgoKKt0H8PS2f0VSW9m8TExM0KdPH+zZswfh4eHIz8/HsWPHMHv2bLVjKigogLGxsfjYQGXy8/Oxbt06rFu3TmWbRCJ53rQrbfNsO03nvWrVKixatAizZ8/Gw4cP4ejoiBkzZsDd3b3aYyAiIiKilxMTdKI6UHGBNgDIzc2FjY2Nxn1YWlri2jXV91vn5ubC0tKyWuOxtLSETCbD3Llzq9XuWYaGhggJCUFISAiysrKwe/duxMbGolGjRggPD4elpSWsra2xYsWKSts/+6WFgYFBpXUCAwOxbds2XLp0CWfOnIGhoSH69OmjdkxWVlZ48uQJcnNz1SbplpaW8Pb2xogRI1S2NWjQoKopa0TTedvb22PJkiWQy+U4ffo04uLiMHHiRBw9erRGxkFERERE+o8JOlEdUKz0rbjN/f79+zh27JjGzzsDQOfOnbF//35kZGSgXbt2AJ4+u33s2DFxVXNNde/eHUeOHEHTpk1r5L3utra2GDt2LL777jtkZGSI+0hJSYFEIsGbb76pVb8eHh6wsbHB7t27cebMGfTs2RPm5uZq63ft2hUGBgbYvn07JkyYUGmdbt264cqVK3BwcND4boHqqO68JRIJPDw8MGHCBHzwwQe4d+8e7O3ta3xcRERERKR/mKAT1QErKyvMnDkTU6ZMgbm5OVauXAlBEBASEqJxH0FBQVi7di3CwsLwr3/9S1zF3djYuFr9AE+fnd68eTNGjx6NsWPHom3btrh//z4uXLgAuVwuLlxXlejoaFhYWMDFxQUWFhY4deoULl26hOHDhwN4ujCar68vxo8fj/Hjx0Mmk6GkpAR//fUXbty4odHVeyMjI/Tr1w87d+5Ebm4u4uLiqqxvb2+P4OBgLF68GIWFhejWrRsePXqEw4cPIyIiAra2tpgyZQoGDx6McePGYejQoWjSpAlycnLw66+/okuXLggMDNQsiGpoMu9Lly7hyy+/RP/+/dGqVSsUFxcjOTkZLVu2ROvWrV9o/0RERET08mCCTlQHbGxsEBUVhQULFuDmzZvo0KEDVq1apXaxs8o0bNgQ69evx/z58zFr1iyUl5fDzc0NX3/9tdIr1jRhYmKC1NRUJCQkICkpCdnZ2bCysoKDg0Olt35XxtXVFVu2bMHWrVtRUlKCVq1aYcaMGRgyZIhYZ8mSJVixYgU2bdqEO3fuwNzcHB06dEBQUJDGYw0MDMT69ethZmYGX1/f59aPjo6GnZ0dtm7dinXr1sHKygru7u7ibeNt2rTB1q1bER8fj5iYGDx8+BA2NjZwd3fX6PVymnjevG1sbNCkSRMkJycjKysL5ubm6NKlCxYuXPjCV/XNTKt/9V2bNkRERET04gwEQRDqehBEr5Pp06fjjz/+wHfffVfXQ6FXmGL1fScnJ63aC0IZDAxq/pZ/fffw4UNcvHgRb731FszMzOp6OC8Nxk07jFv1MWbaYdy0w7hp53WM24v+3fUsvmaNiOgVVVpaipKSEq3avo7JOREREVFd4y3uRPRcgiAovae8IkNDQxgavprf95WXl6O8vFztdiMjI7WrzhMRERERVQcTdKJaNn/+/LoeQrX9+uuvGD16tNrt//jHP17KeWli6dKlSExMVLt93rx51XqGvjaZmJjA1NRU7fbX9TZ2IiIiIn3FBF1LRUVFcHd318kf5zt27MCMGTPwyy+/KL0b+lVw8eJFHDx4EOPHj68ycajp/usypop929nZYf/+/TA2/t+v3dq1azFv3jz8+eefL7wfPz8/+Pj4IDo6ulrtEhIS4OXlBTc3N7V1HB0dsW3bNrXbGzVqVK19Vsft27exc+dODB06tEZeAVddQ4cOhY+Pj9rtdnZ2Sp8TEhKwevVqnD59Wscj08yta7PwqOS6Snl907ZoZT+n9gdERERERGoxQddDPj4+SEtLg4WFRV0PpcZdvHgRiYmJGDlypM4S9Mr614eY3r59G99++63OrrYmJiZqNb/ExESYmZlVmaA3bNiwRha90MadO3eQmJgIHx+fOknQbW1tq7XfIUOGwNvbW4cjqp5HJdfxqOTFvwAiIiIiIt1jgq6HrK2tX6or52VlZSgvL4dEIqnroailDzH19PREcnIyBg4c+MKvzqqMg4NDjfepjUePHqF+/fp1PYwaVVpaCmNjY42es2/WrBmaNWtWC6MiIiIiolfNq7mqkw5s2bIFfn5+cHZ2RkhICG7cuFFpvR07dmDAgAFwcnJCjx49sGjRInFxrdu3b0Mmk2Hfvn0q7YKCgjB16lSxD5lMhry8PHF7aWkpFi1ahF69eqFjx47o2bMnpk+frtTH6dOnMXr0aLi4uKBz586YNm0acnNzNZ5jQkICXF1dce7cOQwePBhOTk7w9/fHjz/+qFRv1KhRCAsLw86dO9G3b184OTnh0qVLAIDNmzejb9++6NixI/z8/LBs2TJxgS3Frd4A0K1bN8hkMvj5+Yn9ZmZmIioqCp6enujUqRNGjhyJP/74Q2Wcu3btwqBBg+Dk5ARPT0+Ehobizp07VfZfWUwLCgowY8YMcX/BwcE4efJkpXPdt28f+vbtC1dXV4wePRo3b97UOK4KkyZNwo0bN7B79+4q62kyrsr4+flh9uzZ4ufp06cjMDAQJ06cwKBBg+Di4oLBgwcrxVTxnu8FCxZAJpNBJpPhxIkTAJ4uDLdq1Srx59mrVy+sXbtWaZ/PHjPDhg2Dk5MTNmzYIMb7woULGD9+PFxcXNCnTx/s2rVLZdyHDx/GkCFD0KlTJ3Tt2hWfffYZHj58CAA4ceKE+Oz74MGDxTGqU1RUhE8//RQ9evSAk5MTvL29ERkZqVRHk+NMEcuVK1fC19cXnTp1woEDByCTycTXaCiUlZXBy8sLsbGxSjGpOK45c+agZ8+e4u+Gor4mcSAiIiKi1wOvoGvgxx9/xKxZsxAUFIT+/fvj/Pnz+PDDD1XqrVmzBgsXLkRISAimT5+Oq1evigl6VFQU7Ozs4OLigj179qBfv35iu+vXr+P8+fOYPHmy2jFERETg+PHjCAsLg4uLC/Ly8nDgwAFx++nTpzFq1Ch4e3tj0aJFKCkpQXx8PCZNmoS0tDSN5yqXyxEZGYmxY8fCzs4OmzZtwuTJk8WES+GPP/7AnTt38OGHH8LCwgLNmzfH+vXr8fnnn2PUqFHw8fHB6dOnkZiYiPv37+Pjjz+Gj48PPvjgAyxfvhwpKSkwNzeHiYkJAKCwsBAjRoyAmZkZZs2aBXNzc6xfvx4hISE4cOAAGjduDABISUnBwoULMXjwYERGRkIul+P48ePIy8ursv+KysrKEBoailu3biEqKgpNmjTB+vXr8f7772Pz5s3o2LGjWPfixYvIy8tDVFQUysrKMH/+fPz73/+uVlwBQCqVolevXkhKSkJgYGClV2OrMy5NZGdn4/PPP8eECRNgbm6O2NhYTJ48Gd9//z0kEgnS0tIwbNgwjBo1CoGBgQCA9u3bAwDmzp2LrVu3YuLEiXB2dsapU6fw1VdfoV69ehg+fLi4D7lcjmnTpmHMmDGIjIyElZUVLly4AACIiorC0KFD8f7772PLli2YPn06nJyc8MYbbwAA9u3bh8jISAQFBSEiIgLZ2dmIjY1FUVERFi1aBEdHR0RHR2P27NmYN28e2rVrV+V8582bh//+97+YNm0aWrZsiezsbBw9elTcrulxBgAHDhxAmzZtMHPmTBgaGqJr165o2rQp9uzZo3S7//Hjx5GTkyPGr6LS0lKEhITgzp07CA8Ph1QqRWZmJv7v//5PrPO8OBARERHRa0Kg5xoyZIgwYsQIpbL4+HhBKpUK27dvFwRBEO7fvy+4uLgIsbGxSvU2btwodOrUScjLyxMEQRDWrVsnODk5Cffv3xfrJCQkCO7u7sLjx48FQRCE7du3C1KpVMjNzRUEQRB++uknQSqVCunp6WrHOHLkSGHYsGFCeXm5WHblyhVBJpMJhw8f1mieS5YsEaRSqbB161ax7MmTJ4Kfn58QGRkplr333nuCo6OjcPfuXaV6np6eSvUEQRBiY2MFR0dHcf4V56awePFioXPnzkJOTo5Y9vjxY8HHx0f48ssvBUEQhKKiIsHZ2VmYNWuW2jmo679i+cGDBwWpVCocPXpUrFNaWir4+PgIkydPVpqri4uLUn+Kvv7++2+141C3799//12QSqXC7t27BUEQhDVr1ghSqVSsq+m4KuPr6yvExMSInz/++GNBJpMJly9fFsuOHz8uSKVS4eTJk2KZVCoVUlJSlPq6ceOGIJPJhM2bNyuVL1y4UPDy8hLKysoEQfjfMaOYT8U5f/3112LZgwcPBGdnZ2Hp0qWCIAhCeXm54OvrK0ydOlWp7ZEjR5TGrRjzuXPnqpy/IAhCQECAMG/ePLXbNTnOBOFpLD08PIQHDx4otf/iiy+Enj17Kv2eTZ8+XQgICBA/L1myRHBxcRE/p6WlCVKpVDh16lSlY9I0DtV17tw54dy5c8Ll8+8J535zV/l3+fx7WvX7qnvw4IHw22+/qfzsqWqMm3YYt+pjzLTDuGmHcdPO6xg3xd9dNYG3uD9HWVkZzp8/j969eyuV9+3bV+nz6dOn8fDhQ/Tr1w9PnjwR/3Xv3h2PHj3ClStXAAD+/v6Qy+U4ePCg2HbPnj3o06eP2qu9v/zyC0xNTREQEFDp9pKSEpw6dQr9+vVDWVmZuO+2bduiefPmKrfkPs+zczUyMsI777yDs2fPKtWRSqVo3ry5+DkjIwP5+flKdwYAQP/+/SGXy3Hu3Lkq9/nzzz/D09MTlpaW4vgNDQ3h7u4ujv/06dMoKSnB4MGDqzWfyvz2229o2LAhevToIZZJJBL07t1b6comALz55ptKz68rrjBnZmZWe78dO3aEt7c3li9fDkEQXmhcmmjatCk6dOigMvasrKwq2x07dgwA0KdPH5XjOTs7G3///bdSfXWLor399tvi/83MzNCiRQsxbteuXcOdO3fg7++vtA8PDw8YGhpW+njD8zg4OGDnzp1YtWoVLl++rLJdk+NMwdPTE2ZmZkplAQEBSle/S0tLcfDgQbW/m8DT39833nhD5bZ3BV3EgYiIiIheTrzF/Tny8vLw5MkTlQXGmjRpovQ5Pz8fwNP3QVdGkdDY2NjA09MTu3fvxqBBg3Dp0iVcvXq1yldjFRQUwMbGBgYGBpVuLyoqQllZGebNm4d58+ap3bcmJBIJLC0tlcoaN26M7OxspbKK8y8sLBTrVmz77HZ18vPzcebMGTg6Oqpsa926NYCncQCeJp0vqqioSGWswNN5VRxrxZXRFYvhPX78WKt9T5o0CcOGDVP6kkabcWlC27Hn5+dDEAR07dq10u1///03WrZsCQAwNTVFgwYNKq1nbm6usv/S0lJxHwAQHh6udh/VNWvWLFhaWmLNmjVYsGABmjdvjgkTJmDEiBHiPp93nClU9nPo1KkTWrduje+++w5dunTB0aNHUVRUpPb2duDpcVvVMauLOBARERHRy4kJ+nNYW1vD2NhYaXExAMjJyVH6rEhqExMTK13B+dl3JQcEBCAmJgb5+fnYvXs3bGxs4OHhoXYMVlZWyM7OhiAIlSbp5ubmMDAwQFhYGN555x2V7dV5R7VcLkdhYaFSkp6bmwsbGxulehXHYWVlBQAqcVIsUlcx6a/I0tISPXr0qPTZfsWdBYp93Lt374VXyba0tKx0Ab2cnJznjvVFubi4wMvLC8uWLcPAgQP1ZlwVx2FgYICNGzdWujq/vb29+H91Xxw9j+LnGR0djU6dOqls1+aLGHNzc8ycORMzZ87En3/+idTUVMTExEAqlaJLly4aHWcK6uYVEBCAtLQ0fPrpp9izZw+cnZ3RqlUrtWOysrKq8j33uogDEREREb2ceIv7cxgZGcHBwQHff/+9Uvn+/fuVPru6usLU1BSZmZlwcnJS+fdsktynTx+xj927d6N///5Vvr6pe/fuKCkpwd69eyvdbmZmBhcXF2RkZFS672e/HNDEs3MtKyvDwYMH4ezsXGUbe3t7WFtbq6xQv3fvXkgkEjHxUCR7iquoz87x6tWreOONN1TGr1icThHj7du3qx2Huv4r6ty5M4qLi/HTTz+JZU+ePMHBgwfRuXPnKtvWhEmTJuHChQsqK+TXxbgkEonKFfVu3boBeHr1t7JjqmHDhi+833bt2qFZs2a4detWpftQvHtc2zsWZDKZuKr/1atXAWh2nD1PYGAg8vLycOjQIRw6dKjK29uf3WfFx0QUNI0DEREREb36eAVdAxMnTsSkSZMwY8YMcRX3b775RqmOhYUFpkyZgoULFyIzMxMeHh4wMjLCrVu38MMPPyAhIQGmpqYA/ne1eOnSpbh3716Vt8cCT//A9/b2xieffIKbN2/C2dkZBQUF2L9/P+Lj4wEAH330EUJCQvCvf/0LAQEBsLCwQGZmJo4dO4agoCB4enpqNFeJRILly5fj8ePH4irumZmZWLp0aZXtjIyMMGnSJHz++eewtraGt7c3zpw5g5UrVyIkJET8gkKxeveGDRvwzjvvoH79+pDJZBgzZgzS09Px3nvvYfTo0WjRogXy8vJw9uxZ2NraYsyYMTA3N0d4eDi++uorCIKAXr16oby8HCdOnEBAQIDS6uAV+6/Ix8cHnTp1wr///W9MmzZNXC393r17WLJkiUaxehFdunSBh4cHjh8/XufjateuHX744Qd06dIFpqamsLe3h729PUaOHImPPvoI48aNg7OzM+RyOa5fv44TJ05g2bJlL7xfAwMDTJ8+HVFRUXj48CF8fHxgamqKu3fv4siRI4iMjIS9vT3atm0LIyMjbN++HcbGxjAyMlJaRf1ZwcHB6N27Nzp06AAjIyPs2rULEokEXbp0AQCNjrPnad++PWQyGebMmYPHjx+jf//+VdYfOHAgNm7ciAkTJmDy5Mno0KEDsrKy8Ntvv2HOnDkax4GIiIiIXn1M0DXQq1cvxMTEICkpCbt374azszPi4+MxZMgQpXpjx46Fra0t1qxZg6+//hrGxsZo3bo1fHx8VG4TDgwMxKFDh9C6detKb2utKCEhAYmJiUhLS0NiYiIaN24MLy8vcbubmxs2btyIhIQEzJgxA3K5HM2aNUPXrl3Rpk0bjecqkUgQFxeHmJgYXL58GXZ2dliyZAnefPPN57YdNWoUjI2NsXbtWmzatAk2NjaYPHkyJk6cKNZxcHBAREQEtm7dipSUFDRv3hyHDh1Co0aNkJaWhvj4eHz11VcoKChA48aN4ezsrLRoXWhoKKytrbF27Vrs2LEDDRo0gKurq/i8sLr+KzIyMsKKFSuwYMECLFy4EA8fPoSjoyNWr15d7VeZaWvSpEn49ddf63xc0dHR+OKLLxAaGopHjx4hNTUVnp6e+PTTT2Fvb4+0tDQsXboUDRo0gL29vcpCgC/C398fFhYWSEpKQnp6OgCgZcuW6NGjh7jOgbW1NaKjo5GSkoJvv/0WT548UXvLuJubG3bt2oXbt2/D0NAQUqkUSUlJ4hc3mh5nzxMYGIjY2Fh069ZN5fGPikxMTLB27VosWrQIycnJKCgoQLNmzZSuvGsSB23VN21brXIiIiIiqjsGQmVLSdNrKSEhAatXr8bp06freihE9IJOnToFQRDUvh2CKicIAuRyOSQSidbrK7yOGDftMG7Vx5hph3HTDuOmndcxbqWlpTAwMICbm9sL98Ur6EREr6DX5YRY0wwMDPilhhYYN+0wbtXHmGmHcdMO46ad1zFuBgYGNfa3FxP010R5eTnKy8vVbjcyMqrF0bw6NIkrEyWqC+reu05ERERE+ou3uL8mpk+fjp07d6rdrnjumKqHcSUiIiIioprCBP01cfv2beTn56vdbm9vXyOvznrdMK5ERERERFRTmKATERERERER6QHDuh4AERERERERETFBJyIiIiIiItILTNCJiIiIiIiI9AATdCIiIiIiIiI9wASdiIiIiIiISA8wQSciIiIiIiLSA0zQiYiIiIiIiPQAE3QiIiIiIiIiPcAEnYhIj129ehXvv/8+XFxc4OXlhQULFqC0tPS57QRBwIoVK+Dj44NOnTph2LBhOHPmjEq9rKwsREREwNXVFR4eHpg5cyaKi4t1MJPapcu4HTt2DJGRkfDz84OzszP69++PlJQUyOVyHc2m9uj6eFMoLy9HUFAQZDIZ9u3bV4MzqBu1EbfDhw8jODgYLi4ucHd3x6hRo5CZmVnDM6k9uo7Zb7/9hlGjRsHd3R2enp4YP348Ll68qIOZ1C5t47ZhwwaEhYWha9euVf7e8ZygTJO48ZygStPjTeFVOye8KCboRER6qrCwECEhIZDL5UhISEBkZCS2bNmC+fPnP7ftypUrsWTJEowZMwbJycmwsbHB2LFjcevWLbGOXC7H+PHjcf36dcTGxuI///kPfvrpJ0ybNk2X09I5Xcdt8+bNePDgAaZMmYIVK1Zg0KBBSEhIQHR0tC6npXO6jtuzNm/ejKysrJqeQp2ojbh98803mDx5Mjw8PJCUlIT58+ejY8eOePz4sa6mpVO6jllGRgbGjRsHMzMzxMbGYu7cuSgsLMSYMWOQnZ2ty6np1IvE7ZtvvkF+fj68vb3V1uE5QZUmceM5QZUmcXvWq3ROqBECERHppaSkJMHFxUXIz88XyzZv3iy89dZbQmZmptp2jx49Etzc3ITY2Fix7PHjx4Kvr6/w2WefiWXp6emCTCYTrl69Kpb997//FaRSqXD27NkanUtt0nXccnNzVdouX75ckMlklW57Weg6bgq5ubmCh4eHsG3bNkEqlQp79+6tyWnUOl3HLT8/X3BzcxM2bNigi+HXCV3HLDk5WXBychJKSkrEsps3bwpSqVTYuXNnTU6lVmkbN0EQhLKyMkEQBOHWrVtqf+94TlClSdx4TlClSdwUXrVzQk3gFXQiIj119OhRdOvWDVZWVmKZv78/ysvL8fPPP6ttd+rUKRQXF8Pf318sMzExQe/evXH06FGl/mUyGdq1ayeWeXl5wcrKCkeOHKnZydQiXcfN2tpape1bb70FQRBe6qtzuo6bQlxcHDw9PeHp6Vmj468ruo7b3r17UV5ejsGDB+tk/HVB1zGTy+UwMTFBvXr1xDJzc/OanUQd0DZuAGBo+Pw/+XlOUKVJ3HhOUKVJ3BRetXNCTWCCTkSkpzIyMpT+UAIACwsL2NjYICMjo8p2AFTavvHGG7h79y4ePXqktn8DAwPY29tX2b++03XcKnPq1CmYmJjAzs7uBUZet2ojbufOncN3332Hjz76qAZHXrd0HbezZ8/C3t4eu3btgq+vLxwcHDBw4MCXOmHSdcwCAgJQVlaG+Ph45OfnIysrC/PmzUPz5s3Rq1evGp5N7dE2bi/S/+t8TngRr/M5oTpexXNCTWCCTkSkp4qKimBhYaFSbmlpicLCwirbVbx6BDw9sQqCILYtKiqq9KrS8/rXd7qOW0XXr19HamoqgoOD0aBBgxcbfB3SddzKy8sRExOD999//6X+o7UiXcctOzsb165dw+LFi/Hhhx9i5cqVaNmyJSZNmoQrV67U7GRqia5j1rZtW6xduxbbtm1D165d0bNnT5w8eRJr1qx5qa+kaxu36vTPc8KLe93PCZp6Vc8JNYEJOhERkZaKi4sREREBOzs7REZG1vVw9NrWrVuRk5ODCRMm1PVQXiqCIODhw4eYPXs2Bg0aBC8vLyxevBi2trZYuXJlXQ9PL127dg0RERHw8vLCmjVrkJSUhJYtWyI0NBQ5OTl1PTx6hfGcoDmeE9Rjgk5EpKcsLCxw//59lfLCwkJYWlpW2a60tFRlheeioiIYGBiIbS0sLCp9fc7z+td3uo6bQmlpKcLDw1FYWIgVK1bAzMysZiZQR3QZtwcPHiAuLg4ffPAB5HI5ioqKxGPv0aNHL/VrnGrj9xQAunbtKtaRSCRwd3fHX3/9VRNTqHW6jtmiRYvQpEkTLFiwAN27d4evry+SkpJQVFSE1NTUmp1MLdI2btXpn+cE7fGcoLlX+ZxQE5igExHpqXbt2qk853X//n1kZ2erPBdWsR3w9CrSszIyMtCiRQvUr19fbf+CIODatWtV9q/vdB034OmteVFRUTh//jxWrlyJ5s2b1+AM6oYu45afn4+CggJ89tlncHd3h7u7OwYOHAgA+Pjjj9G3b98ank3t0fXx1r59e7V9vKyvWdN1zP766y+8+eabSnUaNGiA1q1b4+bNmzUxhTqhbdxepP/X+ZxQHTwnVM+rfE6oCUzQiYj0VM+ePXHs2DEUFRWJZfv27YOhoSG8vLzUtnNzc0PDhg2xd+9esUwul+PAgQPo2bOnUv+XLl3C9evXxbJffvkFBQUFGr+7VB/pOm4AEBMTgx9//BHLli2DTCar+UnUAV3GzcbGBqmpqUr/4uLiAAARERFISEjQ0ax0T9fHm6+vL4Cnv5sKpaWlOHnyJBwdHWtyKrVG1zFr0aIFLl68CEEQxLLi4mLcuHEDLVu2rOHZ1B5t41ad/nlO0A7PCdXzKp8TaoJxXQ+AiIgqFxwcjPXr1yM8PBxhYWHIysrCggULEBwcDFtbW7FeSEgI7t69i++//x4AUK9ePYSFhSEhIQHW1taQSqXYtGkTCgoKMG7cOLFd3759kZycjIiICEydOhUlJSVYsGABfHx80KlTp1qfb03RddySkpKwefNmjBs3DiYmJjhz5oy4rX379mjYsGGtzbUm6TJu9erVU3mFzu3btwE8jZmbm1stzbLm6fp4c3R0RN++fTFr1iwUFBTAxsYGGzduRE5OjlK9l4muYxYcHIzw8HBERUVh4MCBKC0txerVq1FaWoohQ4bU+nxrirZxA4Dff/8dd+7cQV5eHoCnbwcAnr4izMPDAwDPCdrGjeeE6sftVT4n1AQm6EREesrS0hLr1q3DnDlzEB4ejgYNGmDw4MEqC8+Ul5ejrKxMqSw0NBSCIGD16tXIy8vDW2+9hVWrVqFVq1ZiHYlEgpSUFHz++eeYOnUqjI2N0bt3b3zyySe1Mj9d0XXcFO9/XbVqFVatWqXUPjU19aV9l6uu4/aqqo24zZ8/H3FxcYiNjUVxcTEcHR2xZs2al/ZKna5j9s477yA+Ph6rVq1CZGQkJBIJHBwckJqairZt29bGFHXiReK2YcMG7Ny5U/y8evVqAICHhwfWr18PgOcEbePGc4J2cSP1DIRn7/8hIiIiIiIiojrBZ9CJiIiIiIiI9AATdCIiIiIiIiI9wASdiIiIiIiISA8wQSciIiIiIiLSA0zQiYiIiIiIiPQAE3QiIiIiIiIiPcAEnYiIiIiIiEgPMEEnIiIiIiIi0gNM0ImIiIiIiIj0ABN0IiIiolfQjh07IJPJ8Pvvv9f1ULSyYcMG7Nixo66HQURUq5igExEREZHe2bRpE3bu3FnXwyAiqlVM0ImIiIhIb5SUlNT1EIiI6gwTdCIiIqLXwPTp0+Hq6oq7d+8iLCwMrq6u6NGjBzZs2AAA+PPPPzF69Gi4uLjA19cX6enpSu0Vt8yfPHkS0dHR8PT0hJubGz766CMUFhaq7G/Dhg0ICAhAx44d8fbbbyMmJgZFRUVKdUaNGoXAwED88ccfGDlyJJydnREXFwc/Pz9cuXIFv/76K2QyGWQyGUaNGgUAKCgowJdffokBAwbA1dUVbm5uGD9+PC5duqTU94kTJyCTybBnzx4sX74cPXv2hJOTE0JCQnDjxg2V8Z49exahoaFwd3eHi4sLBgwYgHXr1inVuXr1KqZMmQIPDw84OTkhKCgIP/zwQ/V/GEREahjX9QCIiIiIqHaUlZUhNDQUXbp0QVRUFNLT0zF79myYmppi0aJFGDBgAPr06YPNmzfj448/houLC1q1aqXUx+zZs2FhYYHJkyfj2rVr2LRpE+7evYv169fDwMAAAJCQkIDExER0794dw4cPF+v9/vvv2LRpEyQSidhfQUEBQkNDERAQgHfffReNGzeGp6cn5syZAzMzM0ycOBEA0KRJEwDArVu3cPDgQfTr1w92dnbIyclBWloa3nvvPezevRu2trZK4125ciUMDAwwduxYFBcXIyUlBVFRUdi6datY5+eff0ZYWBiaNm2K0aNHo0mTJrh69SoOHz6MkJAQAMCVK1cwfPhw2NraIjQ0FGZmZti7dy/Cw8ORkJCA3r171/wPjIheO0zQiYiIiF4Tjx8/xrvvvouwsDAAwIABA9CjRw988skniIuLQ//+/QEA3bt3h7+/P3bt2oWIiAilPiQSCdauXSsm2S1atMDChQtx6NAh9OrVC3l5eUhOTsbbb7+NlStXwtDw6Q2b7dq1w+zZs/Htt9/in//8p9hfdnY2YmJiEBwcrLSf+Ph4NGrUCAMHDlQql8lk2L9/v9gvAAwcOBD+/v7Ytm0bwsPDVea8a9cumJiYAAAsLCwwd+5cXL58GVKpFGVlZYiOjkbTpk2xa9cuWFhYiG0FQRD/P3fuXDRv3hzbt28X+xoxYgSGDx+Or776igk6EdUI3uJORERE9BoZMmSI+H8LCwvY29vD1NQU/v7+Ynm7du1gYWGBW7duqbQfNmyY0hXw4cOHw9jYGEeOHAEAHDt2DHK5HKNHj1ZKoocMGYKGDRuK9RRMTEwQFBSk8fhNTEzEfsvKypCfnw8zMzPY29vjwoULKvWDgoLEhBoAunTpAgDi3C5cuIDbt29j9OjRSsk5APGOgIKCAhw/fhz+/v4oLi5GXl4e8vLykJ+fj7fffhvXr19HVlaWxnMgIlKHV9CJiIiIXhP16tWDtbW1Upm5uTmaNWsmJqPPlld8ZhwA2rRpo/S5QYMGsLGxwZ07dwAAd+/eBfA0yX+WiYkJWrVqJdZTsLW1VUqgn6e8vBypqanYuHEjbt++jbKyMnGblZWVSv0WLVoofVYk4Yq5KRJ1qVSqdp83b96EIAhYvHgxFi9eXGmd3NxcldvriYiqiwk6ERER0WvCyMioWuXP3uKtK/Xr169W/aSkJCxevBj//Oc/8eGHH8LS0hKGhob44osvKh3vs1fxn1WduZWXlwMAxo4dix49elRap3Xr1hr3R0SkDhN0IiIiItLYjRs30LVrV/HzgwcPkJ2djZ49ewL43xXrjIwMpQXmSktLcfv2bXTv3l2j/VS8oq+wf/9+eHp64osvvlAqLyoqQqNGjao1FwDiGC9fvqx2bIo6EolE4/ETEWmDz6ATERERkcbS0tIgl8vFz5s2bcKTJ0/EBL179+6QSCRYv3690lXqbdu24f79+/D29tZoP6amppXeYm9kZKRy9Xvv3r1aPwPu6OgIOzs7pKamquxPsZ/GjRvDw8MDaWlpuHfvnkofeXl5Wu2biKgiXkEnIiIiIo3J5XKMGTMG/v7+uHbtGjZu3IjOnTujV69eAABra2uEhYUhMTER48ePh5+fn1jPyckJ7777rkb7cXR0xKZNm7Bs2TK0adMG1tbW6NatG3x8fLB06VLMmDEDrq6uuHz5MtLT01VeB6cpQ0ND/Oc//8EHH3yAQYMGISgoCDY2NsjIyMBff/2FVatWAQA+++wzjBgxAgMGDMDQoUPRqlUr5OTk4MyZM8jMzMS3336r1f6JiJ7FBJ2IiIiINBYdHY309HQsWbIEcrkcAQEB+PTTT5VuSY+IiIC1tTW+/vprzJs3D5aWlhg6dCimTp2qtAJ8VcLDw3H37l2kpKTgwYMH8PDwQLdu3TBx4kSUlJQgPT0de/bsgYODA5KTkxEbG6v1nHr06IF169Zh6dKlWL16NQRBQKtWrTB06FCxTvv27bF9+3YkJiZi586dKCgogLW1NRwcHFRe7UZEpC0DoTZW/yAiIiKil9qOHTswY8YMbNu2DU5OTnU9HCKiVxKfQSciIiIiIiLSA0zQiYiIiIiIiPQAE3QiIiIiIiIiPcBn0ImIiIiIiIj0AK+gExEREREREekBJuhEREREREREeoAJOhEREREREZEeYIJOREREREREpAeYoBMRERERERHpASboRERERERERHqACToRERERERGRHmCCTkRERERERKQHmKATERERERER6QEm6ERERERERER6gAk6ERERERERkR5ggk5ERERERESkB5igExEREREREekBJuhEREREREREeoAJOhEREREREZEeYIJOREREREREpAeYoBMRERERERHpgf8HRQ7iYB9BqikAAAAASUVORK5CYII=)\n",
        "\n",
        "\n",
        "---\n",
        "\n",
        "## 4. Análise Visual\n",
        "\n",
        "### 🔹 Gráfico de Dispersão: Renda Mensal vs Uso do Serviço\n",
        "\n",
        "![Gráfico de Dispersão](data:image/png;base64,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)\n",
        "\n",
        "Clientes com **menor renda** e **baixo uso do serviço** apresentam maior tendência à evasão.\n",
        "\n",
        "---\n",
        "\n",
        "## 5. Estratégias de Retenção\n",
        "\n",
        "Com base nos fatores identificados, propomos as seguintes estratégias:\n",
        "\n",
        "- 🎯 **Programa de fidelidade** para clientes com maior tempo de relacionamento.\n",
        "- 📈 **Campanhas de engajamento** para incentivar o uso do serviço.\n",
        "- 💰 **Ofertas personalizadas** para clientes com renda mais baixa.\n",
        "- 📞 **Atendimento proativo** para clientes com histórico de reclamações.\n",
        "\n",
        "---\n",
        "\n",
        "## 6. Conclusão\n",
        "\n",
        "O modelo Random Forest demonstrou ser eficaz na previsão de evasão, com desempenho consistente e métricas equilibradas. A análise dos dados permitiu identificar os principais fatores que influenciam a saída dos clientes, possibilitando a proposição de estratégias direcionadas para retenção.\n",
        "\n",
        "Essas ações, se implementadas, podem contribuir significativamente para a redução da evasão e o aumento da fidelização dos clientes.\n",
        "\n",
        "---\n",
        "\n"
      ],
      "metadata": {
        "id": "pYBbxJr-Vw-s"
      }
    },
    {
      "cell_type": "code",
      "source": [
        "import pandas as pd\n",
        "\n",
        "# Substitua 'best_rf' pelo nome do seu modelo\n",
        "importances = best_rf.feature_importances_\n",
        "features = X.columns\n",
        "\n",
        "# Criar DataFrame com as importâncias\n",
        "df_importancia = pd.DataFrame({'Feature': features, 'Importance': importances})\n",
        "df_importancia = df_importancia.sort_values(by='Importance', ascending=False)\n",
        "\n",
        "# Exibir as 10 mais importantes\n",
        "df_importancia.head(10)\n"
      ],
      "metadata": {
        "id": "jStvKnm044QA"
      },
      "execution_count": null,
      "outputs": []
    },
    {
      "cell_type": "markdown",
      "source": [
        "Gráficos das Variáveis Numéricas"
      ],
      "metadata": {
        "id": "1I9W122FAci3"
      }
    },
    {
      "cell_type": "code",
      "source": [
        "# Histogramas comparando churn\n",
        "num_vars = ['tenure', 'charges_monthly', 'charges_total', 'daily_charge']\n",
        "\n",
        "for var in num_vars:\n",
        "    plt.figure(figsize=(8, 4))\n",
        "    sns.histplot(data=df, x=var, hue='churn', kde=True, element='step')\n",
        "    plt.title(f'Distribuição de {var} por Churn')\n",
        "    plt.xlabel(var)\n",
        "    plt.ylabel('Frequência')\n",
        "    plt.tight_layout()\n",
        "    plt.show()\n"
      ],
      "metadata": {
        "id": "_DxhuwGWAjAy"
      },
      "execution_count": null,
      "outputs": []
    },
    {
      "cell_type": "markdown",
      "source": [
        "Gráfico de Importância das Variáveis"
      ],
      "metadata": {
        "id": "rf7Wd9qgA27C"
      }
    },
    {
      "cell_type": "code",
      "source": [
        "import matplotlib.pyplot as plt\n",
        "import seaborn as sns\n",
        "\n",
        "# Gráfico de barras horizontais\n",
        "plt.figure(figsize=(10, 6))\n",
        "sns.barplot(\n",
        "    x='Importance',\n",
        "    y='Feature',\n",
        "    data=df_importancia.head(10),\n",
        "    palette='viridis'\n",
        ")\n",
        "plt.title('Top 10 Variáveis Mais Importantes (Random Forest)', fontsize=14)\n",
        "plt.xlabel('Importância')\n",
        "plt.ylabel('Variável')\n",
        "plt.tight_layout()\n",
        "\n",
        "# Salvar como imagem ANTES de mostrar o gráfico\n",
        "plt.savefig(\"Top_10_Variaveis_Mais_Importantes.png\")\n",
        "\n",
        "# Mostrar o gráfico\n",
        "plt.show()\n",
        "\n"
      ],
      "metadata": {
        "id": "2jgxcAquA8DS"
      },
      "execution_count": null,
      "outputs": []
    },
    {
      "cell_type": "markdown",
      "source": [
        "Converter a imagem base64"
      ],
      "metadata": {
        "id": "g7qi6N98dSMa"
      }
    },
    {
      "cell_type": "code",
      "source": [
        "import base64\n",
        "\n",
        "def display_image_as_markdown(image_path, alt_text=\"\"):\n",
        "  with open(image_path, \"rb\") as f:\n",
        "    encoded_string = base64.b64encode(f.read()).decode()\n",
        "  markdown = f'![{alt_text}](data:image/png;base64,{encoded_string})'\n",
        "  print(markdown)\n",
        "\n",
        "# Substitua 'grafico_dispersao_variaveis.png' pelo nome do seu arquivo\n",
        "display_image_as_markdown(\"Top_10_Variaveis_Mais_Importantes.png\", 'Top 10 Variáveis')"
      ],
      "metadata": {
        "id": "quVYa5EUCsW5"
      },
      "execution_count": null,
      "outputs": []
    }
  ]
}